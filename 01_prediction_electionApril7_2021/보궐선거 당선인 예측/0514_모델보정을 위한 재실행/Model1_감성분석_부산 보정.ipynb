{
 "cells": [
  {
   "cell_type": "markdown",
   "metadata": {},
   "source": [
    "# 모델1\n",
    "- Feature\n",
    "    - **기사제목+댓글 텍스트**\n",
    "- Label\n",
    "    - **긍정/부정**\n",
    "\n",
    "\n",
    "- 학습 방법\n",
    "    - 시간 관계상, 학습을 위해 직접 긍정/부정 라벨링이 어렵기 때문에 **후보평가**와 **정당 평가** 중 하나도 있는 값을 y로 설정하여 학습시키기\n",
    "    - Logistic 이용"
   ]
  },
  {
   "cell_type": "code",
   "execution_count": 89,
   "metadata": {
    "ExecuteTime": {
     "end_time": "2021-05-14T04:50:51.656269Z",
     "start_time": "2021-05-14T04:50:51.650298Z"
    }
   },
   "outputs": [],
   "source": [
    "import pandas as pd\n",
    "import numpy as np\n",
    "import matplotlib.pyplot as plt \n",
    "import seaborn as sns \n",
    "import re\n",
    "from sklearn.model_selection import GridSearchCV\n",
    "from sklearn.metrics import accuracy_score, confusion_matrix\n",
    "import warnings\n",
    "\n",
    "# 모델 저장\n",
    "import pickle\n",
    "\n",
    "# KFold\n",
    "from sklearn.model_selection import KFold # 순서대로 하거나 or 랜덤하게 클래스를 나눈다.\n",
    "from sklearn.model_selection import StratifiedKFold # 결과데이터를 보고 각 클래스가 균등한 비율로 들어있게끔 나눈다.\n",
    "\n",
    "# 교차검증 함수\n",
    "from sklearn.model_selection import cross_val_score\n",
    "from sklearn.model_selection import cross_validate\n",
    "\n",
    "warnings.filterwarnings('ignore')\n",
    "plt.style.use('seaborn-whitegrid')\n",
    "plt.rcParams['font.family'] = 'Malgun Gothic'\n",
    "# plt.rcParams['font.family'] = 'AppleGothic'\n",
    "plt.rcParams['font.size'] = 10\n",
    "plt.rcParams['figure.figsize'] = 10,5\n",
    "plt.rcParams['axes.unicode_minus'] = False"
   ]
  },
  {
   "cell_type": "markdown",
   "metadata": {},
   "source": [
    "## 0. 데이터 불러오기"
   ]
  },
  {
   "cell_type": "code",
   "execution_count": 90,
   "metadata": {
    "ExecuteTime": {
     "end_time": "2021-05-14T04:50:53.395156Z",
     "start_time": "2021-05-14T04:50:52.186526Z"
    }
   },
   "outputs": [
    {
     "data": {
      "text/html": [
       "<div>\n",
       "<style scoped>\n",
       "    .dataframe tbody tr th:only-of-type {\n",
       "        vertical-align: middle;\n",
       "    }\n",
       "\n",
       "    .dataframe tbody tr th {\n",
       "        vertical-align: top;\n",
       "    }\n",
       "\n",
       "    .dataframe thead th {\n",
       "        text-align: right;\n",
       "    }\n",
       "</style>\n",
       "<table border=\"1\" class=\"dataframe\">\n",
       "  <thead>\n",
       "    <tr style=\"text-align: right;\">\n",
       "      <th></th>\n",
       "      <th>제목</th>\n",
       "      <th>날짜</th>\n",
       "      <th>작성일</th>\n",
       "      <th>댓글</th>\n",
       "      <th>출처</th>\n",
       "      <th>지역(서울:1, 부산:2)</th>\n",
       "      <th>정당(1:더불어민주당,2:국민의힘)</th>\n",
       "      <th>정당평가(부정;0, 긍정:1)</th>\n",
       "      <th>후보(기호 순)</th>\n",
       "      <th>후보평가(부정;0, 긍정:1)</th>\n",
       "      <th>제목댓글</th>\n",
       "    </tr>\n",
       "  </thead>\n",
       "  <tbody>\n",
       "    <tr>\n",
       "      <th>0</th>\n",
       "      <td>[재보궐 D-31] 부산 김영춘 vs 박형준, 서울도 양자 대결?</td>\n",
       "      <td>2021-03-07 05:57:00</td>\n",
       "      <td>2021-03-12 19:13:00</td>\n",
       "      <td>철수야! 뜸 들이지 말고 애국하는 마음으로 물러서라~~~</td>\n",
       "      <td>조선일보</td>\n",
       "      <td>NaN</td>\n",
       "      <td>NaN</td>\n",
       "      <td>NaN</td>\n",
       "      <td>NaN</td>\n",
       "      <td>NaN</td>\n",
       "      <td>[재보궐 D-31] 부산 김영춘 vs 박형준, 서울도 양자 대결? 철수야! 뜸 들이...</td>\n",
       "    </tr>\n",
       "    <tr>\n",
       "      <th>1</th>\n",
       "      <td>[재보궐 D-31] 부산 김영춘 vs 박형준, 서울도 양자 대결?</td>\n",
       "      <td>2021-03-07 05:57:00</td>\n",
       "      <td>2021-03-09 13:49:00</td>\n",
       "      <td>박영선은 정동영이 얻은 36프로선에 머무를것. 4.7.이후 OOO정권은 몰락의 길 ...</td>\n",
       "      <td>조선일보</td>\n",
       "      <td>1.0</td>\n",
       "      <td>NaN</td>\n",
       "      <td>NaN</td>\n",
       "      <td>1.0</td>\n",
       "      <td>0.0</td>\n",
       "      <td>[재보궐 D-31] 부산 김영춘 vs 박형준, 서울도 양자 대결? 박영선은 정동영이...</td>\n",
       "    </tr>\n",
       "    <tr>\n",
       "      <th>2</th>\n",
       "      <td>[재보궐 D-31] 부산 김영춘 vs 박형준, 서울도 양자 대결?</td>\n",
       "      <td>2021-03-07 05:57:00</td>\n",
       "      <td>2021-03-07 14:42:00</td>\n",
       "      <td>빵선이가서울시장되면서울은공산국가수도제2의평양이될것이다</td>\n",
       "      <td>조선일보</td>\n",
       "      <td>1.0</td>\n",
       "      <td>NaN</td>\n",
       "      <td>NaN</td>\n",
       "      <td>1.0</td>\n",
       "      <td>0.0</td>\n",
       "      <td>[재보궐 D-31] 부산 김영춘 vs 박형준, 서울도 양자 대결? 빵선이가서울시장되...</td>\n",
       "    </tr>\n",
       "    <tr>\n",
       "      <th>3</th>\n",
       "      <td>[재보궐 D-31] 부산 김영춘 vs 박형준, 서울도 양자 대결?</td>\n",
       "      <td>2021-03-07 05:57:00</td>\n",
       "      <td>2021-03-07 14:38:00</td>\n",
       "      <td>서울시장후보더듬당박빵선이는절대로서울시장을할수없다이유는가족은미국.영국에 영주권자이므로...</td>\n",
       "      <td>조선일보</td>\n",
       "      <td>1.0</td>\n",
       "      <td>1.0</td>\n",
       "      <td>0.0</td>\n",
       "      <td>1.0</td>\n",
       "      <td>0.0</td>\n",
       "      <td>[재보궐 D-31] 부산 김영춘 vs 박형준, 서울도 양자 대결? 서울시장후보더듬당...</td>\n",
       "    </tr>\n",
       "    <tr>\n",
       "      <th>4</th>\n",
       "      <td>[재보궐 D-31] 부산 김영춘 vs 박형준, 서울도 양자 대결?</td>\n",
       "      <td>2021-03-07 05:57:00</td>\n",
       "      <td>2021-03-07 14:02:00</td>\n",
       "      <td>부산은오거돈선거이고 오거돈치부선거아닌가 오거돈에 성추해으로 생긴선거가 가독도신공항은...</td>\n",
       "      <td>조선일보</td>\n",
       "      <td>2.0</td>\n",
       "      <td>1.0</td>\n",
       "      <td>0.0</td>\n",
       "      <td>NaN</td>\n",
       "      <td>NaN</td>\n",
       "      <td>[재보궐 D-31] 부산 김영춘 vs 박형준, 서울도 양자 대결? 부산은오거돈선거이...</td>\n",
       "    </tr>\n",
       "    <tr>\n",
       "      <th>...</th>\n",
       "      <td>...</td>\n",
       "      <td>...</td>\n",
       "      <td>...</td>\n",
       "      <td>...</td>\n",
       "      <td>...</td>\n",
       "      <td>...</td>\n",
       "      <td>...</td>\n",
       "      <td>...</td>\n",
       "      <td>...</td>\n",
       "      <td>...</td>\n",
       "      <td>...</td>\n",
       "    </tr>\n",
       "    <tr>\n",
       "      <th>144134</th>\n",
       "      <td>[논설위원의 단도직입]“한·일해저터널 경제성 없지만…동북아 경제권 차원서 장기 검토해야”</td>\n",
       "      <td>2021-04-06 21:56:00</td>\n",
       "      <td>2021-04-06 22:47:00</td>\n",
       "      <td>국민의힘 찍지 말라고 이 뉴스가 나온거임\\r\\n내냔에 국민의힘 찍을라 했드만 망했다...</td>\n",
       "      <td>경향신문</td>\n",
       "      <td>NaN</td>\n",
       "      <td>NaN</td>\n",
       "      <td>NaN</td>\n",
       "      <td>NaN</td>\n",
       "      <td>NaN</td>\n",
       "      <td>[논설위원의 단도직입]“한·일해저터널 경제성 없지만…동북아 경제권 차원서 장기 검토...</td>\n",
       "    </tr>\n",
       "    <tr>\n",
       "      <th>144135</th>\n",
       "      <td>[논설위원의 단도직입]“한·일해저터널 경제성 없지만…동북아 경제권 차원서 장기 검토해야”</td>\n",
       "      <td>2021-04-06 21:56:00</td>\n",
       "      <td>2021-04-06 22:41:00</td>\n",
       "      <td>굳이 일본과 해저터널 해야되는 이유가 없은이유\\r\\n-일본은고속도로비가 비싸다\\r\\...</td>\n",
       "      <td>경향신문</td>\n",
       "      <td>NaN</td>\n",
       "      <td>NaN</td>\n",
       "      <td>NaN</td>\n",
       "      <td>NaN</td>\n",
       "      <td>NaN</td>\n",
       "      <td>[논설위원의 단도직입]“한·일해저터널 경제성 없지만…동북아 경제권 차원서 장기 검토...</td>\n",
       "    </tr>\n",
       "    <tr>\n",
       "      <th>144136</th>\n",
       "      <td>[논설위원의 단도직입]“한·일해저터널 경제성 없지만…동북아 경제권 차원서 장기 검토해야”</td>\n",
       "      <td>2021-04-06 21:56:00</td>\n",
       "      <td>2021-04-06 22:38:00</td>\n",
       "      <td>도랏구나. 열도는 걍 갈라파고스로 남겨 둬라. 재난 난민 넘어 오면 귀찮다.</td>\n",
       "      <td>경향신문</td>\n",
       "      <td>NaN</td>\n",
       "      <td>NaN</td>\n",
       "      <td>NaN</td>\n",
       "      <td>NaN</td>\n",
       "      <td>NaN</td>\n",
       "      <td>[논설위원의 단도직입]“한·일해저터널 경제성 없지만…동북아 경제권 차원서 장기 검토...</td>\n",
       "    </tr>\n",
       "    <tr>\n",
       "      <th>144137</th>\n",
       "      <td>[논설위원의 단도직입]“한·일해저터널 경제성 없지만…동북아 경제권 차원서 장기 검토해야”</td>\n",
       "      <td>2021-04-06 21:56:00</td>\n",
       "      <td>2021-04-06 22:32:00</td>\n",
       "      <td>이걸 왜 하지? 우리한테 아무런 의미가 없는데</td>\n",
       "      <td>경향신문</td>\n",
       "      <td>NaN</td>\n",
       "      <td>NaN</td>\n",
       "      <td>NaN</td>\n",
       "      <td>NaN</td>\n",
       "      <td>NaN</td>\n",
       "      <td>[논설위원의 단도직입]“한·일해저터널 경제성 없지만…동북아 경제권 차원서 장기 검토...</td>\n",
       "    </tr>\n",
       "    <tr>\n",
       "      <th>144138</th>\n",
       "      <td>[논설위원의 단도직입]“한·일해저터널 경제성 없지만…동북아 경제권 차원서 장기 검토해야”</td>\n",
       "      <td>2021-04-06 21:56:00</td>\n",
       "      <td>2021-04-06 22:26:00</td>\n",
       "      <td>우리에겐 아무런 도움이 되지 않는 것을 일본에게는 엄청난 기회가 되는 것을 왜 굳이...</td>\n",
       "      <td>경향신문</td>\n",
       "      <td>NaN</td>\n",
       "      <td>NaN</td>\n",
       "      <td>NaN</td>\n",
       "      <td>NaN</td>\n",
       "      <td>NaN</td>\n",
       "      <td>[논설위원의 단도직입]“한·일해저터널 경제성 없지만…동북아 경제권 차원서 장기 검토...</td>\n",
       "    </tr>\n",
       "  </tbody>\n",
       "</table>\n",
       "<p>144139 rows × 11 columns</p>\n",
       "</div>"
      ],
      "text/plain": [
       "                                                       제목  \\\n",
       "0                    [재보궐 D-31] 부산 김영춘 vs 박형준, 서울도 양자 대결?   \n",
       "1                    [재보궐 D-31] 부산 김영춘 vs 박형준, 서울도 양자 대결?   \n",
       "2                    [재보궐 D-31] 부산 김영춘 vs 박형준, 서울도 양자 대결?   \n",
       "3                    [재보궐 D-31] 부산 김영춘 vs 박형준, 서울도 양자 대결?   \n",
       "4                    [재보궐 D-31] 부산 김영춘 vs 박형준, 서울도 양자 대결?   \n",
       "...                                                   ...   \n",
       "144134  [논설위원의 단도직입]“한·일해저터널 경제성 없지만…동북아 경제권 차원서 장기 검토해야”   \n",
       "144135  [논설위원의 단도직입]“한·일해저터널 경제성 없지만…동북아 경제권 차원서 장기 검토해야”   \n",
       "144136  [논설위원의 단도직입]“한·일해저터널 경제성 없지만…동북아 경제권 차원서 장기 검토해야”   \n",
       "144137  [논설위원의 단도직입]“한·일해저터널 경제성 없지만…동북아 경제권 차원서 장기 검토해야”   \n",
       "144138  [논설위원의 단도직입]“한·일해저터널 경제성 없지만…동북아 경제권 차원서 장기 검토해야”   \n",
       "\n",
       "                         날짜                  작성일  \\\n",
       "0       2021-03-07 05:57:00  2021-03-12 19:13:00   \n",
       "1       2021-03-07 05:57:00  2021-03-09 13:49:00   \n",
       "2       2021-03-07 05:57:00  2021-03-07 14:42:00   \n",
       "3       2021-03-07 05:57:00  2021-03-07 14:38:00   \n",
       "4       2021-03-07 05:57:00  2021-03-07 14:02:00   \n",
       "...                     ...                  ...   \n",
       "144134  2021-04-06 21:56:00  2021-04-06 22:47:00   \n",
       "144135  2021-04-06 21:56:00  2021-04-06 22:41:00   \n",
       "144136  2021-04-06 21:56:00  2021-04-06 22:38:00   \n",
       "144137  2021-04-06 21:56:00  2021-04-06 22:32:00   \n",
       "144138  2021-04-06 21:56:00  2021-04-06 22:26:00   \n",
       "\n",
       "                                                       댓글    출처  \\\n",
       "0                         철수야! 뜸 들이지 말고 애국하는 마음으로 물러서라~~~  조선일보   \n",
       "1       박영선은 정동영이 얻은 36프로선에 머무를것. 4.7.이후 OOO정권은 몰락의 길 ...  조선일보   \n",
       "2                           빵선이가서울시장되면서울은공산국가수도제2의평양이될것이다  조선일보   \n",
       "3       서울시장후보더듬당박빵선이는절대로서울시장을할수없다이유는가족은미국.영국에 영주권자이므로...  조선일보   \n",
       "4       부산은오거돈선거이고 오거돈치부선거아닌가 오거돈에 성추해으로 생긴선거가 가독도신공항은...  조선일보   \n",
       "...                                                   ...   ...   \n",
       "144134  국민의힘 찍지 말라고 이 뉴스가 나온거임\\r\\n내냔에 국민의힘 찍을라 했드만 망했다...  경향신문   \n",
       "144135  굳이 일본과 해저터널 해야되는 이유가 없은이유\\r\\n-일본은고속도로비가 비싸다\\r\\...  경향신문   \n",
       "144136         도랏구나. 열도는 걍 갈라파고스로 남겨 둬라. 재난 난민 넘어 오면 귀찮다.  경향신문   \n",
       "144137                          이걸 왜 하지? 우리한테 아무런 의미가 없는데  경향신문   \n",
       "144138  우리에겐 아무런 도움이 되지 않는 것을 일본에게는 엄청난 기회가 되는 것을 왜 굳이...  경향신문   \n",
       "\n",
       "        지역(서울:1, 부산:2)  정당(1:더불어민주당,2:국민의힘)  정당평가(부정;0, 긍정:1)  후보(기호 순)  \\\n",
       "0                  NaN                  NaN               NaN       NaN   \n",
       "1                  1.0                  NaN               NaN       1.0   \n",
       "2                  1.0                  NaN               NaN       1.0   \n",
       "3                  1.0                  1.0               0.0       1.0   \n",
       "4                  2.0                  1.0               0.0       NaN   \n",
       "...                ...                  ...               ...       ...   \n",
       "144134             NaN                  NaN               NaN       NaN   \n",
       "144135             NaN                  NaN               NaN       NaN   \n",
       "144136             NaN                  NaN               NaN       NaN   \n",
       "144137             NaN                  NaN               NaN       NaN   \n",
       "144138             NaN                  NaN               NaN       NaN   \n",
       "\n",
       "        후보평가(부정;0, 긍정:1)                                               제목댓글  \n",
       "0                    NaN  [재보궐 D-31] 부산 김영춘 vs 박형준, 서울도 양자 대결? 철수야! 뜸 들이...  \n",
       "1                    0.0  [재보궐 D-31] 부산 김영춘 vs 박형준, 서울도 양자 대결? 박영선은 정동영이...  \n",
       "2                    0.0  [재보궐 D-31] 부산 김영춘 vs 박형준, 서울도 양자 대결? 빵선이가서울시장되...  \n",
       "3                    0.0  [재보궐 D-31] 부산 김영춘 vs 박형준, 서울도 양자 대결? 서울시장후보더듬당...  \n",
       "4                    NaN  [재보궐 D-31] 부산 김영춘 vs 박형준, 서울도 양자 대결? 부산은오거돈선거이...  \n",
       "...                  ...                                                ...  \n",
       "144134               NaN  [논설위원의 단도직입]“한·일해저터널 경제성 없지만…동북아 경제권 차원서 장기 검토...  \n",
       "144135               NaN  [논설위원의 단도직입]“한·일해저터널 경제성 없지만…동북아 경제권 차원서 장기 검토...  \n",
       "144136               NaN  [논설위원의 단도직입]“한·일해저터널 경제성 없지만…동북아 경제권 차원서 장기 검토...  \n",
       "144137               NaN  [논설위원의 단도직입]“한·일해저터널 경제성 없지만…동북아 경제권 차원서 장기 검토...  \n",
       "144138               NaN  [논설위원의 단도직입]“한·일해저터널 경제성 없지만…동북아 경제권 차원서 장기 검토...  \n",
       "\n",
       "[144139 rows x 11 columns]"
      ]
     },
     "execution_count": 90,
     "metadata": {},
     "output_type": "execute_result"
    }
   ],
   "source": [
    "df = pd.read_csv('../../data/재보궐선거댓글데이터_최종_유튜브수정_0429.csv')\n",
    "df"
   ]
  },
  {
   "cell_type": "code",
   "execution_count": 91,
   "metadata": {
    "ExecuteTime": {
     "end_time": "2021-05-14T04:50:53.473977Z",
     "start_time": "2021-05-14T04:50:53.469957Z"
    }
   },
   "outputs": [
    {
     "data": {
      "text/plain": [
       "(144139, 11)"
      ]
     },
     "execution_count": 91,
     "metadata": {},
     "output_type": "execute_result"
    }
   ],
   "source": [
    "# 데이터 구조\n",
    "df.shape"
   ]
  },
  {
   "cell_type": "code",
   "execution_count": 92,
   "metadata": {
    "ExecuteTime": {
     "end_time": "2021-05-14T04:50:53.565701Z",
     "start_time": "2021-05-14T04:50:53.548746Z"
    },
    "scrolled": true
   },
   "outputs": [
    {
     "data": {
      "text/html": [
       "<div>\n",
       "<style scoped>\n",
       "    .dataframe tbody tr th:only-of-type {\n",
       "        vertical-align: middle;\n",
       "    }\n",
       "\n",
       "    .dataframe tbody tr th {\n",
       "        vertical-align: top;\n",
       "    }\n",
       "\n",
       "    .dataframe thead th {\n",
       "        text-align: right;\n",
       "    }\n",
       "</style>\n",
       "<table border=\"1\" class=\"dataframe\">\n",
       "  <thead>\n",
       "    <tr style=\"text-align: right;\">\n",
       "      <th></th>\n",
       "      <th>작성일</th>\n",
       "      <th>출처</th>\n",
       "      <th>지역(서울:1, 부산:2)</th>\n",
       "      <th>정당(1:더불어민주당,2:국민의힘)</th>\n",
       "      <th>정당평가(부정;0, 긍정:1)</th>\n",
       "      <th>후보(기호 순)</th>\n",
       "      <th>후보평가(부정;0, 긍정:1)</th>\n",
       "      <th>제목댓글</th>\n",
       "    </tr>\n",
       "  </thead>\n",
       "  <tbody>\n",
       "    <tr>\n",
       "      <th>0</th>\n",
       "      <td>2021-03-12 19:13:00</td>\n",
       "      <td>조선일보</td>\n",
       "      <td>NaN</td>\n",
       "      <td>NaN</td>\n",
       "      <td>NaN</td>\n",
       "      <td>NaN</td>\n",
       "      <td>NaN</td>\n",
       "      <td>[재보궐 D-31] 부산 김영춘 vs 박형준, 서울도 양자 대결? 철수야! 뜸 들이...</td>\n",
       "    </tr>\n",
       "    <tr>\n",
       "      <th>1</th>\n",
       "      <td>2021-03-09 13:49:00</td>\n",
       "      <td>조선일보</td>\n",
       "      <td>1.0</td>\n",
       "      <td>NaN</td>\n",
       "      <td>NaN</td>\n",
       "      <td>1.0</td>\n",
       "      <td>0.0</td>\n",
       "      <td>[재보궐 D-31] 부산 김영춘 vs 박형준, 서울도 양자 대결? 박영선은 정동영이...</td>\n",
       "    </tr>\n",
       "  </tbody>\n",
       "</table>\n",
       "</div>"
      ],
      "text/plain": [
       "                   작성일    출처  지역(서울:1, 부산:2)  정당(1:더불어민주당,2:국민의힘)  \\\n",
       "0  2021-03-12 19:13:00  조선일보             NaN                  NaN   \n",
       "1  2021-03-09 13:49:00  조선일보             1.0                  NaN   \n",
       "\n",
       "   정당평가(부정;0, 긍정:1)  후보(기호 순)  후보평가(부정;0, 긍정:1)  \\\n",
       "0               NaN       NaN               NaN   \n",
       "1               NaN       1.0               0.0   \n",
       "\n",
       "                                                제목댓글  \n",
       "0  [재보궐 D-31] 부산 김영춘 vs 박형준, 서울도 양자 대결? 철수야! 뜸 들이...  \n",
       "1  [재보궐 D-31] 부산 김영춘 vs 박형준, 서울도 양자 대결? 박영선은 정동영이...  "
      ]
     },
     "execution_count": 92,
     "metadata": {},
     "output_type": "execute_result"
    }
   ],
   "source": [
    "# 제목과 댓글은 '제목 댓글 컬럼' 존재로 삭제\n",
    "# 기사가 작성된 날짜는 삭제\n",
    "df = df.drop( columns=['제목','날짜','댓글'])\n",
    "df.head(2)"
   ]
  },
  {
   "cell_type": "code",
   "execution_count": 93,
   "metadata": {
    "ExecuteTime": {
     "end_time": "2021-05-14T04:50:53.650474Z",
     "start_time": "2021-05-14T04:50:53.639503Z"
    }
   },
   "outputs": [
    {
     "data": {
      "text/html": [
       "<div>\n",
       "<style scoped>\n",
       "    .dataframe tbody tr th:only-of-type {\n",
       "        vertical-align: middle;\n",
       "    }\n",
       "\n",
       "    .dataframe tbody tr th {\n",
       "        vertical-align: top;\n",
       "    }\n",
       "\n",
       "    .dataframe thead th {\n",
       "        text-align: right;\n",
       "    }\n",
       "</style>\n",
       "<table border=\"1\" class=\"dataframe\">\n",
       "  <thead>\n",
       "    <tr style=\"text-align: right;\">\n",
       "      <th></th>\n",
       "      <th>date</th>\n",
       "      <th>press</th>\n",
       "      <th>area</th>\n",
       "      <th>party</th>\n",
       "      <th>party_eval</th>\n",
       "      <th>candidate</th>\n",
       "      <th>candidate_eval</th>\n",
       "      <th>title_comment</th>\n",
       "    </tr>\n",
       "  </thead>\n",
       "  <tbody>\n",
       "    <tr>\n",
       "      <th>0</th>\n",
       "      <td>2021-03-12 19:13:00</td>\n",
       "      <td>조선일보</td>\n",
       "      <td>NaN</td>\n",
       "      <td>NaN</td>\n",
       "      <td>NaN</td>\n",
       "      <td>NaN</td>\n",
       "      <td>NaN</td>\n",
       "      <td>[재보궐 D-31] 부산 김영춘 vs 박형준, 서울도 양자 대결? 철수야! 뜸 들이...</td>\n",
       "    </tr>\n",
       "    <tr>\n",
       "      <th>1</th>\n",
       "      <td>2021-03-09 13:49:00</td>\n",
       "      <td>조선일보</td>\n",
       "      <td>1.0</td>\n",
       "      <td>NaN</td>\n",
       "      <td>NaN</td>\n",
       "      <td>1.0</td>\n",
       "      <td>0.0</td>\n",
       "      <td>[재보궐 D-31] 부산 김영춘 vs 박형준, 서울도 양자 대결? 박영선은 정동영이...</td>\n",
       "    </tr>\n",
       "    <tr>\n",
       "      <th>2</th>\n",
       "      <td>2021-03-07 14:42:00</td>\n",
       "      <td>조선일보</td>\n",
       "      <td>1.0</td>\n",
       "      <td>NaN</td>\n",
       "      <td>NaN</td>\n",
       "      <td>1.0</td>\n",
       "      <td>0.0</td>\n",
       "      <td>[재보궐 D-31] 부산 김영춘 vs 박형준, 서울도 양자 대결? 빵선이가서울시장되...</td>\n",
       "    </tr>\n",
       "    <tr>\n",
       "      <th>3</th>\n",
       "      <td>2021-03-07 14:38:00</td>\n",
       "      <td>조선일보</td>\n",
       "      <td>1.0</td>\n",
       "      <td>1.0</td>\n",
       "      <td>0.0</td>\n",
       "      <td>1.0</td>\n",
       "      <td>0.0</td>\n",
       "      <td>[재보궐 D-31] 부산 김영춘 vs 박형준, 서울도 양자 대결? 서울시장후보더듬당...</td>\n",
       "    </tr>\n",
       "    <tr>\n",
       "      <th>4</th>\n",
       "      <td>2021-03-07 14:02:00</td>\n",
       "      <td>조선일보</td>\n",
       "      <td>2.0</td>\n",
       "      <td>1.0</td>\n",
       "      <td>0.0</td>\n",
       "      <td>NaN</td>\n",
       "      <td>NaN</td>\n",
       "      <td>[재보궐 D-31] 부산 김영춘 vs 박형준, 서울도 양자 대결? 부산은오거돈선거이...</td>\n",
       "    </tr>\n",
       "  </tbody>\n",
       "</table>\n",
       "</div>"
      ],
      "text/plain": [
       "                  date press  area  party  party_eval  candidate  \\\n",
       "0  2021-03-12 19:13:00  조선일보   NaN    NaN         NaN        NaN   \n",
       "1  2021-03-09 13:49:00  조선일보   1.0    NaN         NaN        1.0   \n",
       "2  2021-03-07 14:42:00  조선일보   1.0    NaN         NaN        1.0   \n",
       "3  2021-03-07 14:38:00  조선일보   1.0    1.0         0.0        1.0   \n",
       "4  2021-03-07 14:02:00  조선일보   2.0    1.0         0.0        NaN   \n",
       "\n",
       "   candidate_eval                                      title_comment  \n",
       "0             NaN  [재보궐 D-31] 부산 김영춘 vs 박형준, 서울도 양자 대결? 철수야! 뜸 들이...  \n",
       "1             0.0  [재보궐 D-31] 부산 김영춘 vs 박형준, 서울도 양자 대결? 박영선은 정동영이...  \n",
       "2             0.0  [재보궐 D-31] 부산 김영춘 vs 박형준, 서울도 양자 대결? 빵선이가서울시장되...  \n",
       "3             0.0  [재보궐 D-31] 부산 김영춘 vs 박형준, 서울도 양자 대결? 서울시장후보더듬당...  \n",
       "4             NaN  [재보궐 D-31] 부산 김영춘 vs 박형준, 서울도 양자 대결? 부산은오거돈선거이...  "
      ]
     },
     "execution_count": 93,
     "metadata": {},
     "output_type": "execute_result"
    }
   ],
   "source": [
    "# 컬럼 이름 영어로 변경\n",
    "cols = ['date','press','area', 'party','party_eval', \n",
    "        'candidate','candidate_eval','title_comment']\n",
    "df.columns = cols\n",
    "df.head()"
   ]
  },
  {
   "cell_type": "markdown",
   "metadata": {},
   "source": [
    "## 1. Feature-label \n",
    "- 정당평가, 후보자평가 둘 중 하나라도 nan이 아니면 값으로 받기\n",
    "- 텍스트에 대해 직접 긍정/부정 라벨링을 해야하나 시간 관계상, 정당평가나 후보자 평가 중 하나라도 있으면 이를 y값으로 두어 학습시키기"
   ]
  },
  {
   "cell_type": "code",
   "execution_count": 94,
   "metadata": {
    "ExecuteTime": {
     "end_time": "2021-05-14T04:50:53.831021Z",
     "start_time": "2021-05-14T04:50:53.724276Z"
    }
   },
   "outputs": [
    {
     "name": "stdout",
     "output_type": "stream",
     "text": [
      "1780 2330 263\n",
      "4373\n"
     ]
    }
   ],
   "source": [
    "# 둘 중 하나라도 값이 있으면 인덱스 추출\n",
    "\n",
    "# 값을 담을 리스트\n",
    "A = []\n",
    "B =[]\n",
    "A_B = []\n",
    "\n",
    "for p, c in zip( df['party_eval'].items(), df['candidate_eval'].items()):\n",
    "    # 정당평가 有, 후보평가 無\n",
    "    if (p[1] in [1.0,0.0]) & (c[1] not in [1.0,0.0]):\n",
    "#         print(p[0], p[1])\n",
    "        A.append(p[0])\n",
    "    \n",
    "    # 정당평가 無, 후보평가 有\n",
    "    elif (p[1] not in [1.0,0.0]) & ( c[1] in [1.0,0.0]):\n",
    "#         print(p[1], c[1])\n",
    "#         print(p[0], c[0])\n",
    "        B.append(c[0])\n",
    "    \n",
    "    # 정당평가 有, 후보평가 有\n",
    "    elif (p[1] in [1.0,0.0]) & (c[1] in [1.0,0.0]):\n",
    "#         print(p[1], c[1])\n",
    "        A_B.append(p[0])\n",
    "        \n",
    "print(len(A), len(B), len(A_B))\n",
    "print( len(A)+len(B)+len(A_B)) # 가용한 총 데이터수"
   ]
  },
  {
   "cell_type": "code",
   "execution_count": 95,
   "metadata": {
    "ExecuteTime": {
     "end_time": "2021-05-14T04:50:53.907785Z",
     "start_time": "2021-05-14T04:50:53.902799Z"
    },
    "scrolled": true
   },
   "outputs": [
    {
     "data": {
      "text/plain": [
       "4373"
      ]
     },
     "execution_count": 95,
     "metadata": {},
     "output_type": "execute_result"
    }
   ],
   "source": [
    "# 리스트를 하나로 묶기\n",
    "index = A+ B + A_B\n",
    "len(index)"
   ]
  },
  {
   "cell_type": "code",
   "execution_count": 96,
   "metadata": {
    "ExecuteTime": {
     "end_time": "2021-05-14T04:50:54.284038Z",
     "start_time": "2021-05-14T04:50:54.274065Z"
    }
   },
   "outputs": [
    {
     "name": "stdout",
     "output_type": "stream",
     "text": [
      "(4373, 8)\n"
     ]
    }
   ],
   "source": [
    "# 둘 중 하나라도 있는 값만을 데이터 프레임으로 형성, 혹시 모를 NaN값 삭제\n",
    "index2 = df.iloc[index][['party_eval','candidate_eval']].dropna(how='all').index\n",
    "df2 = df.iloc[index2]\n",
    "print(df2.shape)\n",
    "\n",
    "# 인덱스 재배열\n",
    "df2.reset_index(inplace=True, drop=True) "
   ]
  },
  {
   "cell_type": "code",
   "execution_count": 97,
   "metadata": {
    "ExecuteTime": {
     "end_time": "2021-05-14T04:50:54.677211Z",
     "start_time": "2021-05-14T04:50:54.663218Z"
    }
   },
   "outputs": [
    {
     "data": {
      "text/html": [
       "<div>\n",
       "<style scoped>\n",
       "    .dataframe tbody tr th:only-of-type {\n",
       "        vertical-align: middle;\n",
       "    }\n",
       "\n",
       "    .dataframe tbody tr th {\n",
       "        vertical-align: top;\n",
       "    }\n",
       "\n",
       "    .dataframe thead th {\n",
       "        text-align: right;\n",
       "    }\n",
       "</style>\n",
       "<table border=\"1\" class=\"dataframe\">\n",
       "  <thead>\n",
       "    <tr style=\"text-align: right;\">\n",
       "      <th></th>\n",
       "      <th>date</th>\n",
       "      <th>press</th>\n",
       "      <th>area</th>\n",
       "      <th>party</th>\n",
       "      <th>party_eval</th>\n",
       "      <th>candidate</th>\n",
       "      <th>candidate_eval</th>\n",
       "      <th>title_comment</th>\n",
       "    </tr>\n",
       "  </thead>\n",
       "  <tbody>\n",
       "    <tr>\n",
       "      <th>0</th>\n",
       "      <td>2021-03-07 14:02:00</td>\n",
       "      <td>조선일보</td>\n",
       "      <td>2.0</td>\n",
       "      <td>1.0</td>\n",
       "      <td>0.0</td>\n",
       "      <td>NaN</td>\n",
       "      <td>NaN</td>\n",
       "      <td>[재보궐 D-31] 부산 김영춘 vs 박형준, 서울도 양자 대결? 부산은오거돈선거이...</td>\n",
       "    </tr>\n",
       "    <tr>\n",
       "      <th>1</th>\n",
       "      <td>2021-03-07 13:15:00</td>\n",
       "      <td>조선일보</td>\n",
       "      <td>NaN</td>\n",
       "      <td>1.0</td>\n",
       "      <td>0.0</td>\n",
       "      <td>NaN</td>\n",
       "      <td>NaN</td>\n",
       "      <td>[재보궐 D-31] 부산 김영춘 vs 박형준, 서울도 양자 대결? 일단 일자리와 경...</td>\n",
       "    </tr>\n",
       "    <tr>\n",
       "      <th>2</th>\n",
       "      <td>2021-03-07 09:50:00</td>\n",
       "      <td>조선일보</td>\n",
       "      <td>NaN</td>\n",
       "      <td>1.0</td>\n",
       "      <td>0.0</td>\n",
       "      <td>NaN</td>\n",
       "      <td>NaN</td>\n",
       "      <td>[재보궐 D-31] 부산 김영춘 vs 박형준, 서울도 양자 대결? 수십조 세금을 평...</td>\n",
       "    </tr>\n",
       "    <tr>\n",
       "      <th>3</th>\n",
       "      <td>2021-03-07 08:23:00</td>\n",
       "      <td>조선일보</td>\n",
       "      <td>1.0</td>\n",
       "      <td>1.0</td>\n",
       "      <td>0.0</td>\n",
       "      <td>NaN</td>\n",
       "      <td>NaN</td>\n",
       "      <td>[재보궐 D-31] 부산 김영춘 vs 박형준, 서울도 양자 대결? 박원순의 성폭력 ...</td>\n",
       "    </tr>\n",
       "    <tr>\n",
       "      <th>4</th>\n",
       "      <td>2021-03-07 08:21:00</td>\n",
       "      <td>조선일보</td>\n",
       "      <td>NaN</td>\n",
       "      <td>1.0</td>\n",
       "      <td>1.0</td>\n",
       "      <td>NaN</td>\n",
       "      <td>NaN</td>\n",
       "      <td>[재보궐 D-31] 부산 김영춘 vs 박형준, 서울도 양자 대결? 이번 보궐선거는 ...</td>\n",
       "    </tr>\n",
       "    <tr>\n",
       "      <th>...</th>\n",
       "      <td>...</td>\n",
       "      <td>...</td>\n",
       "      <td>...</td>\n",
       "      <td>...</td>\n",
       "      <td>...</td>\n",
       "      <td>...</td>\n",
       "      <td>...</td>\n",
       "      <td>...</td>\n",
       "    </tr>\n",
       "    <tr>\n",
       "      <th>4368</th>\n",
       "      <td>2021-03-04 11:46:00</td>\n",
       "      <td>한겨레</td>\n",
       "      <td>NaN</td>\n",
       "      <td>2.0</td>\n",
       "      <td>0.0</td>\n",
       "      <td>2.0</td>\n",
       "      <td>0.0</td>\n",
       "      <td>‘나경원 대세론’ 꺾은 오세훈…“임기 못마친 죄 갚겠다” 울먹 쟤 쥐새끼 똘마니야\\...</td>\n",
       "    </tr>\n",
       "    <tr>\n",
       "      <th>4369</th>\n",
       "      <td>2021-03-04 11:00:00</td>\n",
       "      <td>한겨레</td>\n",
       "      <td>1.0</td>\n",
       "      <td>2.0</td>\n",
       "      <td>0.0</td>\n",
       "      <td>2.0</td>\n",
       "      <td>0.0</td>\n",
       "      <td>‘나경원 대세론’ 꺾은 오세훈…“임기 못마친 죄 갚겠다” 울먹 이런자가 시장 후보라...</td>\n",
       "    </tr>\n",
       "    <tr>\n",
       "      <th>4370</th>\n",
       "      <td>2021-03-04 10:27:00</td>\n",
       "      <td>한겨레</td>\n",
       "      <td>1.0</td>\n",
       "      <td>2.0</td>\n",
       "      <td>0.0</td>\n",
       "      <td>2.0</td>\n",
       "      <td>0.0</td>\n",
       "      <td>‘나경원 대세론’ 꺾은 오세훈…“임기 못마친 죄 갚겠다” 울먹 그럼 저 치가 아이들...</td>\n",
       "    </tr>\n",
       "    <tr>\n",
       "      <th>4371</th>\n",
       "      <td>2021-03-04 10:23:00</td>\n",
       "      <td>한겨레</td>\n",
       "      <td>1.0</td>\n",
       "      <td>2.0</td>\n",
       "      <td>0.0</td>\n",
       "      <td>2.0</td>\n",
       "      <td>0.0</td>\n",
       "      <td>‘나경원 대세론’ 꺾은 오세훈…“임기 못마친 죄 갚겠다” 울먹 정권심판이라........</td>\n",
       "    </tr>\n",
       "    <tr>\n",
       "      <th>4372</th>\n",
       "      <td>2021-04-05 21:24:00</td>\n",
       "      <td>한겨레</td>\n",
       "      <td>1.0</td>\n",
       "      <td>1.0</td>\n",
       "      <td>0.0</td>\n",
       "      <td>1.0</td>\n",
       "      <td>0.0</td>\n",
       "      <td>민주 “오세훈, 10년 전 식목 행사에 2500만원짜리 ‘의전용 계단’” 정말나쁜정...</td>\n",
       "    </tr>\n",
       "  </tbody>\n",
       "</table>\n",
       "<p>4373 rows × 8 columns</p>\n",
       "</div>"
      ],
      "text/plain": [
       "                     date press  area  party  party_eval  candidate  \\\n",
       "0     2021-03-07 14:02:00  조선일보   2.0    1.0         0.0        NaN   \n",
       "1     2021-03-07 13:15:00  조선일보   NaN    1.0         0.0        NaN   \n",
       "2     2021-03-07 09:50:00  조선일보   NaN    1.0         0.0        NaN   \n",
       "3     2021-03-07 08:23:00  조선일보   1.0    1.0         0.0        NaN   \n",
       "4     2021-03-07 08:21:00  조선일보   NaN    1.0         1.0        NaN   \n",
       "...                   ...   ...   ...    ...         ...        ...   \n",
       "4368  2021-03-04 11:46:00   한겨레   NaN    2.0         0.0        2.0   \n",
       "4369  2021-03-04 11:00:00   한겨레   1.0    2.0         0.0        2.0   \n",
       "4370  2021-03-04 10:27:00   한겨레   1.0    2.0         0.0        2.0   \n",
       "4371  2021-03-04 10:23:00   한겨레   1.0    2.0         0.0        2.0   \n",
       "4372  2021-04-05 21:24:00   한겨레   1.0    1.0         0.0        1.0   \n",
       "\n",
       "      candidate_eval                                      title_comment  \n",
       "0                NaN  [재보궐 D-31] 부산 김영춘 vs 박형준, 서울도 양자 대결? 부산은오거돈선거이...  \n",
       "1                NaN  [재보궐 D-31] 부산 김영춘 vs 박형준, 서울도 양자 대결? 일단 일자리와 경...  \n",
       "2                NaN  [재보궐 D-31] 부산 김영춘 vs 박형준, 서울도 양자 대결? 수십조 세금을 평...  \n",
       "3                NaN  [재보궐 D-31] 부산 김영춘 vs 박형준, 서울도 양자 대결? 박원순의 성폭력 ...  \n",
       "4                NaN  [재보궐 D-31] 부산 김영춘 vs 박형준, 서울도 양자 대결? 이번 보궐선거는 ...  \n",
       "...              ...                                                ...  \n",
       "4368             0.0  ‘나경원 대세론’ 꺾은 오세훈…“임기 못마친 죄 갚겠다” 울먹 쟤 쥐새끼 똘마니야\\...  \n",
       "4369             0.0  ‘나경원 대세론’ 꺾은 오세훈…“임기 못마친 죄 갚겠다” 울먹 이런자가 시장 후보라...  \n",
       "4370             0.0  ‘나경원 대세론’ 꺾은 오세훈…“임기 못마친 죄 갚겠다” 울먹 그럼 저 치가 아이들...  \n",
       "4371             0.0  ‘나경원 대세론’ 꺾은 오세훈…“임기 못마친 죄 갚겠다” 울먹 정권심판이라........  \n",
       "4372             0.0  민주 “오세훈, 10년 전 식목 행사에 2500만원짜리 ‘의전용 계단’” 정말나쁜정...  \n",
       "\n",
       "[4373 rows x 8 columns]"
      ]
     },
     "execution_count": 97,
     "metadata": {},
     "output_type": "execute_result"
    }
   ],
   "source": [
    "df2"
   ]
  },
  {
   "cell_type": "code",
   "execution_count": 98,
   "metadata": {
    "ExecuteTime": {
     "end_time": "2021-05-14T04:50:55.133406Z",
     "start_time": "2021-05-14T04:50:55.130399Z"
    }
   },
   "outputs": [],
   "source": [
    "# X-y값으로 나누기\n",
    "X = df2['title_comment']\n",
    "\n",
    "# 후보자 평가 nan값을 정당 평가로 채우기\n",
    "y = df2['candidate_eval'].fillna( df2['party_eval'] )"
   ]
  },
  {
   "cell_type": "code",
   "execution_count": 99,
   "metadata": {
    "ExecuteTime": {
     "end_time": "2021-05-14T04:50:55.697557Z",
     "start_time": "2021-05-14T04:50:55.677155Z"
    },
    "scrolled": false
   },
   "outputs": [
    {
     "data": {
      "text/plain": [
       "((4373,), (4373,))"
      ]
     },
     "execution_count": 99,
     "metadata": {},
     "output_type": "execute_result"
    }
   ],
   "source": [
    "# X-y값 구조 확인\n",
    "y.shape, X.shape"
   ]
  },
  {
   "cell_type": "code",
   "execution_count": 100,
   "metadata": {
    "ExecuteTime": {
     "end_time": "2021-05-14T04:50:56.023196Z",
     "start_time": "2021-05-14T04:50:56.018193Z"
    }
   },
   "outputs": [
    {
     "name": "stdout",
     "output_type": "stream",
     "text": [
      "0 0\n"
     ]
    }
   ],
   "source": [
    "# Null값 확인\n",
    "X.isna().sum()\n",
    "print(X.isna().sum(), y.isna().sum())"
   ]
  },
  {
   "cell_type": "markdown",
   "metadata": {},
   "source": [
    "## 2. 학습시킬 라벨의 긍정/부정 확인"
   ]
  },
  {
   "cell_type": "code",
   "execution_count": 101,
   "metadata": {
    "ExecuteTime": {
     "end_time": "2021-05-14T04:50:56.651778Z",
     "start_time": "2021-05-14T04:50:56.645796Z"
    }
   },
   "outputs": [
    {
     "data": {
      "text/plain": [
       "0.0    3471\n",
       "1.0     902\n",
       "Name: candidate_eval, dtype: int64"
      ]
     },
     "execution_count": 101,
     "metadata": {},
     "output_type": "execute_result"
    }
   ],
   "source": [
    "# y값의 종류 확인\n",
    "y.value_counts()"
   ]
  },
  {
   "cell_type": "markdown",
   "metadata": {},
   "source": [
    "## 3. Logistic 모델 사용\n",
    "- (1) 형태소 분석\n",
    "- (2) CounterVectorize\n",
    "    - 참고 자료: https://wiserloner.tistory.com/917\n",
    "- (3) TF-IDF\n",
    "- (4) 분류모델 학습\n",
    "- (5) 평가\n",
    "- (6) 모델저장\n",
    "- (7) 모델불러오기\n",
    "- (8) 추정 확률 알아보기"
   ]
  },
  {
   "cell_type": "code",
   "execution_count": 102,
   "metadata": {
    "ExecuteTime": {
     "end_time": "2021-05-14T04:50:57.604701Z",
     "start_time": "2021-05-14T04:50:57.597745Z"
    }
   },
   "outputs": [
    {
     "data": {
      "text/plain": [
       "(4373, 2)"
      ]
     },
     "execution_count": 102,
     "metadata": {},
     "output_type": "execute_result"
    }
   ],
   "source": [
    "# 위에서 분류했던 X,y 합치기\n",
    "df3 = pd.concat([X,y], axis=1)\n",
    "\n",
    "# 컬럼 이름 변경\n",
    "df3 = df3.rename( columns={'candidate_eval': 'y'} )\n",
    "\n",
    "df3.shape"
   ]
  },
  {
   "cell_type": "code",
   "execution_count": 103,
   "metadata": {
    "ExecuteTime": {
     "end_time": "2021-05-14T04:50:58.122537Z",
     "start_time": "2021-05-14T04:50:58.119556Z"
    }
   },
   "outputs": [],
   "source": [
    "# 감성분석에 필요할 데이터를 csv로 저장\n",
    "# df3.to_csv('data/setiment_analysis_data.csv')"
   ]
  },
  {
   "cell_type": "code",
   "execution_count": 104,
   "metadata": {
    "ExecuteTime": {
     "end_time": "2021-05-14T04:50:58.457858Z",
     "start_time": "2021-05-14T04:50:58.455624Z"
    }
   },
   "outputs": [],
   "source": [
    "# 정규식\n",
    "def text_cleaning(text) :\n",
    "    hangul = re.compile('[^ ㄱ-ㅣ가-힣]+')\n",
    "    result = hangul.sub('', text)\n",
    "    return result"
   ]
  },
  {
   "cell_type": "code",
   "execution_count": 105,
   "metadata": {
    "ExecuteTime": {
     "end_time": "2021-05-14T04:50:58.753384Z",
     "start_time": "2021-05-14T04:50:58.727454Z"
    }
   },
   "outputs": [],
   "source": [
    "# 한글 외 문자는 제거\n",
    "df3['title_comment'] = df3['title_comment'].apply( lambda x: text_cleaning(x) )"
   ]
  },
  {
   "cell_type": "code",
   "execution_count": 106,
   "metadata": {
    "ExecuteTime": {
     "end_time": "2021-05-14T04:50:59.028962Z",
     "start_time": "2021-05-14T04:50:59.020983Z"
    },
    "scrolled": true
   },
   "outputs": [
    {
     "data": {
      "text/html": [
       "<div>\n",
       "<style scoped>\n",
       "    .dataframe tbody tr th:only-of-type {\n",
       "        vertical-align: middle;\n",
       "    }\n",
       "\n",
       "    .dataframe tbody tr th {\n",
       "        vertical-align: top;\n",
       "    }\n",
       "\n",
       "    .dataframe thead th {\n",
       "        text-align: right;\n",
       "    }\n",
       "</style>\n",
       "<table border=\"1\" class=\"dataframe\">\n",
       "  <thead>\n",
       "    <tr style=\"text-align: right;\">\n",
       "      <th></th>\n",
       "      <th>title_comment</th>\n",
       "      <th>y</th>\n",
       "    </tr>\n",
       "  </thead>\n",
       "  <tbody>\n",
       "    <tr>\n",
       "      <th>0</th>\n",
       "      <td>재보궐  부산 김영춘  박형준 서울도 양자 대결 부산은오거돈선거이고 오거돈치부선거아...</td>\n",
       "      <td>0.0</td>\n",
       "    </tr>\n",
       "    <tr>\n",
       "      <th>1</th>\n",
       "      <td>재보궐  부산 김영춘  박형준 서울도 양자 대결 일단 일자리와 경제를 말아드신 여당...</td>\n",
       "      <td>0.0</td>\n",
       "    </tr>\n",
       "    <tr>\n",
       "      <th>2</th>\n",
       "      <td>재보궐  부산 김영춘  박형준 서울도 양자 대결 수십조 세금을 평가순위 위인 가덕도...</td>\n",
       "      <td>0.0</td>\n",
       "    </tr>\n",
       "    <tr>\n",
       "      <th>3</th>\n",
       "      <td>재보궐  부산 김영춘  박형준 서울도 양자 대결 박원순의 성폭력 자살을 공수처에 수...</td>\n",
       "      <td>0.0</td>\n",
       "    </tr>\n",
       "    <tr>\n",
       "      <th>4</th>\n",
       "      <td>재보궐  부산 김영춘  박형준 서울도 양자 대결 이번 보궐선거는 임기가 년남짓이다 ...</td>\n",
       "      <td>1.0</td>\n",
       "    </tr>\n",
       "    <tr>\n",
       "      <th>...</th>\n",
       "      <td>...</td>\n",
       "      <td>...</td>\n",
       "    </tr>\n",
       "    <tr>\n",
       "      <th>4368</th>\n",
       "      <td>나경원 대세론 꺾은 오세훈임기 못마친 죄 갚겠다 울먹 쟤 쥐새끼 똘마니야벌써 잊는거...</td>\n",
       "      <td>0.0</td>\n",
       "    </tr>\n",
       "    <tr>\n",
       "      <th>4369</th>\n",
       "      <td>나경원 대세론 꺾은 오세훈임기 못마친 죄 갚겠다 울먹 이런자가 시장 후보라니 국민의...</td>\n",
       "      <td>0.0</td>\n",
       "    </tr>\n",
       "    <tr>\n",
       "      <th>4370</th>\n",
       "      <td>나경원 대세론 꺾은 오세훈임기 못마친 죄 갚겠다 울먹 그럼 저 치가 아이들 점심을 ...</td>\n",
       "      <td>0.0</td>\n",
       "    </tr>\n",
       "    <tr>\n",
       "      <th>4371</th>\n",
       "      <td>나경원 대세론 꺾은 오세훈임기 못마친 죄 갚겠다 울먹 정권심판이라이명박 박근혜정권때...</td>\n",
       "      <td>0.0</td>\n",
       "    </tr>\n",
       "    <tr>\n",
       "      <th>4372</th>\n",
       "      <td>민주 오세훈 년 전 식목 행사에 만원짜리 의전용 계단 정말나쁜정당이다박영선도능력없다...</td>\n",
       "      <td>0.0</td>\n",
       "    </tr>\n",
       "  </tbody>\n",
       "</table>\n",
       "<p>4373 rows × 2 columns</p>\n",
       "</div>"
      ],
      "text/plain": [
       "                                          title_comment    y\n",
       "0     재보궐  부산 김영춘  박형준 서울도 양자 대결 부산은오거돈선거이고 오거돈치부선거아...  0.0\n",
       "1     재보궐  부산 김영춘  박형준 서울도 양자 대결 일단 일자리와 경제를 말아드신 여당...  0.0\n",
       "2     재보궐  부산 김영춘  박형준 서울도 양자 대결 수십조 세금을 평가순위 위인 가덕도...  0.0\n",
       "3     재보궐  부산 김영춘  박형준 서울도 양자 대결 박원순의 성폭력 자살을 공수처에 수...  0.0\n",
       "4     재보궐  부산 김영춘  박형준 서울도 양자 대결 이번 보궐선거는 임기가 년남짓이다 ...  1.0\n",
       "...                                                 ...  ...\n",
       "4368  나경원 대세론 꺾은 오세훈임기 못마친 죄 갚겠다 울먹 쟤 쥐새끼 똘마니야벌써 잊는거...  0.0\n",
       "4369  나경원 대세론 꺾은 오세훈임기 못마친 죄 갚겠다 울먹 이런자가 시장 후보라니 국민의...  0.0\n",
       "4370  나경원 대세론 꺾은 오세훈임기 못마친 죄 갚겠다 울먹 그럼 저 치가 아이들 점심을 ...  0.0\n",
       "4371  나경원 대세론 꺾은 오세훈임기 못마친 죄 갚겠다 울먹 정권심판이라이명박 박근혜정권때...  0.0\n",
       "4372  민주 오세훈 년 전 식목 행사에 만원짜리 의전용 계단 정말나쁜정당이다박영선도능력없다...  0.0\n",
       "\n",
       "[4373 rows x 2 columns]"
      ]
     },
     "execution_count": 106,
     "metadata": {},
     "output_type": "execute_result"
    }
   ],
   "source": [
    "df3"
   ]
  },
  {
   "cell_type": "markdown",
   "metadata": {},
   "source": [
    "### 3.1 형태소 구분"
   ]
  },
  {
   "cell_type": "code",
   "execution_count": 107,
   "metadata": {
    "ExecuteTime": {
     "end_time": "2021-05-14T04:51:18.653931Z",
     "start_time": "2021-05-14T04:51:18.649993Z"
    }
   },
   "outputs": [],
   "source": [
    "# 형태소 분류 태그\n",
    "from konlpy.tag import Okt"
   ]
  },
  {
   "cell_type": "code",
   "execution_count": 108,
   "metadata": {
    "ExecuteTime": {
     "end_time": "2021-05-14T04:51:19.171267Z",
     "start_time": "2021-05-14T04:51:19.166250Z"
    }
   },
   "outputs": [],
   "source": [
    "def get_pos(x) :\n",
    "    tagger = Okt() # Okt로 형태소 분리하기\n",
    "    pos = tagger.pos(x) \n",
    "    results = [] # 형태소를 담을 리스트\n",
    "    for i in pos:\n",
    "        if i[1] != 'Josa': # 조사는 빼버리기\n",
    "            results.append(f'{i[0]}/{i[1]}') #'단어/품사'의 형태로 리스트에 추가\n",
    "        else:\n",
    "            pass\n",
    "    return results"
   ]
  },
  {
   "cell_type": "code",
   "execution_count": 109,
   "metadata": {
    "ExecuteTime": {
     "end_time": "2021-05-14T04:51:19.671642Z",
     "start_time": "2021-05-14T04:51:19.657638Z"
    },
    "scrolled": true
   },
   "outputs": [
    {
     "name": "stdout",
     "output_type": "stream",
     "text": [
      "['재보궐/Noun', '부산/Noun', '김영춘/Noun', '박형준/Noun', '서울/Noun', '양자/Noun', '대결/Noun', '부산/Noun', '오거돈/Noun', '선거/Noun', '오거돈/Noun', '치부/Noun', '선거/Noun', '아닌가/Adjective', '오거돈/Noun', '성/Noun', '추해으로/Adjective', '생긴/Verb', '선거/Noun', '가독/Noun', '신/Modifier', '공항/Noun', '오거돈/Noun', '재산/Noun', '불려줄려고/Verb', '문재인/Noun', '민주당/Noun', '들/Suffix', '발악/Noun', '아닌가다/Adjective', '부산/Noun', '사람/Noun', '하는말/Verb', '이번/Noun', '선거/Noun', '쎄/Adjective', '빠지게/Verb', '오거돈/Noun', '위/Noun', '선가아이가다/Verb']\n"
     ]
    }
   ],
   "source": [
    "# 제목_댓글의 첫번째 데이터만 가져와서 형태소 분리\n",
    "print(get_pos(df3['title_comment'][0]))"
   ]
  },
  {
   "cell_type": "markdown",
   "metadata": {
    "heading_collapsed": true
   },
   "source": [
    "### ※ (참고) 단어 빈도 세기"
   ]
  },
  {
   "cell_type": "code",
   "execution_count": 22,
   "metadata": {
    "ExecuteTime": {
     "end_time": "2021-05-13T16:46:03.819493Z",
     "start_time": "2021-05-13T16:45:38.369191Z"
    },
    "hidden": true
   },
   "outputs": [],
   "source": [
    "from collections import Counter\n",
    "\n",
    "# 글 내용을 형태소 분리한 결과를 가져온다.\n",
    "pos_list = df3['title_comment'].apply(lambda x : get_pos(x))\n",
    "\n",
    "pos_list2 = pos_list.tolist()\n",
    "# 2차원으로 구성되어 있는 문자열 리스트내의 모든 문자열을\n",
    "# 다 추출해 하나의 문자열 리스트로 생성한다.\n",
    "corpus = sum(pos_list2, [])"
   ]
  },
  {
   "cell_type": "code",
   "execution_count": 23,
   "metadata": {
    "ExecuteTime": {
     "end_time": "2021-05-13T16:46:03.839224Z",
     "start_time": "2021-05-13T16:46:03.821271Z"
    },
    "hidden": true
   },
   "outputs": [],
   "source": [
    "# Counter를 생성한다.\n",
    "counter = Counter(corpus)"
   ]
  },
  {
   "cell_type": "code",
   "execution_count": 24,
   "metadata": {
    "ExecuteTime": {
     "end_time": "2021-05-13T16:46:03.866150Z",
     "start_time": "2021-05-13T16:46:03.841218Z"
    },
    "hidden": true
   },
   "outputs": [
    {
     "data": {
      "text/plain": [
       "[('오세훈/Noun', 2510),\n",
       " ('들/Suffix', 2504),\n",
       " ('박영선/Noun', 2277),\n",
       " ('민주당/Noun', 1471),\n",
       " ('서울시장/Noun', 1350),\n",
       " ('국민/Noun', 1348),\n",
       " ('후보/Noun', 1299),\n",
       " ('것/Noun', 1002),\n",
       " ('선거/Noun', 971),\n",
       " ('땅/Noun', 932),\n",
       " ('보궐선거/Noun', 889),\n",
       " ('토론/Noun', 777),\n",
       " ('안철수/Noun', 752),\n",
       " ('하는/Verb', 742),\n",
       " ('내곡동/Noun', 712),\n",
       " ('더불어/Verb', 689),\n",
       " ('문재인/Noun', 627),\n",
       " ('부산/Noun', 621),\n",
       " ('이/Determiner', 586),\n",
       " ('당/Suffix', 578),\n",
       " ('정권/Noun', 553),\n",
       " ('서울/Noun', 547),\n",
       " ('말/Noun', 546),\n",
       " ('사람/Noun', 533),\n",
       " ('박형준/Noun', 522),\n",
       " ('뉴스/Noun', 511),\n",
       " ('적/Suffix', 502),\n",
       " ('힘/Noun', 495),\n",
       " ('할/Verb', 466),\n",
       " ('시장/Noun', 463),\n",
       " ('브리핑/Noun', 434),\n",
       " ('시민/Noun', 432),\n",
       " ('주영진/Noun', 431),\n",
       " ('때/Noun', 430),\n",
       " ('장/Suffix', 409),\n",
       " ('못/VerbPrefix', 408),\n",
       " ('야당/Noun', 405),\n",
       " ('이/Noun', 378),\n",
       " ('다/Adverb', 375),\n",
       " ('거짓말/Noun', 373),\n",
       " ('윤석열/Noun', 371),\n",
       " ('후보자/Noun', 367),\n",
       " ('한/Determiner', 359),\n",
       " ('부산시/Noun', 355),\n",
       " ('토론회/Noun', 352),\n",
       " ('놈/Noun', 348),\n",
       " ('가덕도/Noun', 341),\n",
       " ('한다/Verb', 337),\n",
       " ('그/Noun', 332),\n",
       " ('첫/Noun', 329)]"
      ]
     },
     "execution_count": 24,
     "metadata": {},
     "output_type": "execute_result"
    }
   ],
   "source": [
    "# 상위 50개 를 가져온다.\n",
    "a1 = counter.most_common(50)\n",
    "a1"
   ]
  },
  {
   "cell_type": "markdown",
   "metadata": {},
   "source": [
    "### 3.2 학습데이터 구분\n",
    "- CounterVectorize: Convert a collection of text documents to **a matrix of token counts**\n",
    "- 단어들의 **카운트(출현 빈도(frequency))**로 여러 문서들을 **벡터화**\n",
    "- 카운트 행렬, 단어 문서 행렬 (Term-Document Matrix, TDM))\n",
    "- 모두 소문자로 변환시키기 때문에 me 와 Me 는 모두 같은 특성이 된다."
   ]
  },
  {
   "cell_type": "code",
   "execution_count": 128,
   "metadata": {
    "ExecuteTime": {
     "end_time": "2021-05-14T05:01:47.061220Z",
     "start_time": "2021-05-14T05:01:26.642661Z"
    }
   },
   "outputs": [],
   "source": [
    "# 단어당 몇개씩 들어 있는지에 대한 벡터를 생성\n",
    "from sklearn.feature_extraction.text import CountVectorizer\n",
    "\n",
    "index_vectorizer = CountVectorizer(tokenizer= lambda x : get_pos(x))\n",
    "X = index_vectorizer.fit_transform(df3['title_comment'].tolist())"
   ]
  },
  {
   "cell_type": "code",
   "execution_count": 202,
   "metadata": {
    "ExecuteTime": {
     "end_time": "2021-05-14T06:26:29.677063Z",
     "start_time": "2021-05-14T06:26:29.631178Z"
    },
    "collapsed": true
   },
   "outputs": [
    {
     "data": {
      "text/plain": [
       "{'재보궐/Noun': 15249,\n",
       " '부산/Noun': 8891,\n",
       " '김영춘/Noun': 2215,\n",
       " '박형준/Noun': 7867,\n",
       " '서울/Noun': 10189,\n",
       " '양자/Noun': 12328,\n",
       " '대결/Noun': 4234,\n",
       " '오거돈/Noun': 13091,\n",
       " '선거/Noun': 10223,\n",
       " '치부/Noun': 17783,\n",
       " '아닌가/Adjective': 11577,\n",
       " '성/Noun': 10333,\n",
       " '추해으로/Adjective': 17626,\n",
       " '생긴/Verb': 10111,\n",
       " '가독/Noun': 176,\n",
       " '신/Modifier': 11005,\n",
       " '공항/Noun': 1371,\n",
       " '재산/Noun': 15252,\n",
       " '불려줄려고/Verb': 9084,\n",
       " '문재인/Noun': 7303,\n",
       " '민주당/Noun': 7561,\n",
       " '들/Suffix': 5310,\n",
       " '발악/Noun': 8022,\n",
       " '아닌가다/Adjective': 11578,\n",
       " '사람/Noun': 9711,\n",
       " '하는말/Verb': 18874,\n",
       " '이번/Noun': 14171,\n",
       " '쎄/Adjective': 11337,\n",
       " '빠지게/Verb': 9380,\n",
       " '위/Noun': 13723,\n",
       " '선가아이가다/Verb': 10222,\n",
       " '일단/Noun': 14429,\n",
       " '일자리/Noun': 14503,\n",
       " '경제/Noun': 1097,\n",
       " '말/Noun': 6334,\n",
       " '드신/Verb': 5275,\n",
       " '여당/Noun': 12837,\n",
       " '빼고/Verb': 9413,\n",
       " '지/Verb': 16434,\n",
       " '들/Verb': 5311,\n",
       " '성범죄/Noun': 10350,\n",
       " '하는데/Verb': 18867,\n",
       " '선/Noun': 10221,\n",
       " '가비/Noun': 255,\n",
       " '토안/Noun': 18163,\n",
       " '하는/Verb': 18825,\n",
       " '비/Noun': 9210,\n",
       " '양심/Noun': 12325,\n",
       " '정당/Noun': 15597,\n",
       " '님/Suffix': 3869,\n",
       " '수십조/Modifier': 10664,\n",
       " '세금/Noun': 10393,\n",
       " '평가/Noun': 18503,\n",
       " '순위/Noun': 10718,\n",
       " '위인/Noun': 13739,\n",
       " '가덕도/Noun': 173,\n",
       " '퍼붓겠다는/Verb': 18436,\n",
       " '더불어/Verb': 4444,\n",
       " '당/Noun': 4139,\n",
       " '당/Modifier': 4138,\n",
       " '신돈/Noun': 11019,\n",
       " '라면/Noun': 5878,\n",
       " '이런/Modifier': 14099,\n",
       " '식/Noun': 10994,\n",
       " '쓰겠나/Verb': 11376,\n",
       " '겨울/Noun': 995,\n",
       " '시린/Adjective': 10894,\n",
       " '손/Noun': 10556,\n",
       " '호호/Noun': 19877,\n",
       " '불며/Verb': 9097,\n",
       " '한/Determiner': 19096,\n",
       " '푼/Noun': 18602,\n",
       " '두/Determiner': 5098,\n",
       " '벌어/Verb': 8312,\n",
       " '낸/Verb': 3291,\n",
       " '국가/Noun': 1592,\n",
       " '발전/Noun': 8029,\n",
       " '하여/Verb': 19017,\n",
       " '꼭/Noun': 2447,\n",
       " '필요한/Adjective': 18698,\n",
       " '곳/Noun': 1287,\n",
       " '쓰여졌으면/Verb': 11410,\n",
       " '좋겠다/Adjective': 15926,\n",
       " '박원순/Noun': 7833,\n",
       " '성폭력/Noun': 10378,\n",
       " '자살/Noun': 14934,\n",
       " '공/Modifier': 1289,\n",
       " '수/Modifier': 10610,\n",
       " '처/Noun': 17347,\n",
       " '수사의뢰/Noun': 10650,\n",
       " '더불/Verb': 4440,\n",
       " '더듬/Verb': 4400,\n",
       " '후보/Noun': 20060,\n",
       " '즉각/Noun': 16405,\n",
       " '사퇴/Noun': 9815,\n",
       " '시켜라/Verb': 10937,\n",
       " '부끄러움/Noun': 8813,\n",
       " '상식/Noun': 10028,\n",
       " '예의/Noun': 13071,\n",
       " '없는/Adjective': 12655,\n",
       " '집단/Noun': 16804,\n",
       " '어찌/Noun': 12499,\n",
       " '맡기겠는가/Verb': 6571,\n",
       " '보궐선거/Noun': 8480,\n",
       " '임기/Noun': 14553,\n",
       " '년남짓/Noun': 3471,\n",
       " '내/Determiner': 3147,\n",
       " '년월/Noun': 3482,\n",
       " '또다시/Adverb': 5743,\n",
       " '지방선거/Noun': 16542,\n",
       " '치르기/Verb': 17769,\n",
       " '때문/Noun': 5604,\n",
       " '보통/Noun': 8670,\n",
       " '시장/Noun': 10918,\n",
       " '업무/Noun': 12616,\n",
       " '파악/Noun': 18332,\n",
       " '개월/Noun': 719,\n",
       " '정도/Noun': 15604,\n",
       " '볼때/Noun': 8730,\n",
       " '당선/Noun': 4161,\n",
       " '되는/Verb': 4910,\n",
       " '만하/Noun': 6279,\n",
       " '바로/Noun': 7757,\n",
       " '내년/Noun': 3166,\n",
       " '준비/Noun': 16218,\n",
       " '해야/Verb': 19464,\n",
       " '한다/Verb': 19130,\n",
       " '만약/Noun': 6246,\n",
       " '야권/Noun': 12246,\n",
       " '될/Verb': 5054,\n",
       " '경우/Noun': 1086,\n",
       " '상황/Noun': 10050,\n",
       " '좀더/Noun': 15884,\n",
       " '혼란/Noun': 19885,\n",
       " '스러워진다/Adjective': 10793,\n",
       " '야당/Noun': 12251,\n",
       " '이전/Noun': 14280,\n",
       " '여/Modifier': 12814,\n",
       " '당시/Noun': 4164,\n",
       " '장/Suffix': 15163,\n",
       " '정책/Noun': 15684,\n",
       " '모두/Noun': 6887,\n",
       " '뒤집을/Verb': 5207,\n",
       " '가능성/Noun': 150,\n",
       " '크고/Verb': 17953,\n",
       " '그럼/Adjective': 1834,\n",
       " '그런/Adjective': 1811,\n",
       " '년/Noun': 3470,\n",
       " '허송/Noun': 19709,\n",
       " '세월/Noun': 10433,\n",
       " '하/Suffix': 18717,\n",
       " '될수밖에/Verb': 5077,\n",
       " '없다/Adjective': 12676,\n",
       " '함/Noun': 19301,\n",
       " '고스/Noun': 1218,\n",
       " '란/Noun': 5891,\n",
       " '히/Adverb': 20187,\n",
       " '시민/Noun': 10895,\n",
       " '돌아감은/Verb': 4721,\n",
       " '할/Verb': 19208,\n",
       " '필요/Noun': 18687,\n",
       " '그렇기에/Adjective': 1845,\n",
       " '정파/Noun': 15700,\n",
       " '떠나/Verb': 5614,\n",
       " '시정/Noun': 10925,\n",
       " '생각/Noun': 10089,\n",
       " '한다면/Verb': 19144,\n",
       " '보/Noun': 8451,\n",
       " '권/Suffix': 1697,\n",
       " '여권/Noun': 12824,\n",
       " '되어/Verb': 4967,\n",
       " '갑작스레/Noun': 503,\n",
       " '중단/Noun': 16274,\n",
       " '된/Verb': 5027,\n",
       " '전/Modifier': 15438,\n",
       " '임시/Noun': 14566,\n",
       " '마무리/Noun': 6048,\n",
       " '하는게/Verb': 18862,\n",
       " '바람직하다고/Adjective': 7750,\n",
       " '할수있다/Verb': 19276,\n",
       " '정권/Noun': 15589,\n",
       " '견제/Noun': 1019,\n",
       " '정/Noun': 15579,\n",
       " '필요하다면/Adjective': 18695,\n",
       " '본/Modifier': 8693,\n",
       " '교체/Noun': 1505,\n",
       " '본다/Verb': 8699,\n",
       " '부/Noun': 8798,\n",
       " '사보/Noun': 9741,\n",
       " '궐/Noun': 1712,\n",
       " '서거/Noun': 10148,\n",
       " '오거/Noun': 13087,\n",
       " '성추행/Noun': 10376,\n",
       " '문/Modifier': 7273,\n",
       " '한술/Noun': 19172,\n",
       " '더/Noun': 4388,\n",
       " '떠서/Verb': 5643,\n",
       " '오거던을/Verb': 13090,\n",
       " '다/Adverb': 3872,\n",
       " '덕/Noun': 4471,\n",
       " '조/Modifier': 15777,\n",
       " '이상/Noun': 14185,\n",
       " '퍼/Noun': 18429,\n",
       " '부어/Noun': 8902,\n",
       " '오고던/Verb': 13094,\n",
       " '만들려로고/Verb': 6201,\n",
       " '것/Noun': 937,\n",
       " '쐐빠지/Noun': 11355,\n",
       " '발광하고/Adjective': 8000,\n",
       " '쑈/Noun': 11356,\n",
       " '한단/Noun': 19149,\n",
       " '이제/Noun': 14285,\n",
       " '남은/Verb': 3055,\n",
       " '일/Noun': 14413,\n",
       " '투표/Noun': 18228,\n",
       " '애/Noun': 12204,\n",
       " '이기/Noun': 13999,\n",
       " '개표/Noun': 741,\n",
       " '지는/Verb': 16493,\n",
       " '부정/Noun': 8922,\n",
       " '방지/Noun': 8117,\n",
       " '하면/Verb': 18955,\n",
       " '무능/Noun': 7142,\n",
       " '대한/Noun': 4361,\n",
       " '심판/Noun': 11174,\n",
       " '치루어지는/Verb': 17759,\n",
       " '승리/Noun': 10851,\n",
       " '당연한/Adjective': 4170,\n",
       " '결과/Noun': 1022,\n",
       " '될것이다/Verb': 5061,\n",
       " '모든/Noun': 6890,\n",
       " '돈/Noun': 4669,\n",
       " '선거전에/Verb': 10234,\n",
       " '인당/Verb': 14360,\n",
       " '억만/Noun': 12515,\n",
       " '대승/Noun': 4307,\n",
       " '가야대/Noun': 280,\n",
       " '민국이/Noun': 7537,\n",
       " '산다/Noun': 9834,\n",
       " '국민/Noun': 1607,\n",
       " '혈/Noun': 19805,\n",
       " '세로/Noun': 10400,\n",
       " '치러지는/Verb': 17751,\n",
       " '대도시/Noun': 4270,\n",
       " '은자/Noun': 13889,\n",
       " '숙해/Noun': 10708,\n",
       " '최대/Noun': 17549,\n",
       " '변수/Noun': 8402,\n",
       " '윤석열/Noun': 13863,\n",
       " '거취/Noun': 821,\n",
       " '검찰/Noun': 921,\n",
       " '내부/Noun': 3244,\n",
       " '곧/Noun': 1266,\n",
       " '현/Noun': 19785,\n",
       " '윤총장/Noun': 13869,\n",
       " '정치/Noun': 15690,\n",
       " '화한것은/Adjective': 19941,\n",
       " '정부/Noun': 15621,\n",
       " '무리한/Adjective': 7175,\n",
       " '현행법/Noun': 19803,\n",
       " '위반/Noun': 13728,\n",
       " '밥/Noun': 8082,\n",
       " '먹듯/Noun': 6683,\n",
       " '독재/Noun': 4660,\n",
       " '편협/Noun': 18489,\n",
       " '지독한/Adjective': 16509,\n",
       " '편향/Noun': 18488,\n",
       " '적/Suffix': 15391,\n",
       " '논리/Noun': 3542,\n",
       " '매몰/Noun': 6605,\n",
       " '자업자득/Noun': 14956,\n",
       " '된것이다/Verb': 5034,\n",
       " '지리멸렬한/Adjective': 16529,\n",
       " '어부지리/Noun': 12442,\n",
       " '호재/Noun': 19870,\n",
       " '되었다/Verb': 4994,\n",
       " '지/Modifier': 16433,\n",
       " '각/Modifier': 360,\n",
       " '한자/Noun': 19195,\n",
       " '개혁/Noun': 743,\n",
       " '오래된/Adjective': 13114,\n",
       " '숙원/Noun': 10699,\n",
       " '본질/Noun': 8721,\n",
       " '관철/Noun': 1425,\n",
       " '시키고/Verb': 10953,\n",
       " '현/Modifier': 19784,\n",
       " '불법/Noun': 9105,\n",
       " '편법/Noun': 18469,\n",
       " '비정상/Noun': 9293,\n",
       " '원자로/Noun': 13675,\n",
       " '폐쇄/Noun': 18525,\n",
       " '라임/Noun': 5888,\n",
       " '울/Modifier': 13567,\n",
       " '산시/Noun': 9838,\n",
       " '개입/Noun': 722,\n",
       " '조국/Noun': 15784,\n",
       " '가족/Noun': 321,\n",
       " '비리/Noun': 9234,\n",
       " '추미애/Noun': 17590,\n",
       " '법무부/Noun': 8352,\n",
       " '사유화/Noun': 9781,\n",
       " '농락/Noun': 3596,\n",
       " '헤아릴수/Verb': 19766,\n",
       " '파쇼/Noun': 18330,\n",
       " '독재정/Noun': 4662,\n",
       " '수사/Noun': 10648,\n",
       " '불공정/Noun': 9057,\n",
       " '팽창/Noun': 18427,\n",
       " '기회균등/Noun': 2159,\n",
       " '파괴/Noun': 18311,\n",
       " '한다는/Modifier': 19135,\n",
       " '반면/Noun': 7891,\n",
       " '교사/Noun': 1497,\n",
       " '삼아/Verb': 9966,\n",
       " '좌우/Noun': 15993,\n",
       " '대립/Noun': 4282,\n",
       " '열/Modifier': 12951,\n",
       " '정치인/Noun': 15695,\n",
       " '경종/Noun': 1104,\n",
       " '되어야/Verb': 4971,\n",
       " '기초/Noun': 2148,\n",
       " '의식주/Noun': 13937,\n",
       " '기본/Noun': 2086,\n",
       " '행복/Noun': 19650,\n",
       " '극단/Noun': 1906,\n",
       " '설자리/Noun': 10302,\n",
       " '아니다/Adjective': 11528,\n",
       " '그/Noun': 1741,\n",
       " '밥그릇/Noun': 8084,\n",
       " '공공히/Adjective': 1299,\n",
       " '뿐/Noun': 9619,\n",
       " '선의/Noun': 10265,\n",
       " '대의/Noun': 4319,\n",
       " '행정/Noun': 19665,\n",
       " '이념/Noun': 14051,\n",
       " '철/Noun': 17400,\n",
       " '지난/Noun': 16477,\n",
       " '장난감/Noun': 15173,\n",
       " '혼/Noun': 19883,\n",
       " '한을/Verb': 19192,\n",
       " '생산/Noun': 10125,\n",
       " '류/Noun': 5975,\n",
       " '설/Noun': 10288,\n",
       " '자리/Suffix': 14907,\n",
       " '없애야/Verb': 12707,\n",
       " '우리/Noun': 13497,\n",
       " '일류/Noun': 14435,\n",
       " '대한민국/Noun': 4362,\n",
       " '삼류/Noun': 9961,\n",
       " '이단/Noun': 14057,\n",
       " '무리/Noun': 7170,\n",
       " '배/Noun': 8127,\n",
       " '엄중히/Adjective': 12603,\n",
       " '경고/Noun': 1067,\n",
       " '인사/Noun': 14370,\n",
       " '자의/Noun': 14973,\n",
       " '눈치/Noun': 3710,\n",
       " '보지/Noun': 8665,\n",
       " '힘/Noun': 20191,\n",
       " '있는/Adjective': 14680,\n",
       " '자로/Noun': 14896,\n",
       " '원칙/Noun': 13684,\n",
       " '처벌/Noun': 17355,\n",
       " '해/Verb': 19364,\n",
       " '약자/Noun': 12298,\n",
       " '국/Noun': 1591,\n",
       " '보호/Noun': 8672,\n",
       " '의미/Noun': 13929,\n",
       " '이/Determiner': 13966,\n",
       " '헌법/Noun': 19733,\n",
       " '상의/Noun': 10033,\n",
       " '책무/Noun': 17312,\n",
       " '공정한/Adjective': 1353,\n",
       " '억울한/Adjective': 12523,\n",
       " '일이/Modifier': 14495,\n",
       " '없도록/Adjective': 12695,\n",
       " '하는것이며/Verb': 18858,\n",
       " '지금/Noun': 16450,\n",
       " '진행중/Noun': 16753,\n",
       " '수사권/Noun': 10649,\n",
       " '완전/Noun': 13314,\n",
       " '박탈/Noun': 7859,\n",
       " '부패/Noun': 8971,\n",
       " '을/Noun': 13894,\n",
       " '완전히/Adjective': 13316,\n",
       " '판치게/Verb': 18369,\n",
       " '완판/Noun': 13321,\n",
       " '이라면서/Verb': 14075,\n",
       " '중대/Noun': 16275,\n",
       " '범죄수사/Noun': 8341,\n",
       " '청/Noun': 17429,\n",
       " '추진/Noun': 17612,\n",
       " '강도/Noun': 545,\n",
       " '높게/Adjective': 3604,\n",
       " '비판/Noun': 9313,\n",
       " '있/Adjective': 14635,\n",
       " '음/Noun': 13900,\n",
       " '검찰총장/Noun': 922,\n",
       " '공격/Noun': 1294,\n",
       " '이/Noun': 13968,\n",
       " '가장/Noun': 300,\n",
       " '인물/Noun': 14366,\n",
       " '만들어가고/Verb': 6205,\n",
       " '있다는/Adjective': 14713,\n",
       " '부적절한/Adjective': 8919,\n",
       " '행위/Noun': 19661,\n",
       " '좌파/Noun': 15999,\n",
       " '따라올/Verb': 5535,\n",
       " '자가/Noun': 14851,\n",
       " '아마/Noun': 11628,\n",
       " '지구/Noun': 16446,\n",
       " '상/Suffix': 9993,\n",
       " '없지/Adjective': 12770,\n",
       " '않을까/Verb': 12020,\n",
       " '정세균/Noun': 15630,\n",
       " '이/Suffix': 13969,\n",
       " '좀/Noun': 15882,\n",
       " '다를까/Adjective': 3942,\n",
       " '하고/Verb': 18753,\n",
       " '실날/Noun': 11067,\n",
       " '같은/Adjective': 640,\n",
       " '희망/Noun': 20175,\n",
       " '가졌었는데/Verb': 319,\n",
       " '역시/Noun': 12908,\n",
       " '빨강/Noun': 9395,\n",
       " '색/Noun': 10079,\n",
       " '가까운/Adjective': 121,\n",
       " '주황색/Noun': 16142,\n",
       " '도/Noun': 4553,\n",
       " '진개/Noun': 16702,\n",
       " '진/Noun': 16701,\n",
       " '쯤/Noun': 17012,\n",
       " '되면/Verb': 4948,\n",
       " '국힘/Noun': 1644,\n",
       " '당/Suffix': 4140,\n",
       " '어떻게/Adjective': 12385,\n",
       " '인지/Noun': 14393,\n",
       " '참/Verb': 17217,\n",
       " '중요한데/Adjective': 16344,\n",
       " '애초/Noun': 12236,\n",
       " '같은게/Adjective': 647,\n",
       " '대통령/Noun': 4348,\n",
       " '사단/Noun': 9684,\n",
       " '만든게/Verb': 6178,\n",
       " '새누리당/Noun': 10058,\n",
       " '볍신/Noun': 8441,\n",
       " '새/Modifier': 10051,\n",
       " '귀/Noun': 1717,\n",
       " '박근혜/Noun': 7792,\n",
       " '탄핵/Noun': 18045,\n",
       " '소/Modifier': 10469,\n",
       " '추/Noun': 17571,\n",
       " '의결/Noun': 13918,\n",
       " '하면서/Verb': 18957,\n",
       " '부터/Noun': 8969,\n",
       " '진짜/Noun': 16743,\n",
       " '아직도/Adverb': 11700,\n",
       " '이해/Noun': 14323,\n",
       " '안가는게/Verb': 11755,\n",
       " '나면/Verb': 2708,\n",
       " '자기/Noun': 14869,\n",
       " '기회/Noun': 2158,\n",
       " '올거라/Verb': 13213,\n",
       " '건가/Noun': 835,\n",
       " '직무/Noun': 16685,\n",
       " '충실할수록/Adjective': 17698,\n",
       " '통외/Noun': 18183,\n",
       " '관계자/Noun': 1403,\n",
       " '왜/Noun': 13360,\n",
       " '그리/Verb': 1864,\n",
       " '입/Noun': 14575,\n",
       " '거품/Noun': 830,\n",
       " '무는지/Verb': 7141,\n",
       " '알수가/Verb': 12091,\n",
       " '없네/Adjective': 12650,\n",
       " '뭔가/Noun': 7438,\n",
       " '찔리는게/Verb': 17118,\n",
       " '많은/Adjective': 6317,\n",
       " '모양/Noun': 6970,\n",
       " '부정선거/Noun': 8925,\n",
       " '알면서도/Verb': 12085,\n",
       " '조용한/Adjective': 15827,\n",
       " '동조자/Noun': 4808,\n",
       " '차라리/Noun': 17140,\n",
       " '후보자/Noun': 20061,\n",
       " '내지/Noun': 3279,\n",
       " '말아라/Verb': 6368,\n",
       " '쇼/Noun': 10604,\n",
       " '불과하다/Adjective': 9060,\n",
       " '돌/Noun': 4683,\n",
       " '머리/Noun': 6649,\n",
       " '변호사/Noun': 8425,\n",
       " '출신/Noun': 17669,\n",
       " '초선/Noun': 17506,\n",
       " '의원/Noun': 13948,\n",
       " '억지/Noun': 12527,\n",
       " '만든/Verb': 6174,\n",
       " '사/Modifier': 9643,\n",
       " '결국/Adverb': 1024,\n",
       " '사자/Noun': 9791,\n",
       " '일어나/Verb': 14469,\n",
       " '악당/Noun': 11728,\n",
       " '모조리/Noun': 6998,\n",
       " '물러/Verb': 7347,\n",
       " '뜯게/Verb': 5838,\n",
       " '꼴/Noun': 2452,\n",
       " '돼/Verb': 4819,\n",
       " '버렸다/Verb': 8220,\n",
       " '쌤통/Noun': 11287,\n",
       " '향/Noun': 19676,\n",
       " '나발/Noun': 2714,\n",
       " '부는/Verb': 8828,\n",
       " '얼치기/Noun': 12590,\n",
       " '거의/Noun': 805,\n",
       " '사건/Noun': 9647,\n",
       " '관련/Noun': 1407,\n",
       " '자/Noun': 14849,\n",
       " '제/Noun': 15720,\n",
       " '뒤/Noun': 5179,\n",
       " '구린/Adjective': 1542,\n",
       " '넘/Verb': 3359,\n",
       " '들이/Verb': 5430,\n",
       " '아내/Noun': 11491,\n",
       " '기/Modifier': 2009,\n",
       " '세/Modifier': 10387,\n",
       " '상사/Noun': 10020,\n",
       " '하늘/Noun': 18885,\n",
       " '정해준/Noun': 15705,\n",
       " '가는/Verb': 139,\n",
       " '머/Noun': 6644,\n",
       " '않아/Verb': 11980,\n",
       " '정의/Noun': 15659,\n",
       " '칼/Noun': 17865,\n",
       " '든/Verb': 5282,\n",
       " '기사/Noun': 2095,\n",
       " '나타날것이다/Verb': 2926,\n",
       " '작/Modifier': 15001,\n",
       " '금/Noun': 1952,\n",
       " '무법천지/Noun': 7181,\n",
       " '영구/Noun': 13016,\n",
       " '집권/Noun': 16798,\n",
       " '획책/Noun': 20038,\n",
       " '각종/Noun': 372,\n",
       " '권력/Noun': 1699,\n",
       " '형/Suffix': 19827,\n",
       " '방탄/Noun': 8120,\n",
       " '시키는/Verb': 10956,\n",
       " '민주주의/Noun': 7562,\n",
       " '법치/Noun': 8369,\n",
       " '법질서/Noun': 8367,\n",
       " '헌/Modifier': 19726,\n",
       " '지키고/Verb': 16647,\n",
       " '구국/Noun': 1523,\n",
       " '나라/Noun': 2692,\n",
       " '지키내는/Verb': 16649,\n",
       " '거/Noun': 756,\n",
       " '초심/Noun': 17507,\n",
       " '끝/Noun': 2570,\n",
       " '헌신/Noun': 19735,\n",
       " '반드시/Noun': 7885,\n",
       " '지켜내/Verb': 16623,\n",
       " '주기/Noun': 16035,\n",
       " '바라며/Verb': 7739,\n",
       " '격/Noun': 998,\n",
       " '격려/Noun': 1001,\n",
       " '응원/Noun': 13913,\n",
       " '있다는거/Adjective': 14714,\n",
       " '염두/Noun': 12981,\n",
       " '두고/Verb': 5100,\n",
       " '용기/Noun': 13454,\n",
       " '백배/Noun': 8178,\n",
       " '힘내/Verb': 20196,\n",
       " '간절히/Adjective': 404,\n",
       " '바란다/Verb': 7746,\n",
       " '윤/Noun': 13853,\n",
       " '총장/Noun': 17538,\n",
       " '내세/Noun': 3249,\n",
       " '나와서/Verb': 2859,\n",
       " '월/Noun': 13701,\n",
       " '결정/Noun': 1039,\n",
       " '통합/Noun': 18197,\n",
       " '지원/Noun': 16580,\n",
       " '그리고/Conjunction': 1865,\n",
       " '대선/Noun': 4303,\n",
       " '수/Noun': 10611,\n",
       " '있다/Adjective': 14710,\n",
       " '문의/Noun': 7301,\n",
       " '묵인/Noun': 7269,\n",
       " '주/Modifier': 16019,\n",
       " '단지/Noun': 4044,\n",
       " '모시는/Verb': 6961,\n",
       " '검/Noun': 915,\n",
       " '수완/Noun': 10668,\n",
       " '박/Noun': 7789,\n",
       " '부패완판/Noun': 8972,\n",
       " '민주/Noun': 7559,\n",
       " '탈/Noun': 18047,\n",
       " '쓴/Verb': 11419,\n",
       " '부패한/Adjective': 8974,\n",
       " '갈은/Verb': 437,\n",
       " '어떤/Adjective': 12379,\n",
       " '구호/Noun': 1590,\n",
       " '강렬하다/Adjective': 553,\n",
       " '과연/Noun': 1390,\n",
       " '석/Modifier': 10208,\n",
       " '열/Noun': 12952,\n",
       " '판/Noun': 18347,\n",
       " '전체/Noun': 15511,\n",
       " '흔들/Verb': 20142,\n",
       " '감/Noun': 446,\n",
       " '집값/Noun': 16794,\n",
       " '폭등/Noun': 18555,\n",
       " '투기/Noun': 18213,\n",
       " '이슈/Noun': 14210,\n",
       " '부동산/Noun': 8838,\n",
       " '분노/Noun': 8994,\n",
       " '문제/Noun': 7306,\n",
       " '생겼다하면/Verb': 10103,\n",
       " '먹/Verb': 6653,\n",
       " '자당/Noun': 14878,\n",
       " '안/VerbPrefix': 11753,\n",
       " '끼이는데가/Verb': 2610,\n",
       " '능력/Noun': 3837,\n",
       " '아부/Noun': 11649,\n",
       " '실력/Noun': 11069,\n",
       " '보은/Noun': 8621,\n",
       " '택했던/Noun': 18108,\n",
       " '말로/Noun': 6356,\n",
       " '뭉가/Noun': 7399,\n",
       " '악마/Noun': 11734,\n",
       " '해주는/Verb': 19511,\n",
       " '불사/Noun': 9108,\n",
       " '적귀/Noun': 15395,\n",
       " '폭망/Noun': 18559,\n",
       " '기업/Noun': 2115,\n",
       " '사냥/Noun': 9671,\n",
       " '해도/Noun': 19394,\n",
       " '공작/Noun': 1345,\n",
       " '살아났고/Verb': 9917,\n",
       " '쉴/Verb': 10777,\n",
       " '새/Noun': 10052,\n",
       " '없이/Adverb': 12763,\n",
       " '터져/Verb': 18115,\n",
       " '나오는/Verb': 2792,\n",
       " '압승/Noun': 12151,\n",
       " '광탈/Noun': 1451,\n",
       " '개판/Noun': 738,\n",
       " '쳐도/Verb': 17481,\n",
       " '북조선/Noun': 8987,\n",
       " '핵무기/Noun': 19557,\n",
       " '철폐/Noun': 17415,\n",
       " '사기/Noun': 9660,\n",
       " '석유/Noun': 10213,\n",
       " '쌀/Noun': 11269,\n",
       " '원전/Noun': 13677,\n",
       " '고속/Noun': 1215,\n",
       " '철도/Noun': 17402,\n",
       " '고속도로/Noun': 1216,\n",
       " '마구/Noun': 6018,\n",
       " '퍼줘/Noun': 18444,\n",
       " '쥐/Noun': 16381,\n",
       " '죽은듯/Verb': 16174,\n",
       " '조용하고/Adjective': 15825,\n",
       " '월성원전/Noun': 13711,\n",
       " '파기/Noun': 18312,\n",
       " '유재수/Noun': 13822,\n",
       " '감잘/Verb': 479,\n",
       " '총/Modifier': 17529,\n",
       " '동원령/Noun': 4800,\n",
       " '울산/Noun': 13583,\n",
       " '사태/Noun': 9814,\n",
       " '대규모/Noun': 4243,\n",
       " '땅/Noun': 5584,\n",
       " '부진/Noun': 8942,\n",
       " '정지/Noun': 15673,\n",
       " '상태/Noun': 10044,\n",
       " '대통/Noun': 4347,\n",
       " '반역/Noun': 7903,\n",
       " '이적/Noun': 14279,\n",
       " '해도/Verb': 19395,\n",
       " '패스/Noun': 18415,\n",
       " '청와대/Noun': 17450,\n",
       " '수석/Noun': 10651,\n",
       " '범죄/Noun': 8340,\n",
       " '장관/Noun': 15166,\n",
       " '조용/Adjective': 15824,\n",
       " '말단/Noun': 6345,\n",
       " '친/Noun': 17810,\n",
       " '노동당/Noun': 3491,\n",
       " '망할/Adjective': 6481,\n",
       " '법안/Noun': 8358,\n",
       " '무사/Noun': 7183,\n",
       " '통과/Noun': 18176,\n",
       " '제정/Noun': 15750,\n",
       " '최근/Noun': 17548,\n",
       " '박범계/Noun': 7803,\n",
       " '변창흠/Noun': 8406,\n",
       " '이성윤/Noun': 14204,\n",
       " '등/Noun': 5486,\n",
       " '탈법/Noun': 18050,\n",
       " '막질이/Verb': 6138,\n",
       " '통용/Noun': 18184,\n",
       " '통일부/Noun': 18186,\n",
       " '코로나/Noun': 17913,\n",
       " '방역/Noun': 8108,\n",
       " '월권/Noun': 13702,\n",
       " '이용/Noun': 14253,\n",
       " '운동권/Noun': 13547,\n",
       " '법/Noun': 8346,\n",
       " '밟아도/Verb': 8073,\n",
       " '위아래/Noun': 13734,\n",
       " '한마음/Noun': 19161,\n",
       " '통일/Noun': 18185,\n",
       " '조직/Noun': 15842,\n",
       " '법죄/Noun': 8366,\n",
       " '해체/Noun': 19549,\n",
       " '범/Noun': 8333,\n",
       " '좌수사/Noun': 15992,\n",
       " '설립/Noun': 10295,\n",
       " '빨강이/Noun': 9396,\n",
       " '맘/Noun': 6410,\n",
       " '세상/Noun': 10409,\n",
       " '몰고/Verb': 7020,\n",
       " '간다/Noun': 385,\n",
       " '치가/Noun': 17733,\n",
       " '떨린다/Verb': 5671,\n",
       " '믿는/Verb': 7583,\n",
       " '오로지/Adverb': 13118,\n",
       " '입니다/Adjective': 14583,\n",
       " '두/Noun': 5099,\n",
       " '눈/Noun': 3689,\n",
       " '크게/Noun': 17952,\n",
       " '뜨고/Verb': 5826,\n",
       " '지켜봐야/Verb': 16633,\n",
       " '합니다/Verb': 19319,\n",
       " '제/Modifier': 15719,\n",
       " '정신/Noun': 15633,\n",
       " '가진/Verb': 338,\n",
       " '똥파리/Noun': 5790,\n",
       " '소굴/Noun': 10476,\n",
       " '알도/Noun': 12066,\n",
       " '리가/Noun': 5982,\n",
       " '없구나/Adjective': 12634,\n",
       " '한당/Noun': 19151,\n",
       " '적폐/Noun': 15430,\n",
       " '몰아내야/Verb': 7074,\n",
       " '강둑/Noun': 547,\n",
       " '구멍/Noun': 1550,\n",
       " '난/Noun': 2947,\n",
       " '사설/Noun': 9748,\n",
       " '세계/Noun': 10390,\n",
       " '없을/Adjective': 12757,\n",
       " '이기려/Verb': 14008,\n",
       " '온갖/Noun': 13198,\n",
       " '짓/Noun': 16844,\n",
       " '부끄러운/Adjective': 8809,\n",
       " '여성/Noun': 12857,\n",
       " '날/Noun': 2981,\n",
       " '수치/Noun': 10684,\n",
       " '스럽고/Adjective': 10796,\n",
       " '추접/Noun': 17608,\n",
       " '성폭행/Noun': 10379,\n",
       " '한국/Noun': 19119,\n",
       " '큰/Verb': 17963,\n",
       " '도시/Noun': 4600,\n",
       " '인/Noun': 14340,\n",
       " '수도/Noun': 10625,\n",
       " '얼마/Noun': 12581,\n",
       " '남지/Noun': 3063,\n",
       " '않는/Verb': 11955,\n",
       " '잔/Noun': 15025,\n",
       " '기간/Noun': 2012,\n",
       " '위해/Noun': 13751,\n",
       " '보선/Noun': 8565,\n",
       " '수천/Noun': 10682,\n",
       " '억원/Noun': 12525,\n",
       " '비하는/Verb': 9317,\n",
       " '행사/Noun': 19656,\n",
       " '이런/Adjective': 14098,\n",
       " '그로/Noun': 1859,\n",
       " '인/Suffix': 14341,\n",
       " '부담/Noun': 8831,\n",
       " '가중케/Noun': 324,\n",
       " '반성/Noun': 7899,\n",
       " '근신/Noun': 1930,\n",
       " '하여야/Verb': 19022,\n",
       " '뻔/Noun': 9469,\n",
       " '뻔하게/Adjective': 9483,\n",
       " '설친다/Adjective': 10312,\n",
       " '더나가/Adjective': 4395,\n",
       " '당한/Noun': 4204,\n",
       " '피해자/Noun': 18678,\n",
       " '비방/Noun': 9243,\n",
       " '주축/Noun': 16134,\n",
       " '치른다니/Verb': 17775,\n",
       " '환장한/Adjective': 19981,\n",
       " '자진/Noun': 14981,\n",
       " '철회/Noun': 17418,\n",
       " '맞다/Verb': 6523,\n",
       " '명분/Noun': 6853,\n",
       " '없고/Adjective': 12630,\n",
       " '절차/Noun': 15542,\n",
       " '분명히/Adjective': 9021,\n",
       " '저/Noun': 15309,\n",
       " '망국/Noun': 6425,\n",
       " '노/Noun': 3487,\n",
       " '넘의/Verb': 3424,\n",
       " '안타깝다는/Adjective': 11898,\n",
       " '했어도/Verb': 19611,\n",
       " '입막음/Noun': 14595,\n",
       " '잘못/Noun': 15059,\n",
       " '들통/Noun': 5475,\n",
       " '우두머리/Noun': 13490,\n",
       " '다운/Noun': 3975,\n",
       " '개/Noun': 673,\n",
       " '소리/Noun': 10492,\n",
       " '앞/Noun': 12166,\n",
       " '여자/Noun': 12870,\n",
       " '아렛도리/Noun': 11618,\n",
       " '개방/Noun': 701,\n",
       " '너/Noun': 3326,\n",
       " '이상할게/Adjective': 14201,\n",
       " '정말/Noun': 15609,\n",
       " '대책/Noun': 4337,\n",
       " '인간/Noun': 14343,\n",
       " '첫째/Noun': 17428,\n",
       " '둘째/Noun': 5163,\n",
       " '범한/Noun': 8344,\n",
       " '목숨/Noun': 7013,\n",
       " '끈거나/Verb': 2538,\n",
       " '치뤄지는/Verb': 17764,\n",
       " '반성은/Noun': 7900,\n",
       " '커녕/Noun': 17877,\n",
       " '이겨/Verb': 13981,\n",
       " '보겠다고/Verb': 8458,\n",
       " '짖을/Verb': 16890,\n",
       " '다/Noun': 3873,\n",
       " '사실/Noun': 9755,\n",
       " '않겠다/Verb': 11931,\n",
       " '헌/Noun': 19727,\n",
       " '약속/Noun': 12296,\n",
       " '버려진/Noun': 8215,\n",
       " '짝/Noun': 16923,\n",
       " '처럼/Noun': 17353,\n",
       " '뒤집어/Verb': 5199,\n",
       " '혈세/Noun': 19806,\n",
       " '낭비/Noun': 3106,\n",
       " '현실/Noun': 19796,\n",
       " '사재를/Verb': 9793,\n",
       " '털/Noun': 18129,\n",
       " '어서/Noun': 12443,\n",
       " '갚아야/Verb': 669,\n",
       " '하지/Verb': 19053,\n",
       " '않는가요/Verb': 11957,\n",
       " '어만/Modifier': 12430,\n",
       " '지당/Noun': 16502,\n",
       " '놈/Noun': 3585,\n",
       " '쓰레기/Noun': 11398,\n",
       " '같은자/Adjective': 653,\n",
       " '들을/Verb': 5426,\n",
       " '현명하게/Adjective': 19789,\n",
       " '퇴/Noun': 18200,\n",
       " '출/Verb': 17652,\n",
       " '합시다/Verb': 19332,\n",
       " '더럽고/Adjective': 4429,\n",
       " '추악한/Adjective': 17598,\n",
       " '저/Determiner': 15307,\n",
       " '질/Noun': 16755,\n",
       " '사악한것/Adjective': 9764,\n",
       " '지지/Noun': 16603,\n",
       " '무뇌아/Noun': 7139,\n",
       " '판치는/Verb': 18370,\n",
       " '벌/Noun': 8295,\n",
       " '주어야하는데/Verb': 16101,\n",
       " '몇/Modifier': 6871,\n",
       " '표/Noun': 18574,\n",
       " '팔/Noun': 18373,\n",
       " '먹는/Verb': 6673,\n",
       " '더러운/Adjective': 4420,\n",
       " '짓은/Verb': 16863,\n",
       " '말기/Noun': 6341,\n",
       " '그래도/Adverb': 1771,\n",
       " '다행/Noun': 3997,\n",
       " '여론조사/Noun': 12848,\n",
       " '조금/Noun': 15786,\n",
       " '앞선다니/Verb': 12189,\n",
       " '개돼지/Noun': 691,\n",
       " '변화/Noun': 8426,\n",
       " '있다는것이다/Adjective': 14719,\n",
       " '제발/Noun': 15734,\n",
       " '가져라/Verb': 313,\n",
       " '한마디/Noun': 19160,\n",
       " '정의도/Noun': 15661,\n",
       " '파렴치/Noun': 18320,\n",
       " '직접/Noun': 16697,\n",
       " '약/Modifier': 12292,\n",
       " '속/Modifier': 10537,\n",
       " '한/Modifier': 19097,\n",
       " '버리듯이/Verb': 8246,\n",
       " '규/Noun': 1731,\n",
       " '바꿔/Verb': 7694,\n",
       " '어기/Noun': 12347,\n",
       " '우습게/Verb': 13518,\n",
       " '아는/Verb': 11496,\n",
       " '무엇/Noun': 7231,\n",
       " '기대하나요/Adjective': 2052,\n",
       " '서울시장/Noun': 10192,\n",
       " '부산시/Noun': 8892,\n",
       " '쫓겨난/Verb': 16997,\n",
       " '또/Noun': 5740,\n",
       " '내는것은/Verb': 3185,\n",
       " '후안/Noun': 20064,\n",
       " '무치/Noun': 7256,\n",
       " '행동/Noun': 19648,\n",
       " '가증/Noun': 326,\n",
       " '스럽다/Adjective': 10801,\n",
       " '찍어주는/Verb': 17072,\n",
       " '아닌가요/Adjective': 11580,\n",
       " '지켜서/Verb': 16634,\n",
       " '부끄러운줄/Adjective': 8811,\n",
       " '압시/Noun': 12159,\n",
       " '더듬어/Verb': 4411,\n",
       " '골/Noun': 1269,\n",
       " '때리는/Verb': 5600,\n",
       " '수준/Noun': 10679,\n",
       " '낮아/Adjective': 3122,\n",
       " '이권/Noun': 13996,\n",
       " '주고/Verb': 16030,\n",
       " '돈좀/Noun': 4675,\n",
       " '풀어주면/Verb': 18618,\n",
       " '해/Noun': 19363,\n",
       " '벌레/Noun': 8307,\n",
       " '거리/Noun': 786,\n",
       " '문주/Verb': 7309,\n",
       " '백성/Noun': 8180,\n",
       " '잇으니/Verb': 14633,\n",
       " '투명하고/Adjective': 18219,\n",
       " '밝은/Verb': 8044,\n",
       " '절대/Noun': 15532,\n",
       " '있을수/Adjective': 14810,\n",
       " '저쪽/Noun': 15382,\n",
       " '잘/VerbPrefix': 15042,\n",
       " '한다가/Verb': 19131,\n",
       " '던데/Noun': 4477,\n",
       " '답더/Noun': 4130,\n",
       " '동네/Noun': 4769,\n",
       " '워/Noun': 13641,\n",
       " '맑은/Noun': 6409,\n",
       " '분/Noun': 8991,\n",
       " '칭송/Noun': 17853,\n",
       " '다니는/Verb': 3904,\n",
       " '성/Modifier': 10332,\n",
       " '시절/Noun': 10923,\n",
       " '니/Modifier': 3858,\n",
       " '어딨냐/Verb': 12370,\n",
       " '며/Noun': 6814,\n",
       " '성의/Noun': 10366,\n",
       " '자유/Noun': 14966,\n",
       " '누리던/Verb': 3682,\n",
       " '대해/Noun': 4364,\n",
       " '무관심해/Adjective': 7124,\n",
       " '혹시/Noun': 19881,\n",
       " '그걸/Adverb': 1745,\n",
       " '해서/Verb': 19450,\n",
       " '배지/Noun': 8165,\n",
       " '달/Noun': 4055,\n",
       " '않았나/Verb': 11987,\n",
       " '의심/Noun': 13938,\n",
       " '된다/Verb': 5038,\n",
       " '불러도/Verb': 9075,\n",
       " '자연스럽다는/Adjective': 14958,\n",
       " '느낌/Noun': 3749,\n",
       " '드는것은/Verb': 5229,\n",
       " '탓/Noun': 18072,\n",
       " '아닐것이다/Adjective': 11598,\n",
       " '동탄/Noun': 4812,\n",
       " '시/Noun': 10865,\n",
       " '국회의원/Noun': 1642,\n",
       " '걸어/Verb': 907,\n",
       " '둔/Verb': 5150,\n",
       " '문구/Noun': 7282,\n",
       " '여성인권/Noun': 12858,\n",
       " '존중/Noun': 15869,\n",
       " '낮/Noun': 3115,\n",
       " '뜨거운줄도/Adjective': 5823,\n",
       " '모르고/Verb': 6912,\n",
       " '죽고/Verb': 16148,\n",
       " '감옥/Noun': 475,\n",
       " '가고/Verb': 112,\n",
       " '도망/Noun': 4583,\n",
       " '단/Modifier': 4008,\n",
       " '다가/Noun': 3874,\n",
       " '조사/Noun': 15802,\n",
       " '받고/Verb': 7916,\n",
       " '바보/Noun': 7769,\n",
       " '알/Noun': 12034,\n",
       " '있어요/Adjective': 14751,\n",
       " '카페/Noun': 17863,\n",
       " '지지자/Noun': 16609,\n",
       " '시민단체/Noun': 10897,\n",
       " ...}"
      ]
     },
     "execution_count": 202,
     "metadata": {},
     "output_type": "execute_result"
    }
   ],
   "source": [
    "# { 단어: 단어 인덱스 } 형태의 사전 확인\n",
    "index_vectorizer.vocabulary_"
   ]
  },
  {
   "cell_type": "code",
   "execution_count": 130,
   "metadata": {
    "ExecuteTime": {
     "end_time": "2021-05-14T05:01:47.105100Z",
     "start_time": "2021-05-14T05:01:47.065206Z"
    }
   },
   "outputs": [
    {
     "name": "stdout",
     "output_type": "stream",
     "text": [
      "['재보궐/Noun', '부산/Noun', '김영춘/Noun', '박형준/Noun', '서울/Noun', '양자/Noun', '대결/Noun', '부산/Noun', '오거돈/Noun', '선거/Noun', '오거돈/Noun', '치부/Noun', '선거/Noun', '아닌가/Adjective', '오거돈/Noun', '성/Noun', '추해으로/Adjective', '생긴/Verb', '선거/Noun', '가독/Noun', '신/Modifier', '공항/Noun', '오거돈/Noun', '재산/Noun', '불려줄려고/Verb', '문재인/Noun', '민주당/Noun', '들/Suffix', '발악/Noun', '아닌가다/Adjective', '부산/Noun', '사람/Noun', '하는말/Verb', '이번/Noun', '선거/Noun', '쎄/Adjective', '빠지게/Verb', '오거돈/Noun', '위/Noun', '선가아이가다/Verb']\n",
      "  (0, 15249)\t1\n",
      "  (0, 8891)\t3\n",
      "  (0, 2215)\t1\n",
      "  (0, 7867)\t1\n",
      "  (0, 10189)\t1\n",
      "  (0, 12328)\t1\n",
      "  (0, 4234)\t1\n",
      "  (0, 13091)\t5\n",
      "  (0, 10223)\t4\n",
      "  (0, 17783)\t1\n",
      "  (0, 11577)\t1\n",
      "  (0, 10333)\t1\n",
      "  (0, 17626)\t1\n",
      "  (0, 10111)\t1\n",
      "  (0, 176)\t1\n",
      "  (0, 11005)\t1\n",
      "  (0, 1371)\t1\n",
      "  (0, 15252)\t1\n",
      "  (0, 9084)\t1\n",
      "  (0, 7303)\t1\n",
      "  (0, 7561)\t1\n",
      "  (0, 5310)\t1\n",
      "  (0, 8022)\t1\n",
      "  (0, 11578)\t1\n",
      "  (0, 9711)\t1\n",
      "  (0, 18874)\t1\n",
      "  (0, 14171)\t1\n",
      "  (0, 11337)\t1\n",
      "  (0, 9380)\t1\n",
      "  (0, 13723)\t1\n",
      "  (0, 10222)\t1\n"
     ]
    }
   ],
   "source": [
    "# 실제 형태소\n",
    "print(get_pos(df3['title_comment'][0]))\n",
    "\n",
    "# 결과\n",
    "print( X[0]) # ( 문장 순서, 단어 인덱스)    등장 횟수"
   ]
  },
  {
   "cell_type": "markdown",
   "metadata": {},
   "source": [
    "### 3.3 TF-IDF로 변환\n",
    "- Tf(Term-Frequency) : 특정 단어가 하나의 데이터 안에서 등장하는 횟수\n",
    "- Tf-Idf(Term-Freuquency times Inverse Documnet-Frquency) : 특정 단어가 여러 데이터에 자주 등장하는지를 알려주는 지표.\n",
    "\n",
    "- 사용 목적\n",
    "    - **Transform**\n",
    "        - 단어 빈도 매트릭스를 정규화된 tf 또는 tf-idf로 나타내기 위해\n",
    "    - **Sclae Down**\n",
    "        - 형태소에서 매우 빈번하게 나타나 경험적으로 덜 유익한 토큰의 영향을 줄이기 위해 사용한다. "
   ]
  },
  {
   "cell_type": "markdown",
   "metadata": {},
   "source": [
    "아예 등장하지 않는다면 0, 그 이외에는 실수값이 크다면 그 단어가 보다 가치있는 특징이라는 것이고, 작다면 그다지 가치가 없다고 판단 가능"
   ]
  },
  {
   "cell_type": "code",
   "execution_count": 28,
   "metadata": {
    "ExecuteTime": {
     "end_time": "2021-05-13T16:46:26.578538Z",
     "start_time": "2021-05-13T16:46:26.554602Z"
    }
   },
   "outputs": [
    {
     "name": "stdout",
     "output_type": "stream",
     "text": [
      "  (0, 18874)\t0.20225611778219826\n",
      "  (0, 17783)\t0.17668721752676989\n",
      "  (0, 17626)\t0.20225611778219826\n",
      "  (0, 15252)\t0.1337277867749289\n",
      "  (0, 15249)\t0.13701122411154956\n",
      "  (0, 14171)\t0.09394070094833018\n",
      "  (0, 13723)\t0.10115918967936799\n",
      "  (0, 13091)\t0.5397781022947776\n",
      "  (0, 12328)\t0.13922945569868952\n",
      "  (0, 11578)\t0.20225611778219826\n",
      "  (0, 11577)\t0.11418358455522618\n",
      "  (0, 11337)\t0.18612393784494766\n",
      "  (0, 11005)\t0.1045712119618201\n",
      "  (0, 10333)\t0.1605550375895193\n",
      "  (0, 10223)\t0.2540831054694538\n",
      "  (0, 10222)\t0.20225611778219826\n",
      "  (0, 10189)\t0.07543964931231611\n",
      "  (0, 10111)\t0.16479835595411788\n",
      "  (0, 9711)\t0.07699181209079847\n",
      "  (0, 9380)\t0.20225611778219826\n",
      "  (0, 9084)\t0.20225611778219826\n",
      "  (0, 8891)\t0.23227146323686368\n",
      "  (0, 8022)\t0.14753064271366112\n",
      "  (0, 7867)\t0.07900231170639177\n",
      "  (0, 7561)\t0.05463027236803248\n",
      "  (0, 7303)\t0.07693837046916746\n",
      "  (0, 5310)\t0.04906727583040895\n",
      "  (0, 4234)\t0.12598445428017715\n",
      "  (0, 2215)\t0.11167860828147955\n",
      "  (0, 1371)\t0.10177169387060915\n",
      "  (0, 176)\t0.19281939746402046\n"
     ]
    }
   ],
   "source": [
    "# 위에서 만든 형태소 벡터를 학습 데이터 벡터로 생성\n",
    "from sklearn.feature_extraction.text import TfidfTransformer\n",
    "\n",
    "tfidf_vectorizer = TfidfTransformer()\n",
    "X = tfidf_vectorizer.fit_transform(X)\n",
    "print(X[0]) # (문장 번호, 단어 인덱스)    단어의 비중"
   ]
  },
  {
   "cell_type": "markdown",
   "metadata": {},
   "source": [
    "### ※ (주의) tfidf_vectorizer도 저장해야한다.\n",
    "- TfidTransformer를 새롭게 생성한 후 저장한 모델을 사용하면 안 된다.\n",
    "- \"학습 단계에서 생성해서 학습을 시킨 녀석을 그대로 사용해야 합니다. 그녀석도 파일로 저장해 두었다가 사용할 때 불러와서 써야 합니다\"\n"
   ]
  },
  {
   "cell_type": "code",
   "execution_count": 29,
   "metadata": {
    "ExecuteTime": {
     "end_time": "2021-05-13T16:46:26.588511Z",
     "start_time": "2021-05-13T16:46:26.581531Z"
    }
   },
   "outputs": [
    {
     "name": "stdout",
     "output_type": "stream",
     "text": [
      "저장완료\n"
     ]
    }
   ],
   "source": [
    "# TF-IDF 저장\n",
    "with open('model/tfidf_vectorizer_05140142.dat','wb') as fp:\n",
    "    pickle.dump(tfidf_vectorizer, fp)\n",
    "print('저장완료')"
   ]
  },
  {
   "cell_type": "markdown",
   "metadata": {},
   "source": [
    "### 3.4 학습"
   ]
  },
  {
   "cell_type": "code",
   "execution_count": 30,
   "metadata": {
    "ExecuteTime": {
     "end_time": "2021-05-13T16:46:26.601477Z",
     "start_time": "2021-05-13T16:46:26.590506Z"
    }
   },
   "outputs": [
    {
     "data": {
      "text/plain": [
       "((3061, 20238), (1312, 20238), (3061,), (1312,))"
      ]
     },
     "execution_count": 30,
     "metadata": {},
     "output_type": "execute_result"
    }
   ],
   "source": [
    "# 학습-테스트용으로 나누기\n",
    "from sklearn.model_selection import train_test_split\n",
    "\n",
    "# 결과값\n",
    "y = df3['y'] \n",
    "X_train, X_test, y_train, y_test = train_test_split( X, y,\n",
    "                                                    test_size=0.3, \n",
    "                                                    stratify=y )\n",
    "\n",
    "X_train.shape, X_test.shape, y_train.shape, y_test.shape"
   ]
  },
  {
   "cell_type": "code",
   "execution_count": 31,
   "metadata": {
    "ExecuteTime": {
     "end_time": "2021-05-13T16:46:26.632393Z",
     "start_time": "2021-05-13T16:46:26.602475Z"
    }
   },
   "outputs": [],
   "source": [
    "# 로지스틱회귀로 분류분석 진행하기\n",
    "from sklearn.linear_model import LogisticRegression\n",
    "\n",
    "# 교차검증: 결과데이터를 보고 각 클래스가 균등한 비율로 들어있게끔 나눈다.\n",
    "from sklearn.model_selection import StratifiedKFold \n",
    "\n",
    "# 평가 방법\n",
    "from sklearn.metrics import accuracy_score\n",
    "from sklearn.metrics import precision_score \n",
    "from sklearn.metrics import recall_score \n",
    "from sklearn.metrics import f1_score\n",
    "from sklearn.metrics import roc_auc_score"
   ]
  },
  {
   "cell_type": "code",
   "execution_count": 32,
   "metadata": {
    "ExecuteTime": {
     "end_time": "2021-05-13T16:46:26.639375Z",
     "start_time": "2021-05-13T16:46:26.633392Z"
    }
   },
   "outputs": [],
   "source": [
    "# 교차검증\n",
    "fold1 = StratifiedKFold( n_splits=10 )\n",
    "\n",
    "# 로지스틱 회귀 모델 생성\n",
    "lr = LogisticRegression()\n",
    "\n",
    "# 최적 파라미터 찾기\n",
    "params = {'penalty': ['l1', 'l2', 'elasticnet', 'none'],\n",
    "          'solver': ['newton-cg', 'lbfgs', 'liblinear', 'sag', 'saga'],\n",
    "          'C':[0.001, 0.01, 0.1, 1, 10, 100, 1000, 10000]}\n",
    "\n",
    "grid_model = GridSearchCV( lr, params, scoring='accuracy', cv=fold1 )"
   ]
  },
  {
   "cell_type": "code",
   "execution_count": 33,
   "metadata": {
    "ExecuteTime": {
     "end_time": "2021-05-13T16:51:59.181247Z",
     "start_time": "2021-05-13T16:46:26.640372Z"
    }
   },
   "outputs": [
    {
     "name": "stdout",
     "output_type": "stream",
     "text": [
      "최적의 하이퍼 파라미터: {'C': 100, 'penalty': 'l2', 'solver': 'saga'}\n",
      "최적의 모델 평균 성능: 0.9163654169594005\n"
     ]
    }
   ],
   "source": [
    "grid_model.fit( X_train,y_train )\n",
    "print(f'최적의 하이퍼 파라미터: {grid_model.best_params_}')\n",
    "print(f'최적의 모델 평균 성능: {grid_model.best_score_}')"
   ]
  },
  {
   "cell_type": "markdown",
   "metadata": {},
   "source": [
    "### 3.5 평가"
   ]
  },
  {
   "cell_type": "code",
   "execution_count": 34,
   "metadata": {
    "ExecuteTime": {
     "end_time": "2021-05-13T16:51:59.185223Z",
     "start_time": "2021-05-13T16:51:59.182211Z"
    }
   },
   "outputs": [],
   "source": [
    "# 최고 성능 모델\n",
    "best_model = grid_model.best_estimator_"
   ]
  },
  {
   "cell_type": "markdown",
   "metadata": {},
   "source": [
    "#### [1] 학습 데이터의 교차검증"
   ]
  },
  {
   "cell_type": "code",
   "execution_count": 35,
   "metadata": {
    "ExecuteTime": {
     "end_time": "2021-05-13T16:52:06.923362Z",
     "start_time": "2021-05-13T16:51:59.186924Z"
    }
   },
   "outputs": [],
   "source": [
    "from sklearn.metrics import accuracy_score,f1_score, precision_score, recall_score, roc_auc_score \n",
    "\n",
    "# 훈련용 데이터의 교차검증\n",
    "accuracy = cross_val_score( best_model, X_train, y_train, scoring='accuracy', cv=fold1 )\n",
    "precision = cross_val_score( best_model, X_train, y_train, scoring='precision', cv=fold1 )\n",
    "recall_score = cross_val_score( best_model, X_train, y_train, scoring='recall', cv=fold1 )\n",
    "f1_score = cross_val_score( best_model, X_train, y_train, scoring='f1', cv=fold1 )\n",
    "roc_auc_score = cross_val_score( best_model, X_train, y_train, scoring='roc_auc', cv=fold1 )"
   ]
  },
  {
   "cell_type": "code",
   "execution_count": 36,
   "metadata": {
    "ExecuteTime": {
     "end_time": "2021-05-13T16:52:06.928638Z",
     "start_time": "2021-05-13T16:52:06.924360Z"
    }
   },
   "outputs": [
    {
     "name": "stdout",
     "output_type": "stream",
     "text": [
      "평균 정확도 0.9160386195737796\n",
      "평균 정밀도 0.9032763900057066\n",
      "평균 재현율 0.6623759920634921\n",
      "평균 f1 0.7660538078818427\n",
      "평균 roc-acu 0.9325154933372527\n"
     ]
    }
   ],
   "source": [
    "print('평균 정확도', accuracy.mean() )\n",
    "print('평균 정밀도', precision.mean() )\n",
    "print('평균 재현율', recall_score.mean() )\n",
    "print('평균 f1', f1_score.mean() )\n",
    "print('평균 roc-acu', roc_auc_score.mean() )"
   ]
  },
  {
   "cell_type": "code",
   "execution_count": 37,
   "metadata": {
    "ExecuteTime": {
     "end_time": "2021-05-13T16:52:07.084336Z",
     "start_time": "2021-05-13T16:52:06.929584Z"
    }
   },
   "outputs": [
    {
     "data": {
      "image/png": "[encoded data removed]",
      "text/plain": [
       "<Figure size 720x360 with 1 Axes>"
      ]
     },
     "metadata": {},
     "output_type": "display_data"
    }
   ],
   "source": [
    "plt.plot( accuracy , label='accuracy')\n",
    "# plt.plot( precision , label='precision')\n",
    "# plt.plot( recall_score , label='recall_score')\n",
    "# plt.plot( f1_score , label='f1_score')\n",
    "plt.ylim(0.7, 1.0)\n",
    "plt.plot( roc_auc_score , label='roc_auc_score')\n",
    "plt.legend()\n",
    "plt.title( '[Figure-1] 훈련 데이터의 교차검증 결과')\n",
    "plt.show()"
   ]
  },
  {
   "cell_type": "markdown",
   "metadata": {},
   "source": [
    "#### [2]  테스트 데이터 검증"
   ]
  },
  {
   "cell_type": "code",
   "execution_count": 38,
   "metadata": {
    "ExecuteTime": {
     "end_time": "2021-05-13T16:52:07.091317Z",
     "start_time": "2021-05-13T16:52:07.085333Z"
    }
   },
   "outputs": [
    {
     "data": {
      "text/plain": [
       "0.8971036585365854"
      ]
     },
     "execution_count": 38,
     "metadata": {},
     "output_type": "execute_result"
    }
   ],
   "source": [
    "# 테스트용 데이터를 통해 예측하기\n",
    "y_pred = best_model.predict(X_test)\n",
    "\n",
    "# 테스트 데이터 정확도\n",
    "result = accuracy_score( y_test, y_pred ) \n",
    "result # 정확도"
   ]
  },
  {
   "cell_type": "markdown",
   "metadata": {},
   "source": [
    "### 3.6 모델 저장"
   ]
  },
  {
   "cell_type": "code",
   "execution_count": 39,
   "metadata": {
    "ExecuteTime": {
     "end_time": "2021-05-13T16:52:07.098299Z",
     "start_time": "2021-05-13T16:52:07.093318Z"
    },
    "scrolled": true
   },
   "outputs": [
    {
     "name": "stdout",
     "output_type": "stream",
     "text": [
      "저장완료\n"
     ]
    }
   ],
   "source": [
    "with open('model/sentiment_analysis_model1_05140142.dat','wb') as fp:\n",
    "    pickle.dump(best_model, fp)\n",
    "print('저장완료')"
   ]
  },
  {
   "cell_type": "markdown",
   "metadata": {},
   "source": [
    "### 3.7 모델 불러오기"
   ]
  },
  {
   "cell_type": "code",
   "execution_count": 40,
   "metadata": {
    "ExecuteTime": {
     "end_time": "2021-05-13T16:52:07.115254Z",
     "start_time": "2021-05-13T16:52:07.101294Z"
    }
   },
   "outputs": [
    {
     "name": "stdout",
     "output_type": "stream",
     "text": [
      "출력 완료\n"
     ]
    }
   ],
   "source": [
    "with open('model/sentiment_analysis_model1_05140142.dat', 'rb') as fp:\n",
    "    new_model = pickle.load(fp)\n",
    "print('출력 완료')"
   ]
  },
  {
   "cell_type": "markdown",
   "metadata": {},
   "source": [
    "### 3.8 추정 확률 알아보기"
   ]
  },
  {
   "cell_type": "code",
   "execution_count": 41,
   "metadata": {
    "ExecuteTime": {
     "end_time": "2021-05-13T16:52:07.121240Z",
     "start_time": "2021-05-13T16:52:07.116252Z"
    },
    "scrolled": false
   },
   "outputs": [
    {
     "data": {
      "text/plain": [
       "array([[0.92196869, 0.07803131],\n",
       "       [0.98791019, 0.01208981],\n",
       "       [0.99601881, 0.00398119],\n",
       "       ...,\n",
       "       [0.95885296, 0.04114704],\n",
       "       [0.87862231, 0.12137769],\n",
       "       [0.9958728 , 0.0041272 ]])"
      ]
     },
     "execution_count": 41,
     "metadata": {},
     "output_type": "execute_result"
    }
   ],
   "source": [
    "# 클래스 순서에 따른 추정 확률 [ 0일 확률, 1일 확률 ]\n",
    "proba = new_model.predict_proba( X_test )\n",
    "proba"
   ]
  },
  {
   "cell_type": "code",
   "execution_count": 42,
   "metadata": {
    "ExecuteTime": {
     "end_time": "2021-05-13T16:52:07.134710Z",
     "start_time": "2021-05-13T16:52:07.122235Z"
    }
   },
   "outputs": [
    {
     "data": {
      "text/html": [
       "<div>\n",
       "<style scoped>\n",
       "    .dataframe tbody tr th:only-of-type {\n",
       "        vertical-align: middle;\n",
       "    }\n",
       "\n",
       "    .dataframe tbody tr th {\n",
       "        vertical-align: top;\n",
       "    }\n",
       "\n",
       "    .dataframe thead th {\n",
       "        text-align: right;\n",
       "    }\n",
       "</style>\n",
       "<table border=\"1\" class=\"dataframe\">\n",
       "  <thead>\n",
       "    <tr style=\"text-align: right;\">\n",
       "      <th></th>\n",
       "      <th>0</th>\n",
       "      <th>1</th>\n",
       "      <th>target</th>\n",
       "    </tr>\n",
       "  </thead>\n",
       "  <tbody>\n",
       "    <tr>\n",
       "      <th>0</th>\n",
       "      <td>0.921969</td>\n",
       "      <td>0.078031</td>\n",
       "      <td>0.0</td>\n",
       "    </tr>\n",
       "    <tr>\n",
       "      <th>1</th>\n",
       "      <td>0.987910</td>\n",
       "      <td>0.012090</td>\n",
       "      <td>0.0</td>\n",
       "    </tr>\n",
       "    <tr>\n",
       "      <th>2</th>\n",
       "      <td>0.996019</td>\n",
       "      <td>0.003981</td>\n",
       "      <td>0.0</td>\n",
       "    </tr>\n",
       "    <tr>\n",
       "      <th>3</th>\n",
       "      <td>0.960828</td>\n",
       "      <td>0.039172</td>\n",
       "      <td>0.0</td>\n",
       "    </tr>\n",
       "    <tr>\n",
       "      <th>4</th>\n",
       "      <td>0.999748</td>\n",
       "      <td>0.000252</td>\n",
       "      <td>0.0</td>\n",
       "    </tr>\n",
       "    <tr>\n",
       "      <th>...</th>\n",
       "      <td>...</td>\n",
       "      <td>...</td>\n",
       "      <td>...</td>\n",
       "    </tr>\n",
       "    <tr>\n",
       "      <th>1307</th>\n",
       "      <td>0.994409</td>\n",
       "      <td>0.005591</td>\n",
       "      <td>0.0</td>\n",
       "    </tr>\n",
       "    <tr>\n",
       "      <th>1308</th>\n",
       "      <td>0.712002</td>\n",
       "      <td>0.287998</td>\n",
       "      <td>0.0</td>\n",
       "    </tr>\n",
       "    <tr>\n",
       "      <th>1309</th>\n",
       "      <td>0.958853</td>\n",
       "      <td>0.041147</td>\n",
       "      <td>0.0</td>\n",
       "    </tr>\n",
       "    <tr>\n",
       "      <th>1310</th>\n",
       "      <td>0.878622</td>\n",
       "      <td>0.121378</td>\n",
       "      <td>0.0</td>\n",
       "    </tr>\n",
       "    <tr>\n",
       "      <th>1311</th>\n",
       "      <td>0.995873</td>\n",
       "      <td>0.004127</td>\n",
       "      <td>0.0</td>\n",
       "    </tr>\n",
       "  </tbody>\n",
       "</table>\n",
       "<p>1312 rows × 3 columns</p>\n",
       "</div>"
      ],
      "text/plain": [
       "             0         1  target\n",
       "0     0.921969  0.078031     0.0\n",
       "1     0.987910  0.012090     0.0\n",
       "2     0.996019  0.003981     0.0\n",
       "3     0.960828  0.039172     0.0\n",
       "4     0.999748  0.000252     0.0\n",
       "...        ...       ...     ...\n",
       "1307  0.994409  0.005591     0.0\n",
       "1308  0.712002  0.287998     0.0\n",
       "1309  0.958853  0.041147     0.0\n",
       "1310  0.878622  0.121378     0.0\n",
       "1311  0.995873  0.004127     0.0\n",
       "\n",
       "[1312 rows x 3 columns]"
      ]
     },
     "execution_count": 42,
     "metadata": {},
     "output_type": "execute_result"
    }
   ],
   "source": [
    "# 각 값에 대한 추정 확률과 실제 값을 데이터 프레임으로 형성\n",
    "proba_df = pd.DataFrame(proba)\n",
    "proba_df['target'] = new_model.predict(X_test)\n",
    "proba_df"
   ]
  },
  {
   "cell_type": "code",
   "execution_count": 43,
   "metadata": {
    "ExecuteTime": {
     "end_time": "2021-05-13T16:52:07.390034Z",
     "start_time": "2021-05-13T16:52:07.137701Z"
    },
    "scrolled": false
   },
   "outputs": [
    {
     "data": {
      "image/png": "[encoded data removed]",
      "text/plain": [
       "<Figure size 720x360 with 1 Axes>"
      ]
     },
     "metadata": {},
     "output_type": "display_data"
    }
   ],
   "source": [
    "plt.scatter( range(len(proba_df[0])), proba_df[0] , label='0(부정) 판단 확률',s=10)\n",
    "plt.scatter( range(len(proba_df[1])), proba_df[1] , label='1(긍정) 판단 확률',marker='D', s=10)\n",
    "plt.legend()\n",
    "plt.title( '[Figure-2] Test데이터의 결과값 판단에 대한 확률')\n",
    "plt.show()"
   ]
  },
  {
   "cell_type": "markdown",
   "metadata": {},
   "source": [
    "### ※ CounterVectorizer는 생성한 후 fit 시키지 않고 transform\n",
    "- **NOT** fit_transform "
   ]
  },
  {
   "cell_type": "markdown",
   "metadata": {},
   "source": [
    "### ※ Tf-Idf는 학습할 때 사용한 Tf-Idf를 사용해야 한다."
   ]
  },
  {
   "cell_type": "code",
   "execution_count": 44,
   "metadata": {
    "ExecuteTime": {
     "end_time": "2021-05-13T16:52:07.401005Z",
     "start_time": "2021-05-13T16:52:07.391032Z"
    }
   },
   "outputs": [
    {
     "name": "stdout",
     "output_type": "stream",
     "text": [
      "출력 완료\n"
     ]
    }
   ],
   "source": [
    "# **저장한 tf-idf 벡터라이저 사용**\n",
    "with open('model/tfidf_vectorizer_05140142.dat', 'rb') as fp:\n",
    "    new_tfidf_vectorizer = pickle.load(fp)\n",
    "print('출력 완료')"
   ]
  },
  {
   "cell_type": "code",
   "execution_count": 45,
   "metadata": {
    "ExecuteTime": {
     "end_time": "2021-05-13T16:52:07.421949Z",
     "start_time": "2021-05-13T16:52:07.402001Z"
    }
   },
   "outputs": [
    {
     "data": {
      "text/plain": [
       "array([0., 0., 0., 0., 0., 1., 0., 0., 0., 0.])"
      ]
     },
     "execution_count": 45,
     "metadata": {},
     "output_type": "execute_result"
    }
   ],
   "source": [
    "# 2. 임의의 텍스트로 예측\n",
    "test = [\n",
    "    '박영선 아웃',\n",
    "    '오세훈은 뭐냐? 무상급식 기억 안 나냐?',\n",
    "    '더불어 만진당에서 나온 후보라..',\n",
    "    '국민의 짐',\n",
    "    '성추행당은 꺼져라',\n",
    "    '오세훈 후보 지지합니다',\n",
    "    '참나',\n",
    "    '노답',\n",
    "    '누굴 뽑으라는거야',\n",
    "    '둘다 별로야'\n",
    "]\n",
    "\n",
    "# CounterVectorrizer는 다시 fit시키는 것이 아니라 transform만 시키는 것\n",
    "X = index_vectorizer.transform(test)\n",
    "\n",
    "# tf-idf는 새로 생성하는 것이 아니라 학습시킨 td-idf를 저장하여 사용하는 것\n",
    "X = new_tfidf_vectorizer.transform(X)\n",
    "\n",
    "y_pred = new_model.predict(X)\n",
    "y_pred"
   ]
  },
  {
   "cell_type": "markdown",
   "metadata": {},
   "source": [
    "## 5. 후보자의 이름이나, 정당의 이름이 들어갈 경우 ?"
   ]
  },
  {
   "cell_type": "code",
   "execution_count": 46,
   "metadata": {
    "ExecuteTime": {
     "end_time": "2021-05-13T16:52:07.437906Z",
     "start_time": "2021-05-13T16:52:07.422945Z"
    }
   },
   "outputs": [
    {
     "data": {
      "text/plain": [
       "array([0., 1., 1., 0., 0., 0.])"
      ]
     },
     "execution_count": 46,
     "metadata": {},
     "output_type": "execute_result"
    }
   ],
   "source": [
    "test2 = [\n",
    "    '박영선',\n",
    "    '오세훈',\n",
    "    '김영춘',\n",
    "    '박형준',\n",
    "    '더불어 민주당',\n",
    "    '국민의 힘',\n",
    "]\n",
    "\n",
    "# CounterVectorizer & Tf-Idf\n",
    "X = index_vectorizer.transform(test2)\n",
    "X = new_tfidf_vectorizer.transform(X)\n",
    "\n",
    "# 긍정/부정 예측 결과\n",
    "new_model.predict(X)"
   ]
  },
  {
   "cell_type": "code",
   "execution_count": 47,
   "metadata": {
    "ExecuteTime": {
     "end_time": "2021-05-13T16:52:07.659314Z",
     "start_time": "2021-05-13T16:52:07.438905Z"
    },
    "scrolled": true
   },
   "outputs": [
    {
     "data": {
      "image/png": "[encoded data removed]",
      "text/plain": [
       "<Figure size 720x360 with 1 Axes>"
      ]
     },
     "metadata": {},
     "output_type": "display_data"
    }
   ],
   "source": [
    "# 추정 확률 알아보기\n",
    "proba_0 = new_model.predict_proba(X)[:,0]\n",
    "proba_1 = new_model.predict_proba(X)[:,1]\n",
    "\n",
    "plt.scatter( test2, proba_0 , label='Negative(0) Proba')\n",
    "plt.scatter( test2, proba_1 , label='Positive(1) Proba')\n",
    "\n",
    "for idx, val in zip(test2, proba_0):\n",
    "    plt.text(idx, val, f'{round(val,3)}' )    \n",
    "for idx, val in zip(test2, proba_1):\n",
    "    plt.text(idx, val, f'{round(val,3)}' )    \n",
    "plt.title('[Figure-3] 각 후보이름, 정당명에 대한 긍정/부정 추정확률')\n",
    "plt.legend()\n",
    "plt.show()"
   ]
  },
  {
   "cell_type": "markdown",
   "metadata": {},
   "source": [
    "- 위 모델은 **여당**과 **여당의 후보**가 글에 포함될 경우 **부정**으로 판단함을 알 수 있음\n",
    "    - 보수 언론의 데이터가 많아서 이러한 도출 되었거나\n",
    "    - 실제 여론을 반영한 결과라고 해석할 수 있다.\n",
    "- 기존 모델과 차이점은 박형준 후보 역시 부정적으로 평가한다는 것"
   ]
  },
  {
   "cell_type": "markdown",
   "metadata": {},
   "source": [
    "## 6. 새로운 모델 형성\n",
    "- 후보이름, 당명에 따라 긍정/부정이 명확히 구분되는 특징을 보임\n",
    "- 후보이름(4), 당명(2) 6개의 텍스트를 제외한 후 새로운 감성분석 모델 형성"
   ]
  },
  {
   "cell_type": "code",
   "execution_count": 178,
   "metadata": {
    "ExecuteTime": {
     "end_time": "2021-05-14T05:16:13.625393Z",
     "start_time": "2021-05-14T05:16:13.601484Z"
    }
   },
   "outputs": [
    {
     "data": {
      "text/html": [
       "<div>\n",
       "<style scoped>\n",
       "    .dataframe tbody tr th:only-of-type {\n",
       "        vertical-align: middle;\n",
       "    }\n",
       "\n",
       "    .dataframe tbody tr th {\n",
       "        vertical-align: top;\n",
       "    }\n",
       "\n",
       "    .dataframe thead th {\n",
       "        text-align: right;\n",
       "    }\n",
       "</style>\n",
       "<table border=\"1\" class=\"dataframe\">\n",
       "  <thead>\n",
       "    <tr style=\"text-align: right;\">\n",
       "      <th></th>\n",
       "      <th>title_comment</th>\n",
       "      <th>y</th>\n",
       "    </tr>\n",
       "  </thead>\n",
       "  <tbody>\n",
       "    <tr>\n",
       "      <th>0</th>\n",
       "      <td>재보궐  부산 후보  후보 서울도 양자 대결 부산은오거돈선거이고 오거돈치부선거아닌가...</td>\n",
       "      <td>0.0</td>\n",
       "    </tr>\n",
       "    <tr>\n",
       "      <th>1</th>\n",
       "      <td>재보궐  부산 후보  후보 서울도 양자 대결 일단 일자리와 경제를 말아드신 여당 빼...</td>\n",
       "      <td>0.0</td>\n",
       "    </tr>\n",
       "    <tr>\n",
       "      <th>2</th>\n",
       "      <td>재보궐  부산 후보  후보 서울도 양자 대결 수십조 세금을 평가순위 위인 가덕도에 ...</td>\n",
       "      <td>0.0</td>\n",
       "    </tr>\n",
       "    <tr>\n",
       "      <th>3</th>\n",
       "      <td>재보궐  부산 후보  후보 서울도 양자 대결 박원순의 성폭력 자살을 공수처에 수사의...</td>\n",
       "      <td>0.0</td>\n",
       "    </tr>\n",
       "    <tr>\n",
       "      <th>4</th>\n",
       "      <td>재보궐  부산 후보  후보 서울도 양자 대결 이번 보궐선거는 임기가 년남짓이다 내년...</td>\n",
       "      <td>1.0</td>\n",
       "    </tr>\n",
       "    <tr>\n",
       "      <th>...</th>\n",
       "      <td>...</td>\n",
       "      <td>...</td>\n",
       "    </tr>\n",
       "    <tr>\n",
       "      <th>4368</th>\n",
       "      <td>나경원 대세론 꺾은 후보임기 못마친 죄 갚겠다 울먹 쟤 쥐새끼 똘마니야벌써 잊는거냐...</td>\n",
       "      <td>0.0</td>\n",
       "    </tr>\n",
       "    <tr>\n",
       "      <th>4369</th>\n",
       "      <td>나경원 대세론 꺾은 후보임기 못마친 죄 갚겠다 울먹 이런자가 시장 후보라니 국민의짐...</td>\n",
       "      <td>0.0</td>\n",
       "    </tr>\n",
       "    <tr>\n",
       "      <th>4370</th>\n",
       "      <td>나경원 대세론 꺾은 후보임기 못마친 죄 갚겠다 울먹 그럼 저 치가 아이들 점심을 어...</td>\n",
       "      <td>0.0</td>\n",
       "    </tr>\n",
       "    <tr>\n",
       "      <th>4371</th>\n",
       "      <td>나경원 대세론 꺾은 후보임기 못마친 죄 갚겠다 울먹 정권심판이라이명박 박근혜정권때는...</td>\n",
       "      <td>0.0</td>\n",
       "    </tr>\n",
       "    <tr>\n",
       "      <th>4372</th>\n",
       "      <td>민주 후보 년 전 식목 행사에 만원짜리 의전용 계단 정말나쁜정당이다후보도능력없다박원...</td>\n",
       "      <td>0.0</td>\n",
       "    </tr>\n",
       "  </tbody>\n",
       "</table>\n",
       "<p>4373 rows × 2 columns</p>\n",
       "</div>"
      ],
      "text/plain": [
       "                                          title_comment    y\n",
       "0     재보궐  부산 후보  후보 서울도 양자 대결 부산은오거돈선거이고 오거돈치부선거아닌가...  0.0\n",
       "1     재보궐  부산 후보  후보 서울도 양자 대결 일단 일자리와 경제를 말아드신 여당 빼...  0.0\n",
       "2     재보궐  부산 후보  후보 서울도 양자 대결 수십조 세금을 평가순위 위인 가덕도에 ...  0.0\n",
       "3     재보궐  부산 후보  후보 서울도 양자 대결 박원순의 성폭력 자살을 공수처에 수사의...  0.0\n",
       "4     재보궐  부산 후보  후보 서울도 양자 대결 이번 보궐선거는 임기가 년남짓이다 내년...  1.0\n",
       "...                                                 ...  ...\n",
       "4368  나경원 대세론 꺾은 후보임기 못마친 죄 갚겠다 울먹 쟤 쥐새끼 똘마니야벌써 잊는거냐...  0.0\n",
       "4369  나경원 대세론 꺾은 후보임기 못마친 죄 갚겠다 울먹 이런자가 시장 후보라니 국민의짐...  0.0\n",
       "4370  나경원 대세론 꺾은 후보임기 못마친 죄 갚겠다 울먹 그럼 저 치가 아이들 점심을 어...  0.0\n",
       "4371  나경원 대세론 꺾은 후보임기 못마친 죄 갚겠다 울먹 정권심판이라이명박 박근혜정권때는...  0.0\n",
       "4372  민주 후보 년 전 식목 행사에 만원짜리 의전용 계단 정말나쁜정당이다후보도능력없다박원...  0.0\n",
       "\n",
       "[4373 rows x 2 columns]"
      ]
     },
     "execution_count": 178,
     "metadata": {},
     "output_type": "execute_result"
    }
   ],
   "source": [
    "# copy\n",
    "df4 = df3.copy()\n",
    "\n",
    "# 후보이름, 당명을 대체\n",
    "df4['title_comment'] = df4['title_comment'].str.replace('박영선|오세훈|김영춘|박형준|영선|세훈|형준|영춘|5세훈', '후보')\n",
    "df4['title_comment'] = df4['title_comment'].str.replace('더불어민주당|국민의힘|더불어 민주당|국민의 힘|국힘|더불어|민주당', '정당')\n",
    "df4"
   ]
  },
  {
   "cell_type": "code",
   "execution_count": 179,
   "metadata": {
    "ExecuteTime": {
     "end_time": "2021-05-14T05:16:36.169827Z",
     "start_time": "2021-05-14T05:16:15.855539Z"
    }
   },
   "outputs": [],
   "source": [
    "# 단어당 몇개씩 들어 있는지에 대한 벡터를 생성\n",
    "from sklearn.feature_extraction.text import CountVectorizer\n",
    "\n",
    "index_vectorizer2 = CountVectorizer(tokenizer= lambda x : get_pos(x))\n",
    "X = index_vectorizer2.fit_transform(df4['title_comment'].tolist())"
   ]
  },
  {
   "cell_type": "code",
   "execution_count": 50,
   "metadata": {
    "ExecuteTime": {
     "end_time": "2021-05-13T16:52:32.865267Z",
     "start_time": "2021-05-13T16:52:32.846319Z"
    }
   },
   "outputs": [],
   "source": [
    "# tf-idf로 변환\n",
    "tfidf_vectorizer2 = TfidfTransformer()\n",
    "X = tfidf_vectorizer2.fit_transform(X)"
   ]
  },
  {
   "cell_type": "code",
   "execution_count": 51,
   "metadata": {
    "ExecuteTime": {
     "end_time": "2021-05-13T16:52:32.873246Z",
     "start_time": "2021-05-13T16:52:32.867262Z"
    }
   },
   "outputs": [
    {
     "name": "stdout",
     "output_type": "stream",
     "text": [
      "저장완료\n"
     ]
    }
   ],
   "source": [
    "# TF-IDF 저장\n",
    "with open('model/tfidf_vectorizer_05140150.dat','wb') as fp:\n",
    "    pickle.dump(tfidf_vectorizer2, fp)\n",
    "print('저장완료')"
   ]
  },
  {
   "cell_type": "code",
   "execution_count": 52,
   "metadata": {
    "ExecuteTime": {
     "end_time": "2021-05-13T16:52:32.889204Z",
     "start_time": "2021-05-13T16:52:32.875243Z"
    }
   },
   "outputs": [
    {
     "data": {
      "text/plain": [
       "((3061, 20205), (1312, 20205), (3061,), (1312,))"
      ]
     },
     "execution_count": 52,
     "metadata": {},
     "output_type": "execute_result"
    }
   ],
   "source": [
    "# 학습-테스트용으로 나누기\n",
    "from sklearn.model_selection import train_test_split\n",
    "\n",
    "# 결과값\n",
    "y = df4['y'] \n",
    "X_train, X_test, y_train, y_test = train_test_split( X, y,\n",
    "                                                    test_size=0.3, \n",
    "                                                    stratify=y )\n",
    "\n",
    "X_train.shape, X_test.shape, y_train.shape, y_test.shape"
   ]
  },
  {
   "cell_type": "code",
   "execution_count": 53,
   "metadata": {
    "ExecuteTime": {
     "end_time": "2021-05-13T16:52:32.896184Z",
     "start_time": "2021-05-13T16:52:32.891199Z"
    }
   },
   "outputs": [],
   "source": [
    "# 로지스틱회귀로 분류분석 진행하기\n",
    "from sklearn.linear_model import LogisticRegression\n",
    "\n",
    "# 교차검증: 결과데이터를 보고 각 클래스가 균등한 비율로 들어있게끔 나눈다.\n",
    "from sklearn.model_selection import StratifiedKFold \n",
    "\n",
    "# 평가 방법\n",
    "from sklearn.metrics import accuracy_score\n",
    "from sklearn.metrics import precision_score \n",
    "from sklearn.metrics import recall_score \n",
    "from sklearn.metrics import f1_score\n",
    "from sklearn.metrics import roc_auc_score"
   ]
  },
  {
   "cell_type": "code",
   "execution_count": 54,
   "metadata": {
    "ExecuteTime": {
     "end_time": "2021-05-13T16:52:32.906158Z",
     "start_time": "2021-05-13T16:52:32.899184Z"
    }
   },
   "outputs": [],
   "source": [
    "# 교차검증\n",
    "fold1 = StratifiedKFold( n_splits=10 )\n",
    "\n",
    "# 로지스틱 회귀 모델 생성\n",
    "lr = LogisticRegression()\n",
    "\n",
    "# 최적 파라미터 찾기\n",
    "params = {'penalty': ['l1', 'l2', 'elasticnet', 'none'],\n",
    "          'solver': ['newton-cg', 'lbfgs', 'liblinear', 'sag', 'saga'],\n",
    "          'C':[0.001, 0.01, 0.1, 1, 10, 100, 1000, 10000]}\n",
    "\n",
    "grid_model2 = GridSearchCV( lr, params, scoring='accuracy', cv=fold1 )"
   ]
  },
  {
   "cell_type": "code",
   "execution_count": 55,
   "metadata": {
    "ExecuteTime": {
     "end_time": "2021-05-13T16:58:35.779536Z",
     "start_time": "2021-05-13T16:52:32.908152Z"
    }
   },
   "outputs": [
    {
     "name": "stdout",
     "output_type": "stream",
     "text": [
      "최적의 하이퍼 파라미터: {'C': 1000, 'penalty': 'none', 'solver': 'saga'}\n",
      "최적의 모델 평균 성능: 0.9003640544165549\n"
     ]
    }
   ],
   "source": [
    "grid_model2.fit( X_train,y_train )\n",
    "print(f'최적의 하이퍼 파라미터: {grid_model2.best_params_}')\n",
    "print(f'최적의 모델 평균 성능: {grid_model2.best_score_}')"
   ]
  },
  {
   "cell_type": "code",
   "execution_count": 56,
   "metadata": {
    "ExecuteTime": {
     "end_time": "2021-05-13T16:58:35.786517Z",
     "start_time": "2021-05-13T16:58:35.780534Z"
    }
   },
   "outputs": [
    {
     "data": {
      "text/plain": [
       "0.9100609756097561"
      ]
     },
     "execution_count": 56,
     "metadata": {},
     "output_type": "execute_result"
    }
   ],
   "source": [
    "# 테스트 데이터로 예측결과 파악하기\n",
    "y_pred = grid_model2.best_estimator_.predict(X_test)\n",
    "accuracy_score(y_test, y_pred)"
   ]
  },
  {
   "cell_type": "code",
   "execution_count": 57,
   "metadata": {
    "ExecuteTime": {
     "end_time": "2021-05-13T16:58:35.801478Z",
     "start_time": "2021-05-13T16:58:35.787520Z"
    }
   },
   "outputs": [
    {
     "data": {
      "text/plain": [
       "array([1., 0., 0., 0., 0., 0., 0.])"
      ]
     },
     "execution_count": 57,
     "metadata": {},
     "output_type": "execute_result"
    }
   ],
   "source": [
    "test2 = [\n",
    "    '오세훈 후보 화이팅',\n",
    "    '국짐당은 물러나라',\n",
    "    '더불어성추행당',\n",
    "    '참 뽑을 사람 없다.',\n",
    "    '그 나물에 그 밥',\n",
    "    '양심이 있냐',\n",
    "    '정신차려라'\n",
    "]\n",
    "\n",
    "# CounterVectorizer & Tf-Idf\n",
    "X = index_vectorizer2.transform(test2)\n",
    "X = tfidf_vectorizer2.transform(X)\n",
    "\n",
    "# 긍정/부정 예측 결과\n",
    "grid_model2.best_estimator_.predict(X)"
   ]
  },
  {
   "cell_type": "code",
   "execution_count": 58,
   "metadata": {
    "ExecuteTime": {
     "end_time": "2021-05-13T16:58:35.808459Z",
     "start_time": "2021-05-13T16:58:35.802476Z"
    }
   },
   "outputs": [
    {
     "data": {
      "text/plain": [
       "array([[5.17690446e-09, 9.99999995e-01],\n",
       "       [9.99653552e-01, 3.46448002e-04],\n",
       "       [9.99999519e-01, 4.81122405e-07],\n",
       "       [9.99764295e-01, 2.35705216e-04],\n",
       "       [9.96608228e-01, 3.39177212e-03],\n",
       "       [9.97812900e-01, 2.18710027e-03],\n",
       "       [9.99944210e-01, 5.57897326e-05]])"
      ]
     },
     "execution_count": 58,
     "metadata": {},
     "output_type": "execute_result"
    }
   ],
   "source": [
    "grid_model2.best_estimator_.predict_proba(X)"
   ]
  },
  {
   "cell_type": "code",
   "execution_count": 59,
   "metadata": {
    "ExecuteTime": {
     "end_time": "2021-05-13T16:58:35.814444Z",
     "start_time": "2021-05-13T16:58:35.809457Z"
    }
   },
   "outputs": [
    {
     "name": "stdout",
     "output_type": "stream",
     "text": [
      "저장완료\n"
     ]
    }
   ],
   "source": [
    "# 모델 저장\n",
    "best_model = grid_model2.best_estimator_\n",
    "with open('model/sentiment_analysis_model1_05140150.dat','wb') as fp:\n",
    "    pickle.dump(best_model, fp)\n",
    "print('저장완료')"
   ]
  },
  {
   "cell_type": "code",
   "execution_count": 60,
   "metadata": {
    "ExecuteTime": {
     "end_time": "2021-05-13T16:58:42.297408Z",
     "start_time": "2021-05-13T16:58:35.815442Z"
    }
   },
   "outputs": [],
   "source": [
    "# 훈련용 데이터의 교차검증\n",
    "accuracy = cross_val_score( best_model, X_train, y_train, scoring='accuracy', cv=fold1 )\n",
    "precision = cross_val_score( best_model, X_train, y_train, scoring='precision', cv=fold1 )\n",
    "recall_score = cross_val_score( best_model, X_train, y_train, scoring='recall', cv=fold1 )\n",
    "f1_score = cross_val_score( best_model, X_train, y_train, scoring='f1', cv=fold1 )\n",
    "roc_auc_score = cross_val_score( best_model, X_train, y_train, scoring='roc_auc', cv=fold1 )"
   ]
  },
  {
   "cell_type": "code",
   "execution_count": 61,
   "metadata": {
    "ExecuteTime": {
     "end_time": "2021-05-13T16:58:42.410972Z",
     "start_time": "2021-05-13T16:58:42.297408Z"
    }
   },
   "outputs": [
    {
     "data": {
      "image/png": "[encoded data removed]",
      "text/plain": [
       "<Figure size 720x360 with 1 Axes>"
      ]
     },
     "metadata": {},
     "output_type": "display_data"
    }
   ],
   "source": [
    "plt.plot( accuracy , label='accuracy')\n",
    "# plt.plot( precision , label='precision')\n",
    "# plt.plot( recall_score , label='recall_score')\n",
    "# plt.plot( f1_score , label='f1_score')\n",
    "plt.ylim(0.7,1.0)\n",
    "plt.plot( roc_auc_score , label='roc_auc_score')\n",
    "plt.legend()\n",
    "plt.title( '[Figure-4] 훈련 데이터의 교차검증 결과')\n",
    "plt.show()"
   ]
  },
  {
   "cell_type": "code",
   "execution_count": 62,
   "metadata": {
    "ExecuteTime": {
     "end_time": "2021-05-13T16:58:42.417921Z",
     "start_time": "2021-05-13T16:58:42.411937Z"
    }
   },
   "outputs": [
    {
     "data": {
      "text/plain": [
       "(1312, 2)"
      ]
     },
     "execution_count": 62,
     "metadata": {},
     "output_type": "execute_result"
    }
   ],
   "source": [
    "best_model.predict_proba(X_test).shape"
   ]
  },
  {
   "cell_type": "code",
   "execution_count": 63,
   "metadata": {
    "ExecuteTime": {
     "end_time": "2021-05-13T16:58:42.661587Z",
     "start_time": "2021-05-13T16:58:42.418920Z"
    },
    "scrolled": true
   },
   "outputs": [
    {
     "data": {
      "image/png": "[encoded data removed]",
      "text/plain": [
       "<Figure size 720x360 with 1 Axes>"
      ]
     },
     "metadata": {},
     "output_type": "display_data"
    }
   ],
   "source": [
    "proba_0 = best_model.predict_proba(X_test)[:,0]\n",
    "proba_1 = best_model.predict_proba(X_test)[:,1]\n",
    "\n",
    "plt.scatter( range(len(proba_0)), proba_0, label='Negative Proba', s=10 )\n",
    "plt.scatter( range(len(proba_0)), proba_1, label='Positive Proba', s=10, marker='D' )\n",
    "plt.title('[Figure-5] Test 데이터에 대한 감성분석 추정 확률')\n",
    "plt.legend()\n",
    "plt.show()"
   ]
  },
  {
   "cell_type": "markdown",
   "metadata": {},
   "source": [
    "## 7. 모델2를 거친 데이터를 이용해 감성분석"
   ]
  },
  {
   "cell_type": "code",
   "execution_count": 135,
   "metadata": {
    "ExecuteTime": {
     "end_time": "2021-05-14T05:01:58.240341Z",
     "start_time": "2021-05-14T05:01:57.594486Z"
    }
   },
   "outputs": [
    {
     "data": {
      "text/html": [
       "<div>\n",
       "<style scoped>\n",
       "    .dataframe tbody tr th:only-of-type {\n",
       "        vertical-align: middle;\n",
       "    }\n",
       "\n",
       "    .dataframe tbody tr th {\n",
       "        vertical-align: top;\n",
       "    }\n",
       "\n",
       "    .dataframe thead th {\n",
       "        text-align: right;\n",
       "    }\n",
       "</style>\n",
       "<table border=\"1\" class=\"dataframe\">\n",
       "  <thead>\n",
       "    <tr style=\"text-align: right;\">\n",
       "      <th></th>\n",
       "      <th>area</th>\n",
       "      <th>candidate</th>\n",
       "      <th>candidate_eval</th>\n",
       "      <th>party</th>\n",
       "      <th>party_eval</th>\n",
       "      <th>title_comment</th>\n",
       "      <th>area_candidate</th>\n",
       "      <th>source</th>\n",
       "    </tr>\n",
       "  </thead>\n",
       "  <tbody>\n",
       "    <tr>\n",
       "      <th>0</th>\n",
       "      <td>NaN</td>\n",
       "      <td>NaN</td>\n",
       "      <td>NaN</td>\n",
       "      <td>NaN</td>\n",
       "      <td>NaN</td>\n",
       "      <td>재보궐  부산 김영춘  박형준 서울도 양자 대결 철수야 뜸 들이지 말고 애국하는 마...</td>\n",
       "      <td>박영선</td>\n",
       "      <td>조선일보</td>\n",
       "    </tr>\n",
       "    <tr>\n",
       "      <th>1</th>\n",
       "      <td>1.0</td>\n",
       "      <td>1.0</td>\n",
       "      <td>0.0</td>\n",
       "      <td>NaN</td>\n",
       "      <td>NaN</td>\n",
       "      <td>재보궐  부산 김영춘  박형준 서울도 양자 대결 박영선은 정동영이 얻은 프로선에 머...</td>\n",
       "      <td>박영선</td>\n",
       "      <td>조선일보</td>\n",
       "    </tr>\n",
       "    <tr>\n",
       "      <th>2</th>\n",
       "      <td>1.0</td>\n",
       "      <td>1.0</td>\n",
       "      <td>0.0</td>\n",
       "      <td>NaN</td>\n",
       "      <td>NaN</td>\n",
       "      <td>재보궐  부산 김영춘  박형준 서울도 양자 대결 빵선이가서울시장되면서울은공산국가수도...</td>\n",
       "      <td>박영선</td>\n",
       "      <td>조선일보</td>\n",
       "    </tr>\n",
       "    <tr>\n",
       "      <th>3</th>\n",
       "      <td>1.0</td>\n",
       "      <td>1.0</td>\n",
       "      <td>0.0</td>\n",
       "      <td>1.0</td>\n",
       "      <td>0.0</td>\n",
       "      <td>재보궐  부산 김영춘  박형준 서울도 양자 대결 서울시장후보더듬당박빵선이는절대로서울...</td>\n",
       "      <td>박영선</td>\n",
       "      <td>조선일보</td>\n",
       "    </tr>\n",
       "    <tr>\n",
       "      <th>4</th>\n",
       "      <td>2.0</td>\n",
       "      <td>NaN</td>\n",
       "      <td>NaN</td>\n",
       "      <td>1.0</td>\n",
       "      <td>0.0</td>\n",
       "      <td>재보궐  부산 김영춘  박형준 서울도 양자 대결 부산은오거돈선거이고 오거돈치부선거아...</td>\n",
       "      <td>박영선</td>\n",
       "      <td>조선일보</td>\n",
       "    </tr>\n",
       "    <tr>\n",
       "      <th>...</th>\n",
       "      <td>...</td>\n",
       "      <td>...</td>\n",
       "      <td>...</td>\n",
       "      <td>...</td>\n",
       "      <td>...</td>\n",
       "      <td>...</td>\n",
       "      <td>...</td>\n",
       "      <td>...</td>\n",
       "    </tr>\n",
       "    <tr>\n",
       "      <th>144134</th>\n",
       "      <td>NaN</td>\n",
       "      <td>NaN</td>\n",
       "      <td>NaN</td>\n",
       "      <td>NaN</td>\n",
       "      <td>NaN</td>\n",
       "      <td>논설위원의 단도직입한일해저터널 경제성 없지만동북아 경제권 차원서 장기 검토해야 국민...</td>\n",
       "      <td>기타</td>\n",
       "      <td>경향신문</td>\n",
       "    </tr>\n",
       "    <tr>\n",
       "      <th>144135</th>\n",
       "      <td>NaN</td>\n",
       "      <td>NaN</td>\n",
       "      <td>NaN</td>\n",
       "      <td>NaN</td>\n",
       "      <td>NaN</td>\n",
       "      <td>논설위원의 단도직입한일해저터널 경제성 없지만동북아 경제권 차원서 장기 검토해야 굳이...</td>\n",
       "      <td>박영선</td>\n",
       "      <td>경향신문</td>\n",
       "    </tr>\n",
       "    <tr>\n",
       "      <th>144136</th>\n",
       "      <td>NaN</td>\n",
       "      <td>NaN</td>\n",
       "      <td>NaN</td>\n",
       "      <td>NaN</td>\n",
       "      <td>NaN</td>\n",
       "      <td>논설위원의 단도직입한일해저터널 경제성 없지만동북아 경제권 차원서 장기 검토해야 도랏...</td>\n",
       "      <td>기타</td>\n",
       "      <td>경향신문</td>\n",
       "    </tr>\n",
       "    <tr>\n",
       "      <th>144137</th>\n",
       "      <td>NaN</td>\n",
       "      <td>NaN</td>\n",
       "      <td>NaN</td>\n",
       "      <td>NaN</td>\n",
       "      <td>NaN</td>\n",
       "      <td>논설위원의 단도직입한일해저터널 경제성 없지만동북아 경제권 차원서 장기 검토해야 이걸...</td>\n",
       "      <td>박영선</td>\n",
       "      <td>경향신문</td>\n",
       "    </tr>\n",
       "    <tr>\n",
       "      <th>144138</th>\n",
       "      <td>NaN</td>\n",
       "      <td>NaN</td>\n",
       "      <td>NaN</td>\n",
       "      <td>NaN</td>\n",
       "      <td>NaN</td>\n",
       "      <td>논설위원의 단도직입한일해저터널 경제성 없지만동북아 경제권 차원서 장기 검토해야 우리...</td>\n",
       "      <td>기타</td>\n",
       "      <td>경향신문</td>\n",
       "    </tr>\n",
       "  </tbody>\n",
       "</table>\n",
       "<p>144139 rows × 8 columns</p>\n",
       "</div>"
      ],
      "text/plain": [
       "        area  candidate  candidate_eval  party  party_eval  \\\n",
       "0        NaN        NaN             NaN    NaN         NaN   \n",
       "1        1.0        1.0             0.0    NaN         NaN   \n",
       "2        1.0        1.0             0.0    NaN         NaN   \n",
       "3        1.0        1.0             0.0    1.0         0.0   \n",
       "4        2.0        NaN             NaN    1.0         0.0   \n",
       "...      ...        ...             ...    ...         ...   \n",
       "144134   NaN        NaN             NaN    NaN         NaN   \n",
       "144135   NaN        NaN             NaN    NaN         NaN   \n",
       "144136   NaN        NaN             NaN    NaN         NaN   \n",
       "144137   NaN        NaN             NaN    NaN         NaN   \n",
       "144138   NaN        NaN             NaN    NaN         NaN   \n",
       "\n",
       "                                            title_comment area_candidate  \\\n",
       "0       재보궐  부산 김영춘  박형준 서울도 양자 대결 철수야 뜸 들이지 말고 애국하는 마...            박영선   \n",
       "1       재보궐  부산 김영춘  박형준 서울도 양자 대결 박영선은 정동영이 얻은 프로선에 머...            박영선   \n",
       "2       재보궐  부산 김영춘  박형준 서울도 양자 대결 빵선이가서울시장되면서울은공산국가수도...            박영선   \n",
       "3       재보궐  부산 김영춘  박형준 서울도 양자 대결 서울시장후보더듬당박빵선이는절대로서울...            박영선   \n",
       "4       재보궐  부산 김영춘  박형준 서울도 양자 대결 부산은오거돈선거이고 오거돈치부선거아...            박영선   \n",
       "...                                                   ...            ...   \n",
       "144134  논설위원의 단도직입한일해저터널 경제성 없지만동북아 경제권 차원서 장기 검토해야 국민...             기타   \n",
       "144135  논설위원의 단도직입한일해저터널 경제성 없지만동북아 경제권 차원서 장기 검토해야 굳이...            박영선   \n",
       "144136  논설위원의 단도직입한일해저터널 경제성 없지만동북아 경제권 차원서 장기 검토해야 도랏...             기타   \n",
       "144137  논설위원의 단도직입한일해저터널 경제성 없지만동북아 경제권 차원서 장기 검토해야 이걸...            박영선   \n",
       "144138  논설위원의 단도직입한일해저터널 경제성 없지만동북아 경제권 차원서 장기 검토해야 우리...             기타   \n",
       "\n",
       "       source  \n",
       "0        조선일보  \n",
       "1        조선일보  \n",
       "2        조선일보  \n",
       "3        조선일보  \n",
       "4        조선일보  \n",
       "...       ...  \n",
       "144134   경향신문  \n",
       "144135   경향신문  \n",
       "144136   경향신문  \n",
       "144137   경향신문  \n",
       "144138   경향신문  \n",
       "\n",
       "[144139 rows x 8 columns]"
      ]
     },
     "execution_count": 135,
     "metadata": {},
     "output_type": "execute_result"
    }
   ],
   "source": [
    "df = pd.read_csv( './data/prediction_byModel2/data_byModel2_0514_0140.csv', index_col=0 )\n",
    "df"
   ]
  },
  {
   "cell_type": "code",
   "execution_count": 136,
   "metadata": {
    "ExecuteTime": {
     "end_time": "2021-05-14T05:01:58.405899Z",
     "start_time": "2021-05-14T05:01:58.390939Z"
    }
   },
   "outputs": [
    {
     "data": {
      "text/plain": [
       "기타     68900\n",
       "박영선    48961\n",
       "오세훈    24993\n",
       "박형준     1163\n",
       "김영춘       91\n",
       "Name: area_candidate, dtype: int64"
      ]
     },
     "execution_count": 136,
     "metadata": {},
     "output_type": "execute_result"
    }
   ],
   "source": [
    "df['area_candidate'].value_counts()"
   ]
  },
  {
   "cell_type": "markdown",
   "metadata": {},
   "source": [
    "### 7.1 후보자명/당명을 제거하지 않고 학습한 모델"
   ]
  },
  {
   "cell_type": "code",
   "execution_count": 137,
   "metadata": {
    "ExecuteTime": {
     "end_time": "2021-05-14T05:01:59.773686Z",
     "start_time": "2021-05-14T05:01:59.768701Z"
    }
   },
   "outputs": [
    {
     "name": "stdout",
     "output_type": "stream",
     "text": [
      "출력완료\n"
     ]
    }
   ],
   "source": [
    "# 감성분석 모델 불러오기\n",
    "with open('model/sentiment_analysis_model1_05140142.dat', 'rb') as fp:\n",
    "    new_model = pickle.load(fp)\n",
    "print('출력완료')"
   ]
  },
  {
   "cell_type": "code",
   "execution_count": 138,
   "metadata": {
    "ExecuteTime": {
     "end_time": "2021-05-14T05:02:00.197118Z",
     "start_time": "2021-05-14T05:02:00.193130Z"
    }
   },
   "outputs": [
    {
     "name": "stdout",
     "output_type": "stream",
     "text": [
      "출력완료\n"
     ]
    }
   ],
   "source": [
    "# Tf-Idf Vectorizer 불러오기\n",
    "with open('model/tfidf_vectorizer_05140142.dat', 'rb') as fp:\n",
    "    new_tfidf_vectorizer = pickle.load(fp)\n",
    "print('출력완료')"
   ]
  },
  {
   "cell_type": "markdown",
   "metadata": {},
   "source": [
    "### 7.1.1 예측하기"
   ]
  },
  {
   "cell_type": "code",
   "execution_count": 139,
   "metadata": {
    "ExecuteTime": {
     "end_time": "2021-05-14T05:02:01.727826Z",
     "start_time": "2021-05-14T05:02:01.723837Z"
    }
   },
   "outputs": [],
   "source": [
    "total_X = df['title_comment']"
   ]
  },
  {
   "cell_type": "code",
   "execution_count": 140,
   "metadata": {
    "ExecuteTime": {
     "end_time": "2021-05-14T05:02:02.133579Z",
     "start_time": "2021-05-14T05:02:02.128593Z"
    }
   },
   "outputs": [
    {
     "data": {
      "text/plain": [
       "0         재보궐  부산 김영춘  박형준 서울도 양자 대결 철수야 뜸 들이지 말고 애국하는 마...\n",
       "1         재보궐  부산 김영춘  박형준 서울도 양자 대결 박영선은 정동영이 얻은 프로선에 머...\n",
       "2         재보궐  부산 김영춘  박형준 서울도 양자 대결 빵선이가서울시장되면서울은공산국가수도...\n",
       "3         재보궐  부산 김영춘  박형준 서울도 양자 대결 서울시장후보더듬당박빵선이는절대로서울...\n",
       "4         재보궐  부산 김영춘  박형준 서울도 양자 대결 부산은오거돈선거이고 오거돈치부선거아...\n",
       "                                ...                        \n",
       "144134    논설위원의 단도직입한일해저터널 경제성 없지만동북아 경제권 차원서 장기 검토해야 국민...\n",
       "144135    논설위원의 단도직입한일해저터널 경제성 없지만동북아 경제권 차원서 장기 검토해야 굳이...\n",
       "144136    논설위원의 단도직입한일해저터널 경제성 없지만동북아 경제권 차원서 장기 검토해야 도랏...\n",
       "144137    논설위원의 단도직입한일해저터널 경제성 없지만동북아 경제권 차원서 장기 검토해야 이걸...\n",
       "144138    논설위원의 단도직입한일해저터널 경제성 없지만동북아 경제권 차원서 장기 검토해야 우리...\n",
       "Name: title_comment, Length: 144139, dtype: object"
      ]
     },
     "execution_count": 140,
     "metadata": {},
     "output_type": "execute_result"
    }
   ],
   "source": [
    "df['title_comment']"
   ]
  },
  {
   "cell_type": "code",
   "execution_count": 141,
   "metadata": {
    "ExecuteTime": {
     "end_time": "2021-05-14T05:11:53.603019Z",
     "start_time": "2021-05-14T05:02:05.672109Z"
    }
   },
   "outputs": [
    {
     "data": {
      "text/plain": [
       "array([0., 0., 0., ..., 0., 0., 0.])"
      ]
     },
     "execution_count": 141,
     "metadata": {},
     "output_type": "execute_result"
    }
   ],
   "source": [
    "# CounterVectorrizer는 다시 fit시키는 것이 아니라 transform만 시키는 것\n",
    "X = index_vectorizer.transform(total_X.to_list())\n",
    "\n",
    "# tf-idf는 새로 생성하는 것이 아니라 학습시킨 td-idf를 저장하여 사용하는 것\n",
    "X = new_tfidf_vectorizer.transform(X)\n",
    "\n",
    "y_pred = new_model.predict(X)\n",
    "y_pred"
   ]
  },
  {
   "cell_type": "code",
   "execution_count": 142,
   "metadata": {
    "ExecuteTime": {
     "end_time": "2021-05-14T05:11:53.765620Z",
     "start_time": "2021-05-14T05:11:53.761595Z"
    },
    "scrolled": true
   },
   "outputs": [
    {
     "data": {
      "text/plain": [
       "array([0., 0., 0., ..., 0., 0., 0.])"
      ]
     },
     "execution_count": 142,
     "metadata": {},
     "output_type": "execute_result"
    }
   ],
   "source": [
    "y_pred"
   ]
  },
  {
   "cell_type": "markdown",
   "metadata": {},
   "source": [
    "### 7.1.2 후보별 예측 긍정/부정률 확인하기"
   ]
  },
  {
   "cell_type": "code",
   "execution_count": 143,
   "metadata": {
    "ExecuteTime": {
     "end_time": "2021-05-14T05:11:53.919173Z",
     "start_time": "2021-05-14T05:11:53.910248Z"
    }
   },
   "outputs": [],
   "source": [
    "target_df = df[['title_comment','area_candidate']]\n",
    "target_df['pred_sentiment'] = y_pred"
   ]
  },
  {
   "cell_type": "code",
   "execution_count": 144,
   "metadata": {
    "ExecuteTime": {
     "end_time": "2021-05-14T05:11:54.094704Z",
     "start_time": "2021-05-14T05:11:54.073794Z"
    }
   },
   "outputs": [
    {
     "data": {
      "text/plain": [
       "area_candidate\n",
       "박영선    0.057188\n",
       "오세훈    0.145561\n",
       "김영춘    0.021978\n",
       "박형준    0.094583\n",
       "Name: pred_sentiment, dtype: float64"
      ]
     },
     "execution_count": 144,
     "metadata": {},
     "output_type": "execute_result"
    }
   ],
   "source": [
    "a = target_df.groupby('area_candidate').mean().loc[['박영선','오세훈','김영춘','박형준']]\n",
    "a['pred_sentiment']"
   ]
  },
  {
   "cell_type": "code",
   "execution_count": 145,
   "metadata": {
    "ExecuteTime": {
     "end_time": "2021-05-14T05:11:54.375953Z",
     "start_time": "2021-05-14T05:11:54.255290Z"
    },
    "scrolled": false
   },
   "outputs": [
    {
     "data": {
      "image/png": "[encoded data removed]",
      "text/plain": [
       "<Figure size 720x360 with 1 Axes>"
      ]
     },
     "metadata": {},
     "output_type": "display_data"
    }
   ],
   "source": [
    "a['pred_sentiment'].plot(kind='bar', color=['b','r','b','r'], alpha=0.7)\n",
    "plt.title('[Figure] 후보별 예측 평균 긍정률')\n",
    "plt.show()"
   ]
  },
  {
   "cell_type": "code",
   "execution_count": 166,
   "metadata": {
    "ExecuteTime": {
     "end_time": "2021-05-14T05:15:17.420033Z",
     "start_time": "2021-05-14T05:15:17.414048Z"
    }
   },
   "outputs": [
    {
     "data": {
      "text/plain": [
       "(0.28206470733769284, 0.7179352926623072)"
      ]
     },
     "execution_count": 166,
     "metadata": {},
     "output_type": "execute_result"
    }
   ],
   "source": [
    "# 비율 확인\n",
    "seoul = a['pred_sentiment'][['박영선','오세훈']].sum()\n",
    "a['pred_sentiment']['박영선'] / seoul, a['pred_sentiment']['오세훈'] / seoul"
   ]
  },
  {
   "cell_type": "code",
   "execution_count": 167,
   "metadata": {
    "ExecuteTime": {
     "end_time": "2021-05-14T05:15:23.641982Z",
     "start_time": "2021-05-14T05:15:23.628660Z"
    }
   },
   "outputs": [
    {
     "data": {
      "text/plain": [
       "(0.18855382619974062, 0.8114461738002594)"
      ]
     },
     "execution_count": 167,
     "metadata": {},
     "output_type": "execute_result"
    }
   ],
   "source": [
    "# 비율 확인\n",
    "busan = a['pred_sentiment'][['김영춘','박형준']].sum()\n",
    "a['pred_sentiment']['김영춘'] / busan, a['pred_sentiment']['박형준'] / busan"
   ]
  },
  {
   "cell_type": "markdown",
   "metadata": {},
   "source": [
    "### 7.1.3 출처 비율 조정하고 예측"
   ]
  },
  {
   "cell_type": "code",
   "execution_count": 168,
   "metadata": {
    "ExecuteTime": {
     "end_time": "2021-05-14T05:15:28.351851Z",
     "start_time": "2021-05-14T05:15:28.337920Z"
    },
    "scrolled": true
   },
   "outputs": [
    {
     "data": {
      "text/plain": [
       "조선일보    53880\n",
       "중앙일보    35171\n",
       "유튜브     21844\n",
       "경향신문    13222\n",
       "동아일보    12316\n",
       "한겨레      7193\n",
       "JTBC      513\n",
       "Name: source, dtype: int64"
      ]
     },
     "execution_count": 168,
     "metadata": {},
     "output_type": "execute_result"
    }
   ],
   "source": [
    "# model2로 후보자 예측한 결과값이 포함된 데이터의 출처\n",
    "df['source'].value_counts()"
   ]
  },
  {
   "cell_type": "code",
   "execution_count": 169,
   "metadata": {
    "ExecuteTime": {
     "end_time": "2021-05-14T05:15:28.575253Z",
     "start_time": "2021-05-14T05:15:28.562288Z"
    }
   },
   "outputs": [
    {
     "data": {
      "text/plain": [
       "20928"
      ]
     },
     "execution_count": 169,
     "metadata": {},
     "output_type": "execute_result"
    }
   ],
   "source": [
    "# 진보언론사라고 평가받는 언론사 출처의 댓글수\n",
    "df['source'].value_counts()[['경향신문','한겨레','JTBC']].sum()"
   ]
  },
  {
   "cell_type": "code",
   "execution_count": 170,
   "metadata": {
    "ExecuteTime": {
     "end_time": "2021-05-14T05:15:28.908870Z",
     "start_time": "2021-05-14T05:15:28.775729Z"
    }
   },
   "outputs": [
    {
     "data": {
      "text/plain": [
       "array([122278, 113065, 142889, ...,  23056,   5416, 121876])"
      ]
     },
     "execution_count": 170,
     "metadata": {},
     "output_type": "execute_result"
    }
   ],
   "source": [
    "# 출처가 보수언론인 인덱스값\n",
    "conservative = df[df['source'].str.contains('[조선|중앙|동아]')].index.to_list()\n",
    "progressive_idx  = df[df['source'].str.contains('[한겨레|JTBC|경향]')].index.to_list()\n",
    "\n",
    "# 랜덤으로 보수언론에서 인덱스 뽑기\n",
    "rand_conservative_idx = np.random.choice(conservative, size=20928, replace=False)\n",
    "rand_conservative_idx"
   ]
  },
  {
   "cell_type": "code",
   "execution_count": 171,
   "metadata": {
    "ExecuteTime": {
     "end_time": "2021-05-14T05:15:29.092379Z",
     "start_time": "2021-05-14T05:15:29.080412Z"
    }
   },
   "outputs": [
    {
     "data": {
      "text/html": [
       "<div>\n",
       "<style scoped>\n",
       "    .dataframe tbody tr th:only-of-type {\n",
       "        vertical-align: middle;\n",
       "    }\n",
       "\n",
       "    .dataframe tbody tr th {\n",
       "        vertical-align: top;\n",
       "    }\n",
       "\n",
       "    .dataframe thead th {\n",
       "        text-align: right;\n",
       "    }\n",
       "</style>\n",
       "<table border=\"1\" class=\"dataframe\">\n",
       "  <thead>\n",
       "    <tr style=\"text-align: right;\">\n",
       "      <th></th>\n",
       "      <th>title_comment</th>\n",
       "      <th>area_candidate</th>\n",
       "      <th>pred_sentiment</th>\n",
       "    </tr>\n",
       "  </thead>\n",
       "  <tbody>\n",
       "    <tr>\n",
       "      <th>70306</th>\n",
       "      <td>여 일 잘할 후보 골라달라  야 선거 왜 하는지 알려야 허경영 후보를  자 토론에 ...</td>\n",
       "      <td>오세훈</td>\n",
       "      <td>0.0</td>\n",
       "    </tr>\n",
       "    <tr>\n",
       "      <th>70307</th>\n",
       "      <td>김영춘 박 후보 의혹투성이박형준 정권 평가 선거 다마네기박 헹주니는 무슨죄가있어도 ...</td>\n",
       "      <td>박형준</td>\n",
       "      <td>0.0</td>\n",
       "    </tr>\n",
       "    <tr>\n",
       "      <th>70308</th>\n",
       "      <td>김영춘 박 후보 의혹투성이박형준 정권 평가 선거 세상 참 더럽게 살았네 ㅉ ㅉ어떻게...</td>\n",
       "      <td>오세훈</td>\n",
       "      <td>0.0</td>\n",
       "    </tr>\n",
       "    <tr>\n",
       "      <th>70309</th>\n",
       "      <td>김영춘 박 후보 의혹투성이박형준 정권 평가 선거 국짐 장 쓰레기들은 시장선거에 무슨...</td>\n",
       "      <td>박형준</td>\n",
       "      <td>0.0</td>\n",
       "    </tr>\n",
       "    <tr>\n",
       "      <th>70310</th>\n",
       "      <td>선거 뒤로 연기된 오거돈 재판시민단체 정치적 계산 영화 검사외전의 우종길 정치적인 ...</td>\n",
       "      <td>기타</td>\n",
       "      <td>0.0</td>\n",
       "    </tr>\n",
       "    <tr>\n",
       "      <th>...</th>\n",
       "      <td>...</td>\n",
       "      <td>...</td>\n",
       "      <td>...</td>\n",
       "    </tr>\n",
       "    <tr>\n",
       "      <th>144134</th>\n",
       "      <td>논설위원의 단도직입한일해저터널 경제성 없지만동북아 경제권 차원서 장기 검토해야 국민...</td>\n",
       "      <td>기타</td>\n",
       "      <td>0.0</td>\n",
       "    </tr>\n",
       "    <tr>\n",
       "      <th>144135</th>\n",
       "      <td>논설위원의 단도직입한일해저터널 경제성 없지만동북아 경제권 차원서 장기 검토해야 굳이...</td>\n",
       "      <td>박영선</td>\n",
       "      <td>0.0</td>\n",
       "    </tr>\n",
       "    <tr>\n",
       "      <th>144136</th>\n",
       "      <td>논설위원의 단도직입한일해저터널 경제성 없지만동북아 경제권 차원서 장기 검토해야 도랏...</td>\n",
       "      <td>기타</td>\n",
       "      <td>0.0</td>\n",
       "    </tr>\n",
       "    <tr>\n",
       "      <th>144137</th>\n",
       "      <td>논설위원의 단도직입한일해저터널 경제성 없지만동북아 경제권 차원서 장기 검토해야 이걸...</td>\n",
       "      <td>박영선</td>\n",
       "      <td>0.0</td>\n",
       "    </tr>\n",
       "    <tr>\n",
       "      <th>144138</th>\n",
       "      <td>논설위원의 단도직입한일해저터널 경제성 없지만동북아 경제권 차원서 장기 검토해야 우리...</td>\n",
       "      <td>기타</td>\n",
       "      <td>0.0</td>\n",
       "    </tr>\n",
       "  </tbody>\n",
       "</table>\n",
       "<p>20928 rows × 3 columns</p>\n",
       "</div>"
      ],
      "text/plain": [
       "                                            title_comment area_candidate  \\\n",
       "70306   여 일 잘할 후보 골라달라  야 선거 왜 하는지 알려야 허경영 후보를  자 토론에 ...            오세훈   \n",
       "70307   김영춘 박 후보 의혹투성이박형준 정권 평가 선거 다마네기박 헹주니는 무슨죄가있어도 ...            박형준   \n",
       "70308   김영춘 박 후보 의혹투성이박형준 정권 평가 선거 세상 참 더럽게 살았네 ㅉ ㅉ어떻게...            오세훈   \n",
       "70309   김영춘 박 후보 의혹투성이박형준 정권 평가 선거 국짐 장 쓰레기들은 시장선거에 무슨...            박형준   \n",
       "70310   선거 뒤로 연기된 오거돈 재판시민단체 정치적 계산 영화 검사외전의 우종길 정치적인 ...             기타   \n",
       "...                                                   ...            ...   \n",
       "144134  논설위원의 단도직입한일해저터널 경제성 없지만동북아 경제권 차원서 장기 검토해야 국민...             기타   \n",
       "144135  논설위원의 단도직입한일해저터널 경제성 없지만동북아 경제권 차원서 장기 검토해야 굳이...            박영선   \n",
       "144136  논설위원의 단도직입한일해저터널 경제성 없지만동북아 경제권 차원서 장기 검토해야 도랏...             기타   \n",
       "144137  논설위원의 단도직입한일해저터널 경제성 없지만동북아 경제권 차원서 장기 검토해야 이걸...            박영선   \n",
       "144138  논설위원의 단도직입한일해저터널 경제성 없지만동북아 경제권 차원서 장기 검토해야 우리...             기타   \n",
       "\n",
       "        pred_sentiment  \n",
       "70306              0.0  \n",
       "70307              0.0  \n",
       "70308              0.0  \n",
       "70309              0.0  \n",
       "70310              0.0  \n",
       "...                ...  \n",
       "144134             0.0  \n",
       "144135             0.0  \n",
       "144136             0.0  \n",
       "144137             0.0  \n",
       "144138             0.0  \n",
       "\n",
       "[20928 rows x 3 columns]"
      ]
     },
     "execution_count": 171,
     "metadata": {},
     "output_type": "execute_result"
    }
   ],
   "source": [
    "target_df.iloc[progressive_idx] # 진보언론"
   ]
  },
  {
   "cell_type": "code",
   "execution_count": 172,
   "metadata": {
    "ExecuteTime": {
     "end_time": "2021-05-14T05:15:29.277919Z",
     "start_time": "2021-05-14T05:15:29.264965Z"
    }
   },
   "outputs": [
    {
     "data": {
      "text/html": [
       "<div>\n",
       "<style scoped>\n",
       "    .dataframe tbody tr th:only-of-type {\n",
       "        vertical-align: middle;\n",
       "    }\n",
       "\n",
       "    .dataframe tbody tr th {\n",
       "        vertical-align: top;\n",
       "    }\n",
       "\n",
       "    .dataframe thead th {\n",
       "        text-align: right;\n",
       "    }\n",
       "</style>\n",
       "<table border=\"1\" class=\"dataframe\">\n",
       "  <thead>\n",
       "    <tr style=\"text-align: right;\">\n",
       "      <th></th>\n",
       "      <th>title_comment</th>\n",
       "      <th>area_candidate</th>\n",
       "      <th>pred_sentiment</th>\n",
       "    </tr>\n",
       "  </thead>\n",
       "  <tbody>\n",
       "    <tr>\n",
       "      <th>122278</th>\n",
       "      <td>박영선 통번역대학원생 면전서  번역 빠르고 정확 무식의 극치 경제관념 도 없는 끝판...</td>\n",
       "      <td>박영선</td>\n",
       "      <td>0.0</td>\n",
       "    </tr>\n",
       "    <tr>\n",
       "      <th>113065</th>\n",
       "      <td>김웅 사전투표 이겼다는 박영선캠프 거짓말 아닐수 있다 이렇게 자신하는 것은 사전투표...</td>\n",
       "      <td>기타</td>\n",
       "      <td>0.0</td>\n",
       "    </tr>\n",
       "    <tr>\n",
       "      <th>142889</th>\n",
       "      <td>박영선 오세훈처가 주택용지도 받아 오세훈 시민 속이는 거짓말 적반하장시민 속이는 거...</td>\n",
       "      <td>박영선</td>\n",
       "      <td>0.0</td>\n",
       "    </tr>\n",
       "    <tr>\n",
       "      <th>58984</th>\n",
       "      <td>대통령에 왜 존칭 안썼나친문재인에 양념당한 민주당 양향자 미안하다 문재인이라고 해서...</td>\n",
       "      <td>박영선</td>\n",
       "      <td>0.0</td>\n",
       "    </tr>\n",
       "    <tr>\n",
       "      <th>5772</th>\n",
       "      <td>법 어기면 처벌된다며 반발 관료발 레임덕 징후 뚜렷 공무원들의 확실히 해라 법이 문...</td>\n",
       "      <td>기타</td>\n",
       "      <td>0.0</td>\n",
       "    </tr>\n",
       "    <tr>\n",
       "      <th>...</th>\n",
       "      <td>...</td>\n",
       "      <td>...</td>\n",
       "      <td>...</td>\n",
       "    </tr>\n",
       "    <tr>\n",
       "      <th>120496</th>\n",
       "      <td>오세훈   박영선  오세훈 모든 연령대서 앞섰다 환영하고당연합니디위대한대한민국 국민...</td>\n",
       "      <td>오세훈</td>\n",
       "      <td>0.0</td>\n",
       "    </tr>\n",
       "    <tr>\n",
       "      <th>26346</th>\n",
       "      <td>박영선   안철수 박영선   오세훈  서울부산 선거는 성범죄 심판선거다오거돈박원순은...</td>\n",
       "      <td>박영선</td>\n",
       "      <td>0.0</td>\n",
       "    </tr>\n",
       "    <tr>\n",
       "      <th>23056</th>\n",
       "      <td>사설 문재인 지지율 급락에 김현미 경질 그런데 추미애는 유임이라니 척 각하께선 이전...</td>\n",
       "      <td>기타</td>\n",
       "      <td>0.0</td>\n",
       "    </tr>\n",
       "    <tr>\n",
       "      <th>5416</th>\n",
       "      <td>인천공항이 세계 위인데 문재인 가덕도가 세계적 물류허브 물류니 허브니 하는 것보니 ...</td>\n",
       "      <td>기타</td>\n",
       "      <td>0.0</td>\n",
       "    </tr>\n",
       "    <tr>\n",
       "      <th>121876</th>\n",
       "      <td>박영선 측의 해명  번역 아닌  자막업체다 전문 이것아 씨 부리며 묵고 살던 아나운...</td>\n",
       "      <td>박영선</td>\n",
       "      <td>0.0</td>\n",
       "    </tr>\n",
       "  </tbody>\n",
       "</table>\n",
       "<p>20928 rows × 3 columns</p>\n",
       "</div>"
      ],
      "text/plain": [
       "                                            title_comment area_candidate  \\\n",
       "122278  박영선 통번역대학원생 면전서  번역 빠르고 정확 무식의 극치 경제관념 도 없는 끝판...            박영선   \n",
       "113065  김웅 사전투표 이겼다는 박영선캠프 거짓말 아닐수 있다 이렇게 자신하는 것은 사전투표...             기타   \n",
       "142889  박영선 오세훈처가 주택용지도 받아 오세훈 시민 속이는 거짓말 적반하장시민 속이는 거...            박영선   \n",
       "58984   대통령에 왜 존칭 안썼나친문재인에 양념당한 민주당 양향자 미안하다 문재인이라고 해서...            박영선   \n",
       "5772    법 어기면 처벌된다며 반발 관료발 레임덕 징후 뚜렷 공무원들의 확실히 해라 법이 문...             기타   \n",
       "...                                                   ...            ...   \n",
       "120496  오세훈   박영선  오세훈 모든 연령대서 앞섰다 환영하고당연합니디위대한대한민국 국민...            오세훈   \n",
       "26346   박영선   안철수 박영선   오세훈  서울부산 선거는 성범죄 심판선거다오거돈박원순은...            박영선   \n",
       "23056   사설 문재인 지지율 급락에 김현미 경질 그런데 추미애는 유임이라니 척 각하께선 이전...             기타   \n",
       "5416    인천공항이 세계 위인데 문재인 가덕도가 세계적 물류허브 물류니 허브니 하는 것보니 ...             기타   \n",
       "121876  박영선 측의 해명  번역 아닌  자막업체다 전문 이것아 씨 부리며 묵고 살던 아나운...            박영선   \n",
       "\n",
       "        pred_sentiment  \n",
       "122278             0.0  \n",
       "113065             0.0  \n",
       "142889             0.0  \n",
       "58984              0.0  \n",
       "5772               0.0  \n",
       "...                ...  \n",
       "120496             0.0  \n",
       "26346              0.0  \n",
       "23056              0.0  \n",
       "5416               0.0  \n",
       "121876             0.0  \n",
       "\n",
       "[20928 rows x 3 columns]"
      ]
     },
     "execution_count": 172,
     "metadata": {},
     "output_type": "execute_result"
    }
   ],
   "source": [
    "target_df.iloc[rand_conservative_idx] # 보수언론"
   ]
  },
  {
   "cell_type": "code",
   "execution_count": 173,
   "metadata": {
    "ExecuteTime": {
     "end_time": "2021-05-14T05:15:29.741675Z",
     "start_time": "2021-05-14T05:15:29.725686Z"
    }
   },
   "outputs": [
    {
     "data": {
      "text/html": [
       "<div>\n",
       "<style scoped>\n",
       "    .dataframe tbody tr th:only-of-type {\n",
       "        vertical-align: middle;\n",
       "    }\n",
       "\n",
       "    .dataframe tbody tr th {\n",
       "        vertical-align: top;\n",
       "    }\n",
       "\n",
       "    .dataframe thead th {\n",
       "        text-align: right;\n",
       "    }\n",
       "</style>\n",
       "<table border=\"1\" class=\"dataframe\">\n",
       "  <thead>\n",
       "    <tr style=\"text-align: right;\">\n",
       "      <th></th>\n",
       "      <th>title_comment</th>\n",
       "      <th>area_candidate</th>\n",
       "      <th>pred_sentiment</th>\n",
       "    </tr>\n",
       "  </thead>\n",
       "  <tbody>\n",
       "    <tr>\n",
       "      <th>70306</th>\n",
       "      <td>여 일 잘할 후보 골라달라  야 선거 왜 하는지 알려야 허경영 후보를  자 토론에 ...</td>\n",
       "      <td>오세훈</td>\n",
       "      <td>0.0</td>\n",
       "    </tr>\n",
       "    <tr>\n",
       "      <th>70307</th>\n",
       "      <td>김영춘 박 후보 의혹투성이박형준 정권 평가 선거 다마네기박 헹주니는 무슨죄가있어도 ...</td>\n",
       "      <td>박형준</td>\n",
       "      <td>0.0</td>\n",
       "    </tr>\n",
       "    <tr>\n",
       "      <th>70308</th>\n",
       "      <td>김영춘 박 후보 의혹투성이박형준 정권 평가 선거 세상 참 더럽게 살았네 ㅉ ㅉ어떻게...</td>\n",
       "      <td>오세훈</td>\n",
       "      <td>0.0</td>\n",
       "    </tr>\n",
       "    <tr>\n",
       "      <th>70309</th>\n",
       "      <td>김영춘 박 후보 의혹투성이박형준 정권 평가 선거 국짐 장 쓰레기들은 시장선거에 무슨...</td>\n",
       "      <td>박형준</td>\n",
       "      <td>0.0</td>\n",
       "    </tr>\n",
       "    <tr>\n",
       "      <th>70310</th>\n",
       "      <td>선거 뒤로 연기된 오거돈 재판시민단체 정치적 계산 영화 검사외전의 우종길 정치적인 ...</td>\n",
       "      <td>기타</td>\n",
       "      <td>0.0</td>\n",
       "    </tr>\n",
       "    <tr>\n",
       "      <th>...</th>\n",
       "      <td>...</td>\n",
       "      <td>...</td>\n",
       "      <td>...</td>\n",
       "    </tr>\n",
       "    <tr>\n",
       "      <th>120496</th>\n",
       "      <td>오세훈   박영선  오세훈 모든 연령대서 앞섰다 환영하고당연합니디위대한대한민국 국민...</td>\n",
       "      <td>오세훈</td>\n",
       "      <td>0.0</td>\n",
       "    </tr>\n",
       "    <tr>\n",
       "      <th>26346</th>\n",
       "      <td>박영선   안철수 박영선   오세훈  서울부산 선거는 성범죄 심판선거다오거돈박원순은...</td>\n",
       "      <td>박영선</td>\n",
       "      <td>0.0</td>\n",
       "    </tr>\n",
       "    <tr>\n",
       "      <th>23056</th>\n",
       "      <td>사설 문재인 지지율 급락에 김현미 경질 그런데 추미애는 유임이라니 척 각하께선 이전...</td>\n",
       "      <td>기타</td>\n",
       "      <td>0.0</td>\n",
       "    </tr>\n",
       "    <tr>\n",
       "      <th>5416</th>\n",
       "      <td>인천공항이 세계 위인데 문재인 가덕도가 세계적 물류허브 물류니 허브니 하는 것보니 ...</td>\n",
       "      <td>기타</td>\n",
       "      <td>0.0</td>\n",
       "    </tr>\n",
       "    <tr>\n",
       "      <th>121876</th>\n",
       "      <td>박영선 측의 해명  번역 아닌  자막업체다 전문 이것아 씨 부리며 묵고 살던 아나운...</td>\n",
       "      <td>박영선</td>\n",
       "      <td>0.0</td>\n",
       "    </tr>\n",
       "  </tbody>\n",
       "</table>\n",
       "<p>41856 rows × 3 columns</p>\n",
       "</div>"
      ],
      "text/plain": [
       "                                            title_comment area_candidate  \\\n",
       "70306   여 일 잘할 후보 골라달라  야 선거 왜 하는지 알려야 허경영 후보를  자 토론에 ...            오세훈   \n",
       "70307   김영춘 박 후보 의혹투성이박형준 정권 평가 선거 다마네기박 헹주니는 무슨죄가있어도 ...            박형준   \n",
       "70308   김영춘 박 후보 의혹투성이박형준 정권 평가 선거 세상 참 더럽게 살았네 ㅉ ㅉ어떻게...            오세훈   \n",
       "70309   김영춘 박 후보 의혹투성이박형준 정권 평가 선거 국짐 장 쓰레기들은 시장선거에 무슨...            박형준   \n",
       "70310   선거 뒤로 연기된 오거돈 재판시민단체 정치적 계산 영화 검사외전의 우종길 정치적인 ...             기타   \n",
       "...                                                   ...            ...   \n",
       "120496  오세훈   박영선  오세훈 모든 연령대서 앞섰다 환영하고당연합니디위대한대한민국 국민...            오세훈   \n",
       "26346   박영선   안철수 박영선   오세훈  서울부산 선거는 성범죄 심판선거다오거돈박원순은...            박영선   \n",
       "23056   사설 문재인 지지율 급락에 김현미 경질 그런데 추미애는 유임이라니 척 각하께선 이전...             기타   \n",
       "5416    인천공항이 세계 위인데 문재인 가덕도가 세계적 물류허브 물류니 허브니 하는 것보니 ...             기타   \n",
       "121876  박영선 측의 해명  번역 아닌  자막업체다 전문 이것아 씨 부리며 묵고 살던 아나운...            박영선   \n",
       "\n",
       "        pred_sentiment  \n",
       "70306              0.0  \n",
       "70307              0.0  \n",
       "70308              0.0  \n",
       "70309              0.0  \n",
       "70310              0.0  \n",
       "...                ...  \n",
       "120496             0.0  \n",
       "26346              0.0  \n",
       "23056              0.0  \n",
       "5416               0.0  \n",
       "121876             0.0  \n",
       "\n",
       "[41856 rows x 3 columns]"
      ]
     },
     "execution_count": 173,
     "metadata": {},
     "output_type": "execute_result"
    }
   ],
   "source": [
    "re_df = pd.concat([target_df.iloc[progressive_idx],\n",
    "                   target_df.iloc[rand_conservative_idx]])\n",
    "re_df"
   ]
  },
  {
   "cell_type": "code",
   "execution_count": 174,
   "metadata": {
    "ExecuteTime": {
     "end_time": "2021-05-14T05:15:30.307066Z",
     "start_time": "2021-05-14T05:15:30.282087Z"
    }
   },
   "outputs": [
    {
     "data": {
      "text/plain": [
       "area_candidate\n",
       "박영선    0.035257\n",
       "오세훈    0.074644\n",
       "김영춘    0.071429\n",
       "박형준    0.056300\n",
       "Name: pred_sentiment, dtype: float64"
      ]
     },
     "execution_count": 174,
     "metadata": {},
     "output_type": "execute_result"
    }
   ],
   "source": [
    "b = re_df.groupby('area_candidate').mean().loc[['박영선','오세훈','김영춘','박형준']]\n",
    "b['pred_sentiment']"
   ]
  },
  {
   "cell_type": "code",
   "execution_count": 175,
   "metadata": {
    "ExecuteTime": {
     "end_time": "2021-05-14T05:15:31.238172Z",
     "start_time": "2021-05-14T05:15:31.136581Z"
    },
    "scrolled": false
   },
   "outputs": [
    {
     "data": {
      "image/png": "[encoded data removed]",
      "text/plain": [
       "<Figure size 720x360 with 1 Axes>"
      ]
     },
     "metadata": {},
     "output_type": "display_data"
    }
   ],
   "source": [
    "b['pred_sentiment'].plot(kind='bar', color=['b','r','b','r'], alpha=0.7)\n",
    "plt.title('[Figure] 후보별 예측 평균 긍정률')\n",
    "plt.show()"
   ]
  },
  {
   "cell_type": "code",
   "execution_count": 176,
   "metadata": {
    "ExecuteTime": {
     "end_time": "2021-05-14T05:15:57.442114Z",
     "start_time": "2021-05-14T05:15:57.435134Z"
    }
   },
   "outputs": [
    {
     "data": {
      "text/plain": [
       "(0.28206470733769284, 0.7179352926623072)"
      ]
     },
     "execution_count": 176,
     "metadata": {},
     "output_type": "execute_result"
    }
   ],
   "source": [
    "# 비율 확인\n",
    "seoul = a['pred_sentiment'][['박영선','오세훈']].sum()\n",
    "a['pred_sentiment']['박영선'] / seoul, a['pred_sentiment']['오세훈'] / seoul"
   ]
  },
  {
   "cell_type": "code",
   "execution_count": 177,
   "metadata": {
    "ExecuteTime": {
     "end_time": "2021-05-14T05:15:57.713389Z",
     "start_time": "2021-05-14T05:15:57.707406Z"
    }
   },
   "outputs": [
    {
     "data": {
      "text/plain": [
       "(0.18855382619974062, 0.8114461738002594)"
      ]
     },
     "execution_count": 177,
     "metadata": {},
     "output_type": "execute_result"
    }
   ],
   "source": [
    "# 비율 확인\n",
    "busan = a['pred_sentiment'][['김영춘','박형준']].sum()\n",
    "a['pred_sentiment']['김영춘'] / busan, a['pred_sentiment']['박형준'] / busan"
   ]
  },
  {
   "cell_type": "markdown",
   "metadata": {},
   "source": [
    "### 7.2.1 후보자명/당명을 제거하고 학습한 모델"
   ]
  },
  {
   "cell_type": "code",
   "execution_count": 182,
   "metadata": {
    "ExecuteTime": {
     "end_time": "2021-05-14T05:18:45.429994Z",
     "start_time": "2021-05-14T05:18:45.426011Z"
    }
   },
   "outputs": [
    {
     "name": "stdout",
     "output_type": "stream",
     "text": [
      "출력 완료\n"
     ]
    }
   ],
   "source": [
    "# 감성분석 모델 불러오기\n",
    "with open('model/sentiment_analysis_model1_05140150.dat', 'rb') as fp:\n",
    "    new_model = pickle.load(fp)\n",
    "print('출력 완료')"
   ]
  },
  {
   "cell_type": "code",
   "execution_count": 183,
   "metadata": {
    "ExecuteTime": {
     "end_time": "2021-05-14T05:18:45.610485Z",
     "start_time": "2021-05-14T05:18:45.605498Z"
    }
   },
   "outputs": [
    {
     "name": "stdout",
     "output_type": "stream",
     "text": [
      "출력 완료\n"
     ]
    }
   ],
   "source": [
    "# Tf-Idf Vectorizer 불러오기\n",
    "with open('model/tfidf_vectorizer_05140150.dat', 'rb') as fp:\n",
    "    new_tfidf_vectorizer = pickle.load(fp)\n",
    "print('출력 완료')"
   ]
  },
  {
   "cell_type": "markdown",
   "metadata": {},
   "source": [
    "### 7.2.2 예측하기"
   ]
  },
  {
   "cell_type": "code",
   "execution_count": 180,
   "metadata": {
    "ExecuteTime": {
     "end_time": "2021-05-14T05:16:42.487632Z",
     "start_time": "2021-05-14T05:16:42.484674Z"
    }
   },
   "outputs": [],
   "source": [
    "total_X2 = df['title_comment']"
   ]
  },
  {
   "cell_type": "code",
   "execution_count": 184,
   "metadata": {
    "ExecuteTime": {
     "end_time": "2021-05-14T05:29:26.943977Z",
     "start_time": "2021-05-14T05:18:47.303916Z"
    }
   },
   "outputs": [
    {
     "data": {
      "text/plain": [
       "array([0., 0., 0., ..., 0., 0., 0.])"
      ]
     },
     "execution_count": 184,
     "metadata": {},
     "output_type": "execute_result"
    }
   ],
   "source": [
    "# CounterVectorrizer는 다시 fit시키는 것이 아니라 transform만 시키는 것\n",
    "X2 = index_vectorizer2.transform(total_X2.to_list())\n",
    "\n",
    "# tf-idf는 새로 생성하는 것이 아니라 학습시킨 td-idf를 저장하여 사용하는 것\n",
    "X2 = new_tfidf_vectorizer.transform(X2)\n",
    "\n",
    "y_pred2 = new_model.predict(X2)\n",
    "y_pred2"
   ]
  },
  {
   "cell_type": "code",
   "execution_count": 185,
   "metadata": {
    "ExecuteTime": {
     "end_time": "2021-05-14T05:29:27.144440Z",
     "start_time": "2021-05-14T05:29:27.135466Z"
    }
   },
   "outputs": [],
   "source": [
    "target_df2 = df[['title_comment','area_candidate']]\n",
    "target_df2['pred_sentiment'] = y_pred2"
   ]
  },
  {
   "cell_type": "code",
   "execution_count": 186,
   "metadata": {
    "ExecuteTime": {
     "end_time": "2021-05-14T05:29:27.352568Z",
     "start_time": "2021-05-14T05:29:27.332355Z"
    }
   },
   "outputs": [
    {
     "data": {
      "text/plain": [
       "area_candidate\n",
       "박영선    0.054594\n",
       "오세훈    0.127916\n",
       "김영춘    0.021978\n",
       "박형준    0.075666\n",
       "Name: pred_sentiment, dtype: float64"
      ]
     },
     "execution_count": 186,
     "metadata": {},
     "output_type": "execute_result"
    }
   ],
   "source": [
    "a = target_df2.groupby('area_candidate').mean().loc[['박영선','오세훈','김영춘','박형준']]\n",
    "a['pred_sentiment']"
   ]
  },
  {
   "cell_type": "code",
   "execution_count": 187,
   "metadata": {
    "ExecuteTime": {
     "end_time": "2021-05-14T05:29:27.627972Z",
     "start_time": "2021-05-14T05:29:27.530608Z"
    },
    "scrolled": false
   },
   "outputs": [
    {
     "data": {
      "image/png": "[encoded data removed]",
      "text/plain": [
       "<Figure size 720x360 with 1 Axes>"
      ]
     },
     "metadata": {},
     "output_type": "display_data"
    }
   ],
   "source": [
    "a['pred_sentiment'].plot(kind='bar', color=['b','r','b','r'], alpha=0.7)\n",
    "plt.title('[Figure] 후보별 예측 평균 긍정률')\n",
    "plt.show()"
   ]
  },
  {
   "cell_type": "code",
   "execution_count": 188,
   "metadata": {
    "ExecuteTime": {
     "end_time": "2021-05-14T05:29:27.816524Z",
     "start_time": "2021-05-14T05:29:27.811539Z"
    }
   },
   "outputs": [
    {
     "data": {
      "text/plain": [
       "(0.29913093271358043, 0.7008690672864196)"
      ]
     },
     "execution_count": 188,
     "metadata": {},
     "output_type": "execute_result"
    }
   ],
   "source": [
    "# 비율 확인\n",
    "seoul = a['pred_sentiment'][['박영선','오세훈']].sum()\n",
    "a['pred_sentiment']['박영선'] / seoul, a['pred_sentiment']['오세훈'] / seoul"
   ]
  },
  {
   "cell_type": "code",
   "execution_count": 189,
   "metadata": {
    "ExecuteTime": {
     "end_time": "2021-05-14T05:29:28.007297Z",
     "start_time": "2021-05-14T05:29:28.001313Z"
    }
   },
   "outputs": [
    {
     "data": {
      "text/plain": [
       "(0.2250822527578866, 0.7749177472421134)"
      ]
     },
     "execution_count": 189,
     "metadata": {},
     "output_type": "execute_result"
    }
   ],
   "source": [
    "# 비율 확인\n",
    "busan = a['pred_sentiment'][['김영춘','박형준']].sum()\n",
    "a['pred_sentiment']['김영춘'] / busan, a['pred_sentiment']['박형준'] / busan"
   ]
  },
  {
   "cell_type": "markdown",
   "metadata": {},
   "source": [
    "### 7.2.3 출처 비율 조정하고 예측"
   ]
  },
  {
   "cell_type": "code",
   "execution_count": 192,
   "metadata": {
    "ExecuteTime": {
     "end_time": "2021-05-14T05:30:32.993847Z",
     "start_time": "2021-05-14T05:30:32.867475Z"
    }
   },
   "outputs": [
    {
     "data": {
      "text/plain": [
       "array([ 62848,  59169, 141103, ...,  53340,  58469, 111617])"
      ]
     },
     "execution_count": 192,
     "metadata": {},
     "output_type": "execute_result"
    }
   ],
   "source": [
    "# 출처가 보수언론인 인덱스값\n",
    "conservative = df[df['source'].str.contains('[조선|중앙|동아]')].index.to_list()\n",
    "progressive_idx  = df[df['source'].str.contains('[한겨레|JTBC|경향]')].index.to_list()\n",
    "\n",
    "# 랜덤으로 보수언론에서 인덱스 뽑기\n",
    "rand_conservative_idx = np.random.choice(conservative, size=20928, replace=False)\n",
    "rand_conservative_idx"
   ]
  },
  {
   "cell_type": "code",
   "execution_count": 193,
   "metadata": {
    "ExecuteTime": {
     "end_time": "2021-05-14T05:30:33.350904Z",
     "start_time": "2021-05-14T05:30:33.338935Z"
    }
   },
   "outputs": [
    {
     "data": {
      "text/html": [
       "<div>\n",
       "<style scoped>\n",
       "    .dataframe tbody tr th:only-of-type {\n",
       "        vertical-align: middle;\n",
       "    }\n",
       "\n",
       "    .dataframe tbody tr th {\n",
       "        vertical-align: top;\n",
       "    }\n",
       "\n",
       "    .dataframe thead th {\n",
       "        text-align: right;\n",
       "    }\n",
       "</style>\n",
       "<table border=\"1\" class=\"dataframe\">\n",
       "  <thead>\n",
       "    <tr style=\"text-align: right;\">\n",
       "      <th></th>\n",
       "      <th>title_comment</th>\n",
       "      <th>area_candidate</th>\n",
       "      <th>pred_sentiment</th>\n",
       "    </tr>\n",
       "  </thead>\n",
       "  <tbody>\n",
       "    <tr>\n",
       "      <th>70306</th>\n",
       "      <td>여 일 잘할 후보 골라달라  야 선거 왜 하는지 알려야 허경영 후보를  자 토론에 ...</td>\n",
       "      <td>오세훈</td>\n",
       "      <td>0.0</td>\n",
       "    </tr>\n",
       "    <tr>\n",
       "      <th>70307</th>\n",
       "      <td>김영춘 박 후보 의혹투성이박형준 정권 평가 선거 다마네기박 헹주니는 무슨죄가있어도 ...</td>\n",
       "      <td>박형준</td>\n",
       "      <td>0.0</td>\n",
       "    </tr>\n",
       "    <tr>\n",
       "      <th>70308</th>\n",
       "      <td>김영춘 박 후보 의혹투성이박형준 정권 평가 선거 세상 참 더럽게 살았네 ㅉ ㅉ어떻게...</td>\n",
       "      <td>오세훈</td>\n",
       "      <td>0.0</td>\n",
       "    </tr>\n",
       "    <tr>\n",
       "      <th>70309</th>\n",
       "      <td>김영춘 박 후보 의혹투성이박형준 정권 평가 선거 국짐 장 쓰레기들은 시장선거에 무슨...</td>\n",
       "      <td>박형준</td>\n",
       "      <td>0.0</td>\n",
       "    </tr>\n",
       "    <tr>\n",
       "      <th>70310</th>\n",
       "      <td>선거 뒤로 연기된 오거돈 재판시민단체 정치적 계산 영화 검사외전의 우종길 정치적인 ...</td>\n",
       "      <td>기타</td>\n",
       "      <td>0.0</td>\n",
       "    </tr>\n",
       "    <tr>\n",
       "      <th>...</th>\n",
       "      <td>...</td>\n",
       "      <td>...</td>\n",
       "      <td>...</td>\n",
       "    </tr>\n",
       "    <tr>\n",
       "      <th>144134</th>\n",
       "      <td>논설위원의 단도직입한일해저터널 경제성 없지만동북아 경제권 차원서 장기 검토해야 국민...</td>\n",
       "      <td>기타</td>\n",
       "      <td>0.0</td>\n",
       "    </tr>\n",
       "    <tr>\n",
       "      <th>144135</th>\n",
       "      <td>논설위원의 단도직입한일해저터널 경제성 없지만동북아 경제권 차원서 장기 검토해야 굳이...</td>\n",
       "      <td>박영선</td>\n",
       "      <td>0.0</td>\n",
       "    </tr>\n",
       "    <tr>\n",
       "      <th>144136</th>\n",
       "      <td>논설위원의 단도직입한일해저터널 경제성 없지만동북아 경제권 차원서 장기 검토해야 도랏...</td>\n",
       "      <td>기타</td>\n",
       "      <td>0.0</td>\n",
       "    </tr>\n",
       "    <tr>\n",
       "      <th>144137</th>\n",
       "      <td>논설위원의 단도직입한일해저터널 경제성 없지만동북아 경제권 차원서 장기 검토해야 이걸...</td>\n",
       "      <td>박영선</td>\n",
       "      <td>0.0</td>\n",
       "    </tr>\n",
       "    <tr>\n",
       "      <th>144138</th>\n",
       "      <td>논설위원의 단도직입한일해저터널 경제성 없지만동북아 경제권 차원서 장기 검토해야 우리...</td>\n",
       "      <td>기타</td>\n",
       "      <td>0.0</td>\n",
       "    </tr>\n",
       "  </tbody>\n",
       "</table>\n",
       "<p>20928 rows × 3 columns</p>\n",
       "</div>"
      ],
      "text/plain": [
       "                                            title_comment area_candidate  \\\n",
       "70306   여 일 잘할 후보 골라달라  야 선거 왜 하는지 알려야 허경영 후보를  자 토론에 ...            오세훈   \n",
       "70307   김영춘 박 후보 의혹투성이박형준 정권 평가 선거 다마네기박 헹주니는 무슨죄가있어도 ...            박형준   \n",
       "70308   김영춘 박 후보 의혹투성이박형준 정권 평가 선거 세상 참 더럽게 살았네 ㅉ ㅉ어떻게...            오세훈   \n",
       "70309   김영춘 박 후보 의혹투성이박형준 정권 평가 선거 국짐 장 쓰레기들은 시장선거에 무슨...            박형준   \n",
       "70310   선거 뒤로 연기된 오거돈 재판시민단체 정치적 계산 영화 검사외전의 우종길 정치적인 ...             기타   \n",
       "...                                                   ...            ...   \n",
       "144134  논설위원의 단도직입한일해저터널 경제성 없지만동북아 경제권 차원서 장기 검토해야 국민...             기타   \n",
       "144135  논설위원의 단도직입한일해저터널 경제성 없지만동북아 경제권 차원서 장기 검토해야 굳이...            박영선   \n",
       "144136  논설위원의 단도직입한일해저터널 경제성 없지만동북아 경제권 차원서 장기 검토해야 도랏...             기타   \n",
       "144137  논설위원의 단도직입한일해저터널 경제성 없지만동북아 경제권 차원서 장기 검토해야 이걸...            박영선   \n",
       "144138  논설위원의 단도직입한일해저터널 경제성 없지만동북아 경제권 차원서 장기 검토해야 우리...             기타   \n",
       "\n",
       "        pred_sentiment  \n",
       "70306              0.0  \n",
       "70307              0.0  \n",
       "70308              0.0  \n",
       "70309              0.0  \n",
       "70310              0.0  \n",
       "...                ...  \n",
       "144134             0.0  \n",
       "144135             0.0  \n",
       "144136             0.0  \n",
       "144137             0.0  \n",
       "144138             0.0  \n",
       "\n",
       "[20928 rows x 3 columns]"
      ]
     },
     "execution_count": 193,
     "metadata": {},
     "output_type": "execute_result"
    }
   ],
   "source": [
    "target_df2.iloc[progressive_idx] # 진보언론"
   ]
  },
  {
   "cell_type": "code",
   "execution_count": 194,
   "metadata": {
    "ExecuteTime": {
     "end_time": "2021-05-14T05:30:33.912668Z",
     "start_time": "2021-05-14T05:30:33.899740Z"
    }
   },
   "outputs": [
    {
     "data": {
      "text/html": [
       "<div>\n",
       "<style scoped>\n",
       "    .dataframe tbody tr th:only-of-type {\n",
       "        vertical-align: middle;\n",
       "    }\n",
       "\n",
       "    .dataframe tbody tr th {\n",
       "        vertical-align: top;\n",
       "    }\n",
       "\n",
       "    .dataframe thead th {\n",
       "        text-align: right;\n",
       "    }\n",
       "</style>\n",
       "<table border=\"1\" class=\"dataframe\">\n",
       "  <thead>\n",
       "    <tr style=\"text-align: right;\">\n",
       "      <th></th>\n",
       "      <th>title_comment</th>\n",
       "      <th>area_candidate</th>\n",
       "      <th>pred_sentiment</th>\n",
       "    </tr>\n",
       "  </thead>\n",
       "  <tbody>\n",
       "    <tr>\n",
       "      <th>62848</th>\n",
       "      <td>안철수 내곡동 문제 확산새 증언 땐 오세훈 사퇴할 수도 오세훈으로 본선이 들어가면 ...</td>\n",
       "      <td>오세훈</td>\n",
       "      <td>0.0</td>\n",
       "    </tr>\n",
       "    <tr>\n",
       "      <th>59169</th>\n",
       "      <td>오세훈 박영선  특검 검찰 손발 다 묶고 증거인멸하려는 것 영선아 특검을 요청하는데...</td>\n",
       "      <td>박영선</td>\n",
       "      <td>0.0</td>\n",
       "    </tr>\n",
       "    <tr>\n",
       "      <th>141103</th>\n",
       "      <td>김순덕의 도발박원순은 살아있다 정권교체 될 때까지 천년 한민족 유사이래 최악의 정권...</td>\n",
       "      <td>기타</td>\n",
       "      <td>0.0</td>\n",
       "    </tr>\n",
       "    <tr>\n",
       "      <th>44928</th>\n",
       "      <td>박영선 사의 표명했다곧 서울시장 출마 선언할 듯 그냥 아나운서하고 국회의원이나 했으...</td>\n",
       "      <td>박영선</td>\n",
       "      <td>0.0</td>\n",
       "    </tr>\n",
       "    <tr>\n",
       "      <th>53807</th>\n",
       "      <td>이해찬 오세훈는 키즈 안철수은 뿌리없는 조화 윤석열은 깡패의 언어 이해찬 노망치매들...</td>\n",
       "      <td>기타</td>\n",
       "      <td>0.0</td>\n",
       "    </tr>\n",
       "    <tr>\n",
       "      <th>...</th>\n",
       "      <td>...</td>\n",
       "      <td>...</td>\n",
       "      <td>...</td>\n",
       "    </tr>\n",
       "    <tr>\n",
       "      <th>114307</th>\n",
       "      <td>단독 의인이라던 생태탕집 도박 방조로 과징금 만원 처분 생태탕집이 민주화를 지켰다고...</td>\n",
       "      <td>기타</td>\n",
       "      <td>0.0</td>\n",
       "    </tr>\n",
       "    <tr>\n",
       "      <th>57175</th>\n",
       "      <td>안철수 단일화 승패와 무관하게 국민의힘과 합당 추진 안철수씨가 대단한 결단을 하셨다...</td>\n",
       "      <td>기타</td>\n",
       "      <td>1.0</td>\n",
       "    </tr>\n",
       "    <tr>\n",
       "      <th>53340</th>\n",
       "      <td>안철수 결과 인정 야권 승리 위해 열심히 돕겠다 대기만성 내년 대선에서 쭉 펼쳐 나가길</td>\n",
       "      <td>오세훈</td>\n",
       "      <td>1.0</td>\n",
       "    </tr>\n",
       "    <tr>\n",
       "      <th>58469</th>\n",
       "      <td>참모들도 말렸다는 문재인분노의 글 더불어민주당서도 정무 감각 떨어져 이번에 쿠팡이 ...</td>\n",
       "      <td>박영선</td>\n",
       "      <td>0.0</td>\n",
       "    </tr>\n",
       "    <tr>\n",
       "      <th>111617</th>\n",
       "      <td>오세훈부인 세금 만원 더 냈다고 투표장에 공고문 붙인 선관위 얼빠진넘들</td>\n",
       "      <td>박영선</td>\n",
       "      <td>0.0</td>\n",
       "    </tr>\n",
       "  </tbody>\n",
       "</table>\n",
       "<p>20928 rows × 3 columns</p>\n",
       "</div>"
      ],
      "text/plain": [
       "                                            title_comment area_candidate  \\\n",
       "62848   안철수 내곡동 문제 확산새 증언 땐 오세훈 사퇴할 수도 오세훈으로 본선이 들어가면 ...            오세훈   \n",
       "59169   오세훈 박영선  특검 검찰 손발 다 묶고 증거인멸하려는 것 영선아 특검을 요청하는데...            박영선   \n",
       "141103  김순덕의 도발박원순은 살아있다 정권교체 될 때까지 천년 한민족 유사이래 최악의 정권...             기타   \n",
       "44928   박영선 사의 표명했다곧 서울시장 출마 선언할 듯 그냥 아나운서하고 국회의원이나 했으...            박영선   \n",
       "53807   이해찬 오세훈는 키즈 안철수은 뿌리없는 조화 윤석열은 깡패의 언어 이해찬 노망치매들...             기타   \n",
       "...                                                   ...            ...   \n",
       "114307  단독 의인이라던 생태탕집 도박 방조로 과징금 만원 처분 생태탕집이 민주화를 지켰다고...             기타   \n",
       "57175   안철수 단일화 승패와 무관하게 국민의힘과 합당 추진 안철수씨가 대단한 결단을 하셨다...             기타   \n",
       "53340    안철수 결과 인정 야권 승리 위해 열심히 돕겠다 대기만성 내년 대선에서 쭉 펼쳐 나가길            오세훈   \n",
       "58469   참모들도 말렸다는 문재인분노의 글 더불어민주당서도 정무 감각 떨어져 이번에 쿠팡이 ...            박영선   \n",
       "111617            오세훈부인 세금 만원 더 냈다고 투표장에 공고문 붙인 선관위 얼빠진넘들            박영선   \n",
       "\n",
       "        pred_sentiment  \n",
       "62848              0.0  \n",
       "59169              0.0  \n",
       "141103             0.0  \n",
       "44928              0.0  \n",
       "53807              0.0  \n",
       "...                ...  \n",
       "114307             0.0  \n",
       "57175              1.0  \n",
       "53340              1.0  \n",
       "58469              0.0  \n",
       "111617             0.0  \n",
       "\n",
       "[20928 rows x 3 columns]"
      ]
     },
     "execution_count": 194,
     "metadata": {},
     "output_type": "execute_result"
    }
   ],
   "source": [
    "target_df2.iloc[rand_conservative_idx] # 보수언론"
   ]
  },
  {
   "cell_type": "code",
   "execution_count": 195,
   "metadata": {
    "ExecuteTime": {
     "end_time": "2021-05-14T05:30:34.348527Z",
     "start_time": "2021-05-14T05:30:34.331573Z"
    }
   },
   "outputs": [
    {
     "data": {
      "text/html": [
       "<div>\n",
       "<style scoped>\n",
       "    .dataframe tbody tr th:only-of-type {\n",
       "        vertical-align: middle;\n",
       "    }\n",
       "\n",
       "    .dataframe tbody tr th {\n",
       "        vertical-align: top;\n",
       "    }\n",
       "\n",
       "    .dataframe thead th {\n",
       "        text-align: right;\n",
       "    }\n",
       "</style>\n",
       "<table border=\"1\" class=\"dataframe\">\n",
       "  <thead>\n",
       "    <tr style=\"text-align: right;\">\n",
       "      <th></th>\n",
       "      <th>title_comment</th>\n",
       "      <th>area_candidate</th>\n",
       "      <th>pred_sentiment</th>\n",
       "    </tr>\n",
       "  </thead>\n",
       "  <tbody>\n",
       "    <tr>\n",
       "      <th>70306</th>\n",
       "      <td>여 일 잘할 후보 골라달라  야 선거 왜 하는지 알려야 허경영 후보를  자 토론에 ...</td>\n",
       "      <td>오세훈</td>\n",
       "      <td>0.0</td>\n",
       "    </tr>\n",
       "    <tr>\n",
       "      <th>70307</th>\n",
       "      <td>김영춘 박 후보 의혹투성이박형준 정권 평가 선거 다마네기박 헹주니는 무슨죄가있어도 ...</td>\n",
       "      <td>박형준</td>\n",
       "      <td>0.0</td>\n",
       "    </tr>\n",
       "    <tr>\n",
       "      <th>70308</th>\n",
       "      <td>김영춘 박 후보 의혹투성이박형준 정권 평가 선거 세상 참 더럽게 살았네 ㅉ ㅉ어떻게...</td>\n",
       "      <td>오세훈</td>\n",
       "      <td>0.0</td>\n",
       "    </tr>\n",
       "    <tr>\n",
       "      <th>70309</th>\n",
       "      <td>김영춘 박 후보 의혹투성이박형준 정권 평가 선거 국짐 장 쓰레기들은 시장선거에 무슨...</td>\n",
       "      <td>박형준</td>\n",
       "      <td>0.0</td>\n",
       "    </tr>\n",
       "    <tr>\n",
       "      <th>70310</th>\n",
       "      <td>선거 뒤로 연기된 오거돈 재판시민단체 정치적 계산 영화 검사외전의 우종길 정치적인 ...</td>\n",
       "      <td>기타</td>\n",
       "      <td>0.0</td>\n",
       "    </tr>\n",
       "    <tr>\n",
       "      <th>...</th>\n",
       "      <td>...</td>\n",
       "      <td>...</td>\n",
       "      <td>...</td>\n",
       "    </tr>\n",
       "    <tr>\n",
       "      <th>114307</th>\n",
       "      <td>단독 의인이라던 생태탕집 도박 방조로 과징금 만원 처분 생태탕집이 민주화를 지켰다고...</td>\n",
       "      <td>기타</td>\n",
       "      <td>0.0</td>\n",
       "    </tr>\n",
       "    <tr>\n",
       "      <th>57175</th>\n",
       "      <td>안철수 단일화 승패와 무관하게 국민의힘과 합당 추진 안철수씨가 대단한 결단을 하셨다...</td>\n",
       "      <td>기타</td>\n",
       "      <td>1.0</td>\n",
       "    </tr>\n",
       "    <tr>\n",
       "      <th>53340</th>\n",
       "      <td>안철수 결과 인정 야권 승리 위해 열심히 돕겠다 대기만성 내년 대선에서 쭉 펼쳐 나가길</td>\n",
       "      <td>오세훈</td>\n",
       "      <td>1.0</td>\n",
       "    </tr>\n",
       "    <tr>\n",
       "      <th>58469</th>\n",
       "      <td>참모들도 말렸다는 문재인분노의 글 더불어민주당서도 정무 감각 떨어져 이번에 쿠팡이 ...</td>\n",
       "      <td>박영선</td>\n",
       "      <td>0.0</td>\n",
       "    </tr>\n",
       "    <tr>\n",
       "      <th>111617</th>\n",
       "      <td>오세훈부인 세금 만원 더 냈다고 투표장에 공고문 붙인 선관위 얼빠진넘들</td>\n",
       "      <td>박영선</td>\n",
       "      <td>0.0</td>\n",
       "    </tr>\n",
       "  </tbody>\n",
       "</table>\n",
       "<p>41856 rows × 3 columns</p>\n",
       "</div>"
      ],
      "text/plain": [
       "                                            title_comment area_candidate  \\\n",
       "70306   여 일 잘할 후보 골라달라  야 선거 왜 하는지 알려야 허경영 후보를  자 토론에 ...            오세훈   \n",
       "70307   김영춘 박 후보 의혹투성이박형준 정권 평가 선거 다마네기박 헹주니는 무슨죄가있어도 ...            박형준   \n",
       "70308   김영춘 박 후보 의혹투성이박형준 정권 평가 선거 세상 참 더럽게 살았네 ㅉ ㅉ어떻게...            오세훈   \n",
       "70309   김영춘 박 후보 의혹투성이박형준 정권 평가 선거 국짐 장 쓰레기들은 시장선거에 무슨...            박형준   \n",
       "70310   선거 뒤로 연기된 오거돈 재판시민단체 정치적 계산 영화 검사외전의 우종길 정치적인 ...             기타   \n",
       "...                                                   ...            ...   \n",
       "114307  단독 의인이라던 생태탕집 도박 방조로 과징금 만원 처분 생태탕집이 민주화를 지켰다고...             기타   \n",
       "57175   안철수 단일화 승패와 무관하게 국민의힘과 합당 추진 안철수씨가 대단한 결단을 하셨다...             기타   \n",
       "53340    안철수 결과 인정 야권 승리 위해 열심히 돕겠다 대기만성 내년 대선에서 쭉 펼쳐 나가길            오세훈   \n",
       "58469   참모들도 말렸다는 문재인분노의 글 더불어민주당서도 정무 감각 떨어져 이번에 쿠팡이 ...            박영선   \n",
       "111617            오세훈부인 세금 만원 더 냈다고 투표장에 공고문 붙인 선관위 얼빠진넘들            박영선   \n",
       "\n",
       "        pred_sentiment  \n",
       "70306              0.0  \n",
       "70307              0.0  \n",
       "70308              0.0  \n",
       "70309              0.0  \n",
       "70310              0.0  \n",
       "...                ...  \n",
       "114307             0.0  \n",
       "57175              1.0  \n",
       "53340              1.0  \n",
       "58469              0.0  \n",
       "111617             0.0  \n",
       "\n",
       "[41856 rows x 3 columns]"
      ]
     },
     "execution_count": 195,
     "metadata": {},
     "output_type": "execute_result"
    }
   ],
   "source": [
    "re_df = pd.concat([target_df2.iloc[progressive_idx],\n",
    "                   target_df2.iloc[rand_conservative_idx]])\n",
    "re_df"
   ]
  },
  {
   "cell_type": "code",
   "execution_count": 196,
   "metadata": {
    "ExecuteTime": {
     "end_time": "2021-05-14T05:30:34.859671Z",
     "start_time": "2021-05-14T05:30:34.848699Z"
    }
   },
   "outputs": [
    {
     "data": {
      "text/plain": [
       "area_candidate\n",
       "박영선    0.036709\n",
       "오세훈    0.060937\n",
       "김영춘    0.083333\n",
       "박형준    0.037534\n",
       "Name: pred_sentiment, dtype: float64"
      ]
     },
     "execution_count": 196,
     "metadata": {},
     "output_type": "execute_result"
    }
   ],
   "source": [
    "b = re_df.groupby('area_candidate').mean().loc[['박영선','오세훈','김영춘','박형준']]\n",
    "b['pred_sentiment']"
   ]
  },
  {
   "cell_type": "code",
   "execution_count": 197,
   "metadata": {
    "ExecuteTime": {
     "end_time": "2021-05-14T05:30:35.493361Z",
     "start_time": "2021-05-14T05:30:35.388641Z"
    },
    "scrolled": false
   },
   "outputs": [
    {
     "data": {
      "image/png": "[encoded data removed]",
      "text/plain": [
       "<Figure size 720x360 with 1 Axes>"
      ]
     },
     "metadata": {},
     "output_type": "display_data"
    }
   ],
   "source": [
    "b['pred_sentiment'].plot(kind='bar', color=['b','r','b','r'], alpha=0.7)\n",
    "plt.title('[Figure] 후보별 예측 평균 긍정률')\n",
    "plt.show()"
   ]
  },
  {
   "cell_type": "code",
   "execution_count": 200,
   "metadata": {
    "ExecuteTime": {
     "end_time": "2021-05-14T05:30:53.952276Z",
     "start_time": "2021-05-14T05:30:53.946301Z"
    }
   },
   "outputs": [
    {
     "data": {
      "text/plain": [
       "(0.3759377044025768, 0.6240622955974232)"
      ]
     },
     "execution_count": 200,
     "metadata": {},
     "output_type": "execute_result"
    }
   ],
   "source": [
    "# 비율 확인\n",
    "seoul = b['pred_sentiment'][['박영선','오세훈']].sum()\n",
    "b['pred_sentiment']['박영선'] / seoul, b['pred_sentiment']['오세훈'] / seoul"
   ]
  },
  {
   "cell_type": "code",
   "execution_count": 201,
   "metadata": {
    "ExecuteTime": {
     "end_time": "2021-05-14T05:30:54.218735Z",
     "start_time": "2021-05-14T05:30:54.212752Z"
    }
   },
   "outputs": [
    {
     "data": {
      "text/plain": [
       "(0.6894639556377079, 0.31053604436229204)"
      ]
     },
     "execution_count": 201,
     "metadata": {},
     "output_type": "execute_result"
    }
   ],
   "source": [
    "# 비율 확인\n",
    "busan = b['pred_sentiment'][['김영춘','박형준']].sum()\n",
    "b['pred_sentiment']['김영춘'] / busan, b['pred_sentiment']['박형준'] / busan"
   ]
  },
  {
   "cell_type": "markdown",
   "metadata": {},
   "source": [
    "## 8. 부산 보정"
   ]
  },
  {
   "cell_type": "markdown",
   "metadata": {},
   "source": [
    "### 8.1 후보자/당명 제거하지 않은 모델"
   ]
  },
  {
   "cell_type": "code",
   "execution_count": 87,
   "metadata": {
    "ExecuteTime": {
     "end_time": "2021-05-14T04:50:24.759402Z",
     "start_time": "2021-05-14T04:50:24.739364Z"
    }
   },
   "outputs": [
    {
     "name": "stdout",
     "output_type": "stream",
     "text": [
      "출력완료\n"
     ]
    }
   ],
   "source": [
    "# 감성분석 모델 불러오기\n",
    "with open('model/sentiment_analysis_model1_05140142.dat', 'rb') as fp:\n",
    "    new_model = pickle.load(fp)\n",
    "print('출력완료')"
   ]
  },
  {
   "cell_type": "code",
   "execution_count": 88,
   "metadata": {
    "ExecuteTime": {
     "end_time": "2021-05-14T04:50:25.016875Z",
     "start_time": "2021-05-14T04:50:25.012885Z"
    }
   },
   "outputs": [
    {
     "name": "stdout",
     "output_type": "stream",
     "text": [
      "출력완료\n"
     ]
    }
   ],
   "source": [
    "# Tf-Idf Vectorizer 불러오기\n",
    "with open('model/tfidf_vectorizer_05140142.dat', 'rb') as fp:\n",
    "    new_tfidf_vectorizer = pickle.load(fp)\n",
    "print('출력완료')"
   ]
  },
  {
   "cell_type": "code",
   "execution_count": 48,
   "metadata": {
    "ExecuteTime": {
     "end_time": "2021-05-14T04:32:45.467909Z",
     "start_time": "2021-05-14T04:32:44.208674Z"
    }
   },
   "outputs": [
    {
     "data": {
      "text/plain": [
       "0                           철수야! 뜸 들이지 말고 애국하는 마음으로 물러서라~~~\n",
       "1         박영선은 정동영이 얻은 36프로선에 머무를것. 4.7.이후 OOO정권은 몰락의 길 ...\n",
       "2                             빵선이가서울시장되면서울은공산국가수도제2의평양이될것이다\n",
       "3         서울시장후보더듬당박빵선이는절대로서울시장을할수없다이유는가족은미국.영국에 영주권자이므로...\n",
       "4         부산은오거돈선거이고 오거돈치부선거아닌가 오거돈에 성추해으로 생긴선거가 가독도신공항은...\n",
       "                                ...                        \n",
       "144134    국민의힘 찍지 말라고 이 뉴스가 나온거임\\r\\n내냔에 국민의힘 찍을라 했드만 망했다...\n",
       "144135    굳이 일본과 해저터널 해야되는 이유가 없은이유\\r\\n-일본은고속도로비가 비싸다\\r\\...\n",
       "144136           도랏구나. 열도는 걍 갈라파고스로 남겨 둬라. 재난 난민 넘어 오면 귀찮다.\n",
       "144137                            이걸 왜 하지? 우리한테 아무런 의미가 없는데\n",
       "144138    우리에겐 아무런 도움이 되지 않는 것을 일본에게는 엄청난 기회가 되는 것을 왜 굳이...\n",
       "Name: 댓글, Length: 144139, dtype: object"
      ]
     },
     "execution_count": 48,
     "metadata": {},
     "output_type": "execute_result"
    }
   ],
   "source": [
    "# 댓글에서 김영춘,박형준이 들어간 댓글을 대상으로 감성분석 진행해보기\n",
    "comments = pd.read_csv('../../data/재보궐선거댓글데이터_최종_유튜브수정_0429.csv')['댓글']"
   ]
  },
  {
   "cell_type": "code",
   "execution_count": 81,
   "metadata": {
    "ExecuteTime": {
     "end_time": "2021-05-14T04:48:15.112112Z",
     "start_time": "2021-05-14T04:48:14.887786Z"
    }
   },
   "outputs": [],
   "source": [
    "YC_comments = comments[comments.str.contains('김영춘|영춘')]\n",
    "HJ_comments = comments[comments.str.contains('박형준|형준')]\n",
    "\n",
    "# 한글 외 문자는 제거\n",
    "YC_comments = YC_comments.apply( lambda x: text_cleaning(x) )\n",
    "HJ_comments = HJ_comments.apply( lambda x: text_cleaning(x) )"
   ]
  },
  {
   "cell_type": "code",
   "execution_count": 82,
   "metadata": {
    "ExecuteTime": {
     "end_time": "2021-05-14T04:48:15.207101Z",
     "start_time": "2021-05-14T04:48:15.202115Z"
    }
   },
   "outputs": [
    {
     "data": {
      "text/plain": [
       "342       부산은 박형준후보가 영춘권으로 일격만 맞지 않으면 되지만 서울은 아직 불안하다 돈 ...\n",
       "758                 뭉가 프로 부산 김영춘도 프로 이죄명도 프로 여론조사가 적당하지않을런지\n",
       "812       박형준이 가덕도 신공항 공약 내세운 인물인데 저런 사람이 제 야당 후보이고 선두라니...\n",
       "1112                              김영춘 박형준 못넘는다 선거결과는 보나마나겠다\n",
       "1113       부정선거를 막지 못하면 김영춘 당선확정 국민의 힘은 만년 둘러리 당이다 힘이 전혀 없다\n",
       "                                ...                        \n",
       "143768                김영춘은 힘있는 후보인가천만에 전부 다 문빠들 눈지만 보는 무소신파\n",
       "143770                          힘있는 후보 영춘아 년후에는 힘멊는 후보가 될거다\n",
       "143841    나도 민주당을 좋아하는건 아니지만 국짐당은 더더욱이 아니지솔직히 보궐선거 생긴건 박...\n",
       "143849    김영춘형도 수사하고 박형준도 수사해주세요 지금 부산을보면 무슨 범죄 소굴같아요 범죄...\n",
       "144092    성추행으로 보궐선거비용 만  억원공정과 정의를 부르 짓던 촛불세력이 후보를 낸 자체...\n",
       "Name: 댓글, Length: 905, dtype: object"
      ]
     },
     "execution_count": 82,
     "metadata": {},
     "output_type": "execute_result"
    }
   ],
   "source": [
    "YC_comments"
   ]
  },
  {
   "cell_type": "code",
   "execution_count": 83,
   "metadata": {
    "ExecuteTime": {
     "end_time": "2021-05-14T04:48:17.167589Z",
     "start_time": "2021-05-14T04:48:17.161606Z"
    }
   },
   "outputs": [
    {
     "data": {
      "text/plain": [
       "41        김형오가 좌파인 문재인 정부의 무소불위 권력남용을 마지막 대통령에 님짜가지 붙인 조...\n",
       "71        대통령은윤석열서울시장안철수 부산시장박형준국무총리정진석경제부총리이혜훈대변인배승희민영삼...\n",
       "342       부산은 박형준후보가 영춘권으로 일격만 맞지 않으면 되지만 서울은 아직 불안하다 돈 ...\n",
       "449                                  그래봤자 디비지겠니박형준시장님 응원합니다\n",
       "742       상식적으로 보궐선거는 오거돈의 성추행과 박원순의 성추행으로 치루게 되었으니 선관위의...\n",
       "                                ...                        \n",
       "143828    박형준 아내 유재중 성추문 거짓증언에 개입 검찰기록 접수이 기사를 뉴스타파만 다루고...\n",
       "143840    모른다고 하면 상식적으로 이해할 사람이 누가 있냐 그리고 본인입으로 사퇴 한다 했으...\n",
       "143849    김영춘형도 수사하고 박형준도 수사해주세요 지금 부산을보면 무슨 범죄 소굴같아요 범죄...\n",
       "143883    보수세력 중 그나마 합리적이고 양심적이라 생각했던 오세훈이와 박형준의 위선과 거짓말...\n",
       "144064    보궐선거랑 비교를 해야하지않나면 겁나 높구만ㅎㅎ  충분히 넘겟네서울은 민주세력 자발...\n",
       "Name: 댓글, Length: 1908, dtype: object"
      ]
     },
     "execution_count": 83,
     "metadata": {},
     "output_type": "execute_result"
    }
   ],
   "source": [
    "HJ_comments"
   ]
  },
  {
   "cell_type": "code",
   "execution_count": 111,
   "metadata": {
    "ExecuteTime": {
     "end_time": "2021-05-14T04:51:52.479865Z",
     "start_time": "2021-05-14T04:51:48.491007Z"
    },
    "collapsed": true
   },
   "outputs": [
    {
     "data": {
      "text/plain": [
       "array([1., 0., 0., 1., 0., 0., 0., 0., 0., 0., 0., 0., 1., 0., 1., 0., 0.,\n",
       "       0., 0., 0., 0., 0., 0., 0., 0., 0., 0., 0., 0., 0., 0., 0., 0., 0.,\n",
       "       0., 0., 0., 0., 0., 0., 0., 0., 0., 1., 0., 0., 0., 0., 0., 0., 0.,\n",
       "       0., 0., 0., 0., 0., 0., 0., 0., 0., 0., 0., 0., 0., 0., 0., 0., 0.,\n",
       "       0., 0., 0., 0., 0., 0., 0., 0., 1., 0., 0., 0., 0., 0., 0., 0., 0.,\n",
       "       0., 0., 0., 0., 0., 0., 0., 0., 0., 0., 0., 0., 0., 0., 0., 0., 0.,\n",
       "       0., 0., 0., 0., 0., 0., 0., 0., 0., 0., 0., 0., 0., 0., 0., 0., 0.,\n",
       "       0., 0., 0., 0., 0., 0., 0., 0., 0., 1., 0., 0., 1., 0., 0., 0., 0.,\n",
       "       0., 0., 0., 0., 0., 0., 0., 0., 0., 0., 0., 0., 0., 1., 0., 0., 0.,\n",
       "       1., 0., 0., 0., 1., 0., 0., 0., 0., 0., 0., 0., 0., 0., 0., 0., 0.,\n",
       "       0., 0., 0., 0., 0., 0., 0., 0., 0., 0., 1., 0., 0., 0., 0., 0., 0.,\n",
       "       0., 0., 0., 0., 0., 0., 1., 0., 0., 1., 0., 0., 1., 0., 0., 1., 0.,\n",
       "       1., 0., 1., 1., 0., 0., 1., 0., 0., 0., 0., 0., 0., 0., 0., 0., 0.,\n",
       "       0., 0., 0., 0., 0., 0., 0., 0., 0., 0., 0., 0., 1., 1., 0., 1., 0.,\n",
       "       0., 0., 0., 0., 1., 1., 0., 0., 0., 1., 0., 0., 1., 1., 1., 1., 0.,\n",
       "       0., 1., 1., 1., 0., 0., 1., 0., 0., 1., 0., 0., 1., 0., 1., 1., 0.,\n",
       "       1., 1., 1., 0., 0., 0., 1., 1., 0., 0., 0., 0., 1., 0., 0., 0., 0.,\n",
       "       1., 1., 0., 0., 1., 0., 1., 1., 1., 0., 1., 1., 0., 0., 0., 1., 0.,\n",
       "       0., 0., 0., 0., 0., 0., 0., 0., 0., 1., 0., 0., 0., 0., 1., 0., 1.,\n",
       "       1., 0., 1., 1., 1., 1., 0., 1., 0., 1., 0., 0., 1., 1., 0., 0., 0.,\n",
       "       0., 0., 1., 0., 0., 1., 1., 0., 0., 1., 1., 1., 1., 0., 0., 0., 1.,\n",
       "       1., 1., 0., 1., 1., 0., 0., 0., 1., 0., 1., 0., 0., 0., 0., 1., 0.,\n",
       "       1., 1., 0., 0., 1., 0., 1., 0., 0., 0., 0., 0., 1., 1., 1., 1., 1.,\n",
       "       1., 1., 0., 0., 1., 1., 0., 0., 1., 0., 0., 0., 1., 0., 0., 0., 0.,\n",
       "       0., 1., 1., 0., 1., 0., 0., 1., 1., 0., 1., 0., 0., 0., 0., 0., 1.,\n",
       "       0., 1., 0., 0., 1., 0., 0., 1., 1., 1., 1., 1., 1., 1., 0., 0., 0.,\n",
       "       1., 0., 0., 0., 0., 1., 0., 0., 1., 1., 1., 1., 1., 1., 1., 1., 1.,\n",
       "       1., 1., 1., 0., 1., 1., 1., 1., 1., 1., 1., 1., 1., 1., 0., 0., 0.,\n",
       "       0., 1., 1., 1., 1., 0., 1., 0., 1., 0., 1., 0., 1., 1., 1., 0., 0.,\n",
       "       0., 1., 0., 1., 0., 1., 1., 1., 1., 1., 1., 0., 0., 1., 0., 1., 1.,\n",
       "       0., 0., 1., 0., 1., 1., 0., 0., 0., 0., 0., 0., 1., 1., 0., 1., 0.,\n",
       "       0., 1., 1., 0., 1., 0., 1., 0., 1., 0., 1., 1., 0., 0., 1., 0., 0.,\n",
       "       1., 0., 0., 1., 1., 1., 1., 1., 1., 0., 0., 0., 0., 1., 0., 1., 0.,\n",
       "       0., 1., 0., 0., 0., 0., 0., 1., 0., 0., 0., 0., 1., 0., 1., 0., 0.,\n",
       "       1., 1., 1., 1., 1., 0., 1., 1., 0., 1., 0., 0., 0., 0., 0., 0., 0.,\n",
       "       0., 0., 0., 0., 1., 0., 0., 0., 1., 0., 1., 0., 1., 0., 1., 0., 0.,\n",
       "       1., 0., 0., 1., 1., 1., 0., 0., 0., 0., 0., 0., 0., 0., 0., 0., 1.,\n",
       "       1., 1., 1., 0., 0., 0., 0., 1., 0., 0., 0., 0., 0., 1., 1., 1., 0.,\n",
       "       0., 0., 0., 0., 0., 0., 1., 0., 1., 0., 1., 0., 0., 0., 0., 0., 1.,\n",
       "       1., 0., 0., 1., 0., 0., 0., 0., 0., 0., 1., 0., 0., 1., 0., 1., 0.,\n",
       "       0., 1., 0., 0., 0., 0., 0., 0., 1., 0., 0., 1., 0., 0., 0., 0., 0.,\n",
       "       1., 1., 0., 0., 0., 0., 0., 1., 0., 1., 0., 0., 0., 1., 1., 0., 0.,\n",
       "       0., 0., 1., 1., 0., 0., 1., 0., 0., 0., 1., 0., 0., 0., 0., 0., 0.,\n",
       "       0., 0., 0., 0., 0., 0., 0., 1., 1., 0., 0., 0., 0., 1., 0., 0., 0.,\n",
       "       0., 0., 0., 0., 0., 0., 1., 0., 0., 0., 0., 0., 0., 0., 0., 0., 0.,\n",
       "       0., 0., 0., 0., 0., 0., 0., 0., 0., 0., 0., 0., 0., 0., 0., 0., 0.,\n",
       "       0., 0., 0., 1., 0., 0., 0., 0., 0., 0., 0., 0., 0., 0., 0., 0., 0.,\n",
       "       0., 0., 0., 0., 0., 0., 0., 0., 0., 0., 0., 0., 0., 0., 0., 0., 0.,\n",
       "       0., 0., 0., 0., 0., 0., 0., 0., 0., 0., 0., 0., 0., 0., 0., 0., 0.,\n",
       "       0., 0., 0., 0., 0., 0., 0., 0., 0., 0., 0., 0., 0., 1., 0., 0., 0.,\n",
       "       0., 0., 1., 0., 0., 0., 0., 0., 0., 0., 0., 0., 0., 0., 0., 0., 0.,\n",
       "       0., 0., 0., 0., 0., 0., 0., 0., 0., 0., 0., 0., 0., 0., 0., 0., 0.,\n",
       "       0., 0., 0., 0., 0., 0., 0., 0., 0., 0., 0., 0., 0., 0., 0., 0., 0.,\n",
       "       1., 0., 0., 0.])"
      ]
     },
     "execution_count": 111,
     "metadata": {},
     "output_type": "execute_result"
    }
   ],
   "source": [
    "# CounterVectorrizer는 다시 fit시키는 것이 아니라 transform만 시키는 것\n",
    "YC_X = index_vectorizer.transform(YC_comments.to_list())\n",
    "\n",
    "# tf-idf는 새로 생성하는 것이 아니라 학습시킨 td-idf를 저장하여 사용하는 것\n",
    "YC_X = new_tfidf_vectorizer.transform(YC_X)\n",
    "\n",
    "YC_y_pred= new_model.predict(YC_X)\n",
    "YC_y_pred"
   ]
  },
  {
   "cell_type": "code",
   "execution_count": 112,
   "metadata": {
    "ExecuteTime": {
     "end_time": "2021-05-14T04:52:12.358568Z",
     "start_time": "2021-05-14T04:52:03.971226Z"
    }
   },
   "outputs": [
    {
     "data": {
      "text/plain": [
       "array([0., 1., 1., ..., 0., 0., 0.])"
      ]
     },
     "execution_count": 112,
     "metadata": {},
     "output_type": "execute_result"
    }
   ],
   "source": [
    "# CounterVectorrizer는 다시 fit시키는 것이 아니라 transform만 시키는 것\n",
    "HJ_X = index_vectorizer.transform(HJ_comments.to_list())\n",
    "\n",
    "# tf-idf는 새로 생성하는 것이 아니라 학습시킨 td-idf를 저장하여 사용하는 것\n",
    "HJ_X = new_tfidf_vectorizer.transform(HJ_X)\n",
    "\n",
    "HJ_y_pred= new_model.predict(HJ_X)\n",
    "HJ_y_pred"
   ]
  },
  {
   "cell_type": "code",
   "execution_count": 113,
   "metadata": {
    "ExecuteTime": {
     "end_time": "2021-05-14T04:52:12.504179Z",
     "start_time": "2021-05-14T04:52:12.430375Z"
    }
   },
   "outputs": [
    {
     "data": {
      "image/png": "[encoded data removed]",
      "text/plain": [
       "<Figure size 360x360 with 1 Axes>"
      ]
     },
     "metadata": {},
     "output_type": "display_data"
    }
   ],
   "source": [
    "plt.figure( figsize=(5,5))\n",
    "plt.bar( ['김영춘', '박형준'], [YC_y_pred.mean(), HJ_y_pred.mean()], color=['b','r'] )\n",
    "plt.show()"
   ]
  },
  {
   "cell_type": "markdown",
   "metadata": {},
   "source": [
    "### 8.2 후보자/당명을 제거한 모델"
   ]
  },
  {
   "cell_type": "code",
   "execution_count": 114,
   "metadata": {
    "ExecuteTime": {
     "end_time": "2021-05-14T04:52:24.117570Z",
     "start_time": "2021-05-14T04:52:24.112608Z"
    }
   },
   "outputs": [
    {
     "name": "stdout",
     "output_type": "stream",
     "text": [
      "출력 완료\n"
     ]
    }
   ],
   "source": [
    "# 감성분석 모델 불러오기\n",
    "with open('model/sentiment_analysis_model1_05140150.dat', 'rb') as fp:\n",
    "    new_model = pickle.load(fp)\n",
    "print('출력 완료')"
   ]
  },
  {
   "cell_type": "code",
   "execution_count": 115,
   "metadata": {
    "ExecuteTime": {
     "end_time": "2021-05-14T04:52:24.388880Z",
     "start_time": "2021-05-14T04:52:24.383894Z"
    }
   },
   "outputs": [
    {
     "name": "stdout",
     "output_type": "stream",
     "text": [
      "출력 완료\n"
     ]
    }
   ],
   "source": [
    "# Tf-Idf Vectorizer 불러오기\n",
    "with open('model/tfidf_vectorizer_05140150.dat', 'rb') as fp:\n",
    "    new_tfidf_vectorizer = pickle.load(fp)\n",
    "print('출력 완료')"
   ]
  },
  {
   "cell_type": "code",
   "execution_count": 118,
   "metadata": {
    "ExecuteTime": {
     "end_time": "2021-05-14T04:53:02.659314Z",
     "start_time": "2021-05-14T04:52:58.757421Z"
    },
    "collapsed": true
   },
   "outputs": [
    {
     "data": {
      "text/plain": [
       "array([1., 0., 0., 1., 0., 0., 0., 0., 0., 0., 0., 0., 1., 0., 0., 0., 0.,\n",
       "       0., 0., 0., 0., 0., 0., 0., 0., 0., 0., 0., 0., 0., 0., 0., 0., 0.,\n",
       "       0., 0., 0., 0., 0., 0., 0., 0., 0., 0., 0., 0., 0., 0., 0., 0., 0.,\n",
       "       0., 0., 0., 0., 0., 0., 0., 0., 0., 0., 0., 0., 0., 0., 0., 0., 0.,\n",
       "       0., 0., 0., 0., 0., 0., 0., 0., 0., 0., 0., 0., 0., 0., 0., 0., 0.,\n",
       "       0., 0., 0., 0., 0., 0., 0., 0., 0., 0., 0., 0., 0., 0., 0., 0., 0.,\n",
       "       0., 0., 0., 0., 0., 0., 0., 0., 0., 0., 0., 0., 0., 0., 0., 0., 0.,\n",
       "       0., 0., 0., 0., 0., 0., 0., 0., 0., 0., 0., 0., 0., 0., 0., 0., 0.,\n",
       "       0., 0., 0., 0., 0., 0., 0., 0., 0., 0., 0., 0., 0., 1., 0., 0., 0.,\n",
       "       1., 0., 0., 0., 1., 0., 0., 0., 0., 0., 0., 0., 0., 0., 0., 0., 0.,\n",
       "       0., 0., 0., 0., 0., 0., 0., 0., 0., 0., 0., 0., 0., 0., 0., 0., 0.,\n",
       "       0., 0., 0., 0., 0., 0., 0., 1., 0., 0., 0., 0., 0., 0., 0., 0., 0.,\n",
       "       0., 0., 0., 0., 0., 0., 0., 0., 0., 0., 0., 0., 0., 0., 0., 0., 0.,\n",
       "       0., 0., 0., 0., 0., 0., 0., 0., 0., 0., 0., 0., 1., 1., 0., 0., 0.,\n",
       "       0., 0., 0., 0., 0., 0., 0., 0., 0., 1., 0., 0., 1., 1., 0., 1., 0.,\n",
       "       0., 0., 1., 0., 0., 0., 1., 0., 0., 0., 0., 0., 0., 0., 0., 0., 0.,\n",
       "       0., 1., 0., 0., 0., 0., 1., 1., 0., 0., 0., 0., 0., 0., 0., 0., 0.,\n",
       "       1., 1., 0., 0., 1., 0., 0., 0., 1., 0., 1., 1., 0., 0., 0., 1., 0.,\n",
       "       0., 0., 0., 0., 0., 0., 0., 0., 0., 0., 0., 0., 0., 0., 0., 0., 0.,\n",
       "       1., 0., 1., 0., 1., 0., 0., 1., 0., 0., 0., 0., 1., 1., 0., 0., 0.,\n",
       "       0., 0., 1., 0., 0., 1., 0., 0., 0., 1., 1., 0., 1., 0., 0., 0., 1.,\n",
       "       0., 1., 0., 1., 1., 0., 0., 0., 1., 0., 1., 0., 0., 0., 0., 0., 0.,\n",
       "       1., 1., 1., 0., 1., 0., 1., 0., 0., 0., 0., 0., 1., 1., 1., 1., 1.,\n",
       "       0., 0., 0., 0., 1., 0., 0., 0., 0., 0., 0., 0., 1., 0., 0., 0., 0.,\n",
       "       0., 1., 0., 0., 0., 0., 0., 0., 1., 0., 1., 0., 0., 0., 0., 0., 1.,\n",
       "       0., 1., 0., 0., 1., 0., 0., 1., 0., 1., 1., 1., 1., 1., 0., 0., 0.,\n",
       "       0., 0., 1., 0., 0., 1., 0., 0., 1., 0., 0., 1., 0., 1., 1., 1., 1.,\n",
       "       1., 1., 1., 0., 0., 1., 0., 1., 1., 1., 1., 1., 1., 1., 0., 1., 0.,\n",
       "       0., 0., 0., 1., 0., 0., 1., 0., 0., 0., 1., 0., 1., 1., 1., 0., 0.,\n",
       "       0., 1., 0., 1., 0., 1., 1., 1., 1., 1., 1., 0., 0., 0., 1., 1., 1.,\n",
       "       0., 0., 1., 0., 0., 0., 0., 1., 0., 0., 0., 0., 1., 0., 0., 0., 0.,\n",
       "       0., 1., 0., 0., 1., 0., 1., 0., 0., 0., 1., 0., 0., 0., 1., 0., 0.,\n",
       "       1., 0., 0., 1., 1., 1., 1., 1., 1., 0., 0., 0., 0., 1., 0., 1., 0.,\n",
       "       0., 0., 0., 0., 0., 0., 0., 0., 0., 0., 0., 0., 0., 0., 1., 0., 0.,\n",
       "       1., 1., 1., 0., 1., 0., 1., 0., 0., 0., 0., 0., 0., 0., 0., 0., 0.,\n",
       "       0., 0., 0., 0., 1., 0., 0., 0., 1., 0., 0., 0., 0., 0., 0., 0., 0.,\n",
       "       0., 0., 0., 1., 1., 0., 0., 0., 0., 0., 0., 0., 0., 0., 0., 0., 0.,\n",
       "       1., 1., 1., 0., 0., 0., 0., 1., 0., 0., 0., 0., 0., 1., 0., 0., 0.,\n",
       "       0., 0., 0., 0., 0., 0., 1., 0., 0., 0., 1., 0., 0., 0., 0., 0., 0.,\n",
       "       1., 0., 0., 0., 0., 0., 0., 0., 0., 0., 0., 0., 0., 1., 0., 0., 0.,\n",
       "       0., 1., 0., 0., 0., 0., 0., 0., 1., 0., 0., 1., 0., 0., 0., 0., 0.,\n",
       "       0., 1., 0., 0., 0., 0., 0., 0., 0., 1., 0., 0., 0., 1., 0., 0., 0.,\n",
       "       0., 0., 0., 1., 0., 0., 1., 0., 0., 1., 0., 0., 0., 0., 0., 0., 0.,\n",
       "       0., 0., 0., 0., 0., 0., 0., 0., 1., 0., 0., 0., 0., 0., 0., 0., 0.,\n",
       "       0., 0., 0., 1., 0., 0., 1., 0., 0., 0., 0., 0., 0., 0., 0., 0., 0.,\n",
       "       0., 0., 0., 0., 0., 0., 0., 1., 0., 0., 0., 0., 0., 0., 0., 0., 0.,\n",
       "       0., 0., 0., 1., 0., 0., 0., 0., 0., 0., 0., 0., 0., 0., 0., 0., 0.,\n",
       "       0., 0., 0., 0., 0., 0., 0., 0., 0., 0., 0., 0., 0., 0., 0., 0., 0.,\n",
       "       0., 0., 0., 0., 0., 0., 0., 0., 0., 0., 0., 0., 0., 0., 0., 0., 0.,\n",
       "       0., 0., 0., 0., 0., 0., 0., 0., 0., 0., 0., 0., 0., 0., 0., 0., 0.,\n",
       "       0., 0., 0., 0., 0., 0., 0., 0., 0., 0., 0., 0., 0., 0., 0., 0., 0.,\n",
       "       0., 0., 0., 0., 0., 0., 0., 0., 0., 0., 0., 0., 0., 0., 0., 0., 0.,\n",
       "       0., 0., 0., 0., 0., 0., 0., 0., 0., 0., 0., 0., 0., 0., 0., 0., 0.,\n",
       "       1., 0., 0., 0.])"
      ]
     },
     "execution_count": 118,
     "metadata": {},
     "output_type": "execute_result"
    }
   ],
   "source": [
    "# CounterVectorrizer는 다시 fit시키는 것이 아니라 transform만 시키는 것\n",
    "YC_X = index_vectorizer2.transform(YC_comments.to_list())\n",
    "\n",
    "# tf-idf는 새로 생성하는 것이 아니라 학습시킨 td-idf를 저장하여 사용하는 것\n",
    "YC_X = new_tfidf_vectorizer.transform(YC_X)\n",
    "\n",
    "YC_y_pred= new_model.predict(YC_X)\n",
    "YC_y_pred"
   ]
  },
  {
   "cell_type": "code",
   "execution_count": 120,
   "metadata": {
    "ExecuteTime": {
     "end_time": "2021-05-14T04:53:45.092608Z",
     "start_time": "2021-05-14T04:53:36.430523Z"
    }
   },
   "outputs": [
    {
     "data": {
      "text/plain": [
       "array([0., 1., 1., ..., 0., 0., 0.])"
      ]
     },
     "execution_count": 120,
     "metadata": {},
     "output_type": "execute_result"
    }
   ],
   "source": [
    "# CounterVectorrizer는 다시 fit시키는 것이 아니라 transform만 시키는 것\n",
    "HJ_X = index_vectorizer2.transform(HJ_comments.to_list())\n",
    "\n",
    "# tf-idf는 새로 생성하는 것이 아니라 학습시킨 td-idf를 저장하여 사용하는 것\n",
    "HJ_X = new_tfidf_vectorizer.transform(HJ_X)\n",
    "\n",
    "HJ_y_pred= new_model.predict(HJ_X)\n",
    "HJ_y_pred"
   ]
  },
  {
   "cell_type": "code",
   "execution_count": 121,
   "metadata": {
    "ExecuteTime": {
     "end_time": "2021-05-14T04:53:46.597467Z",
     "start_time": "2021-05-14T04:53:46.516717Z"
    }
   },
   "outputs": [
    {
     "data": {
      "image/png": "[encoded data removed]",
      "text/plain": [
       "<Figure size 360x360 with 1 Axes>"
      ]
     },
     "metadata": {},
     "output_type": "display_data"
    }
   ],
   "source": [
    "plt.figure( figsize=(5,5))\n",
    "plt.bar( ['김영춘', '박형준'], [YC_y_pred.mean(), HJ_y_pred.mean()], color=['b','r'] )\n",
    "plt.show()"
   ]
  },
  {
   "cell_type": "code",
   "execution_count": 127,
   "metadata": {
    "ExecuteTime": {
     "end_time": "2021-05-14T04:57:23.908961Z",
     "start_time": "2021-05-14T04:57:23.840148Z"
    }
   },
   "outputs": [
    {
     "data": {
      "text/plain": [
       "435"
      ]
     },
     "execution_count": 127,
     "metadata": {},
     "output_type": "execute_result"
    }
   ],
   "source": [
    "df[df['title_comment'].str.contains('부산')]['party_eval'].notnull().sum()"
   ]
  },
  {
   "cell_type": "code",
   "execution_count": null,
   "metadata": {},
   "outputs": [],
   "source": []
  },
  {
   "cell_type": "code",
   "execution_count": null,
   "metadata": {},
   "outputs": [],
   "source": []
  },
  {
   "cell_type": "code",
   "execution_count": null,
   "metadata": {},
   "outputs": [],
   "source": []
  },
  {
   "cell_type": "code",
   "execution_count": null,
   "metadata": {},
   "outputs": [],
   "source": []
  },
  {
   "cell_type": "markdown",
   "metadata": {},
   "source": [
    "## 9. 부정단어 추출"
   ]
  },
  {
   "cell_type": "code",
   "execution_count": null,
   "metadata": {
    "ExecuteTime": {
     "end_time": "2021-05-13T17:18:18.934305Z",
     "start_time": "2021-05-13T16:45:33.128Z"
    }
   },
   "outputs": [],
   "source": [
    "# (단어인덱스, 회귀 계수) 형태로 만들기\n",
    "tmp = list(enumerate(new_model.coef_[0]))\n",
    "# display(tmp)"
   ]
  },
  {
   "cell_type": "code",
   "execution_count": null,
   "metadata": {
    "ExecuteTime": {
     "end_time": "2021-05-13T17:18:18.935328Z",
     "start_time": "2021-05-13T16:45:33.130Z"
    }
   },
   "outputs": [],
   "source": [
    "# (회귀계수, 인덱스) 형태인 튜플 생성\n",
    "tmp2 = ( (value, index) for index, value in tmp)\n",
    "tmp2"
   ]
  },
  {
   "cell_type": "code",
   "execution_count": null,
   "metadata": {
    "ExecuteTime": {
     "end_time": "2021-05-13T17:18:18.936299Z",
     "start_time": "2021-05-13T16:45:33.133Z"
    }
   },
   "outputs": [],
   "source": [
    "# 오름차순 정렬: 회귀계수가 가장 높은 것부터 출력\n",
    "coef_pos_index = sorted(tmp2, reverse=True) \n",
    "# coef_pos_index # 결과적으로 중요도 나타냄"
   ]
  },
  {
   "cell_type": "markdown",
   "metadata": {},
   "source": [
    "## 긍정/부정 단어 확인\n",
    "- 단어 사전 변형하기\n",
    "    - { 단어: 단어 인덱스}에서 { 단어 인덱스: 단어 } 형태로 변형\n",
    "- 긍정 단어 20개, 부정 단어 20개 파악"
   ]
  },
  {
   "cell_type": "code",
   "execution_count": null,
   "metadata": {
    "ExecuteTime": {
     "end_time": "2021-05-13T17:18:18.937296Z",
     "start_time": "2021-05-13T16:45:33.136Z"
    }
   },
   "outputs": [],
   "source": [
    "index_vectorizer.vocabulary_ # {단어: 인덱스, ...} 딕셔너리\n",
    "index_vectorizer.vocabulary_.items() #  [ (단어: 인덱스), ..] 형태\n",
    "\n",
    "# 단어 사전\n",
    "word_dict={}\n",
    "\n",
    "for pos, index in index_vectorizer.vocabulary_.items():\n",
    "    # print(pos)\n",
    "    word_dict[index] = pos\n",
    "    \n",
    "word_dict"
   ]
  },
  {
   "cell_type": "code",
   "execution_count": null,
   "metadata": {
    "ExecuteTime": {
     "end_time": "2021-05-13T17:18:18.938293Z",
     "start_time": "2021-05-13T16:45:33.139Z"
    }
   },
   "outputs": [],
   "source": [
    "coef_pos_text = []\n",
    "\n",
    "for value, index in coef_pos_index:\n",
    "    # 각 인덱스에 해당하는 실제 단어 확인\n",
    "    # print(word_dict[index])\n",
    "    # print(value) # 회귀계수\n",
    "    coef_pos_text.append( ( value, word_dict[index]) )\n",
    "    \n",
    "coef_pos_text"
   ]
  },
  {
   "cell_type": "code",
   "execution_count": null,
   "metadata": {
    "ExecuteTime": {
     "end_time": "2021-05-13T17:18:18.939291Z",
     "start_time": "2021-05-13T16:45:33.141Z"
    }
   },
   "outputs": [],
   "source": [
    "# 회귀 계수가 높은 순으로 형용사들을 리스트에 담는다.\n",
    "adj_list_by_coef = []\n",
    "for i in coef_pos_text:\n",
    "    if i[1].split('/')[1] == 'Adjective':\n",
    "        adj_list_by_coef.append((float(i[0]),i[1].split('/')[0]))"
   ]
  },
  {
   "cell_type": "code",
   "execution_count": null,
   "metadata": {
    "ExecuteTime": {
     "end_time": "2021-05-13T17:18:18.940294Z",
     "start_time": "2021-05-13T16:45:33.143Z"
    }
   },
   "outputs": [],
   "source": [
    "# 긍정 판단에 영향을 주는 형용사 top 50\n",
    "np.array(adj_list_by_coef[:50])[:,1]\n",
    "\n",
    "plt.bar( np.array(adj_list_by_coef[:50])[:,1],\n",
    "         np.array(adj_list_by_coef[:50])[:,0].astype(float))\n",
    "plt.xticks(rotation=90)\n",
    "plt.show()"
   ]
  },
  {
   "cell_type": "code",
   "execution_count": null,
   "metadata": {
    "ExecuteTime": {
     "end_time": "2021-05-13T17:18:18.940294Z",
     "start_time": "2021-05-13T16:45:33.145Z"
    }
   },
   "outputs": [],
   "source": [
    "# 부정 판단에 영향을 주는 형용사 top 50\n",
    "np.array(adj_list_by_coef[-50:])[:,1]\n",
    "\n",
    "plt.bar( np.array(adj_list_by_coef[-50:])[:,1],\n",
    "         np.array(adj_list_by_coef[-50:])[:,0].astype(float))\n",
    "plt.xticks(rotation=90)\n",
    "plt.show()"
   ]
  },
  {
   "cell_type": "code",
   "execution_count": null,
   "metadata": {
    "ExecuteTime": {
     "end_time": "2021-05-13T17:18:18.941285Z",
     "start_time": "2021-05-13T16:45:33.147Z"
    }
   },
   "outputs": [],
   "source": [
    "adj_list_by_coef\n",
    "\n",
    "import pickle\n",
    "\n",
    "# 리스트를 저장\n",
    "with open('data/0409/adj_list_by_model1_0409.pickle', 'wb') as f:\n",
    "    pickle.dump(adj_list_by_coef, f, pickle.HIGHEST_PROTOCOL)"
   ]
  },
  {
   "cell_type": "code",
   "execution_count": null,
   "metadata": {},
   "outputs": [],
   "source": []
  },
  {
   "cell_type": "code",
   "execution_count": null,
   "metadata": {},
   "outputs": [],
   "source": []
  }
 ],
 "metadata": {
  "hide_input": false,
  "kernelspec": {
   "display_name": "Python 3",
   "language": "python",
   "name": "python3"
  },
  "language_info": {
   "codemirror_mode": {
    "name": "ipython",
    "version": 3
   },
   "file_extension": ".py",
   "mimetype": "text/x-python",
   "name": "python",
   "nbconvert_exporter": "python",
   "pygments_lexer": "ipython3",
   "version": "3.7.6"
  },
  "toc": {
   "base_numbering": 1,
   "nav_menu": {},
   "number_sections": false,
   "sideBar": true,
   "skip_h1_title": false,
   "title_cell": "Table of Contents",
   "title_sidebar": "Contents",
   "toc_cell": false,
   "toc_position": {
    "height": "calc(100% - 180px)",
    "left": "10px",
    "top": "150px",
    "width": "202.786px"
   },
   "toc_section_display": true,
   "toc_window_display": true
  },
  "varInspector": {
   "cols": {
    "lenName": 16,
    "lenType": 16,
    "lenVar": 40
   },
   "kernels_config": {
    "python": {
     "delete_cmd_postfix": "",
     "delete_cmd_prefix": "del ",
     "library": "var_list.py",
     "varRefreshCmd": "print(var_dic_list())"
    },
    "r": {
     "delete_cmd_postfix": ") ",
     "delete_cmd_prefix": "rm(",
     "library": "var_list.r",
     "varRefreshCmd": "cat(var_dic_list()) "
    }
   },
   "types_to_exclude": [
    "module",
    "function",
    "builtin_function_or_method",
    "instance",
    "_Feature"
   ],
   "window_display": false
  }
 },
 "nbformat": 4,
 "nbformat_minor": 4
}
