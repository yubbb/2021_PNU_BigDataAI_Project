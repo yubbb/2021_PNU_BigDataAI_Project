{
 "cells": [
  {
   "cell_type": "markdown",
   "metadata": {},
   "source": [
    "# 대선 키워드 크롤링\n",
    "- 조선일보\n",
    "- 동아일보"
   ]
  },
  {
   "cell_type": "code",
   "execution_count": 1,
   "metadata": {
    "ExecuteTime": {
     "end_time": "2021-05-15T10:37:29.012410Z",
     "start_time": "2021-05-15T10:37:28.709210Z"
    }
   },
   "outputs": [],
   "source": [
    "import time\n",
    "import os\n",
    "\n",
    "import pandas as pd\n",
    "\n",
    "import urllib\n",
    "import platform\n",
    "\n",
    "from selenium import webdriver as wd\n",
    "\n",
    "from IPython.display import clear_output"
   ]
  },
  {
   "cell_type": "code",
   "execution_count": 2,
   "metadata": {
    "ExecuteTime": {
     "end_time": "2021-05-15T10:37:29.943202Z",
     "start_time": "2021-05-15T10:37:29.939188Z"
    }
   },
   "outputs": [],
   "source": [
    "# 더보기 계속 클릭하기\n",
    "def clickMore(driver):\n",
    "    \n",
    "    import time\n",
    "    \n",
    "    while True:\n",
    "        try:\n",
    "            more_button = driver.find_element_by_css_selector('#comment-more-id')\n",
    "            more_button.click()\n",
    "            time.sleep(1)\n",
    "        except:\n",
    "            break"
   ]
  },
  {
   "cell_type": "code",
   "execution_count": 3,
   "metadata": {
    "ExecuteTime": {
     "end_time": "2021-05-15T10:37:30.536799Z",
     "start_time": "2021-05-15T10:37:30.523833Z"
    }
   },
   "outputs": [],
   "source": [
    "# 한 기사의 댓글 추출\n",
    "def getComment(driver, keyword):\n",
    "    \n",
    "    import os\n",
    "    import pandas as pd\n",
    "    \n",
    "    # 데이터를 담을 딕셔너리\n",
    "    comment_dict = {\n",
    "        '제목' : [],\n",
    "        '날짜' : [],\n",
    "        '작성자' : [],\n",
    "        '작성일' : [],\n",
    "        '댓글' : []\n",
    "    }\n",
    "    \n",
    "    # <은서- 수정코드>\n",
    "    tmp = driver.find_elements_by_css_selector('#fusion-app > div.article > div:nth-child(2) > div')\n",
    "    if tmp:\n",
    "    # a1에서 out of lange 오류 발생해서 코드를 수정\n",
    "    \n",
    "        # 기사 태그\n",
    "        a1 = tmp[0]\n",
    "        \n",
    "        # 기사 제목\n",
    "        a2 = a1.find_elements_by_css_selector('h1')[0].text\n",
    "        # print(a2[1:4])\n",
    "        \n",
    "        # [김대중 칼럼]으로 시작하는 기사 제목을 가진 기사는 댓글이 없음\n",
    "        if a2[1:4] == '김대중':\n",
    "            return False\n",
    "        else:\n",
    "\n",
    "            # 기사 날짜\n",
    "            a3 = a1.find_elements_by_css_selector('div.article-dateline > span')[0].text\n",
    "            # print(a3)\n",
    "\n",
    "            # 댓글 태그(div.comment-feed) 들고오기\n",
    "            a4 = a1.find_elements_by_css_selector('section > article > div:nth-child(14) > section > div > div')[0]\n",
    "            # print(a4)\n",
    "\n",
    "            # 댓글 유무 확인을 위한 태그\n",
    "            a5 = a4.find_elements_by_css_selector('div')\n",
    "            # print(len(a5))\n",
    "\n",
    "            if len(a5) < 5 :    \n",
    "                print('댓글 없음')\n",
    "                return False\n",
    "            else:        \n",
    "                # 댓글이 포함되어 있는 div.comment-card-wrapper 태그 들고오기\n",
    "                a6 = a4.find_elements_by_css_selector('div.comment-card-wrapper')\n",
    "\n",
    "                for a7 in a6:\n",
    "                    # 작성자 수집\n",
    "                    user = a7.find_elements_by_css_selector('div.comment-card-userinfo')[0].text\n",
    "                    print(user)\n",
    "                    \n",
    "                    # 작성시간\n",
    "                    a8 = a7.find_elements_by_css_selector('div.comment-card-daterow')[0].text\n",
    "                    # print(f'작성시간 : {a8}')\n",
    "\n",
    "                    # 댓글내용\n",
    "                    a9 = a7.find_elements_by_css_selector('div.comment-card-contentrow')[0].text\n",
    "                    # 댓글이 있으면\n",
    "                    if a9:\n",
    "                        #print(f'댓글 내용 : {a9}')\n",
    "\n",
    "                        # 제목, 날짜, 작성일, 댓글 딕셔너리에 추가\n",
    "                        comment_dict['제목'].append(a2)\n",
    "                        comment_dict['날짜'].append(a3)\n",
    "                        comment_dict['작성자'].append(user)\n",
    "                        comment_dict['작성일'].append(a8)\n",
    "                        comment_dict['댓글'].append(a9)\n",
    "\n",
    "                        # 댓글의 답글\n",
    "        #                 more_button = a7.find_elements_by_css_selector('div.comment-card-replyrow > button')[0]\n",
    "        #                 more_button.send_keys('\\n')\n",
    "        #                 time.sleep(1)\n",
    "        #                 print('클릭')\n",
    "\n",
    "                        #a10 = a4.find_elements_by_css_selector('div.comment-feed--reply')\n",
    "                    # print(a10)\n",
    "\n",
    "        #             # 댓글이 포함되어 있는 div.comment-card-wrapper 태그 들고오기\n",
    "        #     a6 = a4.find_elements_by_css_selector('div.comment-card-wrapper')\n",
    "        #             a10 = a7.find_elements_by_css_selector('div.comment-card-replyrow')[0].text\n",
    "                        #print(f'답글 유무 : {a10}')\n",
    "        #             if '작성' not in a10:           \n",
    "        #                 print('답글 있음')\n",
    "\n",
    "                            # 답글 보기 클릭\n",
    "            #                more_button = a7.find_elements_by_css_selector('div.comment-card-replyrow')[0]\n",
    "            #                more_button.send_keys('\\n')\n",
    "\n",
    "\n",
    "                df1 = pd.DataFrame(comment_dict)\n",
    "                df1['날짜'] = [date.split('입력')[-1].split('| 수정')[0].strip() for date in df1['날짜']]\n",
    "                df1['날짜'] = pd.to_datetime(df1['날짜'])\n",
    "                df1['작성일'] = pd.to_datetime(df1['작성일'])\n",
    "                display(df1)\n",
    "\n",
    "                FILENAME = f'chosun_comment_{keyword}.csv'\n",
    "                if os.path.exists(FILENAME) == False:\n",
    "                    # 파일이 없을 경우\n",
    "                    df1.to_csv(FILENAME, encoding='utf-8-sig', index=False)\n",
    "                else:\n",
    "                    # mode='a' : 기존 것 뒤에다 붙여줌\n",
    "                    df1.to_csv(FILENAME, encoding='utf-8-sig', index=False, header=False, mode='a')\n",
    "\n",
    "                return 1"
   ]
  },
  {
   "cell_type": "code",
   "execution_count": 4,
   "metadata": {
    "ExecuteTime": {
     "end_time": "2021-05-15T10:37:30.913835Z",
     "start_time": "2021-05-15T10:37:30.907851Z"
    }
   },
   "outputs": [],
   "source": [
    "def getChosunComment(link_df, keyword):\n",
    "    \n",
    "    from selenium import webdriver as wd\n",
    "    from IPython.display import clear_output\n",
    "    \n",
    "    num_link = link_df.shape[0]\n",
    "    # print(link_df.loc[0])\n",
    "\n",
    "    # 웹 드라이버\n",
    "    driver = wd.Chrome('./Code_뉴스댓글수집/chromedriver.exe')\n",
    "    idx = 0\n",
    "\n",
    "    while True :\n",
    "\n",
    "        driver.implicitly_wait(20)\n",
    "\n",
    "        clear_output(wait=True)\n",
    "\n",
    "        driver.get(link_df.loc[idx].values[0])\n",
    "        clickMore(driver)\n",
    "\n",
    "        print(f'{idx}번째 기사 댓글 수집 중')\n",
    "\n",
    "        chk = getComment(driver, keyword)\n",
    "\n",
    "        # 기사에 댓글 데이터 정상 수집\n",
    "        if chk == 1:\n",
    "            print(f'{idx}번째 기사 댓글 정상 수집 완료')\n",
    "        # 기사에 댓글 데이터가 없으면 다음 페이지로 \n",
    "        else:\n",
    "            print(f'{idx}번째 기사 댓글 없음, 다음 기사로~')\n",
    "\n",
    "        idx = idx + 1\n",
    "\n",
    "        if idx == num_link :\n",
    "            break\n",
    "\n",
    "    print('수집완료')"
   ]
  },
  {
   "cell_type": "markdown",
   "metadata": {},
   "source": [
    "# 크롤링 시작을 위한 링크 데이터 불러오기"
   ]
  },
  {
   "cell_type": "code",
   "execution_count": 8,
   "metadata": {
    "ExecuteTime": {
     "end_time": "2021-05-16T05:42:59.197138Z",
     "start_time": "2021-05-15T15:33:55.614985Z"
    }
   },
   "outputs": [
    {
     "name": "stdout",
     "output_type": "stream",
     "text": [
      "23번째 기사 댓글 수집 중\n",
      "23번째 기사 댓글 없음, 다음 기사로~\n",
      "수집완료\n"
     ]
    }
   ],
   "source": [
    "names = ['정세균', '유승민', '심상정', '추미애', '황교안', '김부겸']\n",
    "for name in names:\n",
    "    keyword = name\n",
    "    link_df = pd.read_csv(f'./link_data/조선일보_대선 {keyword}_link.csv')\n",
    "    getChosunComment(link_df, keyword)"
   ]
  }
 ],
 "metadata": {
  "hide_input": false,
  "interpreter": {
   "hash": "6bd18ff4b8d78789dc0c4fe3ce3d1752f57bd4a78312d15f34612069d81af063"
  },
  "kernelspec": {
   "display_name": "Python 3",
   "language": "python",
   "name": "python3"
  },
  "language_info": {
   "codemirror_mode": {
    "name": "ipython",
    "version": 3
   },
   "file_extension": ".py",
   "mimetype": "text/x-python",
   "name": "python",
   "nbconvert_exporter": "python",
   "pygments_lexer": "ipython3",
   "version": "3.7.6"
  },
  "toc": {
   "base_numbering": 1,
   "nav_menu": {},
   "number_sections": true,
   "sideBar": true,
   "skip_h1_title": false,
   "title_cell": "Table of Contents",
   "title_sidebar": "Contents",
   "toc_cell": false,
   "toc_position": {},
   "toc_section_display": true,
   "toc_window_display": false
  },
  "varInspector": {
   "cols": {
    "lenName": 16,
    "lenType": 16,
    "lenVar": 40
   },
   "kernels_config": {
    "python": {
     "delete_cmd_postfix": "",
     "delete_cmd_prefix": "del ",
     "library": "var_list.py",
     "varRefreshCmd": "print(var_dic_list())"
    },
    "r": {
     "delete_cmd_postfix": ") ",
     "delete_cmd_prefix": "rm(",
     "library": "var_list.r",
     "varRefreshCmd": "cat(var_dic_list()) "
    }
   },
   "types_to_exclude": [
    "module",
    "function",
    "builtin_function_or_method",
    "instance",
    "_Feature"
   ],
   "window_display": false
  }
 },
 "nbformat": 4,
 "nbformat_minor": 2
}
