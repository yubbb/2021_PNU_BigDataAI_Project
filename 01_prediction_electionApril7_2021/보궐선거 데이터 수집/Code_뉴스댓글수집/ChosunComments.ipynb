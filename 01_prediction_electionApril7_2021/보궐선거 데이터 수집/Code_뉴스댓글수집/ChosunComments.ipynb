{
 "cells": [
  {
   "cell_type": "code",
   "execution_count": 1,
   "metadata": {},
   "outputs": [],
   "source": [
    "# 댓글 수집 완료\n",
    "# 댓글에 답글 수집 실패"
   ]
  },
  {
   "cell_type": "code",
   "execution_count": 1,
   "metadata": {
    "ExecuteTime": {
     "end_time": "2021-05-14T07:51:27.463793Z",
     "start_time": "2021-05-14T07:51:27.147804Z"
    }
   },
   "outputs": [],
   "source": [
    "import time\n",
    "import os\n",
    "\n",
    "import pandas as pd\n",
    "\n",
    "import urllib\n",
    "import platform\n",
    "\n",
    "from selenium import webdriver as wd\n",
    "\n",
    "from IPython.display import clear_output"
   ]
  },
  {
   "cell_type": "code",
   "execution_count": 2,
   "metadata": {
    "ExecuteTime": {
     "end_time": "2021-05-14T07:51:28.409897Z",
     "start_time": "2021-05-14T07:51:28.405898Z"
    }
   },
   "outputs": [],
   "source": [
    "# 더보기 계속 클릭하기\n",
    "def clickMore(driver):\n",
    "    \n",
    "    import time\n",
    "    \n",
    "    while True:\n",
    "        try:\n",
    "            more_button = driver.find_element_by_css_selector('#comment-more-id')\n",
    "            more_button.click()\n",
    "            time.sleep(1)\n",
    "        except:\n",
    "            break"
   ]
  },
  {
   "cell_type": "code",
   "execution_count": 4,
   "metadata": {},
   "outputs": [],
   "source": [
    "# 한 기사의 댓글 추출\r\n",
    "def getComment(driver):\r\n",
    "    \r\n",
    "    import os\r\n",
    "    import pandas as pd\r\n",
    "    \r\n",
    "    # 데이터를 담을 딕셔너리\r\n",
    "    comment_dict = {\r\n",
    "        '제목' : [],\r\n",
    "        '날짜' : [],\r\n",
    "        '작성자' : [],\r\n",
    "        '작성일' : [],\r\n",
    "        '댓글' : []\r\n",
    "    }\r\n",
    "    \r\n",
    "    # 기사 태그\r\n",
    "    a1 = driver.find_elements_by_css_selector('#fusion-app > div.article > div:nth-child(2) > div')[0]\r\n",
    "    \r\n",
    "    # 기사 제목\r\n",
    "    a2 = a1.find_elements_by_css_selector('h1')[0].text\r\n",
    "    # print(a2[1:4])\r\n",
    "    \r\n",
    "    # [김대중 칼럼]으로 시작하는 기사 제목을 가진 기사는 댓글이 없음\r\n",
    "    if a2[1:4] == '김대중':\r\n",
    "        return False\r\n",
    "    else:\r\n",
    "\r\n",
    "        # 기사 날짜\r\n",
    "        a3 = a1.find_elements_by_css_selector('div.article-dateline > span')[0].text\r\n",
    "        # print(a3)\r\n",
    "\r\n",
    "        # 댓글 태그(div.comment-feed) 들고오기\r\n",
    "        a4 = a1.find_elements_by_css_selector('section > article > div:nth-child(14) > section > div > div')[0]\r\n",
    "        # print(a4)\r\n",
    "\r\n",
    "        # 댓글 유무 확인을 위한 태그\r\n",
    "        a5 = a4.find_elements_by_css_selector('div')\r\n",
    "        # print(len(a5))\r\n",
    "\r\n",
    "        if len(a5) < 5 :    \r\n",
    "            print('댓글 없음')\r\n",
    "            return False\r\n",
    "        else:        \r\n",
    "            # 댓글이 포함되어 있는 div.comment-card-wrapper 태그 들고오기\r\n",
    "            a6 = a4.find_elements_by_css_selector('div.comment-card-wrapper')\r\n",
    "\r\n",
    "            for a7 in a6:\r\n",
    "                # 작성자 수집\r\n",
    "                user = a7.find_elements_by_css_selector('div.comment-card-userinfo')[0].text\r\n",
    "                print(user)\r\n",
    "                \r\n",
    "                # 작성시간\r\n",
    "                a8 = a7.find_elements_by_css_selector('div.comment-card-daterow')[0].text\r\n",
    "                # print(f'작성시간 : {a8}')\r\n",
    "\r\n",
    "                # 댓글내용\r\n",
    "                a9 = a7.find_elements_by_css_selector('div.comment-card-contentrow')[0].text\r\n",
    "                # 댓글이 있으면\r\n",
    "                if a9:\r\n",
    "                    #print(f'댓글 내용 : {a9}')\r\n",
    "\r\n",
    "                    # 제목, 날짜, 작성일, 댓글 딕셔너리에 추가\r\n",
    "                    comment_dict['제목'].append(a2)\r\n",
    "                    comment_dict['날짜'].append(a3)\r\n",
    "                    comment_dict['작성자'].append(user)\r\n",
    "                    comment_dict['작성일'].append(a8)\r\n",
    "                    comment_dict['댓글'].append(a9)\r\n",
    "\r\n",
    "                    # 댓글의 답글\r\n",
    "    #                 more_button = a7.find_elements_by_css_selector('div.comment-card-replyrow > button')[0]\r\n",
    "    #                 more_button.send_keys('\\n')\r\n",
    "    #                 time.sleep(1)\r\n",
    "    #                 print('클릭')\r\n",
    "\r\n",
    "                    #a10 = a4.find_elements_by_css_selector('div.comment-feed--reply')\r\n",
    "                   # print(a10)\r\n",
    "\r\n",
    "       #             # 댓글이 포함되어 있는 div.comment-card-wrapper 태그 들고오기\r\n",
    "       #     a6 = a4.find_elements_by_css_selector('div.comment-card-wrapper')\r\n",
    "       #             a10 = a7.find_elements_by_css_selector('div.comment-card-replyrow')[0].text\r\n",
    "                    #print(f'답글 유무 : {a10}')\r\n",
    "       #             if '작성' not in a10:           \r\n",
    "       #                 print('답글 있음')\r\n",
    "\r\n",
    "                        # 답글 보기 클릭\r\n",
    "        #                more_button = a7.find_elements_by_css_selector('div.comment-card-replyrow')[0]\r\n",
    "        #                more_button.send_keys('\\n')\r\n",
    "\r\n",
    "\r\n",
    "            df1 = pd.DataFrame(comment_dict)\r\n",
    "            df1['날짜'] = [date.split('입력')[-1].split('| 수정')[0].strip() for date in df1['날짜']]\r\n",
    "            df1['날짜'] = pd.to_datetime(df1['날짜'])\r\n",
    "            df1['작성일'] = pd.to_datetime(df1['작성일'])\r\n",
    "            display(df1)\r\n",
    "\r\n",
    "            FILENAME = 'chosun_comment.csv'\r\n",
    "            if os.path.exists(FILENAME) == False:\r\n",
    "                # 파일이 없을 경우\r\n",
    "                df1.to_csv(FILENAME, encoding='utf-8-sig', index=False)\r\n",
    "            else:\r\n",
    "                # mode='a' : 기존 것 뒤에다 붙여줌\r\n",
    "                df1.to_csv(FILENAME, encoding='utf-8-sig', index=False, header=False, mode='a')\r\n",
    "\r\n",
    "            return 1"
   ]
  },
  {
   "cell_type": "code",
   "execution_count": null,
   "metadata": {},
   "outputs": [],
   "source": [
    "def getChosunComment(link_df):\n",
    "    \n",
    "    from selenium import webdriver as wd\n",
    "    from IPython.display import clear_output\n",
    "    \n",
    "    num_link = link_df.shape[0]\n",
    "    # print(link_df.loc[0])\n",
    "\n",
    "    # 웹 드라이버\n",
    "    driver = wd.Chrome('./chromedriver.exe')\n",
    "    idx = 0\n",
    "\n",
    "    while True :\n",
    "\n",
    "        driver.implicitly_wait(20)\n",
    "\n",
    "        clear_output(wait=True)\n",
    "\n",
    "        driver.get(link_df.loc[idx].values[0])\n",
    "        clickMore(driver)\n",
    "\n",
    "        print(f'{idx}번째 기사 댓글 수집 중')\n",
    "\n",
    "        chk = getComment(driver)\n",
    "\n",
    "        # 기사에 댓글 데이터 정상 수집\n",
    "        if chk == 1:\n",
    "            print(f'{idx}번째 기사 댓글 정상 수집 완료')\n",
    "        # 기사에 댓글 데이터가 없으면 다음 페이지로 \n",
    "        else:\n",
    "            print(f'{idx}번째 기사 댓글 없음, 다음 기사로~')\n",
    "\n",
    "        idx = idx + 1\n",
    "\n",
    "        if idx == num_link :\n",
    "            break\n",
    "\n",
    "    print('수집완료')"
   ]
  },
  {
   "cell_type": "code",
   "execution_count": null,
   "metadata": {},
   "outputs": [],
   "source": []
  }
 ],
 "metadata": {
  "hide_input": false,
  "interpreter": {
   "hash": "6bd18ff4b8d78789dc0c4fe3ce3d1752f57bd4a78312d15f34612069d81af063"
  },
  "kernelspec": {
   "display_name": "Python 3.7.6 64-bit ('base': conda)",
   "name": "python3"
  },
  "language_info": {
   "name": "python",
   "version": ""
  },
  "toc": {
   "base_numbering": 1,
   "nav_menu": {},
   "number_sections": true,
   "sideBar": true,
   "skip_h1_title": false,
   "title_cell": "Table of Contents",
   "title_sidebar": "Contents",
   "toc_cell": false,
   "toc_position": {},
   "toc_section_display": true,
   "toc_window_display": false
  },
  "varInspector": {
   "cols": {
    "lenName": 16,
    "lenType": 16,
    "lenVar": 40
   },
   "kernels_config": {
    "python": {
     "delete_cmd_postfix": "",
     "delete_cmd_prefix": "del ",
     "library": "var_list.py",
     "varRefreshCmd": "print(var_dic_list())"
    },
    "r": {
     "delete_cmd_postfix": ") ",
     "delete_cmd_prefix": "rm(",
     "library": "var_list.r",
     "varRefreshCmd": "cat(var_dic_list()) "
    }
   },
   "types_to_exclude": [
    "module",
    "function",
    "builtin_function_or_method",
    "instance",
    "_Feature"
   ],
   "window_display": false
  }
 },
 "nbformat": 4,
 "nbformat_minor": 4
}