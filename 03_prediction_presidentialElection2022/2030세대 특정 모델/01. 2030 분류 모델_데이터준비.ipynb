{
 "cells": [
  {
   "cell_type": "markdown",
   "metadata": {},
   "source": [
    "# 2030 분류 모델"
   ]
  },
  {
   "cell_type": "code",
   "execution_count": 1,
   "metadata": {
    "ExecuteTime": {
     "end_time": "2021-05-21T07:28:14.566845Z",
     "start_time": "2021-05-21T07:28:14.561894Z"
    }
   },
   "outputs": [],
   "source": [
    "import pandas as pd\n",
    "import numpy as np\n",
    "import re\n",
    "# 형태소 분류 태그\n",
    "from konlpy.tag import Okt\n",
    "import pickle\n",
    "# 학습-테스트용으로 나누기\n",
    "from sklearn.model_selection import train_test_split\n",
    "# 로지스틱회귀로 분류분석 진행하기\n",
    "from sklearn.linear_model import LogisticRegression\n",
    "from sklearn.neighbors import KNeighborsClassifier\n",
    "from sklearn.linear_model import LogisticRegression\n",
    "from sklearn.svm import SVC\n",
    "from sklearn.tree import DecisionTreeClassifier \n",
    "from sklearn.ensemble import RandomForestClassifier, GradientBoostingClassifier\n",
    "from xgboost import XGBClassifier\n",
    "# 교차검증: 결과데이터를 보고 각 클래스가 균등한 비율로 들어있게끔 나눈다.\n",
    "from sklearn.model_selection import StratifiedKFold\n",
    "# 그리드 서치\n",
    "from sklearn.model_selection import GridSearchCV\n",
    "\n",
    "\n",
    "# 평가 방법\n",
    "from sklearn.metrics import accuracy_score\n",
    "from sklearn.metrics import precision_score\n",
    "from sklearn.metrics import recall_score\n",
    "from sklearn.metrics import f1_score\n",
    "from sklearn.metrics import roc_auc_score\n",
    "\n",
    "# 교차검증 함수\n",
    "from sklearn.model_selection import cross_val_score\n",
    "from sklearn.model_selection import cross_validate"
   ]
  },
  {
   "cell_type": "markdown",
   "metadata": {},
   "source": [
    "## 1. 2030데이터와 언론사 수집 데이터 합치기\n",
    "\n",
    "- Train data\n",
    "    - 4.7 보궐선거 데이터\n",
    "- Test data\n",
    "    - 대선을 위해 수집한 데이터\n",
    "    \n",
    "- 제목 2030이 포함된 데이터는 빼기"
   ]
  },
  {
   "cell_type": "code",
   "execution_count": 2,
   "metadata": {
    "ExecuteTime": {
     "end_time": "2021-05-21T07:28:17.195439Z",
     "start_time": "2021-05-21T07:28:15.076708Z"
    }
   },
   "outputs": [],
   "source": [
    "# 2030 데이터라고 가정한 데이터\n",
    "data2030_1 = pd.read_csv('data/data_2030_1.csv', index_col=0)\n",
    "data2030_2 = pd.read_csv('data/data_2030_2.csv')\n",
    "\n",
    "# 2030 아닌 데이터\n",
    "data_1 = pd.read_csv('data/재보궐선거댓글데이터_최종_유튜브수정_0429.csv')\n",
    "data_2 = pd.read_csv('data/data_candidates.csv')"
   ]
  },
  {
   "cell_type": "code",
   "execution_count": 3,
   "metadata": {
    "ExecuteTime": {
     "end_time": "2021-05-21T08:34:11.751208Z",
     "start_time": "2021-05-21T08:34:11.670371Z"
    },
    "scrolled": true
   },
   "outputs": [
    {
     "data": {
      "image/png": "[encoded data removed]",
      "text/plain": [
       "<Figure size 720x360 with 1 Axes>"
      ]
     },
     "metadata": {},
     "output_type": "display_data"
    }
   ],
   "source": [
    "import matplotlib.pyplot as plt\n",
    "\n",
    "plt.rcParams['font.family'] = 'Malgun Gothic'\n",
    "# plt.rcParams['font.family'] = 'AppleGothic'\n",
    "plt.rcParams['font.size'] = 10\n",
    "plt.rcParams['figure.figsize'] = 10,5\n",
    "plt.rcParams['axes.unicode_minus'] = False\n",
    "\n",
    "plt.pie(data_2['Source'].value_counts(),labels=data_2['Source'].value_counts().index)\n",
    "plt.show()"
   ]
  },
  {
   "cell_type": "code",
   "execution_count": 4,
   "metadata": {
    "ExecuteTime": {
     "end_time": "2021-05-21T07:28:17.672118Z",
     "start_time": "2021-05-21T07:28:17.668129Z"
    }
   },
   "outputs": [
    {
     "data": {
      "text/plain": [
       "((56829, 9), (1173, 9))"
      ]
     },
     "execution_count": 4,
     "metadata": {},
     "output_type": "execute_result"
    }
   ],
   "source": [
    "data2030_1.shape, data2030_2.shape"
   ]
  },
  {
   "cell_type": "code",
   "execution_count": 5,
   "metadata": {
    "ExecuteTime": {
     "end_time": "2021-05-21T07:28:18.151723Z",
     "start_time": "2021-05-21T07:28:18.147732Z"
    }
   },
   "outputs": [
    {
     "data": {
      "text/plain": [
       "((144139, 11), (158534, 7))"
      ]
     },
     "execution_count": 5,
     "metadata": {},
     "output_type": "execute_result"
    }
   ],
   "source": [
    "data_1.shape, data_2.shape"
   ]
  },
  {
   "cell_type": "code",
   "execution_count": 6,
   "metadata": {
    "ExecuteTime": {
     "end_time": "2021-05-21T07:28:18.637604Z",
     "start_time": "2021-05-21T07:28:18.627631Z"
    }
   },
   "outputs": [
    {
     "name": "stdout",
     "output_type": "stream",
     "text": [
      "null:  0\n"
     ]
    },
    {
     "data": {
      "text/plain": [
       "0                내리막이 있으면 다시 오르막이 있는 법, 예방주사라 생각하고 힘들 냅시다.\n",
       "1        2030마음을 얻으려면 조언을 2030을 모셔다가 들어보는 성의를 보여야 됩니다. ...\n",
       "2        전 군대 전역 전까지는 보수를 지지했지만 대학에서 양극화에 관심을 가지면서 진보로 ...\n",
       "3        몸 안에서 무엇인가 무너져 내린 기분..그래도 힘내고 가야죠민주당은 뼈아픈 진단 새...\n",
       "4                                         네 죄송합니다. 삭제하겠습니다\n",
       "                               ...                        \n",
       "57997    Uh 검언 개혁없이 참  해방은 요원하다,  민주당의  희망 이재명,,, 매국노 이...\n",
       "57998    최근에보면 페미페미 제목을 붙이는데 시선끌기지 진짜 본질은 그게 아니잖아 개혁을 못...\n",
       "57999                                   민주당힘내세요 👏👏👏👏👏👏🙆‍♂️\n",
       "58000                문통령 *다음 차기🇰🇷대통령은 반드시🇰🇷이재명🌟당선되어야😡한다!!!\n",
       "58001    2030의 남성표심저격이아닌 2030 여성의 표심이겟죠....하...여기도 갑갑하네...\n",
       "Name: Comment, Length: 58002, dtype: object"
      ]
     },
     "execution_count": 6,
     "metadata": {},
     "output_type": "execute_result"
    }
   ],
   "source": [
    "# 2030 데이터\n",
    "df1 = pd.concat([ data2030_1['Comment'], data2030_2['Comment'] ] )\n",
    "\n",
    "# null값 확인\n",
    "print('null: ', df1.isna().sum())\n",
    "\n",
    "df1.reset_index(drop=True, inplace=True)\n",
    "df1"
   ]
  },
  {
   "cell_type": "code",
   "execution_count": 7,
   "metadata": {
    "ExecuteTime": {
     "end_time": "2021-05-21T07:28:19.248998Z",
     "start_time": "2021-05-21T07:28:19.105768Z"
    }
   },
   "outputs": [],
   "source": [
    "# 언론사 데이터 제목에서 2030 포함된 데이터는 삭제\n",
    "data_1.drop( index=data_1[data_1['제목'].str.contains('2030')].index  ,inplace=True )\n",
    "data_2.drop( index=data_2[data_2['Title'].str.contains('2030')].index ,inplace=True)"
   ]
  },
  {
   "cell_type": "code",
   "execution_count": 8,
   "metadata": {
    "ExecuteTime": {
     "end_time": "2021-05-21T07:28:19.749249Z",
     "start_time": "2021-05-21T07:28:19.723318Z"
    },
    "scrolled": true
   },
   "outputs": [
    {
     "data": {
      "text/plain": [
       "0                           철수야! 뜸 들이지 말고 애국하는 마음으로 물러서라~~~\n",
       "1         박영선은 정동영이 얻은 36프로선에 머무를것. 4.7.이후 OOO정권은 몰락의 길 ...\n",
       "2                             빵선이가서울시장되면서울은공산국가수도제2의평양이될것이다\n",
       "3         서울시장후보더듬당박빵선이는절대로서울시장을할수없다이유는가족은미국.영국에 영주권자이므로...\n",
       "4         부산은오거돈선거이고 오거돈치부선거아닌가 오거돈에 성추해으로 생긴선거가 가독도신공항은...\n",
       "                                ...                        \n",
       "302427    황교안이 나라를이많큼말아먹구 파탄냈으면 평생니가할일은다한거다 제발 더이상나라망치지말...\n",
       "302428                                    윤석열 .힘내시고.화이팅입니다.\n",
       "302429                                         황교안 대표 가 보수다\n",
       "302430    황교안정직하고깨끋한애국자 불평하지말라 똑똑한것홍준표의원 검찰들이않다 주님준비된대통령...\n",
       "302431               황교안등 모두 나라위해 힘을 모으는게 맞지요.같은진영 헐뜯지 맙시다.\n",
       "Length: 302432, dtype: object"
      ]
     },
     "execution_count": 8,
     "metadata": {},
     "output_type": "execute_result"
    }
   ],
   "source": [
    "# 2030이 아닌 데이터\n",
    "df2 = pd.concat( [ data_1['댓글'], data_2['Comment'] ])\n",
    "\n",
    "# null값 확인\n",
    "df2.isna().sum()\n",
    "\n",
    "df2.reset_index(drop=True, inplace=True)\n",
    "df2"
   ]
  },
  {
   "cell_type": "code",
   "execution_count": 9,
   "metadata": {
    "ExecuteTime": {
     "end_time": "2021-05-21T07:28:20.227618Z",
     "start_time": "2021-05-21T07:28:20.214654Z"
    },
    "scrolled": true
   },
   "outputs": [
    {
     "data": {
      "text/plain": [
       "0                 내리막이 있으면 다시 오르막이 있는 법, 예방주사라 생각하고 힘들 냅시다.\n",
       "1         2030마음을 얻으려면 조언을 2030을 모셔다가 들어보는 성의를 보여야 됩니다. ...\n",
       "2         전 군대 전역 전까지는 보수를 지지했지만 대학에서 양극화에 관심을 가지면서 진보로 ...\n",
       "3         몸 안에서 무엇인가 무너져 내린 기분..그래도 힘내고 가야죠민주당은 뼈아픈 진단 새...\n",
       "4                                          네 죄송합니다. 삭제하겠습니다\n",
       "                                ...                        \n",
       "360429    황교안이 나라를이많큼말아먹구 파탄냈으면 평생니가할일은다한거다 제발 더이상나라망치지말...\n",
       "360430                                    윤석열 .힘내시고.화이팅입니다.\n",
       "360431                                         황교안 대표 가 보수다\n",
       "360432    황교안정직하고깨끋한애국자 불평하지말라 똑똑한것홍준표의원 검찰들이않다 주님준비된대통령...\n",
       "360433               황교안등 모두 나라위해 힘을 모으는게 맞지요.같은진영 헐뜯지 맙시다.\n",
       "Length: 360434, dtype: object"
      ]
     },
     "execution_count": 9,
     "metadata": {},
     "output_type": "execute_result"
    }
   ],
   "source": [
    "# 최종 데이터 합치기\n",
    "total_df = pd.concat([ df1, df2] , axis=0 )\n",
    "total_df.reset_index(drop=True, inplace=True)\n",
    "total_df"
   ]
  },
  {
   "cell_type": "code",
   "execution_count": 10,
   "metadata": {
    "ExecuteTime": {
     "end_time": "2021-05-21T07:28:20.714179Z",
     "start_time": "2021-05-21T07:28:20.702510Z"
    },
    "scrolled": true
   },
   "outputs": [
    {
     "name": "stderr",
     "output_type": "stream",
     "text": [
      "C:\\ProgramData\\Anaconda3\\lib\\site-packages\\ipykernel_launcher.py:6: SettingWithCopyWarning: \n",
      "A value is trying to be set on a copy of a slice from a DataFrame.\n",
      "Try using .loc[row_indexer,col_indexer] = value instead\n",
      "\n",
      "See the caveats in the documentation: https://pandas.pydata.org/pandas-docs/stable/user_guide/indexing.html#returning-a-view-versus-a-copy\n",
      "  \n"
     ]
    },
    {
     "data": {
      "text/html": [
       "<div>\n",
       "<style scoped>\n",
       "    .dataframe tbody tr th:only-of-type {\n",
       "        vertical-align: middle;\n",
       "    }\n",
       "\n",
       "    .dataframe tbody tr th {\n",
       "        vertical-align: top;\n",
       "    }\n",
       "\n",
       "    .dataframe thead th {\n",
       "        text-align: right;\n",
       "    }\n",
       "</style>\n",
       "<table border=\"1\" class=\"dataframe\">\n",
       "  <thead>\n",
       "    <tr style=\"text-align: right;\">\n",
       "      <th></th>\n",
       "      <th>Comment</th>\n",
       "      <th>is2030</th>\n",
       "    </tr>\n",
       "  </thead>\n",
       "  <tbody>\n",
       "    <tr>\n",
       "      <th>0</th>\n",
       "      <td>내리막이 있으면 다시 오르막이 있는 법, 예방주사라 생각하고 힘들 냅시다.</td>\n",
       "      <td>1</td>\n",
       "    </tr>\n",
       "    <tr>\n",
       "      <th>1</th>\n",
       "      <td>2030마음을 얻으려면 조언을 2030을 모셔다가 들어보는 성의를 보여야 됩니다. ...</td>\n",
       "      <td>1</td>\n",
       "    </tr>\n",
       "    <tr>\n",
       "      <th>2</th>\n",
       "      <td>전 군대 전역 전까지는 보수를 지지했지만 대학에서 양극화에 관심을 가지면서 진보로 ...</td>\n",
       "      <td>1</td>\n",
       "    </tr>\n",
       "    <tr>\n",
       "      <th>3</th>\n",
       "      <td>몸 안에서 무엇인가 무너져 내린 기분..그래도 힘내고 가야죠민주당은 뼈아픈 진단 새...</td>\n",
       "      <td>1</td>\n",
       "    </tr>\n",
       "    <tr>\n",
       "      <th>4</th>\n",
       "      <td>네 죄송합니다. 삭제하겠습니다</td>\n",
       "      <td>1</td>\n",
       "    </tr>\n",
       "    <tr>\n",
       "      <th>...</th>\n",
       "      <td>...</td>\n",
       "      <td>...</td>\n",
       "    </tr>\n",
       "    <tr>\n",
       "      <th>360429</th>\n",
       "      <td>황교안이 나라를이많큼말아먹구 파탄냈으면 평생니가할일은다한거다 제발 더이상나라망치지말...</td>\n",
       "      <td>0</td>\n",
       "    </tr>\n",
       "    <tr>\n",
       "      <th>360430</th>\n",
       "      <td>윤석열 .힘내시고.화이팅입니다.</td>\n",
       "      <td>0</td>\n",
       "    </tr>\n",
       "    <tr>\n",
       "      <th>360431</th>\n",
       "      <td>황교안 대표 가 보수다</td>\n",
       "      <td>0</td>\n",
       "    </tr>\n",
       "    <tr>\n",
       "      <th>360432</th>\n",
       "      <td>황교안정직하고깨끋한애국자 불평하지말라 똑똑한것홍준표의원 검찰들이않다 주님준비된대통령...</td>\n",
       "      <td>0</td>\n",
       "    </tr>\n",
       "    <tr>\n",
       "      <th>360433</th>\n",
       "      <td>황교안등 모두 나라위해 힘을 모으는게 맞지요.같은진영 헐뜯지 맙시다.</td>\n",
       "      <td>0</td>\n",
       "    </tr>\n",
       "  </tbody>\n",
       "</table>\n",
       "<p>360434 rows × 2 columns</p>\n",
       "</div>"
      ],
      "text/plain": [
       "                                                  Comment  is2030\n",
       "0               내리막이 있으면 다시 오르막이 있는 법, 예방주사라 생각하고 힘들 냅시다.       1\n",
       "1       2030마음을 얻으려면 조언을 2030을 모셔다가 들어보는 성의를 보여야 됩니다. ...       1\n",
       "2       전 군대 전역 전까지는 보수를 지지했지만 대학에서 양극화에 관심을 가지면서 진보로 ...       1\n",
       "3       몸 안에서 무엇인가 무너져 내린 기분..그래도 힘내고 가야죠민주당은 뼈아픈 진단 새...       1\n",
       "4                                        네 죄송합니다. 삭제하겠습니다       1\n",
       "...                                                   ...     ...\n",
       "360429  황교안이 나라를이많큼말아먹구 파탄냈으면 평생니가할일은다한거다 제발 더이상나라망치지말...       0\n",
       "360430                                  윤석열 .힘내시고.화이팅입니다.       0\n",
       "360431                                       황교안 대표 가 보수다       0\n",
       "360432  황교안정직하고깨끋한애국자 불평하지말라 똑똑한것홍준표의원 검찰들이않다 주님준비된대통령...       0\n",
       "360433             황교안등 모두 나라위해 힘을 모으는게 맞지요.같은진영 헐뜯지 맙시다.       0\n",
       "\n",
       "[360434 rows x 2 columns]"
      ]
     },
     "execution_count": 10,
     "metadata": {},
     "output_type": "execute_result"
    }
   ],
   "source": [
    "total_df = pd.DataFrame( total_df )\n",
    "total_df.iloc[58001] # 2030 마지막 데이터\n",
    "\n",
    "# 2030이면 1, 아니면 0 값 넣기\n",
    "total_df['is2030'] = 0\n",
    "total_df.iloc[:58002]['is2030'] = 1\n",
    "\n",
    "# 컬럼 이름 변경하기\n",
    "total_df.columns = ['Comment', 'is2030']\n",
    "total_df"
   ]
  },
  {
   "cell_type": "markdown",
   "metadata": {},
   "source": [
    "## 2. 데이터 전처리"
   ]
  },
  {
   "cell_type": "code",
   "execution_count": 11,
   "metadata": {
    "ExecuteTime": {
     "end_time": "2021-05-21T07:28:31.521920Z",
     "start_time": "2021-05-21T07:28:31.517906Z"
    }
   },
   "outputs": [],
   "source": [
    "# 정규식\n",
    "def text_cleaning(text) :\n",
    "    hangul = re.compile('[^ ㄱ-ㅣ가-힣]+')\n",
    "    result = hangul.sub('', text)\n",
    "    return result"
   ]
  },
  {
   "cell_type": "code",
   "execution_count": 12,
   "metadata": {
    "ExecuteTime": {
     "end_time": "2021-05-21T07:28:33.074141Z",
     "start_time": "2021-05-21T07:28:32.022709Z"
    }
   },
   "outputs": [],
   "source": [
    "# 댓글 데이터 한글 정규화 과정\n",
    "total_df['Comment'] = total_df['Comment'].apply( lambda x: text_cleaning(x))"
   ]
  },
  {
   "cell_type": "code",
   "execution_count": 13,
   "metadata": {},
   "outputs": [],
   "source": [
    "total_df.to_csv('data/data_2030_dataset.csv', encoding='utf-8-sig', index=False)"
   ]
  },
  {
   "cell_type": "code",
   "execution_count": null,
   "metadata": {},
   "outputs": [],
   "source": []
  }
 ],
 "metadata": {
  "hide_input": false,
  "kernelspec": {
   "display_name": "Python 3",
   "language": "python",
   "name": "python3"
  },
  "language_info": {
   "codemirror_mode": {
    "name": "ipython",
    "version": 3
   },
   "file_extension": ".py",
   "mimetype": "text/x-python",
   "name": "python",
   "nbconvert_exporter": "python",
   "pygments_lexer": "ipython3",
   "version": "3.7.6"
  },
  "toc": {
   "base_numbering": 1,
   "nav_menu": {},
   "number_sections": false,
   "sideBar": true,
   "skip_h1_title": false,
   "title_cell": "Table of Contents",
   "title_sidebar": "Contents",
   "toc_cell": false,
   "toc_position": {
    "height": "calc(100% - 180px)",
    "left": "10px",
    "top": "150px",
    "width": "165px"
   },
   "toc_section_display": true,
   "toc_window_display": true
  },
  "varInspector": {
   "cols": {
    "lenName": 16,
    "lenType": 16,
    "lenVar": 40
   },
   "kernels_config": {
    "python": {
     "delete_cmd_postfix": "",
     "delete_cmd_prefix": "del ",
     "library": "var_list.py",
     "varRefreshCmd": "print(var_dic_list())"
    },
    "r": {
     "delete_cmd_postfix": ") ",
     "delete_cmd_prefix": "rm(",
     "library": "var_list.r",
     "varRefreshCmd": "cat(var_dic_list()) "
    }
   },
   "types_to_exclude": [
    "module",
    "function",
    "builtin_function_or_method",
    "instance",
    "_Feature"
   ],
   "window_display": false
  }
 },
 "nbformat": 4,
 "nbformat_minor": 4
}
