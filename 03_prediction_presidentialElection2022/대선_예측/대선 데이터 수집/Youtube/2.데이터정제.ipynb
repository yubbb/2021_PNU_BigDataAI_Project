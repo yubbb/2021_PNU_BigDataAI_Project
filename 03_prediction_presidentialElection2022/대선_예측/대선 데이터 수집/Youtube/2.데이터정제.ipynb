{
 "cells": [
  {
   "cell_type": "code",
   "execution_count": 1,
   "metadata": {},
   "outputs": [],
   "source": [
    "import pandas as pd\n",
    "import numpy as np\n",
    "import datetime\n",
    "import time\n",
    "from datetime import timedelta"
   ]
  },
  {
   "cell_type": "markdown",
   "metadata": {},
   "source": [
    "# 데이터 불러오기"
   ]
  },
  {
   "cell_type": "code",
   "execution_count": 131,
   "metadata": {},
   "outputs": [
    {
     "data": {
      "text/html": [
       "<div>\n",
       "<style scoped>\n",
       "    .dataframe tbody tr th:only-of-type {\n",
       "        vertical-align: middle;\n",
       "    }\n",
       "\n",
       "    .dataframe tbody tr th {\n",
       "        vertical-align: top;\n",
       "    }\n",
       "\n",
       "    .dataframe thead th {\n",
       "        text-align: right;\n",
       "    }\n",
       "</style>\n",
       "<table border=\"1\" class=\"dataframe\">\n",
       "  <thead>\n",
       "    <tr style=\"text-align: right;\">\n",
       "      <th></th>\n",
       "      <th>Title</th>\n",
       "      <th>Date</th>\n",
       "      <th>ID</th>\n",
       "      <th>Comment</th>\n",
       "      <th>Comment_date</th>\n",
       "      <th>Channel</th>\n",
       "      <th>Like</th>\n",
       "      <th>Dislike</th>\n",
       "      <th>Comment_like</th>\n",
       "    </tr>\n",
       "  </thead>\n",
       "  <tbody>\n",
       "    <tr>\n",
       "      <th>0</th>\n",
       "      <td>'홍준표'가 뭐길래...복당 신청 하나에 국민의힘 '시끌' / YTN</td>\n",
       "      <td>2021. 5. 14.</td>\n",
       "      <td>멋진보스</td>\n",
       "      <td>홍준표가 대선 추대 해달라는 것도 아니고 경쟁하겠다는 건데 이건 공정성 문제야</td>\n",
       "      <td>5시간 전</td>\n",
       "      <td>YTN news</td>\n",
       "      <td>115</td>\n",
       "      <td>16</td>\n",
       "      <td>27</td>\n",
       "    </tr>\n",
       "    <tr>\n",
       "      <th>1</th>\n",
       "      <td>'홍준표'가 뭐길래...복당 신청 하나에 국민의힘 '시끌' / YTN</td>\n",
       "      <td>2021. 5. 14.</td>\n",
       "      <td>형규</td>\n",
       "      <td>막말이 아니라 누구들처럼 듣기좋은 거짖말하는 정치인이 아닌거지. 솔직히 홍준표 무소...</td>\n",
       "      <td>6시간 전(수정됨)</td>\n",
       "      <td>YTN news</td>\n",
       "      <td>115</td>\n",
       "      <td>16</td>\n",
       "      <td>56</td>\n",
       "    </tr>\n",
       "    <tr>\n",
       "      <th>2</th>\n",
       "      <td>'홍준표'가 뭐길래...복당 신청 하나에 국민의힘 '시끌' / YTN</td>\n",
       "      <td>2021. 5. 14.</td>\n",
       "      <td>whiteblue</td>\n",
       "      <td>준표형이야말로 국힘의 상징이지! 색깔확실하고~난 이형이 복귀했으면 정말 좋겠어 ㅎ</td>\n",
       "      <td>2시간 전</td>\n",
       "      <td>YTN news</td>\n",
       "      <td>115</td>\n",
       "      <td>16</td>\n",
       "      <td>9</td>\n",
       "    </tr>\n",
       "    <tr>\n",
       "      <th>3</th>\n",
       "      <td>'홍준표'가 뭐길래...복당 신청 하나에 국민의힘 '시끌' / YTN</td>\n",
       "      <td>2021. 5. 14.</td>\n",
       "      <td>이한승</td>\n",
       "      <td>지금 국힘에서 홍준표한테 구태라고 말할수 있는사람 없을것같은데 ㅋㅋ</td>\n",
       "      <td>6시간 전</td>\n",
       "      <td>YTN news</td>\n",
       "      <td>115</td>\n",
       "      <td>16</td>\n",
       "      <td>24</td>\n",
       "    </tr>\n",
       "    <tr>\n",
       "      <th>4</th>\n",
       "      <td>'홍준표'가 뭐길래...복당 신청 하나에 국민의힘 '시끌' / YTN</td>\n",
       "      <td>2021. 5. 14.</td>\n",
       "      <td>-</td>\n",
       "      <td>여러분 댓글에 아무짝에도 쓸모없는ㄱㅆㄹㄱ 김웅이 왔다갔다 하네요ㅋㅋㅋㅋㅋ</td>\n",
       "      <td>3시간 전</td>\n",
       "      <td>YTN news</td>\n",
       "      <td>115</td>\n",
       "      <td>16</td>\n",
       "      <td>4</td>\n",
       "    </tr>\n",
       "    <tr>\n",
       "      <th>...</th>\n",
       "      <td>...</td>\n",
       "      <td>...</td>\n",
       "      <td>...</td>\n",
       "      <td>...</td>\n",
       "      <td>...</td>\n",
       "      <td>...</td>\n",
       "      <td>...</td>\n",
       "      <td>...</td>\n",
       "      <td>...</td>\n",
       "    </tr>\n",
       "    <tr>\n",
       "      <th>7</th>\n",
       "      <td>홍준표 복당후,대통령 준비하라!후원:농협;010 5329 3606 08송만기</td>\n",
       "      <td>실시간 스트리밍 시작일: 2020. 5. 14.</td>\n",
       "      <td>kant hwang</td>\n",
       "      <td>송만기님 말이 맞아요. 응원합니다 ☆☆</td>\n",
       "      <td>11개월 전</td>\n",
       "      <td>떳다!송만기</td>\n",
       "      <td>채팅 다시보기 숨기기</td>\n",
       "      <td>265</td>\n",
       "      <td>7</td>\n",
       "    </tr>\n",
       "    <tr>\n",
       "      <th>8</th>\n",
       "      <td>홍준표 복당후,대통령 준비하라!후원:농협;010 5329 3606 08송만기</td>\n",
       "      <td>실시간 스트리밍 시작일: 2020. 5. 14.</td>\n",
       "      <td>송미령</td>\n",
       "      <td>💘홍. 준. 표 🎯 대 통 령 간 다💘홍준표 20대大統領 하면된다📣오전11시📣저녁9...</td>\n",
       "      <td>1년 전</td>\n",
       "      <td>떳다!송만기</td>\n",
       "      <td>채팅 다시보기 숨기기</td>\n",
       "      <td>265</td>\n",
       "      <td>6</td>\n",
       "    </tr>\n",
       "    <tr>\n",
       "      <th>9</th>\n",
       "      <td>홍준표 복당후,대통령 준비하라!후원:농협;010 5329 3606 08송만기</td>\n",
       "      <td>실시간 스트리밍 시작일: 2020. 5. 14.</td>\n",
       "      <td>강해동</td>\n",
       "      <td>우파들은 자기한테 입에맞는소리 안한다고 쎈소리는 하지마세요 좋아하는 파들이있어요</td>\n",
       "      <td>11개월 전</td>\n",
       "      <td>떳다!송만기</td>\n",
       "      <td>채팅 다시보기 숨기기</td>\n",
       "      <td>265</td>\n",
       "      <td>1</td>\n",
       "    </tr>\n",
       "    <tr>\n",
       "      <th>10</th>\n",
       "      <td>홍준표 복당후,대통령 준비하라!후원:농협;010 5329 3606 08송만기</td>\n",
       "      <td>실시간 스트리밍 시작일: 2020. 5. 14.</td>\n",
       "      <td>김원진</td>\n",
       "      <td>원희룡,윤석렬을 대권후보로 밀려는 움직임이 보입니다.</td>\n",
       "      <td>1년 전</td>\n",
       "      <td>떳다!송만기</td>\n",
       "      <td>채팅 다시보기 숨기기</td>\n",
       "      <td>265</td>\n",
       "      <td>3</td>\n",
       "    </tr>\n",
       "    <tr>\n",
       "      <th>11</th>\n",
       "      <td>홍준표 복당후,대통령 준비하라!후원:농협;010 5329 3606 08송만기</td>\n",
       "      <td>실시간 스트리밍 시작일: 2020. 5. 14.</td>\n",
       "      <td>김원진</td>\n",
       "      <td>홍준표 지지하지 않는 분들은 6~70대가 문제인것 같아요.</td>\n",
       "      <td>1년 전</td>\n",
       "      <td>떳다!송만기</td>\n",
       "      <td>채팅 다시보기 숨기기</td>\n",
       "      <td>265</td>\n",
       "      <td>6</td>\n",
       "    </tr>\n",
       "  </tbody>\n",
       "</table>\n",
       "<p>29032 rows × 9 columns</p>\n",
       "</div>"
      ],
      "text/plain": [
       "                                         Title                        Date  \\\n",
       "0       '홍준표'가 뭐길래...복당 신청 하나에 국민의힘 '시끌' / YTN                2021. 5. 14.   \n",
       "1       '홍준표'가 뭐길래...복당 신청 하나에 국민의힘 '시끌' / YTN                2021. 5. 14.   \n",
       "2       '홍준표'가 뭐길래...복당 신청 하나에 국민의힘 '시끌' / YTN                2021. 5. 14.   \n",
       "3       '홍준표'가 뭐길래...복당 신청 하나에 국민의힘 '시끌' / YTN                2021. 5. 14.   \n",
       "4       '홍준표'가 뭐길래...복당 신청 하나에 국민의힘 '시끌' / YTN                2021. 5. 14.   \n",
       "..                                         ...                         ...   \n",
       "7   홍준표 복당후,대통령 준비하라!후원:농협;010 5329 3606 08송만기  실시간 스트리밍 시작일: 2020. 5. 14.   \n",
       "8   홍준표 복당후,대통령 준비하라!후원:농협;010 5329 3606 08송만기  실시간 스트리밍 시작일: 2020. 5. 14.   \n",
       "9   홍준표 복당후,대통령 준비하라!후원:농협;010 5329 3606 08송만기  실시간 스트리밍 시작일: 2020. 5. 14.   \n",
       "10  홍준표 복당후,대통령 준비하라!후원:농협;010 5329 3606 08송만기  실시간 스트리밍 시작일: 2020. 5. 14.   \n",
       "11  홍준표 복당후,대통령 준비하라!후원:농협;010 5329 3606 08송만기  실시간 스트리밍 시작일: 2020. 5. 14.   \n",
       "\n",
       "            ID                                            Comment  \\\n",
       "0         멋진보스        홍준표가 대선 추대 해달라는 것도 아니고 경쟁하겠다는 건데 이건 공정성 문제야   \n",
       "1           형규  막말이 아니라 누구들처럼 듣기좋은 거짖말하는 정치인이 아닌거지. 솔직히 홍준표 무소...   \n",
       "2    whiteblue      준표형이야말로 국힘의 상징이지! 색깔확실하고~난 이형이 복귀했으면 정말 좋겠어 ㅎ   \n",
       "3          이한승              지금 국힘에서 홍준표한테 구태라고 말할수 있는사람 없을것같은데 ㅋㅋ   \n",
       "4            -           여러분 댓글에 아무짝에도 쓸모없는ㄱㅆㄹㄱ 김웅이 왔다갔다 하네요ㅋㅋㅋㅋㅋ   \n",
       "..         ...                                                ...   \n",
       "7   kant hwang                              송만기님 말이 맞아요. 응원합니다 ☆☆   \n",
       "8          송미령  💘홍. 준. 표 🎯 대 통 령 간 다💘홍준표 20대大統領 하면된다📣오전11시📣저녁9...   \n",
       "9          강해동       우파들은 자기한테 입에맞는소리 안한다고 쎈소리는 하지마세요 좋아하는 파들이있어요   \n",
       "10         김원진                      원희룡,윤석렬을 대권후보로 밀려는 움직임이 보입니다.   \n",
       "11         김원진                   홍준표 지지하지 않는 분들은 6~70대가 문제인것 같아요.   \n",
       "\n",
       "   Comment_date   Channel         Like Dislike Comment_like  \n",
       "0         5시간 전  YTN news          115      16           27  \n",
       "1    6시간 전(수정됨)  YTN news          115      16           56  \n",
       "2         2시간 전  YTN news          115      16            9  \n",
       "3         6시간 전  YTN news          115      16           24  \n",
       "4         3시간 전  YTN news          115      16            4  \n",
       "..          ...       ...          ...     ...          ...  \n",
       "7        11개월 전    떳다!송만기  채팅 다시보기 숨기기     265            7  \n",
       "8          1년 전    떳다!송만기  채팅 다시보기 숨기기     265            6  \n",
       "9        11개월 전    떳다!송만기  채팅 다시보기 숨기기     265            1  \n",
       "10         1년 전    떳다!송만기  채팅 다시보기 숨기기     265            3  \n",
       "11         1년 전    떳다!송만기  채팅 다시보기 숨기기     265            6  \n",
       "\n",
       "[29032 rows x 9 columns]"
      ]
     },
     "execution_count": 131,
     "metadata": {},
     "output_type": "execute_result"
    }
   ],
   "source": [
    "df = pd.read_csv('data/대선홍준표.csv', index_col='Unnamed: 0')\n",
    "df"
   ]
  },
  {
   "cell_type": "code",
   "execution_count": 132,
   "metadata": {
    "scrolled": true
   },
   "outputs": [
    {
     "name": "stdout",
     "output_type": "stream",
     "text": [
      "<class 'pandas.core.frame.DataFrame'>\n",
      "Int64Index: 29032 entries, 0 to 11\n",
      "Data columns (total 9 columns):\n",
      " #   Column        Non-Null Count  Dtype \n",
      "---  ------        --------------  ----- \n",
      " 0   Title         29032 non-null  object\n",
      " 1   Date          29032 non-null  object\n",
      " 2   ID            29031 non-null  object\n",
      " 3   Comment       29032 non-null  object\n",
      " 4   Comment_date  29032 non-null  object\n",
      " 5   Channel       29032 non-null  object\n",
      " 6   Like          29032 non-null  object\n",
      " 7   Dislike       29032 non-null  object\n",
      " 8   Comment_like  29032 non-null  object\n",
      "dtypes: object(9)\n",
      "memory usage: 2.2+ MB\n"
     ]
    }
   ],
   "source": [
    "df.info()"
   ]
  },
  {
   "cell_type": "markdown",
   "metadata": {},
   "source": [
    "# df['Comment_date'] 문자열 정제"
   ]
  },
  {
   "cell_type": "code",
   "execution_count": 133,
   "metadata": {},
   "outputs": [
    {
     "data": {
      "text/plain": [
       "1개월 전    4570\n",
       "3주 전     3273\n",
       "4개월 전    2529\n",
       "3개월 전    2003\n",
       "2개월 전    1911\n",
       "         ... \n",
       "5분 전        1\n",
       "42초 전       1\n",
       "9시간 전       1\n",
       "10분 전       1\n",
       "8분 전        1\n",
       "Name: Comment_date, Length: 107, dtype: int64"
      ]
     },
     "execution_count": 133,
     "metadata": {},
     "output_type": "execute_result"
    }
   ],
   "source": [
    "df['Comment_date'].value_counts()"
   ]
  },
  {
   "cell_type": "code",
   "execution_count": 134,
   "metadata": {
    "scrolled": true
   },
   "outputs": [
    {
     "data": {
      "text/plain": [
       "30      4891\n",
       "21      3487\n",
       "120     2734\n",
       "90      2142\n",
       "60      2059\n",
       "210     2016\n",
       "14      1930\n",
       "180     1466\n",
       "28      1409\n",
       "240     1278\n",
       "270     1050\n",
       "7        859\n",
       "150      846\n",
       "330      796\n",
       "0        658\n",
       "300      616\n",
       "1        203\n",
       "5        149\n",
       "3        138\n",
       "2        126\n",
       "4        106\n",
       "6         65\n",
       "1년 전       8\n",
       "Name: Comment_date, dtype: int64"
      ]
     },
     "execution_count": 134,
     "metadata": {},
     "output_type": "execute_result"
    }
   ],
   "source": [
    "df['Comment_date'] = df['Comment_date'].str.replace(\"수정됨\",\"\")\n",
    "df['Comment_date'] = df['Comment_date'].str.replace(\"(\",\"\")\n",
    "df['Comment_date'] = df['Comment_date'].str.replace(\")\",\"\")\n",
    "for idx in df['Comment_date'].value_counts().index :\n",
    "    # print(idx)\n",
    "    for n in range(59,0,-1) :  \n",
    "        # 모두 '일'로 통일\n",
    "        df['Comment_date'] = df['Comment_date'].str.replace(f\"{n}개월 전\",f\"{30*int(n)}\")\n",
    "        df['Comment_date'] = df['Comment_date'].str.replace(f\"{n}주 전\",f\"{7*int(n)}\")\n",
    "        df['Comment_date'] = df['Comment_date'].str.replace(f\"{n}일 전\",f\"{int(n)}\")\n",
    "        df['Comment_date'] = df['Comment_date'].str.replace(f\"{n}시간 전\",f\"{int(0)}\")\n",
    "        df['Comment_date'] = df['Comment_date'].str.replace(f\"{n}분 전\",f\"{int(0)}\")\n",
    "        df['Comment_date'] = df['Comment_date'].str.replace(f\"{n}초 전\",f\"{int(0)}\")\n",
    "        \n",
    "df['Comment_date'].value_counts()"
   ]
  },
  {
   "cell_type": "code",
   "execution_count": 135,
   "metadata": {},
   "outputs": [],
   "source": [
    "# 'n년 전'도 있음을 감안\n",
    "for idx in df['Comment_date'].value_counts().index :\n",
    "    # print(idx)\n",
    "    for n in range(59,0,-1) :  \n",
    "        # 모두 '일'로 통일\n",
    "        df['Comment_date'] = df['Comment_date'].str.replace(f\"{n}년 전\",f\"{12*30*int(n)}\")"
   ]
  },
  {
   "cell_type": "code",
   "execution_count": 136,
   "metadata": {},
   "outputs": [
    {
     "data": {
      "text/plain": [
       "30     4891\n",
       "21     3487\n",
       "120    2734\n",
       "90     2142\n",
       "60     2059\n",
       "210    2016\n",
       "14     1930\n",
       "180    1466\n",
       "28     1409\n",
       "240    1278\n",
       "270    1050\n",
       "7       859\n",
       "150     846\n",
       "330     796\n",
       "0       658\n",
       "300     616\n",
       "1       203\n",
       "5       149\n",
       "3       138\n",
       "2       126\n",
       "4       106\n",
       "6        65\n",
       "360       8\n",
       "Name: Comment_date, dtype: int64"
      ]
     },
     "execution_count": 136,
     "metadata": {},
     "output_type": "execute_result"
    }
   ],
   "source": [
    "df['Comment_date'].value_counts()"
   ]
  },
  {
   "cell_type": "markdown",
   "metadata": {},
   "source": [
    "# df['Date'] 문자열 정제 & Datetime형으로 변환"
   ]
  },
  {
   "cell_type": "code",
   "execution_count": 137,
   "metadata": {},
   "outputs": [
    {
     "data": {
      "text/plain": [
       "2021. 4. 18.     1373\n",
       "2021. 4. 11.     1298\n",
       "2020. 11. 3.     1296\n",
       "2020. 12. 14.    1253\n",
       "2020. 11. 15.    1246\n",
       "                 ... \n",
       "2020. 11. 17.       1\n",
       "2020. 12. 1.        1\n",
       "2021. 3. 15.        1\n",
       "2020. 6. 4.         1\n",
       "2021. 2. 25.        1\n",
       "Name: Date, Length: 164, dtype: int64"
      ]
     },
     "execution_count": 137,
     "metadata": {},
     "output_type": "execute_result"
    }
   ],
   "source": [
    "df['Date'].value_counts()"
   ]
  },
  {
   "cell_type": "code",
   "execution_count": null,
   "metadata": {},
   "outputs": [],
   "source": [
    "# 날짜만 추출하기 위하여 한글은 공백으로 대체\n",
    "df['Date'] = df['Date'].str.replace(\"실시간 스트리밍 시작일: \",\"\")\n",
    "df['Date'] = df['Date'].str.replace(\"최초 공개일: \",\"\")\n",
    "df['Date'] = df['Date'].str.replace(\"최초 공개: \",\"\")\n",
    "df['Date'] = df['Date'].str.replace(\" 최초 공개\",\"\")\n",
    "df['Date'] = df['Date'].str.replace(\"이전 실시간 스트리밍: \",\"\")\n",
    "\n",
    "for idx in df['Date'].value_counts().index :\n",
    "    for n in range(59,0,-1) :\n",
    "        df['Date'] = df['Date'].str.replace(f\"{n}초 전\",f\"2021. 5. 15.\")\n",
    "        if n<=18 : \n",
    "            # 현재 2021년 4월 24일 18시 33분이므로 20시간 더 이전인 경우 2021. 5. 14.로 변환\n",
    "            df['Date'] = df['Date'].str.replace(f\"{n}시간 전\",f\"2021. 5. 14.\")\n",
    "        else :\n",
    "            # 18시간 더 이후인경우 2021. 5. 15.으로 변환\n",
    "            df['Date'] = df['Date'].str.replace(f\"{n}시간 전\",f\"2021. 5. 15.\")\n",
    "        \n",
    "\n",
    "df['Date'].value_counts()"
   ]
  },
  {
   "cell_type": "code",
   "execution_count": null,
   "metadata": {
    "scrolled": false
   },
   "outputs": [],
   "source": [
    "# datetime으로 형변환\n",
    "df['Date'] = df['Date'].apply(lambda x: datetime.datetime.strptime(x, '%Y. %m. %d.'))\n",
    "df['Date']"
   ]
  },
  {
   "cell_type": "markdown",
   "metadata": {},
   "source": [
    "# df['Comment_date'] 날짜 계산 후 대입"
   ]
  },
  {
   "cell_type": "code",
   "execution_count": null,
   "metadata": {
    "scrolled": true
   },
   "outputs": [],
   "source": [
    "df['Comment_date'] = df['Comment_date'].apply(lambda x: timedelta(days=int(x)))\n",
    "today = pd.to_datetime(['2021-05-15']*len(df))\n",
    "df['Comment_date'] = today - df['Comment_date']\n",
    "df"
   ]
  },
  {
   "cell_type": "code",
   "execution_count": null,
   "metadata": {},
   "outputs": [],
   "source": [
    "df = df.drop_duplicates()\n",
    "df"
   ]
  },
  {
   "cell_type": "markdown",
   "metadata": {},
   "source": [
    "# 라벨링하기 위한 형식으로 변환"
   ]
  },
  {
   "cell_type": "code",
   "execution_count": 12,
   "metadata": {
    "scrolled": false
   },
   "outputs": [],
   "source": [
    "# # 컬럼제목을 한글로 변환\n",
    "# df.columns = ['제목','날짜','작성자','댓글','작성일']\n",
    "# df = df[['제목','날짜','작성일','댓글','작성자']]\n",
    "# df.drop(columns='작성자',inplace=True)\n",
    "# # 출처 기입\n",
    "# df['출처'] = np.array('유튜브')\n",
    "# df"
   ]
  },
  {
   "cell_type": "code",
   "execution_count": 13,
   "metadata": {
    "scrolled": true
   },
   "outputs": [],
   "source": [
    "# df['제목댓글']=df['제목']+' '+df['댓글']      # 제목댓글 컬럼 생성\n",
    "# df['지역(서울:1, 부산:2)']=''                 # 지역 컬럼 생성\n",
    "# df['정당(1:더불어민주당,2:국민의힘)']=''      # 정당 컬럼 생성\n",
    "# df['정당평가(부정;0, 긍정:1)']=''             # 정당평가 컬럼 생성\n",
    "# df['후보(기호 순)']=''                        # 후보 컬럼 생성\n",
    "# df['후보평가(부정;0, 긍정:1)']=''             # 후보평가 컬럼 생성\n",
    "# df=df[['제목','날짜','작성일','댓글','출처','지역(서울:1, 부산:2)','정당(1:더불어민주당,2:국민의힘)','정당평가(부정;0, 긍정:1)','후보(기호 순)','후보평가(부정;0, 긍정:1)','제목댓글']]\n",
    "# df"
   ]
  },
  {
   "cell_type": "markdown",
   "metadata": {},
   "source": [
    "# csv파일 저장"
   ]
  },
  {
   "cell_type": "code",
   "execution_count": 129,
   "metadata": {},
   "outputs": [],
   "source": [
    "df.to_csv('data/대선홍준표_정제.csv',encoding='utf-8-sig', index=False)"
   ]
  },
  {
   "cell_type": "code",
   "execution_count": 130,
   "metadata": {
    "scrolled": true
   },
   "outputs": [
    {
     "data": {
      "text/html": [
       "<div>\n",
       "<style scoped>\n",
       "    .dataframe tbody tr th:only-of-type {\n",
       "        vertical-align: middle;\n",
       "    }\n",
       "\n",
       "    .dataframe tbody tr th {\n",
       "        vertical-align: top;\n",
       "    }\n",
       "\n",
       "    .dataframe thead th {\n",
       "        text-align: right;\n",
       "    }\n",
       "</style>\n",
       "<table border=\"1\" class=\"dataframe\">\n",
       "  <thead>\n",
       "    <tr style=\"text-align: right;\">\n",
       "      <th></th>\n",
       "      <th>Title</th>\n",
       "      <th>Date</th>\n",
       "      <th>ID</th>\n",
       "      <th>Comment</th>\n",
       "      <th>Comment_date</th>\n",
       "      <th>Channel</th>\n",
       "      <th>Like</th>\n",
       "      <th>Dislike</th>\n",
       "      <th>Comment_like</th>\n",
       "    </tr>\n",
       "  </thead>\n",
       "  <tbody>\n",
       "    <tr>\n",
       "      <th>0</th>\n",
       "      <td>추미애 또 \"언론재벌들이  '외눈'\",이재명·추미애·정세균, 대선 본격 레이스,또 ...</td>\n",
       "      <td>2021-04-25</td>\n",
       "      <td>미로</td>\n",
       "      <td>정세균이나가니까?추여사가.눈이뒤집혀진다.미친년되고.욕은바가지로먹고.푼수노릇까지하며....</td>\n",
       "      <td>2021-05-01</td>\n",
       "      <td>TV김재구</td>\n",
       "      <td>채팅 다시보기 숨기기</td>\n",
       "      <td>212</td>\n",
       "      <td>2</td>\n",
       "    </tr>\n",
       "    <tr>\n",
       "      <th>1</th>\n",
       "      <td>추미애 또 \"언론재벌들이  '외눈'\",이재명·추미애·정세균, 대선 본격 레이스,또 ...</td>\n",
       "      <td>2021-04-25</td>\n",
       "      <td>이관기</td>\n",
       "      <td>여보세요 사과할 가치도전연 전연 없어요 관심없어요</td>\n",
       "      <td>2021-05-01</td>\n",
       "      <td>TV김재구</td>\n",
       "      <td>채팅 다시보기 숨기기</td>\n",
       "      <td>212</td>\n",
       "      <td>1</td>\n",
       "    </tr>\n",
       "    <tr>\n",
       "      <th>2</th>\n",
       "      <td>추미애 또 \"언론재벌들이  '외눈'\",이재명·추미애·정세균, 대선 본격 레이스,또 ...</td>\n",
       "      <td>2021-04-25</td>\n",
       "      <td>조병량</td>\n",
       "      <td>솔직히ㅡ정신나간것들ㅡ줄줄히 조용한대가야지ㅡ암걸리겠다ㅡ혹ㅡ건강에문재있어면ㅡ이놈들상대로...</td>\n",
       "      <td>2021-05-01</td>\n",
       "      <td>TV김재구</td>\n",
       "      <td>채팅 다시보기 숨기기</td>\n",
       "      <td>212</td>\n",
       "      <td>3</td>\n",
       "    </tr>\n",
       "    <tr>\n",
       "      <th>3</th>\n",
       "      <td>추미애 또 \"언론재벌들이  '외눈'\",이재명·추미애·정세균, 대선 본격 레이스,또 ...</td>\n",
       "      <td>2021-04-25</td>\n",
       "      <td>康용수다웟</td>\n",
       "      <td>수고하셨습니다</td>\n",
       "      <td>2021-05-01</td>\n",
       "      <td>TV김재구</td>\n",
       "      <td>채팅 다시보기 숨기기</td>\n",
       "      <td>212</td>\n",
       "      <td>2</td>\n",
       "    </tr>\n",
       "    <tr>\n",
       "      <th>4</th>\n",
       "      <td>추미애 또 \"언론재벌들이  '외눈'\",이재명·추미애·정세균, 대선 본격 레이스,또 ...</td>\n",
       "      <td>2021-04-25</td>\n",
       "      <td>이낙흥</td>\n",
       "      <td>백내장으로덥힌양눈보다싱싱한왜눈이더잘보이는건왜모르나미애야ㆍ진짜니가왜눈박이네</td>\n",
       "      <td>2021-05-01</td>\n",
       "      <td>TV김재구</td>\n",
       "      <td>채팅 다시보기 숨기기</td>\n",
       "      <td>212</td>\n",
       "      <td>3</td>\n",
       "    </tr>\n",
       "    <tr>\n",
       "      <th>...</th>\n",
       "      <td>...</td>\n",
       "      <td>...</td>\n",
       "      <td>...</td>\n",
       "      <td>...</td>\n",
       "      <td>...</td>\n",
       "      <td>...</td>\n",
       "      <td>...</td>\n",
       "      <td>...</td>\n",
       "      <td>...</td>\n",
       "    </tr>\n",
       "    <tr>\n",
       "      <th>11</th>\n",
       "      <td>추미애.민주당의 '이지매'가 윤석열을  대선주자 야권 1위  만들었다?</td>\n",
       "      <td>2020-06-29</td>\n",
       "      <td>홍순주</td>\n",
       "      <td>추미애는 윤성열의 상대가 될수가 없다.하는짓이 한수아래라 다음 대선에서도  민주당 ...</td>\n",
       "      <td>2020-07-19</td>\n",
       "      <td>양영태 박사TV</td>\n",
       "      <td>507</td>\n",
       "      <td>6</td>\n",
       "      <td>1</td>\n",
       "    </tr>\n",
       "    <tr>\n",
       "      <th>12</th>\n",
       "      <td>추미애.민주당의 '이지매'가 윤석열을  대선주자 야권 1위  만들었다?</td>\n",
       "      <td>2020-06-29</td>\n",
       "      <td>이종운</td>\n",
       "      <td>가자! 만들자! 대통령은 윤석렬 🤴문재인! 과 식솔 ! -''평생무료배식 학교에 입...</td>\n",
       "      <td>2020-07-19</td>\n",
       "      <td>양영태 박사TV</td>\n",
       "      <td>507</td>\n",
       "      <td>6</td>\n",
       "      <td>0</td>\n",
       "    </tr>\n",
       "    <tr>\n",
       "      <th>13</th>\n",
       "      <td>추미애.민주당의 '이지매'가 윤석열을  대선주자 야권 1위  만들었다?</td>\n",
       "      <td>2020-06-29</td>\n",
       "      <td>오만복</td>\n",
       "      <td>윤석열총장님께서 차기대통령확실합니다, 윤총장님 화이팅</td>\n",
       "      <td>2020-07-19</td>\n",
       "      <td>양영태 박사TV</td>\n",
       "      <td>507</td>\n",
       "      <td>6</td>\n",
       "      <td>6</td>\n",
       "    </tr>\n",
       "    <tr>\n",
       "      <th>14</th>\n",
       "      <td>추미애.민주당의 '이지매'가 윤석열을  대선주자 야권 1위  만들었다?</td>\n",
       "      <td>2020-06-29</td>\n",
       "      <td>민병복</td>\n",
       "      <td>윤석열 화이팅 이낙연 인기없어 좌빨들이 정치을 잘못 해서 인기하락</td>\n",
       "      <td>2020-07-19</td>\n",
       "      <td>양영태 박사TV</td>\n",
       "      <td>507</td>\n",
       "      <td>6</td>\n",
       "      <td>2</td>\n",
       "    </tr>\n",
       "    <tr>\n",
       "      <th>15</th>\n",
       "      <td>추미애.민주당의 '이지매'가 윤석열을  대선주자 야권 1위  만들었다?</td>\n",
       "      <td>2020-06-29</td>\n",
       "      <td>진실로철형</td>\n",
       "      <td>이낙연이천화재참사에서 시치미떼는거 보세요 무슨 대통령 감입니까  조국때도 눈치만 슬...</td>\n",
       "      <td>2020-07-19</td>\n",
       "      <td>양영태 박사TV</td>\n",
       "      <td>507</td>\n",
       "      <td>6</td>\n",
       "      <td>0</td>\n",
       "    </tr>\n",
       "  </tbody>\n",
       "</table>\n",
       "<p>13967 rows × 9 columns</p>\n",
       "</div>"
      ],
      "text/plain": [
       "                                                Title       Date     ID  \\\n",
       "0   추미애 또 \"언론재벌들이  '외눈'\",이재명·추미애·정세균, 대선 본격 레이스,또 ... 2021-04-25     미로   \n",
       "1   추미애 또 \"언론재벌들이  '외눈'\",이재명·추미애·정세균, 대선 본격 레이스,또 ... 2021-04-25    이관기   \n",
       "2   추미애 또 \"언론재벌들이  '외눈'\",이재명·추미애·정세균, 대선 본격 레이스,또 ... 2021-04-25    조병량   \n",
       "3   추미애 또 \"언론재벌들이  '외눈'\",이재명·추미애·정세균, 대선 본격 레이스,또 ... 2021-04-25  康용수다웟   \n",
       "4   추미애 또 \"언론재벌들이  '외눈'\",이재명·추미애·정세균, 대선 본격 레이스,또 ... 2021-04-25    이낙흥   \n",
       "..                                                ...        ...    ...   \n",
       "11            추미애.민주당의 '이지매'가 윤석열을  대선주자 야권 1위  만들었다? 2020-06-29    홍순주   \n",
       "12            추미애.민주당의 '이지매'가 윤석열을  대선주자 야권 1위  만들었다? 2020-06-29    이종운   \n",
       "13            추미애.민주당의 '이지매'가 윤석열을  대선주자 야권 1위  만들었다? 2020-06-29    오만복   \n",
       "14            추미애.민주당의 '이지매'가 윤석열을  대선주자 야권 1위  만들었다? 2020-06-29    민병복   \n",
       "15            추미애.민주당의 '이지매'가 윤석열을  대선주자 야권 1위  만들었다? 2020-06-29  진실로철형   \n",
       "\n",
       "                                              Comment Comment_date   Channel  \\\n",
       "0   정세균이나가니까?추여사가.눈이뒤집혀진다.미친년되고.욕은바가지로먹고.푼수노릇까지하며....   2021-05-01     TV김재구   \n",
       "1                         여보세요 사과할 가치도전연 전연 없어요 관심없어요   2021-05-01     TV김재구   \n",
       "2   솔직히ㅡ정신나간것들ㅡ줄줄히 조용한대가야지ㅡ암걸리겠다ㅡ혹ㅡ건강에문재있어면ㅡ이놈들상대로...   2021-05-01     TV김재구   \n",
       "3                                             수고하셨습니다   2021-05-01     TV김재구   \n",
       "4            백내장으로덥힌양눈보다싱싱한왜눈이더잘보이는건왜모르나미애야ㆍ진짜니가왜눈박이네   2021-05-01     TV김재구   \n",
       "..                                                ...          ...       ...   \n",
       "11  추미애는 윤성열의 상대가 될수가 없다.하는짓이 한수아래라 다음 대선에서도  민주당 ...   2020-07-19  양영태 박사TV   \n",
       "12  가자! 만들자! 대통령은 윤석렬 🤴문재인! 과 식솔 ! -''평생무료배식 학교에 입...   2020-07-19  양영태 박사TV   \n",
       "13                      윤석열총장님께서 차기대통령확실합니다, 윤총장님 화이팅   2020-07-19  양영태 박사TV   \n",
       "14               윤석열 화이팅 이낙연 인기없어 좌빨들이 정치을 잘못 해서 인기하락   2020-07-19  양영태 박사TV   \n",
       "15  이낙연이천화재참사에서 시치미떼는거 보세요 무슨 대통령 감입니까  조국때도 눈치만 슬...   2020-07-19  양영태 박사TV   \n",
       "\n",
       "           Like Dislike  Comment_like  \n",
       "0   채팅 다시보기 숨기기     212             2  \n",
       "1   채팅 다시보기 숨기기     212             1  \n",
       "2   채팅 다시보기 숨기기     212             3  \n",
       "3   채팅 다시보기 숨기기     212             2  \n",
       "4   채팅 다시보기 숨기기     212             3  \n",
       "..          ...     ...           ...  \n",
       "11          507       6             1  \n",
       "12          507       6             0  \n",
       "13          507       6             6  \n",
       "14          507       6             2  \n",
       "15          507       6             0  \n",
       "\n",
       "[13967 rows x 9 columns]"
      ]
     },
     "execution_count": 130,
     "metadata": {},
     "output_type": "execute_result"
    }
   ],
   "source": [
    "df"
   ]
  },
  {
   "cell_type": "code",
   "execution_count": null,
   "metadata": {},
   "outputs": [],
   "source": []
  }
 ],
 "metadata": {
  "kernelspec": {
   "display_name": "Python 3",
   "language": "python",
   "name": "python3"
  },
  "language_info": {
   "codemirror_mode": {
    "name": "ipython",
    "version": 3
   },
   "file_extension": ".py",
   "mimetype": "text/x-python",
   "name": "python",
   "nbconvert_exporter": "python",
   "pygments_lexer": "ipython3",
   "version": "3.7.6"
  },
  "toc": {
   "base_numbering": 1,
   "nav_menu": {},
   "number_sections": true,
   "sideBar": true,
   "skip_h1_title": false,
   "title_cell": "Table of Contents",
   "title_sidebar": "Contents",
   "toc_cell": false,
   "toc_position": {},
   "toc_section_display": true,
   "toc_window_display": false
  },
  "varInspector": {
   "cols": {
    "lenName": 16,
    "lenType": 16,
    "lenVar": 40
   },
   "kernels_config": {
    "python": {
     "delete_cmd_postfix": "",
     "delete_cmd_prefix": "del ",
     "library": "var_list.py",
     "varRefreshCmd": "print(var_dic_list())"
    },
    "r": {
     "delete_cmd_postfix": ") ",
     "delete_cmd_prefix": "rm(",
     "library": "var_list.r",
     "varRefreshCmd": "cat(var_dic_list()) "
    }
   },
   "types_to_exclude": [
    "module",
    "function",
    "builtin_function_or_method",
    "instance",
    "_Feature"
   ],
   "window_display": false
  }
 },
 "nbformat": 4,
 "nbformat_minor": 4
}
