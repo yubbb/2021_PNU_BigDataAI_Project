{
 "cells": [
  {
   "cell_type": "markdown",
   "metadata": {},
   "source": [
    "# 조선일보"
   ]
  },
  {
   "cell_type": "code",
   "execution_count": 1,
   "metadata": {},
   "outputs": [],
   "source": [
    "import pandas as pd\n",
    "\n",
    "df1 = pd.read_csv('Chosun/chosun_comment_김부겸.csv', encoding='utf-8-sig' )\n",
    "df2 = pd.read_csv('Chosun/chosun_comment_심상정.csv', encoding='utf-8-sig' )\n",
    "df3 = pd.read_csv('Chosun/chosun_comment_안철수.csv', encoding='utf-8-sig' )\n",
    "df4 = pd.read_csv('Chosun/chosun_comment_유승민.csv', encoding='utf-8-sig' )\n",
    "df5 = pd.read_csv('Chosun/chosun_comment_윤석열.csv' )\n",
    "df6 = pd.read_csv('Chosun/chosun_comment_이낙연.csv', encoding='utf-8-sig' )\n",
    "df7 = pd.read_csv('Chosun/chosun_comment_이재명.csv', encoding='utf-8-sig' )\n",
    "df8 = pd.read_csv('Chosun/chosun_comment_정세균.csv', encoding='utf-8-sig' )\n",
    "df9 = pd.read_csv('Chosun/chosun_comment_추미애.csv', encoding='utf-8-sig' )\n",
    "df10 = pd.read_csv('Chosun/chosun_comment_홍준표.csv', encoding='utf-8-sig' )\n",
    "df11 = pd.read_csv('Chosun/chosun_comment_황교안.csv', encoding='utf-8-sig' )"
   ]
  },
  {
   "cell_type": "markdown",
   "metadata": {},
   "source": [
    "## \"후보\" 칼럼 추가"
   ]
  },
  {
   "cell_type": "code",
   "execution_count": 2,
   "metadata": {},
   "outputs": [],
   "source": [
    "df1['후보'] = '김부겸'\n",
    "df2['후보'] = '심상정'\n",
    "df3['후보'] = '안철수'\n",
    "df4['후보'] = '유승민'\n",
    "df5['후보'] = '윤석열'\n",
    "df6['후보'] = '이낙연'\n",
    "df7['후보'] = '이재명'\n",
    "df8['후보'] = '정세균'\n",
    "df9['후보'] = '추미애'\n",
    "df10['후보'] = '홍준표'\n",
    "df11['후보'] = '황교안'"
   ]
  },
  {
   "cell_type": "markdown",
   "metadata": {},
   "source": [
    "## 데이터 취합 (윤석열 데이터 제외)"
   ]
  },
  {
   "cell_type": "code",
   "execution_count": 3,
   "metadata": {},
   "outputs": [],
   "source": [
    "df_chosun = pd.concat((df1, df2, df3, df4, df6, df7, df8, df9, df10, df11), axis=0)"
   ]
  },
  {
   "cell_type": "markdown",
   "metadata": {},
   "source": [
    "## nan 값 확인"
   ]
  },
  {
   "cell_type": "code",
   "execution_count": 4,
   "metadata": {},
   "outputs": [
    {
     "data": {
      "text/plain": [
       "제목     0\n",
       "날짜     0\n",
       "작성자    0\n",
       "작성일    0\n",
       "댓글     0\n",
       "후보     0\n",
       "dtype: int64"
      ]
     },
     "execution_count": 4,
     "metadata": {},
     "output_type": "execute_result"
    }
   ],
   "source": [
    "df_chosun.isna().sum()"
   ]
  },
  {
   "cell_type": "code",
   "execution_count": 5,
   "metadata": {},
   "outputs": [
    {
     "name": "stdout",
     "output_type": "stream",
     "text": [
      "<class 'pandas.core.frame.DataFrame'>\n",
      "Int64Index: 3623 entries, 0 to 579\n",
      "Data columns (total 6 columns):\n",
      " #   Column  Non-Null Count  Dtype \n",
      "---  ------  --------------  ----- \n",
      " 0   제목      3623 non-null   object\n",
      " 1   날짜      3623 non-null   object\n",
      " 2   작성자     3623 non-null   object\n",
      " 3   작성일     3623 non-null   object\n",
      " 4   댓글      3623 non-null   object\n",
      " 5   후보      3623 non-null   object\n",
      "dtypes: object(6)\n",
      "memory usage: 198.1+ KB\n"
     ]
    }
   ],
   "source": [
    "df_chosun.info()"
   ]
  },
  {
   "cell_type": "markdown",
   "metadata": {},
   "source": [
    "## 날짜, 작성일 데이터 이상 확인"
   ]
  },
  {
   "cell_type": "code",
   "execution_count": 6,
   "metadata": {},
   "outputs": [],
   "source": [
    "df_chosun['날짜'] = pd.to_datetime(df_chosun['날짜'])\n",
    "df_chosun['작성일'] = pd.to_datetime(df_chosun['작성일'])"
   ]
  },
  {
   "cell_type": "code",
   "execution_count": 7,
   "metadata": {},
   "outputs": [
    {
     "data": {
      "text/html": [
       "<div>\n",
       "<style scoped>\n",
       "    .dataframe tbody tr th:only-of-type {\n",
       "        vertical-align: middle;\n",
       "    }\n",
       "\n",
       "    .dataframe tbody tr th {\n",
       "        vertical-align: top;\n",
       "    }\n",
       "\n",
       "    .dataframe thead th {\n",
       "        text-align: right;\n",
       "    }\n",
       "</style>\n",
       "<table border=\"1\" class=\"dataframe\">\n",
       "  <thead>\n",
       "    <tr style=\"text-align: right;\">\n",
       "      <th></th>\n",
       "      <th>제목</th>\n",
       "      <th>날짜</th>\n",
       "      <th>작성자</th>\n",
       "      <th>작성일</th>\n",
       "      <th>댓글</th>\n",
       "      <th>후보</th>\n",
       "    </tr>\n",
       "  </thead>\n",
       "  <tbody>\n",
       "    <tr>\n",
       "      <th>0</th>\n",
       "      <td>김부겸 “마지막 공직이라 생각”… 대선 출마설 부인</td>\n",
       "      <td>2021-05-07 10:55:00</td>\n",
       "      <td>정병렬</td>\n",
       "      <td>2021-05-07 14:46:43</td>\n",
       "      <td>&lt;대선 출마설&gt; 어떤 외눈박이의 헛소리 이겠지.</td>\n",
       "      <td>김부겸</td>\n",
       "    </tr>\n",
       "    <tr>\n",
       "      <th>1</th>\n",
       "      <td>김부겸 “마지막 공직이라 생각”… 대선 출마설 부인</td>\n",
       "      <td>2021-05-07 10:55:00</td>\n",
       "      <td>이규태</td>\n",
       "      <td>2021-05-07 11:11:00</td>\n",
       "      <td>악취가 진동하는 엉망진창인 자신의 모습은 안보이나? 후보사퇴 하고 있는듯 없는듯이 ...</td>\n",
       "      <td>김부겸</td>\n",
       "    </tr>\n",
       "    <tr>\n",
       "      <th>2</th>\n",
       "      <td>김부겸 “검수완박은 일부 의원 의견... 문자폭탄, 민주적 방식 아냐“</td>\n",
       "      <td>2021-05-07 00:51:00</td>\n",
       "      <td>윤정삼</td>\n",
       "      <td>2021-05-07 07:55:49</td>\n",
       "      <td>김부겸 32번의 차량 압류 . . . 이렇게 법을 위반한 사람이 대한민국 총리가 된...</td>\n",
       "      <td>김부겸</td>\n",
       "    </tr>\n",
       "    <tr>\n",
       "      <th>3</th>\n",
       "      <td>김부겸 “검수완박은 일부 의원 의견... 문자폭탄, 민주적 방식 아냐“</td>\n",
       "      <td>2021-05-07 00:51:00</td>\n",
       "      <td>황성식</td>\n",
       "      <td>2021-05-07 05:10:51</td>\n",
       "      <td>부겸이 니는 부결이 정답이다</td>\n",
       "      <td>김부겸</td>\n",
       "    </tr>\n",
       "    <tr>\n",
       "      <th>4</th>\n",
       "      <td>김부겸 “검수완박은 일부 의원 의견... 문자폭탄, 민주적 방식 아냐“</td>\n",
       "      <td>2021-05-07 00:51:00</td>\n",
       "      <td>윤성철</td>\n",
       "      <td>2021-05-07 04:54:47</td>\n",
       "      <td>김부겸의 평소 고상한 품위 있는 언행 하던 사람이 상식이 파괴된 비도덕적이고 비윤리...</td>\n",
       "      <td>김부겸</td>\n",
       "    </tr>\n",
       "  </tbody>\n",
       "</table>\n",
       "</div>"
      ],
      "text/plain": [
       "                                        제목                  날짜  작성자  \\\n",
       "0             김부겸 “마지막 공직이라 생각”… 대선 출마설 부인 2021-05-07 10:55:00  정병렬   \n",
       "1             김부겸 “마지막 공직이라 생각”… 대선 출마설 부인 2021-05-07 10:55:00  이규태   \n",
       "2  김부겸 “검수완박은 일부 의원 의견... 문자폭탄, 민주적 방식 아냐“ 2021-05-07 00:51:00  윤정삼   \n",
       "3  김부겸 “검수완박은 일부 의원 의견... 문자폭탄, 민주적 방식 아냐“ 2021-05-07 00:51:00  황성식   \n",
       "4  김부겸 “검수완박은 일부 의원 의견... 문자폭탄, 민주적 방식 아냐“ 2021-05-07 00:51:00  윤성철   \n",
       "\n",
       "                  작성일                                                 댓글   후보  \n",
       "0 2021-05-07 14:46:43                         <대선 출마설> 어떤 외눈박이의 헛소리 이겠지.  김부겸  \n",
       "1 2021-05-07 11:11:00  악취가 진동하는 엉망진창인 자신의 모습은 안보이나? 후보사퇴 하고 있는듯 없는듯이 ...  김부겸  \n",
       "2 2021-05-07 07:55:49  김부겸 32번의 차량 압류 . . . 이렇게 법을 위반한 사람이 대한민국 총리가 된...  김부겸  \n",
       "3 2021-05-07 05:10:51                                    부겸이 니는 부결이 정답이다  김부겸  \n",
       "4 2021-05-07 04:54:47  김부겸의 평소 고상한 품위 있는 언행 하던 사람이 상식이 파괴된 비도덕적이고 비윤리...  김부겸  "
      ]
     },
     "execution_count": 7,
     "metadata": {},
     "output_type": "execute_result"
    }
   ],
   "source": [
    "df_chosun.head()"
   ]
  },
  {
   "cell_type": "markdown",
   "metadata": {},
   "source": [
    "## 출처 칼럼 추가"
   ]
  },
  {
   "cell_type": "code",
   "execution_count": 8,
   "metadata": {},
   "outputs": [],
   "source": [
    "df_chosun['출처'] = '조선일보'"
   ]
  },
  {
   "cell_type": "markdown",
   "metadata": {},
   "source": [
    "# 중앙일보"
   ]
  },
  {
   "cell_type": "code",
   "execution_count": 9,
   "metadata": {},
   "outputs": [],
   "source": [
    "import pandas as pd\n",
    "\n",
    "df1 = pd.read_csv('Joongang/joongang_comment_김부겸.csv', encoding='utf-8-sig' )\n",
    "df2 = pd.read_csv('Joongang/joongang_comment_심상정.csv', encoding='utf-8-sig' )\n",
    "df3 = pd.read_csv('Joongang/joongang_comment_안철수.csv', encoding='utf-8-sig' )\n",
    "df4 = pd.read_csv('Joongang/joongang_comment_유승민.csv', encoding='utf-8-sig' )\n",
    "df5 = pd.read_csv('Joongang/joongang_comment_윤석열.csv', encoding='utf-8-sig' )\n",
    "df6 = pd.read_csv('Joongang/joongang_comment_이낙연.csv', encoding='utf-8-sig' )\n",
    "df7 = pd.read_csv('Joongang/joongang_comment_이재명.csv', encoding='utf-8-sig' )\n",
    "df8 = pd.read_csv('Joongang/joongang_comment_정세균.csv', encoding='utf-8-sig' )\n",
    "df9 = pd.read_csv('Joongang/joongang_comment_추미애.csv', encoding='utf-8-sig' )\n",
    "df10 = pd.read_csv('Joongang/joongang_comment_홍준표.csv', encoding='utf-8-sig' )\n",
    "df11 = pd.read_csv('Joongang/joongang_comment_황교안.csv', encoding='utf-8-sig' )"
   ]
  },
  {
   "cell_type": "markdown",
   "metadata": {},
   "source": [
    "## \"후보\" 칼럼 추가"
   ]
  },
  {
   "cell_type": "code",
   "execution_count": 10,
   "metadata": {},
   "outputs": [],
   "source": [
    "df1['후보'] = '김부겸'\n",
    "df2['후보'] = '심상정'\n",
    "df3['후보'] = '안철수'\n",
    "df4['후보'] = '유승민'\n",
    "df5['후보'] = '윤석열'\n",
    "df6['후보'] = '이낙연'\n",
    "df7['후보'] = '이재명'\n",
    "df8['후보'] = '정세균'\n",
    "df9['후보'] = '추미애'\n",
    "df10['후보'] = '홍준표'\n",
    "df11['후보'] = '황교안'"
   ]
  },
  {
   "cell_type": "markdown",
   "metadata": {},
   "source": [
    "## 데이터 취합(김부겸, 심상정, 정세균, 추미애, 황교안)"
   ]
  },
  {
   "cell_type": "code",
   "execution_count": 11,
   "metadata": {},
   "outputs": [],
   "source": [
    "df_joongang = pd.concat((df1, df2, df3, df4, df5, df6, df7, df8, df9, df10, df11), axis=0)"
   ]
  },
  {
   "cell_type": "markdown",
   "metadata": {},
   "source": [
    "## 칼럼 순서 변경"
   ]
  },
  {
   "cell_type": "code",
   "execution_count": 12,
   "metadata": {},
   "outputs": [],
   "source": [
    "df_joongang = df_joongang[['제목', '날짜', '작성자', '작성일', '댓글', '후보']]"
   ]
  },
  {
   "cell_type": "markdown",
   "metadata": {},
   "source": [
    "## nan 값 확인"
   ]
  },
  {
   "cell_type": "code",
   "execution_count": 13,
   "metadata": {},
   "outputs": [
    {
     "data": {
      "text/plain": [
       "제목     0\n",
       "날짜     0\n",
       "작성자    0\n",
       "작성일    0\n",
       "댓글     0\n",
       "후보     0\n",
       "dtype: int64"
      ]
     },
     "execution_count": 13,
     "metadata": {},
     "output_type": "execute_result"
    }
   ],
   "source": [
    "df_joongang.isna().sum()"
   ]
  },
  {
   "cell_type": "markdown",
   "metadata": {},
   "source": [
    "## 날짜, 작성일 데이터 확인"
   ]
  },
  {
   "cell_type": "code",
   "execution_count": 14,
   "metadata": {},
   "outputs": [],
   "source": [
    "df_joongang['날짜'] = pd.to_datetime(df_joongang['날짜'])\n",
    "df_joongang['작성일'] = pd.to_datetime(df_joongang['작성일'])"
   ]
  },
  {
   "cell_type": "code",
   "execution_count": 15,
   "metadata": {},
   "outputs": [
    {
     "data": {
      "text/html": [
       "<div>\n",
       "<style scoped>\n",
       "    .dataframe tbody tr th:only-of-type {\n",
       "        vertical-align: middle;\n",
       "    }\n",
       "\n",
       "    .dataframe tbody tr th {\n",
       "        vertical-align: top;\n",
       "    }\n",
       "\n",
       "    .dataframe thead th {\n",
       "        text-align: right;\n",
       "    }\n",
       "</style>\n",
       "<table border=\"1\" class=\"dataframe\">\n",
       "  <thead>\n",
       "    <tr style=\"text-align: right;\">\n",
       "      <th></th>\n",
       "      <th>제목</th>\n",
       "      <th>날짜</th>\n",
       "      <th>작성자</th>\n",
       "      <th>작성일</th>\n",
       "      <th>댓글</th>\n",
       "      <th>후보</th>\n",
       "    </tr>\n",
       "  </thead>\n",
       "  <tbody>\n",
       "    <tr>\n",
       "      <th>0</th>\n",
       "      <td>김부겸 이어 임혜숙·노형욱도 채택…野 \"몽둥이 더 맞아야\"</td>\n",
       "      <td>2021-05-13 20:05:00</td>\n",
       "      <td>kokl****</td>\n",
       "      <td>2021-05-14 09:33:40</td>\n",
       "      <td>혹시나 했는데 역시나구만ᆢ 다음 대선때 는 일없다ᆢ 정권바뀌야 되겠구나ᆢ</td>\n",
       "      <td>김부겸</td>\n",
       "    </tr>\n",
       "    <tr>\n",
       "      <th>1</th>\n",
       "      <td>김부겸 이어 임혜숙·노형욱도 채택…野 \"몽둥이 더 맞아야\"</td>\n",
       "      <td>2021-05-13 20:05:00</td>\n",
       "      <td>joon****</td>\n",
       "      <td>2021-05-14 08:28:25</td>\n",
       "      <td>몽둥이는 민주당만 맞는게 아닙니다. 바보같은소리 그만 하세요. 정신 차리시구요.</td>\n",
       "      <td>김부겸</td>\n",
       "    </tr>\n",
       "    <tr>\n",
       "      <th>2</th>\n",
       "      <td>김부겸 이어 임혜숙·노형욱도 채택…野 \"몽둥이 더 맞아야\"</td>\n",
       "      <td>2021-05-13 20:05:00</td>\n",
       "      <td>2326****</td>\n",
       "      <td>2021-05-14 00:16:57</td>\n",
       "      <td>침몰하는 배에 올라타는 용사들. 다 같이 감옥으로..</td>\n",
       "      <td>김부겸</td>\n",
       "    </tr>\n",
       "    <tr>\n",
       "      <th>3</th>\n",
       "      <td>김부겸 이어 임혜숙·노형욱도 채택…野 \"몽둥이 더 맞아야\"</td>\n",
       "      <td>2021-05-13 20:05:00</td>\n",
       "      <td>hunn****</td>\n",
       "      <td>2021-05-14 00:01:22</td>\n",
       "      <td>이왕 버린 몸 후회없이 강때까지 가야지 ~ 나이스 민주</td>\n",
       "      <td>김부겸</td>\n",
       "    </tr>\n",
       "    <tr>\n",
       "      <th>4</th>\n",
       "      <td>김부겸 이어 임혜숙·노형욱도 채택…野 \"몽둥이 더 맞아야\"</td>\n",
       "      <td>2021-05-13 20:05:00</td>\n",
       "      <td>Paul****</td>\n",
       "      <td>2021-05-13 23:38:07</td>\n",
       "      <td>지독한 독제 점입가경.</td>\n",
       "      <td>김부겸</td>\n",
       "    </tr>\n",
       "  </tbody>\n",
       "</table>\n",
       "</div>"
      ],
      "text/plain": [
       "                                 제목                  날짜       작성자  \\\n",
       "0  김부겸 이어 임혜숙·노형욱도 채택…野 \"몽둥이 더 맞아야\" 2021-05-13 20:05:00  kokl****   \n",
       "1  김부겸 이어 임혜숙·노형욱도 채택…野 \"몽둥이 더 맞아야\" 2021-05-13 20:05:00  joon****   \n",
       "2  김부겸 이어 임혜숙·노형욱도 채택…野 \"몽둥이 더 맞아야\" 2021-05-13 20:05:00  2326****   \n",
       "3  김부겸 이어 임혜숙·노형욱도 채택…野 \"몽둥이 더 맞아야\" 2021-05-13 20:05:00  hunn****   \n",
       "4  김부겸 이어 임혜숙·노형욱도 채택…野 \"몽둥이 더 맞아야\" 2021-05-13 20:05:00  Paul****   \n",
       "\n",
       "                  작성일                                            댓글   후보  \n",
       "0 2021-05-14 09:33:40      혹시나 했는데 역시나구만ᆢ 다음 대선때 는 일없다ᆢ 정권바뀌야 되겠구나ᆢ  김부겸  \n",
       "1 2021-05-14 08:28:25  몽둥이는 민주당만 맞는게 아닙니다. 바보같은소리 그만 하세요. 정신 차리시구요.  김부겸  \n",
       "2 2021-05-14 00:16:57                 침몰하는 배에 올라타는 용사들. 다 같이 감옥으로..  김부겸  \n",
       "3 2021-05-14 00:01:22                이왕 버린 몸 후회없이 강때까지 가야지 ~ 나이스 민주  김부겸  \n",
       "4 2021-05-13 23:38:07                                  지독한 독제 점입가경.  김부겸  "
      ]
     },
     "execution_count": 15,
     "metadata": {},
     "output_type": "execute_result"
    }
   ],
   "source": [
    "df_joongang.head()"
   ]
  },
  {
   "cell_type": "markdown",
   "metadata": {},
   "source": [
    "## 출처 칼럼 추가"
   ]
  },
  {
   "cell_type": "code",
   "execution_count": 16,
   "metadata": {},
   "outputs": [],
   "source": [
    "df_joongang['출처'] = '중앙일보'"
   ]
  },
  {
   "cell_type": "markdown",
   "metadata": {},
   "source": [
    "# 동아일보"
   ]
  },
  {
   "cell_type": "code",
   "execution_count": 17,
   "metadata": {},
   "outputs": [],
   "source": [
    "import pandas as pd\n",
    "\n",
    "df1 = pd.read_csv('Donga/donga_comment_김부겸.csv')\n",
    "df2 = pd.read_csv('Donga/donga_comment_심상정.csv')\n",
    "df3 = pd.read_csv('Donga/donga_comment_안철수.csv' )\n",
    "df4 = pd.read_csv('Donga/donga_comment_유승민.csv' )\n",
    "df5 = pd.read_csv('Donga/donga_comment_윤석열.csv' )\n",
    "df6 = pd.read_csv('Donga/donga_comment_이낙연.csv' )\n",
    "df7 = pd.read_csv('Donga/donga_comment_이재명.csv' )\n",
    "df8 = pd.read_csv('Donga/donga_comment_정세균.csv' )\n",
    "df9 = pd.read_csv('Donga/donga_comment_추미애.csv' )\n",
    "df10 = pd.read_csv('Donga/donga_comment_홍준표.csv' )\n",
    "df11 = pd.read_csv('Donga/donga_comment_황교안.csv' )"
   ]
  },
  {
   "cell_type": "markdown",
   "metadata": {},
   "source": [
    "## 후보 칼럼 추가"
   ]
  },
  {
   "cell_type": "code",
   "execution_count": 18,
   "metadata": {},
   "outputs": [],
   "source": [
    "df1['후보'] = '김부겸'\n",
    "df2['후보'] = '심상정'\n",
    "df3['후보'] = '안철수'\n",
    "df4['후보'] = '유승민'\n",
    "df5['후보'] = '윤석열'\n",
    "df6['후보'] = '이낙연'\n",
    "df7['후보'] = '이재명'\n",
    "df8['후보'] = '정세균'\n",
    "df9['후보'] = '추미애'\n",
    "df10['후보'] = '홍준표'\n",
    "df11['후보'] = '황교안'"
   ]
  },
  {
   "cell_type": "markdown",
   "metadata": {},
   "source": [
    "## 데이터 취합"
   ]
  },
  {
   "cell_type": "code",
   "execution_count": 19,
   "metadata": {},
   "outputs": [],
   "source": [
    "df_donga = pd.concat((df1, df2, df3, df4, df5, df6, df7, df8, df9, df10, df11), axis=0)"
   ]
  },
  {
   "cell_type": "markdown",
   "metadata": {},
   "source": [
    "## 데이터 이상 확인"
   ]
  },
  {
   "cell_type": "code",
   "execution_count": 20,
   "metadata": {},
   "outputs": [
    {
     "data": {
      "text/plain": [
       "제목     0\n",
       "날짜     0\n",
       "작성자    0\n",
       "작성일    0\n",
       "댓글     0\n",
       "후보     0\n",
       "dtype: int64"
      ]
     },
     "execution_count": 20,
     "metadata": {},
     "output_type": "execute_result"
    }
   ],
   "source": [
    "df_donga.isna().sum()"
   ]
  },
  {
   "cell_type": "code",
   "execution_count": 21,
   "metadata": {},
   "outputs": [],
   "source": [
    "df_donga['날짜'] = pd.to_datetime(df_donga['날짜'])\n",
    "df_donga['작성일'] = pd.to_datetime(df_donga['작성일'])"
   ]
  },
  {
   "cell_type": "code",
   "execution_count": 22,
   "metadata": {},
   "outputs": [
    {
     "data": {
      "text/html": [
       "<div>\n",
       "<style scoped>\n",
       "    .dataframe tbody tr th:only-of-type {\n",
       "        vertical-align: middle;\n",
       "    }\n",
       "\n",
       "    .dataframe tbody tr th {\n",
       "        vertical-align: top;\n",
       "    }\n",
       "\n",
       "    .dataframe thead th {\n",
       "        text-align: right;\n",
       "    }\n",
       "</style>\n",
       "<table border=\"1\" class=\"dataframe\">\n",
       "  <thead>\n",
       "    <tr style=\"text-align: right;\">\n",
       "      <th></th>\n",
       "      <th>제목</th>\n",
       "      <th>날짜</th>\n",
       "      <th>작성자</th>\n",
       "      <th>작성일</th>\n",
       "      <th>댓글</th>\n",
       "      <th>후보</th>\n",
       "    </tr>\n",
       "  </thead>\n",
       "  <tbody>\n",
       "    <tr>\n",
       "      <th>0</th>\n",
       "      <td>한발 물러선 文…김부겸-송영길 비주류 ‘투톱’ 전면에</td>\n",
       "      <td>2021-05-13 21:21:00</td>\n",
       "      <td>방구석현자</td>\n",
       "      <td>2021-05-14 03:12:36</td>\n",
       "      <td>ㄴㄷㅊㅁㄱ ㅊㄱ...</td>\n",
       "      <td>김부겸</td>\n",
       "    </tr>\n",
       "    <tr>\n",
       "      <th>1</th>\n",
       "      <td>한발 물러선 文…김부겸-송영길 비주류 ‘투톱’ 전면에</td>\n",
       "      <td>2021-05-13 21:21:00</td>\n",
       "      <td>wsyz****</td>\n",
       "      <td>2021-05-14 02:56:42</td>\n",
       "      <td>*** 과태료 32회를 체납한 김부겸이 총리라고...........국민들 과태료 내...</td>\n",
       "      <td>김부겸</td>\n",
       "    </tr>\n",
       "    <tr>\n",
       "      <th>2</th>\n",
       "      <td>한발 물러선 文…김부겸-송영길 비주류 ‘투톱’ 전면에</td>\n",
       "      <td>2021-05-13 21:21:00</td>\n",
       "      <td>bt</td>\n",
       "      <td>2021-05-14 00:39:52</td>\n",
       "      <td>문빠놈들이 차츰 시간이 갈수록 비문세력에게 먹혀서 몇달후면 친문은 쪼그라들어서 몇놈...</td>\n",
       "      <td>김부겸</td>\n",
       "    </tr>\n",
       "    <tr>\n",
       "      <th>3</th>\n",
       "      <td>한발 물러선 文…김부겸-송영길 비주류 ‘투톱’ 전면에</td>\n",
       "      <td>2021-05-13 21:21:00</td>\n",
       "      <td>동사랑</td>\n",
       "      <td>2021-05-13 23:05:32</td>\n",
       "      <td>그분이 그분\\r\\n한마디로 졸!!</td>\n",
       "      <td>김부겸</td>\n",
       "    </tr>\n",
       "    <tr>\n",
       "      <th>4</th>\n",
       "      <td>김부겸 “두 전직 대통령 수감 안타까운 일”</td>\n",
       "      <td>2021-05-08 03:00:00</td>\n",
       "      <td>염라대왕</td>\n",
       "      <td>2021-05-08 12:52:30</td>\n",
       "      <td>두 대통이 문제가 아니다 ! ! 따불빽민주당 문죄인과 독재정권치하 구캐원숭이들 다음...</td>\n",
       "      <td>김부겸</td>\n",
       "    </tr>\n",
       "  </tbody>\n",
       "</table>\n",
       "</div>"
      ],
      "text/plain": [
       "                              제목                  날짜       작성자  \\\n",
       "0  한발 물러선 文…김부겸-송영길 비주류 ‘투톱’ 전면에 2021-05-13 21:21:00     방구석현자   \n",
       "1  한발 물러선 文…김부겸-송영길 비주류 ‘투톱’ 전면에 2021-05-13 21:21:00  wsyz****   \n",
       "2  한발 물러선 文…김부겸-송영길 비주류 ‘투톱’ 전면에 2021-05-13 21:21:00        bt   \n",
       "3  한발 물러선 文…김부겸-송영길 비주류 ‘투톱’ 전면에 2021-05-13 21:21:00       동사랑   \n",
       "4       김부겸 “두 전직 대통령 수감 안타까운 일” 2021-05-08 03:00:00      염라대왕   \n",
       "\n",
       "                  작성일                                                 댓글   후보  \n",
       "0 2021-05-14 03:12:36                                        ㄴㄷㅊㅁㄱ ㅊㄱ...  김부겸  \n",
       "1 2021-05-14 02:56:42  *** 과태료 32회를 체납한 김부겸이 총리라고...........국민들 과태료 내...  김부겸  \n",
       "2 2021-05-14 00:39:52  문빠놈들이 차츰 시간이 갈수록 비문세력에게 먹혀서 몇달후면 친문은 쪼그라들어서 몇놈...  김부겸  \n",
       "3 2021-05-13 23:05:32                                 그분이 그분\\r\\n한마디로 졸!!  김부겸  \n",
       "4 2021-05-08 12:52:30  두 대통이 문제가 아니다 ! ! 따불빽민주당 문죄인과 독재정권치하 구캐원숭이들 다음...  김부겸  "
      ]
     },
     "execution_count": 22,
     "metadata": {},
     "output_type": "execute_result"
    }
   ],
   "source": [
    "df_donga.head()"
   ]
  },
  {
   "cell_type": "markdown",
   "metadata": {},
   "source": [
    "## 출처 칼럼 추가"
   ]
  },
  {
   "cell_type": "code",
   "execution_count": 23,
   "metadata": {},
   "outputs": [],
   "source": [
    "df_donga['출처'] = '동아일보'"
   ]
  },
  {
   "cell_type": "markdown",
   "metadata": {},
   "source": [
    "# 한겨레"
   ]
  },
  {
   "cell_type": "code",
   "execution_count": 24,
   "metadata": {},
   "outputs": [],
   "source": [
    "df_han = pd.read_csv('Hani/대선_한겨레.csv', index_col=0)"
   ]
  },
  {
   "cell_type": "code",
   "execution_count": 25,
   "metadata": {},
   "outputs": [],
   "source": [
    "import pandas as pd\n",
    "\n",
    "df1 = pd.read_csv('Hani/hani_comment(대선+김부겸).csv')\n",
    "df2 = pd.read_csv('Hani/hani_comment(대선+심상정).csv')\n",
    "df3 = pd.read_csv('Hani/hani_comment(대선+안철수).csv')\n",
    "df4 = pd.read_csv('Hani/hani_comment(대선+유승민).csv')\n",
    "df5 = pd.read_csv('Hani/hani_comment(대선+윤석열).csv')\n",
    "df6 = pd.read_csv('Hani/hani_comment(대선+이낙연).csv')\n",
    "df7 = pd.read_csv('Hani/hani_comment(대선+이재명).csv')\n",
    "df8 = pd.read_csv('Hani/hani_comment(대선+정세균).csv')\n",
    "df9 = pd.read_csv('Hani/hani_comment(대선+추미애).csv')\n",
    "df10 = pd.read_csv('Hani/hani_comment(대선+홍준표).csv')\n",
    "df11 = pd.read_csv('Hani/hani_comment(대선+황교안).csv')"
   ]
  },
  {
   "cell_type": "code",
   "execution_count": 26,
   "metadata": {},
   "outputs": [],
   "source": [
    "df1['후보'] = '김부겸'\n",
    "df2['후보'] = '심상정'\n",
    "df3['후보'] = '안철수'\n",
    "df4['후보'] = '유승민'\n",
    "df5['후보'] = '윤석열'\n",
    "df6['후보'] = '이낙연'\n",
    "df7['후보'] = '이재명'\n",
    "df8['후보'] = '정세균'\n",
    "df9['후보'] = '추미애'\n",
    "df10['후보'] = '홍준표'\n",
    "df11['후보'] = '황교안'"
   ]
  },
  {
   "cell_type": "markdown",
   "metadata": {},
   "source": [
    "##  데이터 취합"
   ]
  },
  {
   "cell_type": "code",
   "execution_count": 27,
   "metadata": {},
   "outputs": [],
   "source": [
    "df_hani = pd.concat((df1, df2, df3, df4, df5, df6, df7, df8, df9, df10, df11), axis=0)"
   ]
  },
  {
   "cell_type": "markdown",
   "metadata": {},
   "source": [
    "## 칼럼 순서 변경"
   ]
  },
  {
   "cell_type": "code",
   "execution_count": 28,
   "metadata": {},
   "outputs": [],
   "source": [
    "df_hani = df_hani[['제목', '날짜', '작성자', '작성일', '댓글', '후보']]"
   ]
  },
  {
   "cell_type": "markdown",
   "metadata": {},
   "source": [
    "## 데이터 이상 확인"
   ]
  },
  {
   "cell_type": "code",
   "execution_count": 29,
   "metadata": {},
   "outputs": [
    {
     "name": "stdout",
     "output_type": "stream",
     "text": [
      "<class 'pandas.core.frame.DataFrame'>\n",
      "Int64Index: 9861 entries, 0 to 336\n",
      "Data columns (total 6 columns):\n",
      " #   Column  Non-Null Count  Dtype \n",
      "---  ------  --------------  ----- \n",
      " 0   제목      9611 non-null   object\n",
      " 1   날짜      9611 non-null   object\n",
      " 2   작성자     9861 non-null   object\n",
      " 3   작성일     9861 non-null   object\n",
      " 4   댓글      9770 non-null   object\n",
      " 5   후보      9861 non-null   object\n",
      "dtypes: object(6)\n",
      "memory usage: 539.3+ KB\n"
     ]
    }
   ],
   "source": [
    "df_hani.info()"
   ]
  },
  {
   "cell_type": "code",
   "execution_count": 30,
   "metadata": {},
   "outputs": [
    {
     "data": {
      "text/plain": [
       "제목     250\n",
       "날짜     250\n",
       "작성자      0\n",
       "작성일      0\n",
       "댓글      91\n",
       "후보       0\n",
       "dtype: int64"
      ]
     },
     "execution_count": 30,
     "metadata": {},
     "output_type": "execute_result"
    }
   ],
   "source": [
    "df_hani.isna().sum()"
   ]
  },
  {
   "cell_type": "code",
   "execution_count": 31,
   "metadata": {},
   "outputs": [],
   "source": [
    "df_hani.dropna(inplace=True)"
   ]
  },
  {
   "cell_type": "code",
   "execution_count": 32,
   "metadata": {},
   "outputs": [],
   "source": [
    "df_hani['날짜'] = pd.to_datetime(df_hani['날짜'])\n",
    "df_hani['작성일'] = pd.to_datetime(df_hani['작성일'])"
   ]
  },
  {
   "cell_type": "markdown",
   "metadata": {},
   "source": [
    "nan이 포함된 341개 데이터 제거"
   ]
  },
  {
   "cell_type": "code",
   "execution_count": 33,
   "metadata": {},
   "outputs": [
    {
     "data": {
      "text/html": [
       "<div>\n",
       "<style scoped>\n",
       "    .dataframe tbody tr th:only-of-type {\n",
       "        vertical-align: middle;\n",
       "    }\n",
       "\n",
       "    .dataframe tbody tr th {\n",
       "        vertical-align: top;\n",
       "    }\n",
       "\n",
       "    .dataframe thead th {\n",
       "        text-align: right;\n",
       "    }\n",
       "</style>\n",
       "<table border=\"1\" class=\"dataframe\">\n",
       "  <thead>\n",
       "    <tr style=\"text-align: right;\">\n",
       "      <th></th>\n",
       "      <th>제목</th>\n",
       "      <th>날짜</th>\n",
       "      <th>작성자</th>\n",
       "      <th>작성일</th>\n",
       "      <th>댓글</th>\n",
       "      <th>후보</th>\n",
       "    </tr>\n",
       "  </thead>\n",
       "  <tbody>\n",
       "    <tr>\n",
       "      <th>0</th>\n",
       "      <td>[4·7 보선 서울시장 여론조사] 윤석열 27.5%, 이재명 22%…대선 주자 선호...</td>\n",
       "      <td>2021-04-02 04:59:00</td>\n",
       "      <td>sen****</td>\n",
       "      <td>2021-04-02 09:58:00</td>\n",
       "      <td>윤석열이 대통령이 되어야하는 것은 시대정신에 부합한다\\n권력에 아부하지않고 권력의 ...</td>\n",
       "      <td>김부겸</td>\n",
       "    </tr>\n",
       "    <tr>\n",
       "      <th>1</th>\n",
       "      <td>[4·7 보선 서울시장 여론조사] 윤석열 27.5%, 이재명 22%…대선 주자 선호...</td>\n",
       "      <td>2021-04-02 04:59:00</td>\n",
       "      <td>맨유f1</td>\n",
       "      <td>2021-04-12 13:16:00</td>\n",
       "      <td>참~ 웃기는 현상일세 저자가 그동안 뭐를 했길래^^</td>\n",
       "      <td>김부겸</td>\n",
       "    </tr>\n",
       "    <tr>\n",
       "      <th>2</th>\n",
       "      <td>[4·7 보선 서울시장 여론조사] 윤석열 27.5%, 이재명 22%…대선 주자 선호...</td>\n",
       "      <td>2021-04-02 04:59:00</td>\n",
       "      <td>김근우</td>\n",
       "      <td>2021-04-07 16:07:00</td>\n",
       "      <td>역사인식의 오류자거나 어처구니 없는 시대적 소명의식의 소유자라면 윤씨를 뽑겠지!</td>\n",
       "      <td>김부겸</td>\n",
       "    </tr>\n",
       "    <tr>\n",
       "      <th>3</th>\n",
       "      <td>[4·7 보선 서울시장 여론조사] 윤석열 27.5%, 이재명 22%…대선 주자 선호...</td>\n",
       "      <td>2021-04-02 04:59:00</td>\n",
       "      <td>에코빌러</td>\n",
       "      <td>2021-04-04 08:38:00</td>\n",
       "      <td>친일파앞잡이 윤가놈이 검증된게 뭐있나?\\n친일파잔당을 위해 검찰개혁 막으려고 수사권...</td>\n",
       "      <td>김부겸</td>\n",
       "    </tr>\n",
       "    <tr>\n",
       "      <th>4</th>\n",
       "      <td>[4·7 보선 서울시장 여론조사] 윤석열 27.5%, 이재명 22%…대선 주자 선호...</td>\n",
       "      <td>2021-04-02 04:59:00</td>\n",
       "      <td>님</td>\n",
       "      <td>2021-04-02 17:17:00</td>\n",
       "      <td>이낙연은 지지율이 꺼꾸로 가네\\n추풍낙엽인가????????</td>\n",
       "      <td>김부겸</td>\n",
       "    </tr>\n",
       "  </tbody>\n",
       "</table>\n",
       "</div>"
      ],
      "text/plain": [
       "                                                  제목                  날짜  \\\n",
       "0  [4·7 보선 서울시장 여론조사] 윤석열 27.5%, 이재명 22%…대선 주자 선호... 2021-04-02 04:59:00   \n",
       "1  [4·7 보선 서울시장 여론조사] 윤석열 27.5%, 이재명 22%…대선 주자 선호... 2021-04-02 04:59:00   \n",
       "2  [4·7 보선 서울시장 여론조사] 윤석열 27.5%, 이재명 22%…대선 주자 선호... 2021-04-02 04:59:00   \n",
       "3  [4·7 보선 서울시장 여론조사] 윤석열 27.5%, 이재명 22%…대선 주자 선호... 2021-04-02 04:59:00   \n",
       "4  [4·7 보선 서울시장 여론조사] 윤석열 27.5%, 이재명 22%…대선 주자 선호... 2021-04-02 04:59:00   \n",
       "\n",
       "       작성자                 작성일  \\\n",
       "0  sen**** 2021-04-02 09:58:00   \n",
       "1     맨유f1 2021-04-12 13:16:00   \n",
       "2      김근우 2021-04-07 16:07:00   \n",
       "3     에코빌러 2021-04-04 08:38:00   \n",
       "4        님 2021-04-02 17:17:00   \n",
       "\n",
       "                                                  댓글   후보  \n",
       "0  윤석열이 대통령이 되어야하는 것은 시대정신에 부합한다\\n권력에 아부하지않고 권력의 ...  김부겸  \n",
       "1                       참~ 웃기는 현상일세 저자가 그동안 뭐를 했길래^^  김부겸  \n",
       "2       역사인식의 오류자거나 어처구니 없는 시대적 소명의식의 소유자라면 윤씨를 뽑겠지!  김부겸  \n",
       "3  친일파앞잡이 윤가놈이 검증된게 뭐있나?\\n친일파잔당을 위해 검찰개혁 막으려고 수사권...  김부겸  \n",
       "4                   이낙연은 지지율이 꺼꾸로 가네\\n추풍낙엽인가????????  김부겸  "
      ]
     },
     "execution_count": 33,
     "metadata": {},
     "output_type": "execute_result"
    }
   ],
   "source": [
    "df_hani.head()"
   ]
  },
  {
   "cell_type": "markdown",
   "metadata": {},
   "source": [
    "## 출처 칼럼 추가"
   ]
  },
  {
   "cell_type": "code",
   "execution_count": 34,
   "metadata": {},
   "outputs": [],
   "source": [
    "df_hani['출처'] = '한겨레'"
   ]
  },
  {
   "cell_type": "markdown",
   "metadata": {},
   "source": [
    "# 경향신문"
   ]
  },
  {
   "cell_type": "code",
   "execution_count": 35,
   "metadata": {},
   "outputs": [],
   "source": [
    "import pandas as pd\n",
    "\n",
    "df1 = pd.read_csv('Khan/khan_comment(대선+김부겸).csv')\n",
    "df2 = pd.read_csv('Khan/khan_comment(대선+심상정).csv')\n",
    "df3 = pd.read_csv('Khan/khan_comment(대선+안철수).csv')\n",
    "df4 = pd.read_csv('Khan/khan_comment(대선+유승민).csv')\n",
    "df5 = pd.read_csv('Khan/khan_comment(대선+윤석열).csv')\n",
    "df6 = pd.read_csv('Khan/khan_comment(대선+이낙연).csv')\n",
    "df7 = pd.read_csv('Khan/khan_comment(대선+이재명).csv')\n",
    "df8 = pd.read_csv('Khan/khan_comment(대선+정세균).csv')\n",
    "df9 = pd.read_csv('Khan/khan_comment(대선+추미애).csv')\n",
    "df10 = pd.read_csv('Khan/khan_comment(대선+홍준표).csv')\n",
    "df11 = pd.read_csv('Khan/khan_comment(대선+황교안).csv')\n"
   ]
  },
  {
   "cell_type": "markdown",
   "metadata": {},
   "source": [
    "## 후보 칼럼 추가"
   ]
  },
  {
   "cell_type": "code",
   "execution_count": 36,
   "metadata": {},
   "outputs": [],
   "source": [
    "df1['후보'] = '김부겸'\n",
    "df2['후보'] = '심상정'\n",
    "df3['후보'] = '안철수'\n",
    "df4['후보'] = '유승민'\n",
    "df5['후보'] = '윤석열'\n",
    "df6['후보'] = '이낙연'\n",
    "df7['후보'] = '이재명'\n",
    "df8['후보'] = '정세균'\n",
    "df9['후보'] = '추미애'\n",
    "df10['후보'] = '홍준표'\n",
    "df11['후보'] = '황교안'"
   ]
  },
  {
   "cell_type": "markdown",
   "metadata": {},
   "source": [
    "## 데이터 취합"
   ]
  },
  {
   "cell_type": "code",
   "execution_count": 37,
   "metadata": {},
   "outputs": [],
   "source": [
    "df_khan = pd.concat((df1, df2, df3, df4, df5, df6, df7, df8, df9, df10, df11), axis=0)"
   ]
  },
  {
   "cell_type": "markdown",
   "metadata": {},
   "source": [
    "## 칼럼 순서 변경"
   ]
  },
  {
   "cell_type": "code",
   "execution_count": 38,
   "metadata": {},
   "outputs": [],
   "source": [
    "df_khan = df_khan[['제목', '날짜', '작성자', '작성일', '댓글', '후보']]"
   ]
  },
  {
   "cell_type": "markdown",
   "metadata": {},
   "source": [
    "## 데이터 이상 확인"
   ]
  },
  {
   "cell_type": "code",
   "execution_count": 39,
   "metadata": {},
   "outputs": [
    {
     "data": {
      "text/plain": [
       "제목      0\n",
       "날짜      0\n",
       "작성자     0\n",
       "작성일     0\n",
       "댓글     49\n",
       "후보      0\n",
       "dtype: int64"
      ]
     },
     "execution_count": 39,
     "metadata": {},
     "output_type": "execute_result"
    }
   ],
   "source": [
    "df_khan.isna().sum()"
   ]
  },
  {
   "cell_type": "markdown",
   "metadata": {},
   "source": [
    "nan 데이터 49개 제거 "
   ]
  },
  {
   "cell_type": "code",
   "execution_count": 40,
   "metadata": {},
   "outputs": [],
   "source": [
    "df_khan.dropna(inplace=True)"
   ]
  },
  {
   "cell_type": "code",
   "execution_count": 41,
   "metadata": {},
   "outputs": [],
   "source": [
    "df_khan['날짜'] = pd.to_datetime(df_khan['날짜'])\n",
    "df_khan['작성일'] = pd.to_datetime(df_khan['작성일'])"
   ]
  },
  {
   "cell_type": "code",
   "execution_count": 42,
   "metadata": {},
   "outputs": [
    {
     "data": {
      "text/html": [
       "<div>\n",
       "<style scoped>\n",
       "    .dataframe tbody tr th:only-of-type {\n",
       "        vertical-align: middle;\n",
       "    }\n",
       "\n",
       "    .dataframe tbody tr th {\n",
       "        vertical-align: top;\n",
       "    }\n",
       "\n",
       "    .dataframe thead th {\n",
       "        text-align: right;\n",
       "    }\n",
       "</style>\n",
       "<table border=\"1\" class=\"dataframe\">\n",
       "  <thead>\n",
       "    <tr style=\"text-align: right;\">\n",
       "      <th></th>\n",
       "      <th>제목</th>\n",
       "      <th>날짜</th>\n",
       "      <th>작성자</th>\n",
       "      <th>작성일</th>\n",
       "      <th>댓글</th>\n",
       "      <th>후보</th>\n",
       "    </tr>\n",
       "  </thead>\n",
       "  <tbody>\n",
       "    <tr>\n",
       "      <th>0</th>\n",
       "      <td>강병원 “예수님, 부처님도 기독교·불교 장관 낙마할 듯”</td>\n",
       "      <td>2021-05-13 10:11:00</td>\n",
       "      <td>kjm</td>\n",
       "      <td>2021-05-14 08:11:00</td>\n",
       "      <td>이런자가 국회의원이 되니 더불어민주당은\\n욕먹는게 당연한거고 국회의원 무보수로\\n해...</td>\n",
       "      <td>김부겸</td>\n",
       "    </tr>\n",
       "    <tr>\n",
       "      <th>1</th>\n",
       "      <td>강병원 “예수님, 부처님도 기독교·불교 장관 낙마할 듯”</td>\n",
       "      <td>2021-05-13 10:11:00</td>\n",
       "      <td>1110****</td>\n",
       "      <td>2021-05-13 17:39:00</td>\n",
       "      <td>당연히 낙마하겠지. 그들은 정치를 모르니까..</td>\n",
       "      <td>김부겸</td>\n",
       "    </tr>\n",
       "    <tr>\n",
       "      <th>2</th>\n",
       "      <td>강병원 “예수님, 부처님도 기독교·불교 장관 낙마할 듯”</td>\n",
       "      <td>2021-05-13 10:11:00</td>\n",
       "      <td>가경동신문수</td>\n",
       "      <td>2021-05-13 15:56:00</td>\n",
       "      <td>이사람 제 정신이 아니네..예수님과 부처님은 당신들 만큼 더럽지 않아..불법도 합법...</td>\n",
       "      <td>김부겸</td>\n",
       "    </tr>\n",
       "    <tr>\n",
       "      <th>3</th>\n",
       "      <td>강병원 “예수님, 부처님도 기독교·불교 장관 낙마할 듯”</td>\n",
       "      <td>2021-05-13 10:11:00</td>\n",
       "      <td>yus</td>\n",
       "      <td>2021-05-13 15:49:00</td>\n",
       "      <td>이 녀석들이 어딜 함부로... 예수, 부처가 한가하게 한국에 외서 장관을 하리? 죄...</td>\n",
       "      <td>김부겸</td>\n",
       "    </tr>\n",
       "    <tr>\n",
       "      <th>4</th>\n",
       "      <td>강병원 “예수님, 부처님도 기독교·불교 장관 낙마할 듯”</td>\n",
       "      <td>2021-05-13 10:11:00</td>\n",
       "      <td>h****</td>\n",
       "      <td>2021-05-13 14:18:00</td>\n",
       "      <td>아니 예수님이 뭐가 어때서 청문회도 통과 못하나...\\n\\n이정도면 진짜 사자 명예...</td>\n",
       "      <td>김부겸</td>\n",
       "    </tr>\n",
       "  </tbody>\n",
       "</table>\n",
       "</div>"
      ],
      "text/plain": [
       "                                제목                  날짜       작성자  \\\n",
       "0  강병원 “예수님, 부처님도 기독교·불교 장관 낙마할 듯” 2021-05-13 10:11:00       kjm   \n",
       "1  강병원 “예수님, 부처님도 기독교·불교 장관 낙마할 듯” 2021-05-13 10:11:00  1110****   \n",
       "2  강병원 “예수님, 부처님도 기독교·불교 장관 낙마할 듯” 2021-05-13 10:11:00    가경동신문수   \n",
       "3  강병원 “예수님, 부처님도 기독교·불교 장관 낙마할 듯” 2021-05-13 10:11:00       yus   \n",
       "4  강병원 “예수님, 부처님도 기독교·불교 장관 낙마할 듯” 2021-05-13 10:11:00     h****   \n",
       "\n",
       "                  작성일                                                 댓글   후보  \n",
       "0 2021-05-14 08:11:00  이런자가 국회의원이 되니 더불어민주당은\\n욕먹는게 당연한거고 국회의원 무보수로\\n해...  김부겸  \n",
       "1 2021-05-13 17:39:00                          당연히 낙마하겠지. 그들은 정치를 모르니까..  김부겸  \n",
       "2 2021-05-13 15:56:00  이사람 제 정신이 아니네..예수님과 부처님은 당신들 만큼 더럽지 않아..불법도 합법...  김부겸  \n",
       "3 2021-05-13 15:49:00  이 녀석들이 어딜 함부로... 예수, 부처가 한가하게 한국에 외서 장관을 하리? 죄...  김부겸  \n",
       "4 2021-05-13 14:18:00  아니 예수님이 뭐가 어때서 청문회도 통과 못하나...\\n\\n이정도면 진짜 사자 명예...  김부겸  "
      ]
     },
     "execution_count": 42,
     "metadata": {},
     "output_type": "execute_result"
    }
   ],
   "source": [
    "df_khan.head()"
   ]
  },
  {
   "cell_type": "markdown",
   "metadata": {},
   "source": [
    "## 출처 칼럼 추가"
   ]
  },
  {
   "cell_type": "code",
   "execution_count": 43,
   "metadata": {},
   "outputs": [],
   "source": [
    "df_khan['출처'] = '경향신문'"
   ]
  },
  {
   "cell_type": "markdown",
   "metadata": {},
   "source": [
    "# JTBC"
   ]
  },
  {
   "cell_type": "code",
   "execution_count": 44,
   "metadata": {},
   "outputs": [],
   "source": [
    "import pandas as pd\n",
    "\n",
    "df1 = pd.read_csv('JTBC/jtbc_comment_김부겸.csv')\n",
    "df2 = pd.read_csv('JTBC/jtbc_comment_심상정.csv')\n",
    "df3 = pd.read_csv('JTBC/jtbc_comment_안철수.csv')\n",
    "df4 = pd.read_csv('JTBC/jtbc_comment_유승민.csv')\n",
    "df5 = pd.read_csv('JTBC/jtbc_comment_윤석열.csv')\n",
    "df6 = pd.read_csv('JTBC/jtbc_comment_이낙연.csv')\n",
    "df7 = pd.read_csv('JTBC/jtbc_comment_이재명.csv')\n",
    "df8 = pd.read_csv('JTBC/jtbc_comment_정세균.csv')\n",
    "df9 = pd.read_csv('JTBC/jtbc_comment_추미애.csv')\n",
    "df10 = pd.read_csv('JTBC/jtbc_comment_홍준표.csv')\n",
    "df11 = pd.read_csv('JTBC/jtbc_comment_황교안.csv')"
   ]
  },
  {
   "cell_type": "markdown",
   "metadata": {},
   "source": [
    "## 후보 칼럼 추가"
   ]
  },
  {
   "cell_type": "code",
   "execution_count": 45,
   "metadata": {},
   "outputs": [],
   "source": [
    "df1['후보'] = '김부겸'\n",
    "df2['후보'] = '심상정'\n",
    "df3['후보'] = '안철수'\n",
    "df4['후보'] = '유승민'\n",
    "df5['후보'] = '윤석열'\n",
    "df6['후보'] = '이낙연'\n",
    "df7['후보'] = '이재명'\n",
    "df8['후보'] = '정세균'\n",
    "df9['후보'] = '추미애'\n",
    "df10['후보'] = '홍준표'\n",
    "df11['후보'] = '황교안'"
   ]
  },
  {
   "cell_type": "markdown",
   "metadata": {},
   "source": [
    "## 데이터 취합"
   ]
  },
  {
   "cell_type": "code",
   "execution_count": 46,
   "metadata": {},
   "outputs": [],
   "source": [
    "df_jtbc = pd.concat((df1, df2, df3, df4, df5, df6, df7, df8, df9, df10, df11), axis=0)"
   ]
  },
  {
   "cell_type": "markdown",
   "metadata": {},
   "source": [
    "## 칼럼 순서 변경"
   ]
  },
  {
   "cell_type": "code",
   "execution_count": 47,
   "metadata": {},
   "outputs": [],
   "source": [
    "df_jtbc = df_jtbc[['제목', '날짜', '작성자', '작성일', '댓글', '후보']]"
   ]
  },
  {
   "cell_type": "markdown",
   "metadata": {},
   "source": [
    "## 데이터 이상 확인"
   ]
  },
  {
   "cell_type": "code",
   "execution_count": 48,
   "metadata": {},
   "outputs": [
    {
     "data": {
      "text/plain": [
       "제목     0\n",
       "날짜     0\n",
       "작성자    0\n",
       "작성일    0\n",
       "댓글     0\n",
       "후보     0\n",
       "dtype: int64"
      ]
     },
     "execution_count": 48,
     "metadata": {},
     "output_type": "execute_result"
    }
   ],
   "source": [
    "df_jtbc.isna().sum()"
   ]
  },
  {
   "cell_type": "code",
   "execution_count": 49,
   "metadata": {},
   "outputs": [
    {
     "data": {
      "text/html": [
       "<div>\n",
       "<style scoped>\n",
       "    .dataframe tbody tr th:only-of-type {\n",
       "        vertical-align: middle;\n",
       "    }\n",
       "\n",
       "    .dataframe tbody tr th {\n",
       "        vertical-align: top;\n",
       "    }\n",
       "\n",
       "    .dataframe thead th {\n",
       "        text-align: right;\n",
       "    }\n",
       "</style>\n",
       "<table border=\"1\" class=\"dataframe\">\n",
       "  <thead>\n",
       "    <tr style=\"text-align: right;\">\n",
       "      <th></th>\n",
       "      <th>제목</th>\n",
       "      <th>날짜</th>\n",
       "      <th>작성자</th>\n",
       "      <th>작성일</th>\n",
       "      <th>댓글</th>\n",
       "      <th>후보</th>\n",
       "    </tr>\n",
       "  </thead>\n",
       "  <tbody>\n",
       "    <tr>\n",
       "      <th>0</th>\n",
       "      <td>총리 후보에 '비주류' 김부겸…5개 부처 장관도 교체</td>\n",
       "      <td>2021-04-16 19:51:00</td>\n",
       "      <td>b***1</td>\n",
       "      <td>2021-04-17 01:42:28</td>\n",
       "      <td>비주류라고 언론들이 엄청 강조하는데, 비주류면 일을 잘하나? 그 논리는 어디서 나오...</td>\n",
       "      <td>김부겸</td>\n",
       "    </tr>\n",
       "    <tr>\n",
       "      <th>1</th>\n",
       "      <td>총리 후보에 '비주류' 김부겸…5개 부처 장관도 교체</td>\n",
       "      <td>2021-04-16 19:51:00</td>\n",
       "      <td>이***홍</td>\n",
       "      <td>2021-04-17 00:48:02</td>\n",
       "      <td>인사가 만사라는 데 인사 참 더럽게 하고 있다,</td>\n",
       "      <td>김부겸</td>\n",
       "    </tr>\n",
       "    <tr>\n",
       "      <th>2</th>\n",
       "      <td>개각·청와대 개편 임박…후임 총리에 김부겸·유은혜 거론</td>\n",
       "      <td>2021-04-15 19:50:00</td>\n",
       "      <td>f***7</td>\n",
       "      <td>2021-04-16 06:45:35</td>\n",
       "      <td>청와대 이력 만들고 한탕 해먹고 책임안지고 튀고 다시또 들어와 청와대 이력만들고 한...</td>\n",
       "      <td>김부겸</td>\n",
       "    </tr>\n",
       "    <tr>\n",
       "      <th>3</th>\n",
       "      <td>개각·청와대 개편 임박…후임 총리에 김부겸·유은혜 거론</td>\n",
       "      <td>2021-04-15 19:50:00</td>\n",
       "      <td>n***k</td>\n",
       "      <td>2021-04-16 04:02:12</td>\n",
       "      <td>너무나 박역이 잘되어 맏지를 못하는 보건소 방송국들</td>\n",
       "      <td>김부겸</td>\n",
       "    </tr>\n",
       "    <tr>\n",
       "      <th>4</th>\n",
       "      <td>개각·청와대 개편 임박…후임 총리에 김부겸·유은혜 거론</td>\n",
       "      <td>2021-04-15 19:50:00</td>\n",
       "      <td>n***k</td>\n",
       "      <td>2021-04-16 03:55:49</td>\n",
       "      <td>감염자 치료 반대하는 전주 보건소 한심해요\\n\\n천하종합 주식회사 호흡기질환 연구소...</td>\n",
       "      <td>김부겸</td>\n",
       "    </tr>\n",
       "  </tbody>\n",
       "</table>\n",
       "</div>"
      ],
      "text/plain": [
       "                               제목                   날짜    작성자  \\\n",
       "0   총리 후보에 '비주류' 김부겸…5개 부처 장관도 교체  2021-04-16 19:51:00  b***1   \n",
       "1   총리 후보에 '비주류' 김부겸…5개 부처 장관도 교체  2021-04-16 19:51:00  이***홍   \n",
       "2  개각·청와대 개편 임박…후임 총리에 김부겸·유은혜 거론  2021-04-15 19:50:00  f***7   \n",
       "3  개각·청와대 개편 임박…후임 총리에 김부겸·유은혜 거론  2021-04-15 19:50:00  n***k   \n",
       "4  개각·청와대 개편 임박…후임 총리에 김부겸·유은혜 거론  2021-04-15 19:50:00  n***k   \n",
       "\n",
       "                   작성일                                                 댓글   후보  \n",
       "0  2021-04-17 01:42:28  비주류라고 언론들이 엄청 강조하는데, 비주류면 일을 잘하나? 그 논리는 어디서 나오...  김부겸  \n",
       "1  2021-04-17 00:48:02                         인사가 만사라는 데 인사 참 더럽게 하고 있다,  김부겸  \n",
       "2  2021-04-16 06:45:35  청와대 이력 만들고 한탕 해먹고 책임안지고 튀고 다시또 들어와 청와대 이력만들고 한...  김부겸  \n",
       "3  2021-04-16 04:02:12                       너무나 박역이 잘되어 맏지를 못하는 보건소 방송국들  김부겸  \n",
       "4  2021-04-16 03:55:49  감염자 치료 반대하는 전주 보건소 한심해요\\n\\n천하종합 주식회사 호흡기질환 연구소...  김부겸  "
      ]
     },
     "execution_count": 49,
     "metadata": {},
     "output_type": "execute_result"
    }
   ],
   "source": [
    "df_jtbc.head()"
   ]
  },
  {
   "cell_type": "markdown",
   "metadata": {},
   "source": [
    "## 출처 칼럼 추가"
   ]
  },
  {
   "cell_type": "code",
   "execution_count": 50,
   "metadata": {},
   "outputs": [],
   "source": [
    "df_jtbc['출처'] = 'JTBC'"
   ]
  },
  {
   "cell_type": "markdown",
   "metadata": {},
   "source": [
    "# MBC"
   ]
  },
  {
   "cell_type": "markdown",
   "metadata": {},
   "source": [
    "## 특이사항 : mbc_comment 와 mbc_comment_daum 두 가지 존재"
   ]
  },
  {
   "cell_type": "code",
   "execution_count": 51,
   "metadata": {},
   "outputs": [],
   "source": [
    "df11 = pd.read_csv('MBC/mbc_comment_김부겸.csv')\n",
    "df22 = pd.read_csv('MBC/mbc_comment_심상정.csv')\n",
    "df33 = pd.read_csv('MBC/mbc_comment_안철수.csv')\n",
    "df44 = pd.read_csv('MBC/mbc_comment_유승민.csv')\n",
    "df55 = pd.read_csv('MBC/mbc_comment_윤석열.csv')\n",
    "df66 = pd.read_csv('MBC/mbc_comment_이낙연.csv')\n",
    "df77 = pd.read_csv('MBC/mbc_comment_이재명.csv')\n",
    "df88 = pd.read_csv('MBC/mbc_comment_정세균.csv')\n",
    "df99 = pd.read_csv('MBC/mbc_comment_추미애.csv')\n",
    "df1010 = pd.read_csv('MBC/mbc_comment_홍준표.csv')\n",
    "df1111 = pd.read_csv('MBC/mbc_comment_황교안.csv')"
   ]
  },
  {
   "cell_type": "code",
   "execution_count": 52,
   "metadata": {},
   "outputs": [],
   "source": [
    "df1 = pd.read_csv('MBC/mbc_comment__daum_김부겸.csv')\n",
    "# df1 = pd.read_csv('MBC/mbc_comment__daum_심상정.csv')\n",
    "df3 = pd.read_csv('MBC/mbc_comment__daum_안철수.csv')\n",
    "df4 = pd.read_csv('MBC/mbc_comment__daum_유승민.csv')\n",
    "df5 = pd.read_csv('MBC/mbc_comment__daum_윤석열.csv')\n",
    "df6 = pd.read_csv('MBC/mbc_comment__daum_이낙연.csv')\n",
    "df7 = pd.read_csv('MBC/mbc_comment__daum_이재명.csv')\n",
    "df8 = pd.read_csv('MBC/mbc_comment__daum_정세균.csv')\n",
    "df9 = pd.read_csv('MBC/mbc_comment__daum_추미애.csv')\n",
    "df10 = pd.read_csv('MBC/mbc_comment__daum_홍준표.csv')\n",
    "df11 = pd.read_csv('MBC/mbc_comment__daum_황교안.csv')"
   ]
  },
  {
   "cell_type": "markdown",
   "metadata": {},
   "source": [
    "## 후보 칼럼 추가"
   ]
  },
  {
   "cell_type": "code",
   "execution_count": 53,
   "metadata": {},
   "outputs": [],
   "source": [
    "df11['후보'] = '김부겸'\n",
    "df22['후보'] = '심상정'\n",
    "df33['후보'] = '안철수'\n",
    "df44['후보'] = '유승민'\n",
    "df55['후보'] = '윤석열'\n",
    "df66['후보'] = '이낙연'\n",
    "df77['후보'] = '이재명'\n",
    "df88['후보'] = '정세균'\n",
    "df99['후보'] = '추미애'\n",
    "df1010['후보'] = '홍준표'\n",
    "df1111['후보'] = '황교안'"
   ]
  },
  {
   "cell_type": "code",
   "execution_count": 54,
   "metadata": {},
   "outputs": [],
   "source": [
    "df1['후보'] = '김부겸'\n",
    "# df2['후보'] = '심상정'\n",
    "df3['후보'] = '안철수'\n",
    "df4['후보'] = '유승민'\n",
    "df5['후보'] = '윤석열'\n",
    "df6['후보'] = '이낙연'\n",
    "df7['후보'] = '이재명'\n",
    "df8['후보'] = '정세균'\n",
    "df9['후보'] = '추미애'\n",
    "df10['후보'] = '홍준표'\n",
    "df11['후보'] = '황교안'"
   ]
  },
  {
   "cell_type": "markdown",
   "metadata": {},
   "source": [
    "## 데이터 취합"
   ]
  },
  {
   "cell_type": "code",
   "execution_count": 55,
   "metadata": {},
   "outputs": [],
   "source": [
    "df_mbc = pd.concat((df1, df3, df4, df5, df6, df7, df8, df9, df10, df11,\n",
    "                    df11, df22, df33, df44, df55, df66, df77, df88, df99, df1010, df1111), axis=0)"
   ]
  },
  {
   "cell_type": "markdown",
   "metadata": {},
   "source": [
    "## 데이터 이상 확인"
   ]
  },
  {
   "cell_type": "code",
   "execution_count": 56,
   "metadata": {},
   "outputs": [
    {
     "data": {
      "text/plain": [
       "제목     0\n",
       "날짜     0\n",
       "작성자    0\n",
       "작성일    0\n",
       "댓글     0\n",
       "후보     0\n",
       "dtype: int64"
      ]
     },
     "execution_count": 56,
     "metadata": {},
     "output_type": "execute_result"
    }
   ],
   "source": [
    "df_mbc.isna().sum()"
   ]
  },
  {
   "cell_type": "code",
   "execution_count": 57,
   "metadata": {},
   "outputs": [],
   "source": [
    "df_mbc['날짜'] = pd.to_datetime(df_mbc['날짜'])\n",
    "df_mbc['작성일'] = pd.to_datetime(df_mbc['작성일'])"
   ]
  },
  {
   "cell_type": "code",
   "execution_count": 58,
   "metadata": {},
   "outputs": [
    {
     "data": {
      "text/html": [
       "<div>\n",
       "<style scoped>\n",
       "    .dataframe tbody tr th:only-of-type {\n",
       "        vertical-align: middle;\n",
       "    }\n",
       "\n",
       "    .dataframe tbody tr th {\n",
       "        vertical-align: top;\n",
       "    }\n",
       "\n",
       "    .dataframe thead th {\n",
       "        text-align: right;\n",
       "    }\n",
       "</style>\n",
       "<table border=\"1\" class=\"dataframe\">\n",
       "  <thead>\n",
       "    <tr style=\"text-align: right;\">\n",
       "      <th></th>\n",
       "      <th>제목</th>\n",
       "      <th>날짜</th>\n",
       "      <th>작성자</th>\n",
       "      <th>작성일</th>\n",
       "      <th>댓글</th>\n",
       "      <th>후보</th>\n",
       "    </tr>\n",
       "  </thead>\n",
       "  <tbody>\n",
       "    <tr>\n",
       "      <th>0</th>\n",
       "      <td>[시선집중] 성일종 \"대통령 꿈꾸는 김부겸이 대선 관리? 국민에 대한 예의 아냐\"</td>\n",
       "      <td>2021-05-04 10:14:00</td>\n",
       "      <td>자연인</td>\n",
       "      <td>2021-05-04 16:39:00</td>\n",
       "      <td>네내 형의 죽음에 대해서 그렇게 관심을 가져봐라</td>\n",
       "      <td>김부겸</td>\n",
       "    </tr>\n",
       "    <tr>\n",
       "      <th>1</th>\n",
       "      <td>[시선집중] 성일종 \"대통령 꿈꾸는 김부겸이 대선 관리? 국민에 대한 예의 아냐\"</td>\n",
       "      <td>2021-05-04 10:14:00</td>\n",
       "      <td>드래그짱</td>\n",
       "      <td>2021-05-04 15:30:00</td>\n",
       "      <td>저건 또 먼 논리냐\\n본인이 안나가는 선거에 관리하면 뭐가 문제인데??\\n성일종은 ...</td>\n",
       "      <td>김부겸</td>\n",
       "    </tr>\n",
       "    <tr>\n",
       "      <th>2</th>\n",
       "      <td>[시선집중] 성일종 \"대통령 꿈꾸는 김부겸이 대선 관리? 국민에 대한 예의 아냐\"</td>\n",
       "      <td>2021-05-04 10:14:00</td>\n",
       "      <td>이정구</td>\n",
       "      <td>2021-05-04 13:00:00</td>\n",
       "      <td>이 정권의  법무장관들\\n으째 하나같이  똑 같냐\\n제대로 된것이 하나도없네\\n전부...</td>\n",
       "      <td>김부겸</td>\n",
       "    </tr>\n",
       "    <tr>\n",
       "      <th>3</th>\n",
       "      <td>[시선집중] 성일종 \"대통령 꿈꾸는 김부겸이 대선 관리? 국민에 대한 예의 아냐\"</td>\n",
       "      <td>2021-05-04 10:14:00</td>\n",
       "      <td>애비가일</td>\n",
       "      <td>2021-05-04 11:47:00</td>\n",
       "      <td>너는 니형이  국민짐한테 이용당하고 죽었는데  너는 출세할라고 한통속이되서  그러는...</td>\n",
       "      <td>김부겸</td>\n",
       "    </tr>\n",
       "    <tr>\n",
       "      <th>4</th>\n",
       "      <td>[시선집중] 성일종 \"대통령 꿈꾸는 김부겸이 대선 관리? 국민에 대한 예의 아냐\"</td>\n",
       "      <td>2021-05-04 10:14:00</td>\n",
       "      <td>경일</td>\n",
       "      <td>2021-05-04 11:11:00</td>\n",
       "      <td>국짐 존재 자체가 국민에 대한 예의가 아니니 해산부터 하고 얘기합시다</td>\n",
       "      <td>김부겸</td>\n",
       "    </tr>\n",
       "  </tbody>\n",
       "</table>\n",
       "</div>"
      ],
      "text/plain": [
       "                                              제목                  날짜   작성자  \\\n",
       "0  [시선집중] 성일종 \"대통령 꿈꾸는 김부겸이 대선 관리? 국민에 대한 예의 아냐\" 2021-05-04 10:14:00   자연인   \n",
       "1  [시선집중] 성일종 \"대통령 꿈꾸는 김부겸이 대선 관리? 국민에 대한 예의 아냐\" 2021-05-04 10:14:00  드래그짱   \n",
       "2  [시선집중] 성일종 \"대통령 꿈꾸는 김부겸이 대선 관리? 국민에 대한 예의 아냐\" 2021-05-04 10:14:00   이정구   \n",
       "3  [시선집중] 성일종 \"대통령 꿈꾸는 김부겸이 대선 관리? 국민에 대한 예의 아냐\" 2021-05-04 10:14:00  애비가일   \n",
       "4  [시선집중] 성일종 \"대통령 꿈꾸는 김부겸이 대선 관리? 국민에 대한 예의 아냐\" 2021-05-04 10:14:00    경일   \n",
       "\n",
       "                  작성일                                                 댓글   후보  \n",
       "0 2021-05-04 16:39:00                         네내 형의 죽음에 대해서 그렇게 관심을 가져봐라  김부겸  \n",
       "1 2021-05-04 15:30:00  저건 또 먼 논리냐\\n본인이 안나가는 선거에 관리하면 뭐가 문제인데??\\n성일종은 ...  김부겸  \n",
       "2 2021-05-04 13:00:00  이 정권의  법무장관들\\n으째 하나같이  똑 같냐\\n제대로 된것이 하나도없네\\n전부...  김부겸  \n",
       "3 2021-05-04 11:47:00  너는 니형이  국민짐한테 이용당하고 죽었는데  너는 출세할라고 한통속이되서  그러는...  김부겸  \n",
       "4 2021-05-04 11:11:00             국짐 존재 자체가 국민에 대한 예의가 아니니 해산부터 하고 얘기합시다  김부겸  "
      ]
     },
     "execution_count": 58,
     "metadata": {},
     "output_type": "execute_result"
    }
   ],
   "source": [
    "df_mbc.head()"
   ]
  },
  {
   "cell_type": "markdown",
   "metadata": {},
   "source": [
    "## 데이터 출처 칼럼 추가"
   ]
  },
  {
   "cell_type": "code",
   "execution_count": 59,
   "metadata": {},
   "outputs": [],
   "source": [
    "df_mbc['출처'] = 'MBC'"
   ]
  },
  {
   "cell_type": "markdown",
   "metadata": {},
   "source": [
    "# 유튜브"
   ]
  },
  {
   "cell_type": "code",
   "execution_count": 60,
   "metadata": {},
   "outputs": [],
   "source": [
    "import pandas as pd\n",
    "\n",
    "df1 = pd.read_csv('Youtube/data/대선김부겸.csv')\n",
    "df2 = pd.read_csv('Youtube/data/대선심상정.csv')\n",
    "df3 = pd.read_csv('Youtube/data/대선안철수.csv')\n",
    "df4 = pd.read_csv('Youtube/data/대선유승민.csv')\n",
    "df5 = pd.read_csv('Youtube/data/대선윤석열.csv')\n",
    "df6 = pd.read_csv('Youtube/data/대선이낙연.csv')\n",
    "df7 = pd.read_csv('Youtube/data/대선이재명.csv')\n",
    "df8 = pd.read_csv('Youtube/data/대선정세균.csv')\n",
    "df9 = pd.read_csv('Youtube/data/대선추미애.csv')\n",
    "df10 = pd.read_csv('Youtube/data/대선홍준표.csv')\n",
    "df11 = pd.read_csv('Youtube/data/대선황교안.csv')"
   ]
  },
  {
   "cell_type": "markdown",
   "metadata": {},
   "source": [
    "## 후보 칼럼 추가"
   ]
  },
  {
   "cell_type": "code",
   "execution_count": 61,
   "metadata": {},
   "outputs": [],
   "source": [
    "df1['후보'] = '김부겸'\n",
    "df2['후보'] = '심상정'\n",
    "df3['후보'] = '안철수'\n",
    "df4['후보'] = '유승민'\n",
    "df5['후보'] = '윤석열'\n",
    "df6['후보'] = '이낙연'\n",
    "df7['후보'] = '이재명'\n",
    "df8['후보'] = '정세균'\n",
    "df9['후보'] = '추미애'\n",
    "df10['후보'] = '홍준표'\n",
    "df11['후보'] = '황교안'"
   ]
  },
  {
   "cell_type": "markdown",
   "metadata": {},
   "source": [
    "## 데이터 취합"
   ]
  },
  {
   "cell_type": "code",
   "execution_count": 62,
   "metadata": {},
   "outputs": [],
   "source": [
    "df_youtube = pd.concat((df1, df2, df3, df4, df5, df6, df7, df8, df9, df10, df11), axis=0)"
   ]
  },
  {
   "cell_type": "markdown",
   "metadata": {},
   "source": [
    "## 데이터 이상 확인"
   ]
  },
  {
   "cell_type": "code",
   "execution_count": 63,
   "metadata": {},
   "outputs": [
    {
     "data": {
      "text/plain": [
       "Title           0\n",
       "Date            0\n",
       "ID              2\n",
       "Comment         1\n",
       "Comment_date    0\n",
       "Channel         0\n",
       "Like            0\n",
       "Dislike         0\n",
       "Comment_like    0\n",
       "후보              0\n",
       "dtype: int64"
      ]
     },
     "execution_count": 63,
     "metadata": {},
     "output_type": "execute_result"
    }
   ],
   "source": [
    "df_youtube.isna().sum()"
   ]
  },
  {
   "cell_type": "code",
   "execution_count": 64,
   "metadata": {},
   "outputs": [],
   "source": [
    "df_youtube.dropna(inplace=True)"
   ]
  },
  {
   "cell_type": "code",
   "execution_count": 65,
   "metadata": {},
   "outputs": [],
   "source": [
    "df_youtube['Date'] = pd.to_datetime(df_youtube['Date'])\n",
    "df_youtube['Comment_date'] = pd.to_datetime(df_youtube['Comment_date'])"
   ]
  },
  {
   "cell_type": "markdown",
   "metadata": {},
   "source": [
    "## 출처 칼럼 추가"
   ]
  },
  {
   "cell_type": "markdown",
   "metadata": {},
   "source": [
    "## 칼럼 선택 및 칼럼명 변경"
   ]
  },
  {
   "cell_type": "code",
   "execution_count": 66,
   "metadata": {},
   "outputs": [],
   "source": [
    "df_youtube['source'] = 'YouTube'"
   ]
  },
  {
   "cell_type": "code",
   "execution_count": 67,
   "metadata": {},
   "outputs": [
    {
     "data": {
      "text/html": [
       "<div>\n",
       "<style scoped>\n",
       "    .dataframe tbody tr th:only-of-type {\n",
       "        vertical-align: middle;\n",
       "    }\n",
       "\n",
       "    .dataframe tbody tr th {\n",
       "        vertical-align: top;\n",
       "    }\n",
       "\n",
       "    .dataframe thead th {\n",
       "        text-align: right;\n",
       "    }\n",
       "</style>\n",
       "<table border=\"1\" class=\"dataframe\">\n",
       "  <thead>\n",
       "    <tr style=\"text-align: right;\">\n",
       "      <th></th>\n",
       "      <th>Title</th>\n",
       "      <th>Date</th>\n",
       "      <th>ID</th>\n",
       "      <th>Comment</th>\n",
       "      <th>Comment_date</th>\n",
       "      <th>Channel</th>\n",
       "      <th>Like</th>\n",
       "      <th>Dislike</th>\n",
       "      <th>Comment_like</th>\n",
       "      <th>후보</th>\n",
       "      <th>source</th>\n",
       "    </tr>\n",
       "  </thead>\n",
       "  <tbody>\n",
       "    <tr>\n",
       "      <th>0</th>\n",
       "      <td>차기 대선 후보들에 대한 허경영 예언 (이재명,김부겸,윤석열,안철수, etc..)</td>\n",
       "      <td>2021-05-14</td>\n",
       "      <td>정의로운세상choi</td>\n",
       "      <td>애민정신  갑  아이큐  갑정책의 갑우주만물 지식의 갑경제 경영의 갑이런분이 당연 ...</td>\n",
       "      <td>2021-05-14</td>\n",
       "      <td>허경영TV</td>\n",
       "      <td>2.2천</td>\n",
       "      <td>33</td>\n",
       "      <td>62</td>\n",
       "      <td>김부겸</td>\n",
       "      <td>YouTube</td>\n",
       "    </tr>\n",
       "    <tr>\n",
       "      <th>1</th>\n",
       "      <td>차기 대선 후보들에 대한 허경영 예언 (이재명,김부겸,윤석열,안철수, etc..)</td>\n",
       "      <td>2021-05-14</td>\n",
       "      <td>유영만</td>\n",
       "      <td>맞습니다!!!????? 어느날 갑자기 로또  당첨 되듯이 대통령  돼는  사람은 이...</td>\n",
       "      <td>2021-05-14</td>\n",
       "      <td>허경영TV</td>\n",
       "      <td>2.2천</td>\n",
       "      <td>33</td>\n",
       "      <td>39</td>\n",
       "      <td>김부겸</td>\n",
       "      <td>YouTube</td>\n",
       "    </tr>\n",
       "    <tr>\n",
       "      <th>2</th>\n",
       "      <td>차기 대선 후보들에 대한 허경영 예언 (이재명,김부겸,윤석열,안철수, etc..)</td>\n",
       "      <td>2021-05-14</td>\n",
       "      <td>휘경동홍보맨</td>\n",
       "      <td>진정으로 국민들을 생각하시는 애민정치인은 바로 허경영 뿐입니다!!!허경영 허경영 허...</td>\n",
       "      <td>2021-05-14</td>\n",
       "      <td>허경영TV</td>\n",
       "      <td>2.2천</td>\n",
       "      <td>33</td>\n",
       "      <td>71</td>\n",
       "      <td>김부겸</td>\n",
       "      <td>YouTube</td>\n",
       "    </tr>\n",
       "    <tr>\n",
       "      <th>3</th>\n",
       "      <td>차기 대선 후보들에 대한 허경영 예언 (이재명,김부겸,윤석열,안철수, etc..)</td>\n",
       "      <td>2021-05-14</td>\n",
       "      <td>bj Kim</td>\n",
       "      <td>인물중심 인물대통령 애민정신 ♡허경영 ❤이답입니다 ~!!👍✌</td>\n",
       "      <td>2021-05-14</td>\n",
       "      <td>허경영TV</td>\n",
       "      <td>2.2천</td>\n",
       "      <td>33</td>\n",
       "      <td>64</td>\n",
       "      <td>김부겸</td>\n",
       "      <td>YouTube</td>\n",
       "    </tr>\n",
       "    <tr>\n",
       "      <th>4</th>\n",
       "      <td>차기 대선 후보들에 대한 허경영 예언 (이재명,김부겸,윤석열,안철수, etc..)</td>\n",
       "      <td>2021-05-14</td>\n",
       "      <td>박수환</td>\n",
       "      <td>신인 허경영 총재님 국가혁명당 최고 입니다 화이팅 ☆☆☆☆☆☆☆☆☆☆☆☆☆☆☆허경영...</td>\n",
       "      <td>2021-05-14</td>\n",
       "      <td>허경영TV</td>\n",
       "      <td>2.2천</td>\n",
       "      <td>33</td>\n",
       "      <td>52</td>\n",
       "      <td>김부겸</td>\n",
       "      <td>YouTube</td>\n",
       "    </tr>\n",
       "  </tbody>\n",
       "</table>\n",
       "</div>"
      ],
      "text/plain": [
       "                                           Title       Date          ID  \\\n",
       "0  차기 대선 후보들에 대한 허경영 예언 (이재명,김부겸,윤석열,안철수, etc..) 2021-05-14  정의로운세상choi   \n",
       "1  차기 대선 후보들에 대한 허경영 예언 (이재명,김부겸,윤석열,안철수, etc..) 2021-05-14         유영만   \n",
       "2  차기 대선 후보들에 대한 허경영 예언 (이재명,김부겸,윤석열,안철수, etc..) 2021-05-14      휘경동홍보맨   \n",
       "3  차기 대선 후보들에 대한 허경영 예언 (이재명,김부겸,윤석열,안철수, etc..) 2021-05-14      bj Kim   \n",
       "4  차기 대선 후보들에 대한 허경영 예언 (이재명,김부겸,윤석열,안철수, etc..) 2021-05-14         박수환   \n",
       "\n",
       "                                             Comment Comment_date Channel  \\\n",
       "0  애민정신  갑  아이큐  갑정책의 갑우주만물 지식의 갑경제 경영의 갑이런분이 당연 ...   2021-05-14   허경영TV   \n",
       "1  맞습니다!!!????? 어느날 갑자기 로또  당첨 되듯이 대통령  돼는  사람은 이...   2021-05-14   허경영TV   \n",
       "2  진정으로 국민들을 생각하시는 애민정치인은 바로 허경영 뿐입니다!!!허경영 허경영 허...   2021-05-14   허경영TV   \n",
       "3                  인물중심 인물대통령 애민정신 ♡허경영 ❤이답입니다 ~!!👍✌   2021-05-14   허경영TV   \n",
       "4  신인 허경영 총재님 국가혁명당 최고 입니다 화이팅 ☆☆☆☆☆☆☆☆☆☆☆☆☆☆☆허경영...   2021-05-14   허경영TV   \n",
       "\n",
       "   Like Dislike Comment_like   후보   source  \n",
       "0  2.2천      33           62  김부겸  YouTube  \n",
       "1  2.2천      33           39  김부겸  YouTube  \n",
       "2  2.2천      33           71  김부겸  YouTube  \n",
       "3  2.2천      33           64  김부겸  YouTube  \n",
       "4  2.2천      33           52  김부겸  YouTube  "
      ]
     },
     "execution_count": 67,
     "metadata": {},
     "output_type": "execute_result"
    }
   ],
   "source": [
    "df_youtube.head()"
   ]
  },
  {
   "cell_type": "code",
   "execution_count": 68,
   "metadata": {},
   "outputs": [],
   "source": [
    "df_youtube = df_youtube[['Title', 'Date', 'ID', 'Comment_date', 'Comment', '후보', 'source']]\n",
    "df_youtube.columns = df_donga.columns"
   ]
  },
  {
   "cell_type": "code",
   "execution_count": 69,
   "metadata": {},
   "outputs": [
    {
     "data": {
      "text/plain": [
       "Index(['제목', '날짜', '작성자', '작성일', '댓글', '후보', '출처'], dtype='object')"
      ]
     },
     "execution_count": 69,
     "metadata": {},
     "output_type": "execute_result"
    }
   ],
   "source": [
    "df_joongang.columns"
   ]
  },
  {
   "cell_type": "code",
   "execution_count": 70,
   "metadata": {},
   "outputs": [],
   "source": [
    "df_youtube.columns = df_joongang.columns"
   ]
  },
  {
   "cell_type": "code",
   "execution_count": 71,
   "metadata": {},
   "outputs": [
    {
     "data": {
      "text/html": [
       "<div>\n",
       "<style scoped>\n",
       "    .dataframe tbody tr th:only-of-type {\n",
       "        vertical-align: middle;\n",
       "    }\n",
       "\n",
       "    .dataframe tbody tr th {\n",
       "        vertical-align: top;\n",
       "    }\n",
       "\n",
       "    .dataframe thead th {\n",
       "        text-align: right;\n",
       "    }\n",
       "</style>\n",
       "<table border=\"1\" class=\"dataframe\">\n",
       "  <thead>\n",
       "    <tr style=\"text-align: right;\">\n",
       "      <th></th>\n",
       "      <th>제목</th>\n",
       "      <th>날짜</th>\n",
       "      <th>작성자</th>\n",
       "      <th>작성일</th>\n",
       "      <th>댓글</th>\n",
       "      <th>후보</th>\n",
       "      <th>출처</th>\n",
       "    </tr>\n",
       "  </thead>\n",
       "  <tbody>\n",
       "    <tr>\n",
       "      <th>0</th>\n",
       "      <td>차기 대선 후보들에 대한 허경영 예언 (이재명,김부겸,윤석열,안철수, etc..)</td>\n",
       "      <td>2021-05-14</td>\n",
       "      <td>정의로운세상choi</td>\n",
       "      <td>2021-05-14</td>\n",
       "      <td>애민정신  갑  아이큐  갑정책의 갑우주만물 지식의 갑경제 경영의 갑이런분이 당연 ...</td>\n",
       "      <td>김부겸</td>\n",
       "      <td>YouTube</td>\n",
       "    </tr>\n",
       "    <tr>\n",
       "      <th>1</th>\n",
       "      <td>차기 대선 후보들에 대한 허경영 예언 (이재명,김부겸,윤석열,안철수, etc..)</td>\n",
       "      <td>2021-05-14</td>\n",
       "      <td>유영만</td>\n",
       "      <td>2021-05-14</td>\n",
       "      <td>맞습니다!!!????? 어느날 갑자기 로또  당첨 되듯이 대통령  돼는  사람은 이...</td>\n",
       "      <td>김부겸</td>\n",
       "      <td>YouTube</td>\n",
       "    </tr>\n",
       "    <tr>\n",
       "      <th>2</th>\n",
       "      <td>차기 대선 후보들에 대한 허경영 예언 (이재명,김부겸,윤석열,안철수, etc..)</td>\n",
       "      <td>2021-05-14</td>\n",
       "      <td>휘경동홍보맨</td>\n",
       "      <td>2021-05-14</td>\n",
       "      <td>진정으로 국민들을 생각하시는 애민정치인은 바로 허경영 뿐입니다!!!허경영 허경영 허...</td>\n",
       "      <td>김부겸</td>\n",
       "      <td>YouTube</td>\n",
       "    </tr>\n",
       "    <tr>\n",
       "      <th>3</th>\n",
       "      <td>차기 대선 후보들에 대한 허경영 예언 (이재명,김부겸,윤석열,안철수, etc..)</td>\n",
       "      <td>2021-05-14</td>\n",
       "      <td>bj Kim</td>\n",
       "      <td>2021-05-14</td>\n",
       "      <td>인물중심 인물대통령 애민정신 ♡허경영 ❤이답입니다 ~!!👍✌</td>\n",
       "      <td>김부겸</td>\n",
       "      <td>YouTube</td>\n",
       "    </tr>\n",
       "    <tr>\n",
       "      <th>4</th>\n",
       "      <td>차기 대선 후보들에 대한 허경영 예언 (이재명,김부겸,윤석열,안철수, etc..)</td>\n",
       "      <td>2021-05-14</td>\n",
       "      <td>박수환</td>\n",
       "      <td>2021-05-14</td>\n",
       "      <td>신인 허경영 총재님 국가혁명당 최고 입니다 화이팅 ☆☆☆☆☆☆☆☆☆☆☆☆☆☆☆허경영...</td>\n",
       "      <td>김부겸</td>\n",
       "      <td>YouTube</td>\n",
       "    </tr>\n",
       "  </tbody>\n",
       "</table>\n",
       "</div>"
      ],
      "text/plain": [
       "                                              제목         날짜         작성자  \\\n",
       "0  차기 대선 후보들에 대한 허경영 예언 (이재명,김부겸,윤석열,안철수, etc..) 2021-05-14  정의로운세상choi   \n",
       "1  차기 대선 후보들에 대한 허경영 예언 (이재명,김부겸,윤석열,안철수, etc..) 2021-05-14         유영만   \n",
       "2  차기 대선 후보들에 대한 허경영 예언 (이재명,김부겸,윤석열,안철수, etc..) 2021-05-14      휘경동홍보맨   \n",
       "3  차기 대선 후보들에 대한 허경영 예언 (이재명,김부겸,윤석열,안철수, etc..) 2021-05-14      bj Kim   \n",
       "4  차기 대선 후보들에 대한 허경영 예언 (이재명,김부겸,윤석열,안철수, etc..) 2021-05-14         박수환   \n",
       "\n",
       "         작성일                                                 댓글   후보       출처  \n",
       "0 2021-05-14  애민정신  갑  아이큐  갑정책의 갑우주만물 지식의 갑경제 경영의 갑이런분이 당연 ...  김부겸  YouTube  \n",
       "1 2021-05-14  맞습니다!!!????? 어느날 갑자기 로또  당첨 되듯이 대통령  돼는  사람은 이...  김부겸  YouTube  \n",
       "2 2021-05-14  진정으로 국민들을 생각하시는 애민정치인은 바로 허경영 뿐입니다!!!허경영 허경영 허...  김부겸  YouTube  \n",
       "3 2021-05-14                  인물중심 인물대통령 애민정신 ♡허경영 ❤이답입니다 ~!!👍✌  김부겸  YouTube  \n",
       "4 2021-05-14  신인 허경영 총재님 국가혁명당 최고 입니다 화이팅 ☆☆☆☆☆☆☆☆☆☆☆☆☆☆☆허경영...  김부겸  YouTube  "
      ]
     },
     "execution_count": 71,
     "metadata": {},
     "output_type": "execute_result"
    }
   ],
   "source": [
    "df_youtube.head()"
   ]
  },
  {
   "cell_type": "markdown",
   "metadata": {},
   "source": [
    "# 총 데이터 취합"
   ]
  },
  {
   "cell_type": "code",
   "execution_count": 72,
   "metadata": {},
   "outputs": [
    {
     "data": {
      "text/html": [
       "<div>\n",
       "<style scoped>\n",
       "    .dataframe tbody tr th:only-of-type {\n",
       "        vertical-align: middle;\n",
       "    }\n",
       "\n",
       "    .dataframe tbody tr th {\n",
       "        vertical-align: top;\n",
       "    }\n",
       "\n",
       "    .dataframe thead th {\n",
       "        text-align: right;\n",
       "    }\n",
       "</style>\n",
       "<table border=\"1\" class=\"dataframe\">\n",
       "  <thead>\n",
       "    <tr style=\"text-align: right;\">\n",
       "      <th></th>\n",
       "      <th>제목</th>\n",
       "      <th>날짜</th>\n",
       "      <th>작성자</th>\n",
       "      <th>작성일</th>\n",
       "      <th>댓글</th>\n",
       "      <th>후보</th>\n",
       "      <th>출처</th>\n",
       "    </tr>\n",
       "  </thead>\n",
       "  <tbody>\n",
       "    <tr>\n",
       "      <th>0</th>\n",
       "      <td>김부겸 “마지막 공직이라 생각”… 대선 출마설 부인</td>\n",
       "      <td>2021-05-07 10:55:00</td>\n",
       "      <td>정병렬</td>\n",
       "      <td>2021-05-07 14:46:43</td>\n",
       "      <td>&lt;대선 출마설&gt; 어떤 외눈박이의 헛소리 이겠지.</td>\n",
       "      <td>김부겸</td>\n",
       "      <td>조선일보</td>\n",
       "    </tr>\n",
       "    <tr>\n",
       "      <th>1</th>\n",
       "      <td>김부겸 “마지막 공직이라 생각”… 대선 출마설 부인</td>\n",
       "      <td>2021-05-07 10:55:00</td>\n",
       "      <td>이규태</td>\n",
       "      <td>2021-05-07 11:11:00</td>\n",
       "      <td>악취가 진동하는 엉망진창인 자신의 모습은 안보이나? 후보사퇴 하고 있는듯 없는듯이 ...</td>\n",
       "      <td>김부겸</td>\n",
       "      <td>조선일보</td>\n",
       "    </tr>\n",
       "    <tr>\n",
       "      <th>2</th>\n",
       "      <td>김부겸 “검수완박은 일부 의원 의견... 문자폭탄, 민주적 방식 아냐“</td>\n",
       "      <td>2021-05-07 00:51:00</td>\n",
       "      <td>윤정삼</td>\n",
       "      <td>2021-05-07 07:55:49</td>\n",
       "      <td>김부겸 32번의 차량 압류 . . . 이렇게 법을 위반한 사람이 대한민국 총리가 된...</td>\n",
       "      <td>김부겸</td>\n",
       "      <td>조선일보</td>\n",
       "    </tr>\n",
       "    <tr>\n",
       "      <th>3</th>\n",
       "      <td>김부겸 “검수완박은 일부 의원 의견... 문자폭탄, 민주적 방식 아냐“</td>\n",
       "      <td>2021-05-07 00:51:00</td>\n",
       "      <td>황성식</td>\n",
       "      <td>2021-05-07 05:10:51</td>\n",
       "      <td>부겸이 니는 부결이 정답이다</td>\n",
       "      <td>김부겸</td>\n",
       "      <td>조선일보</td>\n",
       "    </tr>\n",
       "    <tr>\n",
       "      <th>4</th>\n",
       "      <td>김부겸 “검수완박은 일부 의원 의견... 문자폭탄, 민주적 방식 아냐“</td>\n",
       "      <td>2021-05-07 00:51:00</td>\n",
       "      <td>윤성철</td>\n",
       "      <td>2021-05-07 04:54:47</td>\n",
       "      <td>김부겸의 평소 고상한 품위 있는 언행 하던 사람이 상식이 파괴된 비도덕적이고 비윤리...</td>\n",
       "      <td>김부겸</td>\n",
       "      <td>조선일보</td>\n",
       "    </tr>\n",
       "    <tr>\n",
       "      <th>...</th>\n",
       "      <td>...</td>\n",
       "      <td>...</td>\n",
       "      <td>...</td>\n",
       "      <td>...</td>\n",
       "      <td>...</td>\n",
       "      <td>...</td>\n",
       "      <td>...</td>\n",
       "    </tr>\n",
       "    <tr>\n",
       "      <th>1445</th>\n",
       "      <td>정치 재개 황교안, ‘악연’ 윤석열에 묻어가기? [it슈줌]</td>\n",
       "      <td>2021-02-10 00:00:00</td>\n",
       "      <td>Kyoung Kim</td>\n",
       "      <td>2021-03-16 00:00:00</td>\n",
       "      <td>죄인 황교안은 기도하는 것이 낫다야당을 김종인에게 넘겨주어 야당을 요당으로 만든 죄...</td>\n",
       "      <td>황교안</td>\n",
       "      <td>YouTube</td>\n",
       "    </tr>\n",
       "    <tr>\n",
       "      <th>1446</th>\n",
       "      <td>정치 재개 황교안, ‘악연’ 윤석열에 묻어가기? [it슈줌]</td>\n",
       "      <td>2021-02-10 00:00:00</td>\n",
       "      <td>Harry Kim</td>\n",
       "      <td>2021-03-16 00:00:00</td>\n",
       "      <td>뻔뻔한 인간이로다. 완전 무능하고 기회주의자 죄인이 무슨 ㄴ ㅉ 으로 기어나와. 문...</td>\n",
       "      <td>황교안</td>\n",
       "      <td>YouTube</td>\n",
       "    </tr>\n",
       "    <tr>\n",
       "      <th>1447</th>\n",
       "      <td>정치 재개 황교안, ‘악연’ 윤석열에 묻어가기? [it슈줌]</td>\n",
       "      <td>2021-02-10 00:00:00</td>\n",
       "      <td>신동례</td>\n",
       "      <td>2021-03-16 00:00:00</td>\n",
       "      <td>황교안씨 그냥집구석에 처밖혀 있어요 기어나오지말구👹👹</td>\n",
       "      <td>황교안</td>\n",
       "      <td>YouTube</td>\n",
       "    </tr>\n",
       "    <tr>\n",
       "      <th>1448</th>\n",
       "      <td>황교안의 충격 근황! 대선 1년 남았으니 슬슬? (진성호의 직설)</td>\n",
       "      <td>2021-02-04 00:00:00</td>\n",
       "      <td>C Vitamin</td>\n",
       "      <td>2021-03-16 00:00:00</td>\n",
       "      <td>정치리더  아무나하나~</td>\n",
       "      <td>황교안</td>\n",
       "      <td>YouTube</td>\n",
       "    </tr>\n",
       "    <tr>\n",
       "      <th>1449</th>\n",
       "      <td>찌그러진 대선주자 홍준표, 황교안 떠오른 조작수사의 적폐검사 윤석열</td>\n",
       "      <td>2020-06-30 00:00:00</td>\n",
       "      <td>남녀칠세마동석</td>\n",
       "      <td>2021-03-16 00:00:00</td>\n",
       "      <td>부메랑 새로운 트랜드 입니다  임은정 검사 황금어장 잘찿는 범죄자 낚시 검사님이사냥...</td>\n",
       "      <td>황교안</td>\n",
       "      <td>YouTube</td>\n",
       "    </tr>\n",
       "  </tbody>\n",
       "</table>\n",
       "<p>168785 rows × 7 columns</p>\n",
       "</div>"
      ],
      "text/plain": [
       "                                           제목                   날짜  \\\n",
       "0                김부겸 “마지막 공직이라 생각”… 대선 출마설 부인  2021-05-07 10:55:00   \n",
       "1                김부겸 “마지막 공직이라 생각”… 대선 출마설 부인  2021-05-07 10:55:00   \n",
       "2     김부겸 “검수완박은 일부 의원 의견... 문자폭탄, 민주적 방식 아냐“  2021-05-07 00:51:00   \n",
       "3     김부겸 “검수완박은 일부 의원 의견... 문자폭탄, 민주적 방식 아냐“  2021-05-07 00:51:00   \n",
       "4     김부겸 “검수완박은 일부 의원 의견... 문자폭탄, 민주적 방식 아냐“  2021-05-07 00:51:00   \n",
       "...                                       ...                  ...   \n",
       "1445        정치 재개 황교안, ‘악연’ 윤석열에 묻어가기? [it슈줌]  2021-02-10 00:00:00   \n",
       "1446        정치 재개 황교안, ‘악연’ 윤석열에 묻어가기? [it슈줌]  2021-02-10 00:00:00   \n",
       "1447        정치 재개 황교안, ‘악연’ 윤석열에 묻어가기? [it슈줌]  2021-02-10 00:00:00   \n",
       "1448     황교안의 충격 근황! 대선 1년 남았으니 슬슬? (진성호의 직설)  2021-02-04 00:00:00   \n",
       "1449    찌그러진 대선주자 홍준표, 황교안 떠오른 조작수사의 적폐검사 윤석열  2020-06-30 00:00:00   \n",
       "\n",
       "             작성자                  작성일  \\\n",
       "0            정병렬  2021-05-07 14:46:43   \n",
       "1            이규태  2021-05-07 11:11:00   \n",
       "2            윤정삼  2021-05-07 07:55:49   \n",
       "3            황성식  2021-05-07 05:10:51   \n",
       "4            윤성철  2021-05-07 04:54:47   \n",
       "...          ...                  ...   \n",
       "1445  Kyoung Kim  2021-03-16 00:00:00   \n",
       "1446   Harry Kim  2021-03-16 00:00:00   \n",
       "1447         신동례  2021-03-16 00:00:00   \n",
       "1448   C Vitamin  2021-03-16 00:00:00   \n",
       "1449     남녀칠세마동석  2021-03-16 00:00:00   \n",
       "\n",
       "                                                     댓글   후보       출처  \n",
       "0                            <대선 출마설> 어떤 외눈박이의 헛소리 이겠지.  김부겸     조선일보  \n",
       "1     악취가 진동하는 엉망진창인 자신의 모습은 안보이나? 후보사퇴 하고 있는듯 없는듯이 ...  김부겸     조선일보  \n",
       "2     김부겸 32번의 차량 압류 . . . 이렇게 법을 위반한 사람이 대한민국 총리가 된...  김부겸     조선일보  \n",
       "3                                       부겸이 니는 부결이 정답이다  김부겸     조선일보  \n",
       "4     김부겸의 평소 고상한 품위 있는 언행 하던 사람이 상식이 파괴된 비도덕적이고 비윤리...  김부겸     조선일보  \n",
       "...                                                 ...  ...      ...  \n",
       "1445  죄인 황교안은 기도하는 것이 낫다야당을 김종인에게 넘겨주어 야당을 요당으로 만든 죄...  황교안  YouTube  \n",
       "1446  뻔뻔한 인간이로다. 완전 무능하고 기회주의자 죄인이 무슨 ㄴ ㅉ 으로 기어나와. 문...  황교안  YouTube  \n",
       "1447                      황교안씨 그냥집구석에 처밖혀 있어요 기어나오지말구👹👹  황교안  YouTube  \n",
       "1448                                       정치리더  아무나하나~  황교안  YouTube  \n",
       "1449  부메랑 새로운 트랜드 입니다  임은정 검사 황금어장 잘찿는 범죄자 낚시 검사님이사냥...  황교안  YouTube  \n",
       "\n",
       "[168785 rows x 7 columns]"
      ]
     },
     "execution_count": 72,
     "metadata": {},
     "output_type": "execute_result"
    }
   ],
   "source": [
    "df_total = pd.concat((df_chosun, df_joongang, df_donga, df_hani, df_khan, df_jtbc, df_mbc, df_youtube), axis=0)\n",
    "df_total             "
   ]
  },
  {
   "cell_type": "markdown",
   "metadata": {},
   "source": [
    "## 날짜 형식 데이터 datetime 형식으로 변경"
   ]
  },
  {
   "cell_type": "code",
   "execution_count": 73,
   "metadata": {},
   "outputs": [],
   "source": [
    "df_total['날짜'] = pd.to_datetime(df_total['날짜'])\n",
    "df_total['작성일'] = pd.to_datetime(df_total['작성일'])"
   ]
  },
  {
   "cell_type": "code",
   "execution_count": 74,
   "metadata": {},
   "outputs": [
    {
     "data": {
      "text/html": [
       "<div>\n",
       "<style scoped>\n",
       "    .dataframe tbody tr th:only-of-type {\n",
       "        vertical-align: middle;\n",
       "    }\n",
       "\n",
       "    .dataframe tbody tr th {\n",
       "        vertical-align: top;\n",
       "    }\n",
       "\n",
       "    .dataframe thead th {\n",
       "        text-align: right;\n",
       "    }\n",
       "</style>\n",
       "<table border=\"1\" class=\"dataframe\">\n",
       "  <thead>\n",
       "    <tr style=\"text-align: right;\">\n",
       "      <th></th>\n",
       "      <th>날짜</th>\n",
       "      <th>작성일</th>\n",
       "    </tr>\n",
       "  </thead>\n",
       "  <tbody>\n",
       "    <tr>\n",
       "      <th>count</th>\n",
       "      <td>168785</td>\n",
       "      <td>168785</td>\n",
       "    </tr>\n",
       "    <tr>\n",
       "      <th>unique</th>\n",
       "      <td>1475</td>\n",
       "      <td>26399</td>\n",
       "    </tr>\n",
       "    <tr>\n",
       "      <th>top</th>\n",
       "      <td>2021-04-09 00:00:00</td>\n",
       "      <td>2021-04-15 00:00:00</td>\n",
       "    </tr>\n",
       "    <tr>\n",
       "      <th>freq</th>\n",
       "      <td>4736</td>\n",
       "      <td>37681</td>\n",
       "    </tr>\n",
       "    <tr>\n",
       "      <th>first</th>\n",
       "      <td>2020-05-17 00:00:00</td>\n",
       "      <td>2021-03-01 02:23:42</td>\n",
       "    </tr>\n",
       "    <tr>\n",
       "      <th>last</th>\n",
       "      <td>2021-05-16 10:00:00</td>\n",
       "      <td>2021-05-17 20:55:32</td>\n",
       "    </tr>\n",
       "  </tbody>\n",
       "</table>\n",
       "</div>"
      ],
      "text/plain": [
       "                         날짜                  작성일\n",
       "count                168785               168785\n",
       "unique                 1475                26399\n",
       "top     2021-04-09 00:00:00  2021-04-15 00:00:00\n",
       "freq                   4736                37681\n",
       "first   2020-05-17 00:00:00  2021-03-01 02:23:42\n",
       "last    2021-05-16 10:00:00  2021-05-17 20:55:32"
      ]
     },
     "execution_count": 74,
     "metadata": {},
     "output_type": "execute_result"
    }
   ],
   "source": [
    "df_total[['날짜', '작성일']].describe()"
   ]
  },
  {
   "cell_type": "markdown",
   "metadata": {},
   "source": [
    "## 3월 1일 이전 데이터 제외"
   ]
  },
  {
   "cell_type": "code",
   "execution_count": 75,
   "metadata": {},
   "outputs": [
    {
     "data": {
      "text/html": [
       "<div>\n",
       "<style scoped>\n",
       "    .dataframe tbody tr th:only-of-type {\n",
       "        vertical-align: middle;\n",
       "    }\n",
       "\n",
       "    .dataframe tbody tr th {\n",
       "        vertical-align: top;\n",
       "    }\n",
       "\n",
       "    .dataframe thead th {\n",
       "        text-align: right;\n",
       "    }\n",
       "</style>\n",
       "<table border=\"1\" class=\"dataframe\">\n",
       "  <thead>\n",
       "    <tr style=\"text-align: right;\">\n",
       "      <th></th>\n",
       "      <th>제목</th>\n",
       "      <th>날짜</th>\n",
       "      <th>작성자</th>\n",
       "      <th>작성일</th>\n",
       "      <th>댓글</th>\n",
       "      <th>후보</th>\n",
       "      <th>출처</th>\n",
       "    </tr>\n",
       "  </thead>\n",
       "  <tbody>\n",
       "    <tr>\n",
       "      <th>0</th>\n",
       "      <td>김부겸 “마지막 공직이라 생각”… 대선 출마설 부인</td>\n",
       "      <td>2021-05-07 10:55:00</td>\n",
       "      <td>정병렬</td>\n",
       "      <td>2021-05-07 14:46:43</td>\n",
       "      <td>&lt;대선 출마설&gt; 어떤 외눈박이의 헛소리 이겠지.</td>\n",
       "      <td>김부겸</td>\n",
       "      <td>조선일보</td>\n",
       "    </tr>\n",
       "    <tr>\n",
       "      <th>1</th>\n",
       "      <td>김부겸 “마지막 공직이라 생각”… 대선 출마설 부인</td>\n",
       "      <td>2021-05-07 10:55:00</td>\n",
       "      <td>이규태</td>\n",
       "      <td>2021-05-07 11:11:00</td>\n",
       "      <td>악취가 진동하는 엉망진창인 자신의 모습은 안보이나? 후보사퇴 하고 있는듯 없는듯이 ...</td>\n",
       "      <td>김부겸</td>\n",
       "      <td>조선일보</td>\n",
       "    </tr>\n",
       "    <tr>\n",
       "      <th>2</th>\n",
       "      <td>김부겸 “검수완박은 일부 의원 의견... 문자폭탄, 민주적 방식 아냐“</td>\n",
       "      <td>2021-05-07 00:51:00</td>\n",
       "      <td>윤정삼</td>\n",
       "      <td>2021-05-07 07:55:49</td>\n",
       "      <td>김부겸 32번의 차량 압류 . . . 이렇게 법을 위반한 사람이 대한민국 총리가 된...</td>\n",
       "      <td>김부겸</td>\n",
       "      <td>조선일보</td>\n",
       "    </tr>\n",
       "    <tr>\n",
       "      <th>3</th>\n",
       "      <td>김부겸 “검수완박은 일부 의원 의견... 문자폭탄, 민주적 방식 아냐“</td>\n",
       "      <td>2021-05-07 00:51:00</td>\n",
       "      <td>황성식</td>\n",
       "      <td>2021-05-07 05:10:51</td>\n",
       "      <td>부겸이 니는 부결이 정답이다</td>\n",
       "      <td>김부겸</td>\n",
       "      <td>조선일보</td>\n",
       "    </tr>\n",
       "    <tr>\n",
       "      <th>4</th>\n",
       "      <td>김부겸 “검수완박은 일부 의원 의견... 문자폭탄, 민주적 방식 아냐“</td>\n",
       "      <td>2021-05-07 00:51:00</td>\n",
       "      <td>윤성철</td>\n",
       "      <td>2021-05-07 04:54:47</td>\n",
       "      <td>김부겸의 평소 고상한 품위 있는 언행 하던 사람이 상식이 파괴된 비도덕적이고 비윤리...</td>\n",
       "      <td>김부겸</td>\n",
       "      <td>조선일보</td>\n",
       "    </tr>\n",
       "    <tr>\n",
       "      <th>...</th>\n",
       "      <td>...</td>\n",
       "      <td>...</td>\n",
       "      <td>...</td>\n",
       "      <td>...</td>\n",
       "      <td>...</td>\n",
       "      <td>...</td>\n",
       "      <td>...</td>\n",
       "    </tr>\n",
       "    <tr>\n",
       "      <th>1274</th>\n",
       "      <td>[여랑야랑]윤석열 ★의 순간? 벌의 순간? / 황교안, 의문의 1패? | 뉴스A</td>\n",
       "      <td>2021-03-05 00:00:00</td>\n",
       "      <td>임인기</td>\n",
       "      <td>2021-03-16 00:00:00</td>\n",
       "      <td>황교안이 나라를이많큼말아먹구 파탄냈으면 평생니가할일은다한거다 제발 더이상나라망치지말...</td>\n",
       "      <td>황교안</td>\n",
       "      <td>YouTube</td>\n",
       "    </tr>\n",
       "    <tr>\n",
       "      <th>1275</th>\n",
       "      <td>[여랑야랑]윤석열 ★의 순간? 벌의 순간? / 황교안, 의문의 1패? | 뉴스A</td>\n",
       "      <td>2021-03-05 00:00:00</td>\n",
       "      <td>안태준</td>\n",
       "      <td>2021-03-16 00:00:00</td>\n",
       "      <td>윤석열 .힘내시고.화이팅입니다.</td>\n",
       "      <td>황교안</td>\n",
       "      <td>YouTube</td>\n",
       "    </tr>\n",
       "    <tr>\n",
       "      <th>1276</th>\n",
       "      <td>[여랑야랑]윤석열 ★의 순간? 벌의 순간? / 황교안, 의문의 1패? | 뉴스A</td>\n",
       "      <td>2021-03-05 00:00:00</td>\n",
       "      <td>이희만</td>\n",
       "      <td>2021-03-16 00:00:00</td>\n",
       "      <td>황교안 대표 가 보수다</td>\n",
       "      <td>황교안</td>\n",
       "      <td>YouTube</td>\n",
       "    </tr>\n",
       "    <tr>\n",
       "      <th>1277</th>\n",
       "      <td>[여랑야랑]윤석열 ★의 순간? 벌의 순간? / 황교안, 의문의 1패? | 뉴스A</td>\n",
       "      <td>2021-03-05 00:00:00</td>\n",
       "      <td>박영칠</td>\n",
       "      <td>2021-03-16 00:00:00</td>\n",
       "      <td>황교안정직하고깨끋한애국자 불평하지말라 똑똑한것홍준표의원 검찰들이않다 주님준비된대통령...</td>\n",
       "      <td>황교안</td>\n",
       "      <td>YouTube</td>\n",
       "    </tr>\n",
       "    <tr>\n",
       "      <th>1278</th>\n",
       "      <td>[여랑야랑]윤석열 ★의 순간? 벌의 순간? / 황교안, 의문의 1패? | 뉴스A</td>\n",
       "      <td>2021-03-05 00:00:00</td>\n",
       "      <td>이미래로</td>\n",
       "      <td>2021-03-16 00:00:00</td>\n",
       "      <td>황교안등 모두 나라위해 힘을 모으는게 맞지요.같은진영 헐뜯지 맙시다.</td>\n",
       "      <td>황교안</td>\n",
       "      <td>YouTube</td>\n",
       "    </tr>\n",
       "  </tbody>\n",
       "</table>\n",
       "<p>158534 rows × 7 columns</p>\n",
       "</div>"
      ],
      "text/plain": [
       "                                                제목                  날짜   작성자  \\\n",
       "0                     김부겸 “마지막 공직이라 생각”… 대선 출마설 부인 2021-05-07 10:55:00   정병렬   \n",
       "1                     김부겸 “마지막 공직이라 생각”… 대선 출마설 부인 2021-05-07 10:55:00   이규태   \n",
       "2          김부겸 “검수완박은 일부 의원 의견... 문자폭탄, 민주적 방식 아냐“ 2021-05-07 00:51:00   윤정삼   \n",
       "3          김부겸 “검수완박은 일부 의원 의견... 문자폭탄, 민주적 방식 아냐“ 2021-05-07 00:51:00   황성식   \n",
       "4          김부겸 “검수완박은 일부 의원 의견... 문자폭탄, 민주적 방식 아냐“ 2021-05-07 00:51:00   윤성철   \n",
       "...                                            ...                 ...   ...   \n",
       "1274  [여랑야랑]윤석열 ★의 순간? 벌의 순간? / 황교안, 의문의 1패? | 뉴스A 2021-03-05 00:00:00   임인기   \n",
       "1275  [여랑야랑]윤석열 ★의 순간? 벌의 순간? / 황교안, 의문의 1패? | 뉴스A 2021-03-05 00:00:00   안태준   \n",
       "1276  [여랑야랑]윤석열 ★의 순간? 벌의 순간? / 황교안, 의문의 1패? | 뉴스A 2021-03-05 00:00:00   이희만   \n",
       "1277  [여랑야랑]윤석열 ★의 순간? 벌의 순간? / 황교안, 의문의 1패? | 뉴스A 2021-03-05 00:00:00   박영칠   \n",
       "1278  [여랑야랑]윤석열 ★의 순간? 벌의 순간? / 황교안, 의문의 1패? | 뉴스A 2021-03-05 00:00:00  이미래로   \n",
       "\n",
       "                     작성일                                                 댓글  \\\n",
       "0    2021-05-07 14:46:43                         <대선 출마설> 어떤 외눈박이의 헛소리 이겠지.   \n",
       "1    2021-05-07 11:11:00  악취가 진동하는 엉망진창인 자신의 모습은 안보이나? 후보사퇴 하고 있는듯 없는듯이 ...   \n",
       "2    2021-05-07 07:55:49  김부겸 32번의 차량 압류 . . . 이렇게 법을 위반한 사람이 대한민국 총리가 된...   \n",
       "3    2021-05-07 05:10:51                                    부겸이 니는 부결이 정답이다   \n",
       "4    2021-05-07 04:54:47  김부겸의 평소 고상한 품위 있는 언행 하던 사람이 상식이 파괴된 비도덕적이고 비윤리...   \n",
       "...                  ...                                                ...   \n",
       "1274 2021-03-16 00:00:00  황교안이 나라를이많큼말아먹구 파탄냈으면 평생니가할일은다한거다 제발 더이상나라망치지말...   \n",
       "1275 2021-03-16 00:00:00                                  윤석열 .힘내시고.화이팅입니다.   \n",
       "1276 2021-03-16 00:00:00                                       황교안 대표 가 보수다   \n",
       "1277 2021-03-16 00:00:00  황교안정직하고깨끋한애국자 불평하지말라 똑똑한것홍준표의원 검찰들이않다 주님준비된대통령...   \n",
       "1278 2021-03-16 00:00:00             황교안등 모두 나라위해 힘을 모으는게 맞지요.같은진영 헐뜯지 맙시다.   \n",
       "\n",
       "       후보       출처  \n",
       "0     김부겸     조선일보  \n",
       "1     김부겸     조선일보  \n",
       "2     김부겸     조선일보  \n",
       "3     김부겸     조선일보  \n",
       "4     김부겸     조선일보  \n",
       "...   ...      ...  \n",
       "1274  황교안  YouTube  \n",
       "1275  황교안  YouTube  \n",
       "1276  황교안  YouTube  \n",
       "1277  황교안  YouTube  \n",
       "1278  황교안  YouTube  \n",
       "\n",
       "[158534 rows x 7 columns]"
      ]
     },
     "execution_count": 75,
     "metadata": {},
     "output_type": "execute_result"
    }
   ],
   "source": [
    "df_total = df_total[df_total['날짜'] > '2021-03-01']\n",
    "df_total"
   ]
  },
  {
   "cell_type": "code",
   "execution_count": 76,
   "metadata": {},
   "outputs": [
    {
     "data": {
      "text/html": [
       "<div>\n",
       "<style scoped>\n",
       "    .dataframe tbody tr th:only-of-type {\n",
       "        vertical-align: middle;\n",
       "    }\n",
       "\n",
       "    .dataframe tbody tr th {\n",
       "        vertical-align: top;\n",
       "    }\n",
       "\n",
       "    .dataframe thead th {\n",
       "        text-align: right;\n",
       "    }\n",
       "</style>\n",
       "<table border=\"1\" class=\"dataframe\">\n",
       "  <thead>\n",
       "    <tr style=\"text-align: right;\">\n",
       "      <th></th>\n",
       "      <th>날짜</th>\n",
       "      <th>작성일</th>\n",
       "    </tr>\n",
       "  </thead>\n",
       "  <tbody>\n",
       "    <tr>\n",
       "      <th>count</th>\n",
       "      <td>158534</td>\n",
       "      <td>158534</td>\n",
       "    </tr>\n",
       "    <tr>\n",
       "      <th>unique</th>\n",
       "      <td>1340</td>\n",
       "      <td>26399</td>\n",
       "    </tr>\n",
       "    <tr>\n",
       "      <th>top</th>\n",
       "      <td>2021-04-09 00:00:00</td>\n",
       "      <td>2021-04-15 00:00:00</td>\n",
       "    </tr>\n",
       "    <tr>\n",
       "      <th>freq</th>\n",
       "      <td>4736</td>\n",
       "      <td>36624</td>\n",
       "    </tr>\n",
       "    <tr>\n",
       "      <th>first</th>\n",
       "      <td>2021-03-01 00:03:00</td>\n",
       "      <td>2021-03-01 02:23:42</td>\n",
       "    </tr>\n",
       "    <tr>\n",
       "      <th>last</th>\n",
       "      <td>2021-05-16 10:00:00</td>\n",
       "      <td>2021-05-17 20:55:32</td>\n",
       "    </tr>\n",
       "  </tbody>\n",
       "</table>\n",
       "</div>"
      ],
      "text/plain": [
       "                         날짜                  작성일\n",
       "count                158534               158534\n",
       "unique                 1340                26399\n",
       "top     2021-04-09 00:00:00  2021-04-15 00:00:00\n",
       "freq                   4736                36624\n",
       "first   2021-03-01 00:03:00  2021-03-01 02:23:42\n",
       "last    2021-05-16 10:00:00  2021-05-17 20:55:32"
      ]
     },
     "execution_count": 76,
     "metadata": {},
     "output_type": "execute_result"
    }
   ],
   "source": [
    "df_total[['날짜', '작성일']].describe()"
   ]
  },
  {
   "cell_type": "markdown",
   "metadata": {},
   "source": [
    "## 출처별 데이터 수 확인"
   ]
  },
  {
   "cell_type": "code",
   "execution_count": 77,
   "metadata": {},
   "outputs": [
    {
     "data": {
      "text/plain": [
       "YouTube    94019\n",
       "중앙일보       15191\n",
       "동아일보       14553\n",
       "경향신문       12505\n",
       "한겨레         9520\n",
       "MBC         8470\n",
       "조선일보        3623\n",
       "JTBC         653\n",
       "Name: 출처, dtype: int64"
      ]
     },
     "execution_count": 77,
     "metadata": {},
     "output_type": "execute_result"
    }
   ],
   "source": [
    "df_total['출처'].value_counts()"
   ]
  },
  {
   "cell_type": "markdown",
   "metadata": {},
   "source": [
    "## 칼럼명 영어로 변경"
   ]
  },
  {
   "cell_type": "code",
   "execution_count": 81,
   "metadata": {},
   "outputs": [
    {
     "data": {
      "text/html": [
       "<div>\n",
       "<style scoped>\n",
       "    .dataframe tbody tr th:only-of-type {\n",
       "        vertical-align: middle;\n",
       "    }\n",
       "\n",
       "    .dataframe tbody tr th {\n",
       "        vertical-align: top;\n",
       "    }\n",
       "\n",
       "    .dataframe thead th {\n",
       "        text-align: right;\n",
       "    }\n",
       "</style>\n",
       "<table border=\"1\" class=\"dataframe\">\n",
       "  <thead>\n",
       "    <tr style=\"text-align: right;\">\n",
       "      <th></th>\n",
       "      <th>Title</th>\n",
       "      <th>Date</th>\n",
       "      <th>ID</th>\n",
       "      <th>Comment_date</th>\n",
       "      <th>Comment</th>\n",
       "      <th>Candidate</th>\n",
       "      <th>Source</th>\n",
       "    </tr>\n",
       "  </thead>\n",
       "  <tbody>\n",
       "    <tr>\n",
       "      <th>0</th>\n",
       "      <td>김부겸 “마지막 공직이라 생각”… 대선 출마설 부인</td>\n",
       "      <td>2021-05-07 10:55:00</td>\n",
       "      <td>정병렬</td>\n",
       "      <td>2021-05-07 14:46:43</td>\n",
       "      <td>&lt;대선 출마설&gt; 어떤 외눈박이의 헛소리 이겠지.</td>\n",
       "      <td>김부겸</td>\n",
       "      <td>조선일보</td>\n",
       "    </tr>\n",
       "    <tr>\n",
       "      <th>1</th>\n",
       "      <td>김부겸 “마지막 공직이라 생각”… 대선 출마설 부인</td>\n",
       "      <td>2021-05-07 10:55:00</td>\n",
       "      <td>이규태</td>\n",
       "      <td>2021-05-07 11:11:00</td>\n",
       "      <td>악취가 진동하는 엉망진창인 자신의 모습은 안보이나? 후보사퇴 하고 있는듯 없는듯이 ...</td>\n",
       "      <td>김부겸</td>\n",
       "      <td>조선일보</td>\n",
       "    </tr>\n",
       "    <tr>\n",
       "      <th>2</th>\n",
       "      <td>김부겸 “검수완박은 일부 의원 의견... 문자폭탄, 민주적 방식 아냐“</td>\n",
       "      <td>2021-05-07 00:51:00</td>\n",
       "      <td>윤정삼</td>\n",
       "      <td>2021-05-07 07:55:49</td>\n",
       "      <td>김부겸 32번의 차량 압류 . . . 이렇게 법을 위반한 사람이 대한민국 총리가 된...</td>\n",
       "      <td>김부겸</td>\n",
       "      <td>조선일보</td>\n",
       "    </tr>\n",
       "    <tr>\n",
       "      <th>3</th>\n",
       "      <td>김부겸 “검수완박은 일부 의원 의견... 문자폭탄, 민주적 방식 아냐“</td>\n",
       "      <td>2021-05-07 00:51:00</td>\n",
       "      <td>황성식</td>\n",
       "      <td>2021-05-07 05:10:51</td>\n",
       "      <td>부겸이 니는 부결이 정답이다</td>\n",
       "      <td>김부겸</td>\n",
       "      <td>조선일보</td>\n",
       "    </tr>\n",
       "    <tr>\n",
       "      <th>4</th>\n",
       "      <td>김부겸 “검수완박은 일부 의원 의견... 문자폭탄, 민주적 방식 아냐“</td>\n",
       "      <td>2021-05-07 00:51:00</td>\n",
       "      <td>윤성철</td>\n",
       "      <td>2021-05-07 04:54:47</td>\n",
       "      <td>김부겸의 평소 고상한 품위 있는 언행 하던 사람이 상식이 파괴된 비도덕적이고 비윤리...</td>\n",
       "      <td>김부겸</td>\n",
       "      <td>조선일보</td>\n",
       "    </tr>\n",
       "    <tr>\n",
       "      <th>...</th>\n",
       "      <td>...</td>\n",
       "      <td>...</td>\n",
       "      <td>...</td>\n",
       "      <td>...</td>\n",
       "      <td>...</td>\n",
       "      <td>...</td>\n",
       "      <td>...</td>\n",
       "    </tr>\n",
       "    <tr>\n",
       "      <th>1274</th>\n",
       "      <td>[여랑야랑]윤석열 ★의 순간? 벌의 순간? / 황교안, 의문의 1패? | 뉴스A</td>\n",
       "      <td>2021-03-05 00:00:00</td>\n",
       "      <td>임인기</td>\n",
       "      <td>2021-03-16 00:00:00</td>\n",
       "      <td>황교안이 나라를이많큼말아먹구 파탄냈으면 평생니가할일은다한거다 제발 더이상나라망치지말...</td>\n",
       "      <td>황교안</td>\n",
       "      <td>YouTube</td>\n",
       "    </tr>\n",
       "    <tr>\n",
       "      <th>1275</th>\n",
       "      <td>[여랑야랑]윤석열 ★의 순간? 벌의 순간? / 황교안, 의문의 1패? | 뉴스A</td>\n",
       "      <td>2021-03-05 00:00:00</td>\n",
       "      <td>안태준</td>\n",
       "      <td>2021-03-16 00:00:00</td>\n",
       "      <td>윤석열 .힘내시고.화이팅입니다.</td>\n",
       "      <td>황교안</td>\n",
       "      <td>YouTube</td>\n",
       "    </tr>\n",
       "    <tr>\n",
       "      <th>1276</th>\n",
       "      <td>[여랑야랑]윤석열 ★의 순간? 벌의 순간? / 황교안, 의문의 1패? | 뉴스A</td>\n",
       "      <td>2021-03-05 00:00:00</td>\n",
       "      <td>이희만</td>\n",
       "      <td>2021-03-16 00:00:00</td>\n",
       "      <td>황교안 대표 가 보수다</td>\n",
       "      <td>황교안</td>\n",
       "      <td>YouTube</td>\n",
       "    </tr>\n",
       "    <tr>\n",
       "      <th>1277</th>\n",
       "      <td>[여랑야랑]윤석열 ★의 순간? 벌의 순간? / 황교안, 의문의 1패? | 뉴스A</td>\n",
       "      <td>2021-03-05 00:00:00</td>\n",
       "      <td>박영칠</td>\n",
       "      <td>2021-03-16 00:00:00</td>\n",
       "      <td>황교안정직하고깨끋한애국자 불평하지말라 똑똑한것홍준표의원 검찰들이않다 주님준비된대통령...</td>\n",
       "      <td>황교안</td>\n",
       "      <td>YouTube</td>\n",
       "    </tr>\n",
       "    <tr>\n",
       "      <th>1278</th>\n",
       "      <td>[여랑야랑]윤석열 ★의 순간? 벌의 순간? / 황교안, 의문의 1패? | 뉴스A</td>\n",
       "      <td>2021-03-05 00:00:00</td>\n",
       "      <td>이미래로</td>\n",
       "      <td>2021-03-16 00:00:00</td>\n",
       "      <td>황교안등 모두 나라위해 힘을 모으는게 맞지요.같은진영 헐뜯지 맙시다.</td>\n",
       "      <td>황교안</td>\n",
       "      <td>YouTube</td>\n",
       "    </tr>\n",
       "  </tbody>\n",
       "</table>\n",
       "<p>158534 rows × 7 columns</p>\n",
       "</div>"
      ],
      "text/plain": [
       "                                             Title                Date    ID  \\\n",
       "0                     김부겸 “마지막 공직이라 생각”… 대선 출마설 부인 2021-05-07 10:55:00   정병렬   \n",
       "1                     김부겸 “마지막 공직이라 생각”… 대선 출마설 부인 2021-05-07 10:55:00   이규태   \n",
       "2          김부겸 “검수완박은 일부 의원 의견... 문자폭탄, 민주적 방식 아냐“ 2021-05-07 00:51:00   윤정삼   \n",
       "3          김부겸 “검수완박은 일부 의원 의견... 문자폭탄, 민주적 방식 아냐“ 2021-05-07 00:51:00   황성식   \n",
       "4          김부겸 “검수완박은 일부 의원 의견... 문자폭탄, 민주적 방식 아냐“ 2021-05-07 00:51:00   윤성철   \n",
       "...                                            ...                 ...   ...   \n",
       "1274  [여랑야랑]윤석열 ★의 순간? 벌의 순간? / 황교안, 의문의 1패? | 뉴스A 2021-03-05 00:00:00   임인기   \n",
       "1275  [여랑야랑]윤석열 ★의 순간? 벌의 순간? / 황교안, 의문의 1패? | 뉴스A 2021-03-05 00:00:00   안태준   \n",
       "1276  [여랑야랑]윤석열 ★의 순간? 벌의 순간? / 황교안, 의문의 1패? | 뉴스A 2021-03-05 00:00:00   이희만   \n",
       "1277  [여랑야랑]윤석열 ★의 순간? 벌의 순간? / 황교안, 의문의 1패? | 뉴스A 2021-03-05 00:00:00   박영칠   \n",
       "1278  [여랑야랑]윤석열 ★의 순간? 벌의 순간? / 황교안, 의문의 1패? | 뉴스A 2021-03-05 00:00:00  이미래로   \n",
       "\n",
       "            Comment_date                                            Comment  \\\n",
       "0    2021-05-07 14:46:43                         <대선 출마설> 어떤 외눈박이의 헛소리 이겠지.   \n",
       "1    2021-05-07 11:11:00  악취가 진동하는 엉망진창인 자신의 모습은 안보이나? 후보사퇴 하고 있는듯 없는듯이 ...   \n",
       "2    2021-05-07 07:55:49  김부겸 32번의 차량 압류 . . . 이렇게 법을 위반한 사람이 대한민국 총리가 된...   \n",
       "3    2021-05-07 05:10:51                                    부겸이 니는 부결이 정답이다   \n",
       "4    2021-05-07 04:54:47  김부겸의 평소 고상한 품위 있는 언행 하던 사람이 상식이 파괴된 비도덕적이고 비윤리...   \n",
       "...                  ...                                                ...   \n",
       "1274 2021-03-16 00:00:00  황교안이 나라를이많큼말아먹구 파탄냈으면 평생니가할일은다한거다 제발 더이상나라망치지말...   \n",
       "1275 2021-03-16 00:00:00                                  윤석열 .힘내시고.화이팅입니다.   \n",
       "1276 2021-03-16 00:00:00                                       황교안 대표 가 보수다   \n",
       "1277 2021-03-16 00:00:00  황교안정직하고깨끋한애국자 불평하지말라 똑똑한것홍준표의원 검찰들이않다 주님준비된대통령...   \n",
       "1278 2021-03-16 00:00:00             황교안등 모두 나라위해 힘을 모으는게 맞지요.같은진영 헐뜯지 맙시다.   \n",
       "\n",
       "     Candidate   Source  \n",
       "0          김부겸     조선일보  \n",
       "1          김부겸     조선일보  \n",
       "2          김부겸     조선일보  \n",
       "3          김부겸     조선일보  \n",
       "4          김부겸     조선일보  \n",
       "...        ...      ...  \n",
       "1274       황교안  YouTube  \n",
       "1275       황교안  YouTube  \n",
       "1276       황교안  YouTube  \n",
       "1277       황교안  YouTube  \n",
       "1278       황교안  YouTube  \n",
       "\n",
       "[158534 rows x 7 columns]"
      ]
     },
     "execution_count": 81,
     "metadata": {},
     "output_type": "execute_result"
    }
   ],
   "source": [
    "df_total.columns = ['Title', 'Date', 'ID', 'Comment_date', 'Comment', 'Candidate', 'Source']"
   ]
  },
  {
   "cell_type": "markdown",
   "metadata": {},
   "source": [
    "## 저장\n"
   ]
  },
  {
   "cell_type": "code",
   "execution_count": 82,
   "metadata": {},
   "outputs": [],
   "source": [
    "df_total.to_csv('data_candidates.csv', encoding='utf-8-sig', index=False)"
   ]
  }
 ],
 "metadata": {
  "kernelspec": {
   "display_name": "Python 3",
   "language": "python",
   "name": "python3"
  },
  "language_info": {
   "codemirror_mode": {
    "name": "ipython",
    "version": 3
   },
   "file_extension": ".py",
   "mimetype": "text/x-python",
   "name": "python",
   "nbconvert_exporter": "python",
   "pygments_lexer": "ipython3",
   "version": "3.7.6"
  },
  "toc-autonumbering": true
 },
 "nbformat": 4,
 "nbformat_minor": 4
}
