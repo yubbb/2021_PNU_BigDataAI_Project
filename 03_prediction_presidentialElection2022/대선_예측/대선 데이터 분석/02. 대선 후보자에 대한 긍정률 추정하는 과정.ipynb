{
 "cells": [
  {
   "cell_type": "markdown",
   "metadata": {},
   "source": [
    "# 대선 후보자별 긍정률 추정"
   ]
  },
  {
   "cell_type": "markdown",
   "metadata": {},
   "source": [
    "## 대선 유망 후보자 데이터"
   ]
  },
  {
   "cell_type": "code",
   "execution_count": 1,
   "metadata": {
    "ExecuteTime": {
     "end_time": "2021-05-23T04:11:03.791607Z",
     "start_time": "2021-05-23T04:11:02.555439Z"
    }
   },
   "outputs": [],
   "source": [
    "import pandas as pd\n",
    "import numpy as np\n",
    "import re\n",
    "import pickle\n",
    "# 형태소 분류 태그\n",
    "from konlpy.tag import Okt\n",
    "\n",
    "\n",
    "import matplotlib.pyplot as plt \n",
    "import seaborn as sns \n",
    "plt.style.use('seaborn-whitegrid')\n",
    "plt.rcParams['font.family'] = 'Malgun Gothic'\n",
    "# plt.rcParams['font.family'] = 'AppleGothic'\n",
    "plt.rcParams['font.size'] = 10\n",
    "plt.rcParams['figure.figsize'] = 10,5\n",
    "plt.rcParams['axes.unicode_minus'] = False"
   ]
  },
  {
   "cell_type": "code",
   "execution_count": 2,
   "metadata": {
    "ExecuteTime": {
     "end_time": "2021-05-23T04:11:04.482396Z",
     "start_time": "2021-05-23T04:11:03.792600Z"
    },
    "scrolled": false
   },
   "outputs": [
    {
     "data": {
      "text/html": [
       "<div>\n",
       "<style scoped>\n",
       "    .dataframe tbody tr th:only-of-type {\n",
       "        vertical-align: middle;\n",
       "    }\n",
       "\n",
       "    .dataframe tbody tr th {\n",
       "        vertical-align: top;\n",
       "    }\n",
       "\n",
       "    .dataframe thead th {\n",
       "        text-align: right;\n",
       "    }\n",
       "</style>\n",
       "<table border=\"1\" class=\"dataframe\">\n",
       "  <thead>\n",
       "    <tr style=\"text-align: right;\">\n",
       "      <th></th>\n",
       "      <th>Title</th>\n",
       "      <th>Date</th>\n",
       "      <th>ID</th>\n",
       "      <th>Comment_date</th>\n",
       "      <th>Comment</th>\n",
       "      <th>Candidate</th>\n",
       "      <th>Source</th>\n",
       "    </tr>\n",
       "  </thead>\n",
       "  <tbody>\n",
       "    <tr>\n",
       "      <th>0</th>\n",
       "      <td>김부겸 “마지막 공직이라 생각”… 대선 출마설 부인</td>\n",
       "      <td>2021-05-07 10:55:00</td>\n",
       "      <td>정병렬</td>\n",
       "      <td>2021-05-07 14:46:43</td>\n",
       "      <td>&lt;대선 출마설&gt; 어떤 외눈박이의 헛소리 이겠지.</td>\n",
       "      <td>김부겸</td>\n",
       "      <td>조선일보</td>\n",
       "    </tr>\n",
       "    <tr>\n",
       "      <th>1</th>\n",
       "      <td>김부겸 “마지막 공직이라 생각”… 대선 출마설 부인</td>\n",
       "      <td>2021-05-07 10:55:00</td>\n",
       "      <td>이규태</td>\n",
       "      <td>2021-05-07 11:11:00</td>\n",
       "      <td>악취가 진동하는 엉망진창인 자신의 모습은 안보이나? 후보사퇴 하고 있는듯 없는듯이 ...</td>\n",
       "      <td>김부겸</td>\n",
       "      <td>조선일보</td>\n",
       "    </tr>\n",
       "    <tr>\n",
       "      <th>2</th>\n",
       "      <td>김부겸 “검수완박은 일부 의원 의견... 문자폭탄, 민주적 방식 아냐“</td>\n",
       "      <td>2021-05-07 00:51:00</td>\n",
       "      <td>윤정삼</td>\n",
       "      <td>2021-05-07 07:55:49</td>\n",
       "      <td>김부겸 32번의 차량 압류 . . . 이렇게 법을 위반한 사람이 대한민국 총리가 된...</td>\n",
       "      <td>김부겸</td>\n",
       "      <td>조선일보</td>\n",
       "    </tr>\n",
       "    <tr>\n",
       "      <th>3</th>\n",
       "      <td>김부겸 “검수완박은 일부 의원 의견... 문자폭탄, 민주적 방식 아냐“</td>\n",
       "      <td>2021-05-07 00:51:00</td>\n",
       "      <td>황성식</td>\n",
       "      <td>2021-05-07 05:10:51</td>\n",
       "      <td>부겸이 니는 부결이 정답이다</td>\n",
       "      <td>김부겸</td>\n",
       "      <td>조선일보</td>\n",
       "    </tr>\n",
       "    <tr>\n",
       "      <th>4</th>\n",
       "      <td>김부겸 “검수완박은 일부 의원 의견... 문자폭탄, 민주적 방식 아냐“</td>\n",
       "      <td>2021-05-07 00:51:00</td>\n",
       "      <td>윤성철</td>\n",
       "      <td>2021-05-07 04:54:47</td>\n",
       "      <td>김부겸의 평소 고상한 품위 있는 언행 하던 사람이 상식이 파괴된 비도덕적이고 비윤리...</td>\n",
       "      <td>김부겸</td>\n",
       "      <td>조선일보</td>\n",
       "    </tr>\n",
       "    <tr>\n",
       "      <th>...</th>\n",
       "      <td>...</td>\n",
       "      <td>...</td>\n",
       "      <td>...</td>\n",
       "      <td>...</td>\n",
       "      <td>...</td>\n",
       "      <td>...</td>\n",
       "      <td>...</td>\n",
       "    </tr>\n",
       "    <tr>\n",
       "      <th>158529</th>\n",
       "      <td>[여랑야랑]윤석열 ★의 순간? 벌의 순간? / 황교안, 의문의 1패? | 뉴스A</td>\n",
       "      <td>2021-03-05</td>\n",
       "      <td>임인기</td>\n",
       "      <td>2021-03-16</td>\n",
       "      <td>황교안이 나라를이많큼말아먹구 파탄냈으면 평생니가할일은다한거다 제발 더이상나라망치지말...</td>\n",
       "      <td>황교안</td>\n",
       "      <td>YouTube</td>\n",
       "    </tr>\n",
       "    <tr>\n",
       "      <th>158530</th>\n",
       "      <td>[여랑야랑]윤석열 ★의 순간? 벌의 순간? / 황교안, 의문의 1패? | 뉴스A</td>\n",
       "      <td>2021-03-05</td>\n",
       "      <td>안태준</td>\n",
       "      <td>2021-03-16</td>\n",
       "      <td>윤석열 .힘내시고.화이팅입니다.</td>\n",
       "      <td>황교안</td>\n",
       "      <td>YouTube</td>\n",
       "    </tr>\n",
       "    <tr>\n",
       "      <th>158531</th>\n",
       "      <td>[여랑야랑]윤석열 ★의 순간? 벌의 순간? / 황교안, 의문의 1패? | 뉴스A</td>\n",
       "      <td>2021-03-05</td>\n",
       "      <td>이희만</td>\n",
       "      <td>2021-03-16</td>\n",
       "      <td>황교안 대표 가 보수다</td>\n",
       "      <td>황교안</td>\n",
       "      <td>YouTube</td>\n",
       "    </tr>\n",
       "    <tr>\n",
       "      <th>158532</th>\n",
       "      <td>[여랑야랑]윤석열 ★의 순간? 벌의 순간? / 황교안, 의문의 1패? | 뉴스A</td>\n",
       "      <td>2021-03-05</td>\n",
       "      <td>박영칠</td>\n",
       "      <td>2021-03-16</td>\n",
       "      <td>황교안정직하고깨끋한애국자 불평하지말라 똑똑한것홍준표의원 검찰들이않다 주님준비된대통령...</td>\n",
       "      <td>황교안</td>\n",
       "      <td>YouTube</td>\n",
       "    </tr>\n",
       "    <tr>\n",
       "      <th>158533</th>\n",
       "      <td>[여랑야랑]윤석열 ★의 순간? 벌의 순간? / 황교안, 의문의 1패? | 뉴스A</td>\n",
       "      <td>2021-03-05</td>\n",
       "      <td>이미래로</td>\n",
       "      <td>2021-03-16</td>\n",
       "      <td>황교안등 모두 나라위해 힘을 모으는게 맞지요.같은진영 헐뜯지 맙시다.</td>\n",
       "      <td>황교안</td>\n",
       "      <td>YouTube</td>\n",
       "    </tr>\n",
       "  </tbody>\n",
       "</table>\n",
       "<p>158534 rows × 7 columns</p>\n",
       "</div>"
      ],
      "text/plain": [
       "                                               Title                 Date  \\\n",
       "0                       김부겸 “마지막 공직이라 생각”… 대선 출마설 부인  2021-05-07 10:55:00   \n",
       "1                       김부겸 “마지막 공직이라 생각”… 대선 출마설 부인  2021-05-07 10:55:00   \n",
       "2            김부겸 “검수완박은 일부 의원 의견... 문자폭탄, 민주적 방식 아냐“  2021-05-07 00:51:00   \n",
       "3            김부겸 “검수완박은 일부 의원 의견... 문자폭탄, 민주적 방식 아냐“  2021-05-07 00:51:00   \n",
       "4            김부겸 “검수완박은 일부 의원 의견... 문자폭탄, 민주적 방식 아냐“  2021-05-07 00:51:00   \n",
       "...                                              ...                  ...   \n",
       "158529  [여랑야랑]윤석열 ★의 순간? 벌의 순간? / 황교안, 의문의 1패? | 뉴스A           2021-03-05   \n",
       "158530  [여랑야랑]윤석열 ★의 순간? 벌의 순간? / 황교안, 의문의 1패? | 뉴스A           2021-03-05   \n",
       "158531  [여랑야랑]윤석열 ★의 순간? 벌의 순간? / 황교안, 의문의 1패? | 뉴스A           2021-03-05   \n",
       "158532  [여랑야랑]윤석열 ★의 순간? 벌의 순간? / 황교안, 의문의 1패? | 뉴스A           2021-03-05   \n",
       "158533  [여랑야랑]윤석열 ★의 순간? 벌의 순간? / 황교안, 의문의 1패? | 뉴스A           2021-03-05   \n",
       "\n",
       "          ID         Comment_date  \\\n",
       "0        정병렬  2021-05-07 14:46:43   \n",
       "1        이규태  2021-05-07 11:11:00   \n",
       "2        윤정삼  2021-05-07 07:55:49   \n",
       "3        황성식  2021-05-07 05:10:51   \n",
       "4        윤성철  2021-05-07 04:54:47   \n",
       "...      ...                  ...   \n",
       "158529   임인기           2021-03-16   \n",
       "158530   안태준           2021-03-16   \n",
       "158531   이희만           2021-03-16   \n",
       "158532   박영칠           2021-03-16   \n",
       "158533  이미래로           2021-03-16   \n",
       "\n",
       "                                                  Comment Candidate   Source  \n",
       "0                              <대선 출마설> 어떤 외눈박이의 헛소리 이겠지.       김부겸     조선일보  \n",
       "1       악취가 진동하는 엉망진창인 자신의 모습은 안보이나? 후보사퇴 하고 있는듯 없는듯이 ...       김부겸     조선일보  \n",
       "2       김부겸 32번의 차량 압류 . . . 이렇게 법을 위반한 사람이 대한민국 총리가 된...       김부겸     조선일보  \n",
       "3                                         부겸이 니는 부결이 정답이다       김부겸     조선일보  \n",
       "4       김부겸의 평소 고상한 품위 있는 언행 하던 사람이 상식이 파괴된 비도덕적이고 비윤리...       김부겸     조선일보  \n",
       "...                                                   ...       ...      ...  \n",
       "158529  황교안이 나라를이많큼말아먹구 파탄냈으면 평생니가할일은다한거다 제발 더이상나라망치지말...       황교안  YouTube  \n",
       "158530                                  윤석열 .힘내시고.화이팅입니다.       황교안  YouTube  \n",
       "158531                                       황교안 대표 가 보수다       황교안  YouTube  \n",
       "158532  황교안정직하고깨끋한애국자 불평하지말라 똑똑한것홍준표의원 검찰들이않다 주님준비된대통령...       황교안  YouTube  \n",
       "158533             황교안등 모두 나라위해 힘을 모으는게 맞지요.같은진영 헐뜯지 맙시다.       황교안  YouTube  \n",
       "\n",
       "[158534 rows x 7 columns]"
      ]
     },
     "execution_count": 2,
     "metadata": {},
     "output_type": "execute_result"
    }
   ],
   "source": [
    "df1 = pd.read_csv('data/data_candidates.csv')\n",
    "df1"
   ]
  },
  {
   "cell_type": "markdown",
   "metadata": {},
   "source": [
    "### 유튜브 비중 조절"
   ]
  },
  {
   "cell_type": "code",
   "execution_count": 3,
   "metadata": {
    "ExecuteTime": {
     "end_time": "2021-05-23T04:11:04.500348Z",
     "start_time": "2021-05-23T04:11:04.483393Z"
    },
    "scrolled": true
   },
   "outputs": [
    {
     "data": {
      "text/plain": [
       "YouTube    94019\n",
       "중앙일보       15191\n",
       "동아일보       14553\n",
       "경향신문       12505\n",
       "한겨레         9520\n",
       "MBC         8470\n",
       "조선일보        3623\n",
       "JTBC         653\n",
       "Name: Source, dtype: int64"
      ]
     },
     "execution_count": 3,
     "metadata": {},
     "output_type": "execute_result"
    }
   ],
   "source": [
    "tmp = df1['Source'].value_counts()\n",
    "tmp"
   ]
  },
  {
   "cell_type": "code",
   "execution_count": 4,
   "metadata": {
    "ExecuteTime": {
     "end_time": "2021-05-23T04:11:04.507329Z",
     "start_time": "2021-05-23T04:11:04.501346Z"
    },
    "scrolled": false
   },
   "outputs": [
    {
     "data": {
      "text/plain": [
       "158534"
      ]
     },
     "execution_count": 4,
     "metadata": {},
     "output_type": "execute_result"
    }
   ],
   "source": [
    "tmp.sum() # 총 데이터 개수"
   ]
  },
  {
   "cell_type": "code",
   "execution_count": 5,
   "metadata": {
    "ExecuteTime": {
     "end_time": "2021-05-23T04:11:04.519298Z",
     "start_time": "2021-05-23T04:11:04.508326Z"
    }
   },
   "outputs": [
    {
     "data": {
      "text/plain": [
       "33367"
      ]
     },
     "execution_count": 5,
     "metadata": {},
     "output_type": "execute_result"
    }
   ],
   "source": [
    "tmp[['동아일보','중앙일보','조선일보']].sum() # 보수언론 합"
   ]
  },
  {
   "cell_type": "code",
   "execution_count": 6,
   "metadata": {
    "ExecuteTime": {
     "end_time": "2021-05-23T04:11:04.526280Z",
     "start_time": "2021-05-23T04:11:04.520296Z"
    }
   },
   "outputs": [
    {
     "data": {
      "text/plain": [
       "31148"
      ]
     },
     "execution_count": 6,
     "metadata": {},
     "output_type": "execute_result"
    }
   ],
   "source": [
    "tmp[['경향신문','한겨레','MBC','JTBC']].sum() # 진보언론 합"
   ]
  },
  {
   "cell_type": "code",
   "execution_count": 7,
   "metadata": {
    "ExecuteTime": {
     "end_time": "2021-05-23T04:11:04.589111Z",
     "start_time": "2021-05-23T04:11:04.527277Z"
    }
   },
   "outputs": [
    {
     "name": "stdout",
     "output_type": "stream",
     "text": [
      "94019\n"
     ]
    },
    {
     "data": {
      "text/plain": [
       "array([ 88968, 150513, 151982, ..., 105246,  87984,  73277])"
      ]
     },
     "execution_count": 7,
     "metadata": {},
     "output_type": "execute_result"
    }
   ],
   "source": [
    "# 출처 유튜브를 좀 조정하기\n",
    "youtube_list = df1.query( 'Source == \"YouTube\"').index.to_list()\n",
    "print(len(youtube_list))\n",
    "\n",
    "# 비복원추출. 유튜브 비중을 3만개로 맞추려고 6만개 제거하기 위한 과정\n",
    "random_youtube_list = np.random.choice(youtube_list, size=62871, replace=False)\n",
    "random_youtube_list"
   ]
  },
  {
   "cell_type": "code",
   "execution_count": 8,
   "metadata": {
    "ExecuteTime": {
     "end_time": "2021-05-23T04:11:04.595095Z",
     "start_time": "2021-05-23T04:11:04.590107Z"
    },
    "scrolled": true
   },
   "outputs": [
    {
     "data": {
      "text/plain": [
       "YouTube    94019\n",
       "중앙일보       15191\n",
       "동아일보       14553\n",
       "경향신문       12505\n",
       "한겨레         9520\n",
       "MBC         8470\n",
       "조선일보        3623\n",
       "JTBC         653\n",
       "Name: Source, dtype: int64"
      ]
     },
     "execution_count": 8,
     "metadata": {},
     "output_type": "execute_result"
    }
   ],
   "source": [
    "tmp # 원래 데이터의 언론사별 비율"
   ]
  },
  {
   "cell_type": "code",
   "execution_count": 9,
   "metadata": {
    "ExecuteTime": {
     "end_time": "2021-05-23T04:11:06.585908Z",
     "start_time": "2021-05-23T04:11:06.571807Z"
    }
   },
   "outputs": [],
   "source": [
    "df1 = df1.drop( index=random_youtube_list ) # 6만개 제거한 데이터를 df1으로 두기"
   ]
  },
  {
   "cell_type": "code",
   "execution_count": 11,
   "metadata": {
    "ExecuteTime": {
     "end_time": "2021-05-23T04:11:15.100226Z",
     "start_time": "2021-05-23T04:11:15.085913Z"
    }
   },
   "outputs": [
    {
     "data": {
      "text/plain": [
       "YouTube    31148\n",
       "중앙일보       15191\n",
       "동아일보       14553\n",
       "경향신문       12505\n",
       "한겨레         9520\n",
       "MBC         8470\n",
       "조선일보        3623\n",
       "JTBC         653\n",
       "Name: Source, dtype: int64"
      ]
     },
     "execution_count": 11,
     "metadata": {},
     "output_type": "execute_result"
    }
   ],
   "source": [
    "df1['Source'].value_counts()"
   ]
  },
  {
   "cell_type": "markdown",
   "metadata": {},
   "source": [
    "### 기사제목_댓글내용 가져오기"
   ]
  },
  {
   "cell_type": "code",
   "execution_count": 10,
   "metadata": {
    "ExecuteTime": {
     "end_time": "2021-05-22T15:33:32.362203Z",
     "start_time": "2021-05-22T15:33:32.354224Z"
    }
   },
   "outputs": [
    {
     "data": {
      "text/plain": [
       "0                                <대선 출마설> 어떤 외눈박이의 헛소리 이겠지.\n",
       "1         악취가 진동하는 엉망진창인 자신의 모습은 안보이나? 후보사퇴 하고 있는듯 없는듯이 ...\n",
       "2         김부겸 32번의 차량 압류 . . . 이렇게 법을 위반한 사람이 대한민국 총리가 된...\n",
       "3                                           부겸이 니는 부결이 정답이다\n",
       "4         김부겸의 평소 고상한 품위 있는 언행 하던 사람이 상식이 파괴된 비도덕적이고 비윤리...\n",
       "                                ...                        \n",
       "158517                                       저것들은 공산주의자들인가?\n",
       "158525         온국민은, 중범죄집단 문정권에 결사 반대하고국민일꾼 윤석열을 전심으로 성원한다👍\n",
       "158527                                        민주당 사기꾼니들이나잘해\n",
       "158530                                    윤석열 .힘내시고.화이팅입니다.\n",
       "158531                                         황교안 대표 가 보수다\n",
       "Name: Comment, Length: 95663, dtype: object"
      ]
     },
     "execution_count": 10,
     "metadata": {},
     "output_type": "execute_result"
    }
   ],
   "source": [
    "df1['Comment']"
   ]
  },
  {
   "cell_type": "markdown",
   "metadata": {},
   "source": [
    "### 전처리\n",
    "- 한글 정규화"
   ]
  },
  {
   "cell_type": "code",
   "execution_count": 11,
   "metadata": {
    "ExecuteTime": {
     "end_time": "2021-05-22T15:33:32.367189Z",
     "start_time": "2021-05-22T15:33:32.363200Z"
    }
   },
   "outputs": [],
   "source": [
    "# 정규식\n",
    "def text_cleaning(text) :\n",
    "    hangul = re.compile('[^ ㄱ-ㅣ가-힣]+')\n",
    "    result = hangul.sub('', text)\n",
    "    return result"
   ]
  },
  {
   "cell_type": "code",
   "execution_count": 12,
   "metadata": {
    "ExecuteTime": {
     "end_time": "2021-05-22T15:33:32.669300Z",
     "start_time": "2021-05-22T15:33:32.369199Z"
    }
   },
   "outputs": [],
   "source": [
    "df1['Comment'] = df1['Comment'].apply(lambda x: text_cleaning(x))"
   ]
  },
  {
   "cell_type": "code",
   "execution_count": 13,
   "metadata": {
    "ExecuteTime": {
     "end_time": "2021-05-22T15:33:32.674304Z",
     "start_time": "2021-05-22T15:33:32.670298Z"
    },
    "scrolled": true
   },
   "outputs": [
    {
     "data": {
      "text/plain": [
       "0                                   대선 출마설 어떤 외눈박이의 헛소리 이겠지\n",
       "1         악취가 진동하는 엉망진창인 자신의 모습은 안보이나 후보사퇴 하고 있는듯 없는듯이 조...\n",
       "2         김부겸 번의 차량 압류    이렇게 법을 위반한 사람이 대한민국 총리가 된다고   ...\n",
       "3                                           부겸이 니는 부결이 정답이다\n",
       "4         김부겸의 평소 고상한 품위 있는 언행 하던 사람이 상식이 파괴된 비도덕적이고 비윤리...\n",
       "                                ...                        \n",
       "158517                                        저것들은 공산주의자들인가\n",
       "158525           온국민은 중범죄집단 문정권에 결사 반대하고국민일꾼 윤석열을 전심으로 성원한다\n",
       "158527                                        민주당 사기꾼니들이나잘해\n",
       "158530                                       윤석열 힘내시고화이팅입니다\n",
       "158531                                         황교안 대표 가 보수다\n",
       "Name: Comment, Length: 95663, dtype: object"
      ]
     },
     "execution_count": 13,
     "metadata": {},
     "output_type": "execute_result"
    }
   ],
   "source": [
    "df1['Comment']"
   ]
  },
  {
   "cell_type": "markdown",
   "metadata": {
    "heading_collapsed": true
   },
   "source": [
    "## 기존 모델의 CounterVectorizer 생성"
   ]
  },
  {
   "cell_type": "code",
   "execution_count": 14,
   "metadata": {
    "ExecuteTime": {
     "end_time": "2021-05-22T15:33:34.035914Z",
     "start_time": "2021-05-22T15:33:32.675285Z"
    },
    "hidden": true
   },
   "outputs": [
    {
     "data": {
      "text/html": [
       "<div>\n",
       "<style scoped>\n",
       "    .dataframe tbody tr th:only-of-type {\n",
       "        vertical-align: middle;\n",
       "    }\n",
       "\n",
       "    .dataframe tbody tr th {\n",
       "        vertical-align: top;\n",
       "    }\n",
       "\n",
       "    .dataframe thead th {\n",
       "        text-align: right;\n",
       "    }\n",
       "</style>\n",
       "<table border=\"1\" class=\"dataframe\">\n",
       "  <thead>\n",
       "    <tr style=\"text-align: right;\">\n",
       "      <th></th>\n",
       "      <th>제목</th>\n",
       "      <th>날짜</th>\n",
       "      <th>작성일</th>\n",
       "      <th>댓글</th>\n",
       "      <th>출처</th>\n",
       "      <th>지역(서울:1, 부산:2)</th>\n",
       "      <th>정당(1:더불어민주당,2:국민의힘)</th>\n",
       "      <th>정당평가(부정;0, 긍정:1)</th>\n",
       "      <th>후보(기호 순)</th>\n",
       "      <th>후보평가(부정;0, 긍정:1)</th>\n",
       "      <th>제목댓글</th>\n",
       "    </tr>\n",
       "  </thead>\n",
       "  <tbody>\n",
       "    <tr>\n",
       "      <th>0</th>\n",
       "      <td>[재보궐 D-31] 부산 김영춘 vs 박형준, 서울도 양자 대결?</td>\n",
       "      <td>2021-03-07 05:57:00</td>\n",
       "      <td>2021-03-12 19:13:00</td>\n",
       "      <td>철수야! 뜸 들이지 말고 애국하는 마음으로 물러서라~~~</td>\n",
       "      <td>조선일보</td>\n",
       "      <td>NaN</td>\n",
       "      <td>NaN</td>\n",
       "      <td>NaN</td>\n",
       "      <td>NaN</td>\n",
       "      <td>NaN</td>\n",
       "      <td>[재보궐 D-31] 부산 김영춘 vs 박형준, 서울도 양자 대결? 철수야! 뜸 들이...</td>\n",
       "    </tr>\n",
       "    <tr>\n",
       "      <th>1</th>\n",
       "      <td>[재보궐 D-31] 부산 김영춘 vs 박형준, 서울도 양자 대결?</td>\n",
       "      <td>2021-03-07 05:57:00</td>\n",
       "      <td>2021-03-09 13:49:00</td>\n",
       "      <td>박영선은 정동영이 얻은 36프로선에 머무를것. 4.7.이후 OOO정권은 몰락의 길 ...</td>\n",
       "      <td>조선일보</td>\n",
       "      <td>1.0</td>\n",
       "      <td>NaN</td>\n",
       "      <td>NaN</td>\n",
       "      <td>1.0</td>\n",
       "      <td>0.0</td>\n",
       "      <td>[재보궐 D-31] 부산 김영춘 vs 박형준, 서울도 양자 대결? 박영선은 정동영이...</td>\n",
       "    </tr>\n",
       "    <tr>\n",
       "      <th>2</th>\n",
       "      <td>[재보궐 D-31] 부산 김영춘 vs 박형준, 서울도 양자 대결?</td>\n",
       "      <td>2021-03-07 05:57:00</td>\n",
       "      <td>2021-03-07 14:42:00</td>\n",
       "      <td>빵선이가서울시장되면서울은공산국가수도제2의평양이될것이다</td>\n",
       "      <td>조선일보</td>\n",
       "      <td>1.0</td>\n",
       "      <td>NaN</td>\n",
       "      <td>NaN</td>\n",
       "      <td>1.0</td>\n",
       "      <td>0.0</td>\n",
       "      <td>[재보궐 D-31] 부산 김영춘 vs 박형준, 서울도 양자 대결? 빵선이가서울시장되...</td>\n",
       "    </tr>\n",
       "    <tr>\n",
       "      <th>3</th>\n",
       "      <td>[재보궐 D-31] 부산 김영춘 vs 박형준, 서울도 양자 대결?</td>\n",
       "      <td>2021-03-07 05:57:00</td>\n",
       "      <td>2021-03-07 14:38:00</td>\n",
       "      <td>서울시장후보더듬당박빵선이는절대로서울시장을할수없다이유는가족은미국.영국에 영주권자이므로...</td>\n",
       "      <td>조선일보</td>\n",
       "      <td>1.0</td>\n",
       "      <td>1.0</td>\n",
       "      <td>0.0</td>\n",
       "      <td>1.0</td>\n",
       "      <td>0.0</td>\n",
       "      <td>[재보궐 D-31] 부산 김영춘 vs 박형준, 서울도 양자 대결? 서울시장후보더듬당...</td>\n",
       "    </tr>\n",
       "    <tr>\n",
       "      <th>4</th>\n",
       "      <td>[재보궐 D-31] 부산 김영춘 vs 박형준, 서울도 양자 대결?</td>\n",
       "      <td>2021-03-07 05:57:00</td>\n",
       "      <td>2021-03-07 14:02:00</td>\n",
       "      <td>부산은오거돈선거이고 오거돈치부선거아닌가 오거돈에 성추해으로 생긴선거가 가독도신공항은...</td>\n",
       "      <td>조선일보</td>\n",
       "      <td>2.0</td>\n",
       "      <td>1.0</td>\n",
       "      <td>0.0</td>\n",
       "      <td>NaN</td>\n",
       "      <td>NaN</td>\n",
       "      <td>[재보궐 D-31] 부산 김영춘 vs 박형준, 서울도 양자 대결? 부산은오거돈선거이...</td>\n",
       "    </tr>\n",
       "    <tr>\n",
       "      <th>...</th>\n",
       "      <td>...</td>\n",
       "      <td>...</td>\n",
       "      <td>...</td>\n",
       "      <td>...</td>\n",
       "      <td>...</td>\n",
       "      <td>...</td>\n",
       "      <td>...</td>\n",
       "      <td>...</td>\n",
       "      <td>...</td>\n",
       "      <td>...</td>\n",
       "      <td>...</td>\n",
       "    </tr>\n",
       "    <tr>\n",
       "      <th>144134</th>\n",
       "      <td>[논설위원의 단도직입]“한·일해저터널 경제성 없지만…동북아 경제권 차원서 장기 검토해야”</td>\n",
       "      <td>2021-04-06 21:56:00</td>\n",
       "      <td>2021-04-06 22:47:00</td>\n",
       "      <td>국민의힘 찍지 말라고 이 뉴스가 나온거임\\r\\n내냔에 국민의힘 찍을라 했드만 망했다...</td>\n",
       "      <td>경향신문</td>\n",
       "      <td>NaN</td>\n",
       "      <td>NaN</td>\n",
       "      <td>NaN</td>\n",
       "      <td>NaN</td>\n",
       "      <td>NaN</td>\n",
       "      <td>[논설위원의 단도직입]“한·일해저터널 경제성 없지만…동북아 경제권 차원서 장기 검토...</td>\n",
       "    </tr>\n",
       "    <tr>\n",
       "      <th>144135</th>\n",
       "      <td>[논설위원의 단도직입]“한·일해저터널 경제성 없지만…동북아 경제권 차원서 장기 검토해야”</td>\n",
       "      <td>2021-04-06 21:56:00</td>\n",
       "      <td>2021-04-06 22:41:00</td>\n",
       "      <td>굳이 일본과 해저터널 해야되는 이유가 없은이유\\r\\n-일본은고속도로비가 비싸다\\r\\...</td>\n",
       "      <td>경향신문</td>\n",
       "      <td>NaN</td>\n",
       "      <td>NaN</td>\n",
       "      <td>NaN</td>\n",
       "      <td>NaN</td>\n",
       "      <td>NaN</td>\n",
       "      <td>[논설위원의 단도직입]“한·일해저터널 경제성 없지만…동북아 경제권 차원서 장기 검토...</td>\n",
       "    </tr>\n",
       "    <tr>\n",
       "      <th>144136</th>\n",
       "      <td>[논설위원의 단도직입]“한·일해저터널 경제성 없지만…동북아 경제권 차원서 장기 검토해야”</td>\n",
       "      <td>2021-04-06 21:56:00</td>\n",
       "      <td>2021-04-06 22:38:00</td>\n",
       "      <td>도랏구나. 열도는 걍 갈라파고스로 남겨 둬라. 재난 난민 넘어 오면 귀찮다.</td>\n",
       "      <td>경향신문</td>\n",
       "      <td>NaN</td>\n",
       "      <td>NaN</td>\n",
       "      <td>NaN</td>\n",
       "      <td>NaN</td>\n",
       "      <td>NaN</td>\n",
       "      <td>[논설위원의 단도직입]“한·일해저터널 경제성 없지만…동북아 경제권 차원서 장기 검토...</td>\n",
       "    </tr>\n",
       "    <tr>\n",
       "      <th>144137</th>\n",
       "      <td>[논설위원의 단도직입]“한·일해저터널 경제성 없지만…동북아 경제권 차원서 장기 검토해야”</td>\n",
       "      <td>2021-04-06 21:56:00</td>\n",
       "      <td>2021-04-06 22:32:00</td>\n",
       "      <td>이걸 왜 하지? 우리한테 아무런 의미가 없는데</td>\n",
       "      <td>경향신문</td>\n",
       "      <td>NaN</td>\n",
       "      <td>NaN</td>\n",
       "      <td>NaN</td>\n",
       "      <td>NaN</td>\n",
       "      <td>NaN</td>\n",
       "      <td>[논설위원의 단도직입]“한·일해저터널 경제성 없지만…동북아 경제권 차원서 장기 검토...</td>\n",
       "    </tr>\n",
       "    <tr>\n",
       "      <th>144138</th>\n",
       "      <td>[논설위원의 단도직입]“한·일해저터널 경제성 없지만…동북아 경제권 차원서 장기 검토해야”</td>\n",
       "      <td>2021-04-06 21:56:00</td>\n",
       "      <td>2021-04-06 22:26:00</td>\n",
       "      <td>우리에겐 아무런 도움이 되지 않는 것을 일본에게는 엄청난 기회가 되는 것을 왜 굳이...</td>\n",
       "      <td>경향신문</td>\n",
       "      <td>NaN</td>\n",
       "      <td>NaN</td>\n",
       "      <td>NaN</td>\n",
       "      <td>NaN</td>\n",
       "      <td>NaN</td>\n",
       "      <td>[논설위원의 단도직입]“한·일해저터널 경제성 없지만…동북아 경제권 차원서 장기 검토...</td>\n",
       "    </tr>\n",
       "  </tbody>\n",
       "</table>\n",
       "<p>144139 rows × 11 columns</p>\n",
       "</div>"
      ],
      "text/plain": [
       "                                                       제목  \\\n",
       "0                    [재보궐 D-31] 부산 김영춘 vs 박형준, 서울도 양자 대결?   \n",
       "1                    [재보궐 D-31] 부산 김영춘 vs 박형준, 서울도 양자 대결?   \n",
       "2                    [재보궐 D-31] 부산 김영춘 vs 박형준, 서울도 양자 대결?   \n",
       "3                    [재보궐 D-31] 부산 김영춘 vs 박형준, 서울도 양자 대결?   \n",
       "4                    [재보궐 D-31] 부산 김영춘 vs 박형준, 서울도 양자 대결?   \n",
       "...                                                   ...   \n",
       "144134  [논설위원의 단도직입]“한·일해저터널 경제성 없지만…동북아 경제권 차원서 장기 검토해야”   \n",
       "144135  [논설위원의 단도직입]“한·일해저터널 경제성 없지만…동북아 경제권 차원서 장기 검토해야”   \n",
       "144136  [논설위원의 단도직입]“한·일해저터널 경제성 없지만…동북아 경제권 차원서 장기 검토해야”   \n",
       "144137  [논설위원의 단도직입]“한·일해저터널 경제성 없지만…동북아 경제권 차원서 장기 검토해야”   \n",
       "144138  [논설위원의 단도직입]“한·일해저터널 경제성 없지만…동북아 경제권 차원서 장기 검토해야”   \n",
       "\n",
       "                         날짜                  작성일  \\\n",
       "0       2021-03-07 05:57:00  2021-03-12 19:13:00   \n",
       "1       2021-03-07 05:57:00  2021-03-09 13:49:00   \n",
       "2       2021-03-07 05:57:00  2021-03-07 14:42:00   \n",
       "3       2021-03-07 05:57:00  2021-03-07 14:38:00   \n",
       "4       2021-03-07 05:57:00  2021-03-07 14:02:00   \n",
       "...                     ...                  ...   \n",
       "144134  2021-04-06 21:56:00  2021-04-06 22:47:00   \n",
       "144135  2021-04-06 21:56:00  2021-04-06 22:41:00   \n",
       "144136  2021-04-06 21:56:00  2021-04-06 22:38:00   \n",
       "144137  2021-04-06 21:56:00  2021-04-06 22:32:00   \n",
       "144138  2021-04-06 21:56:00  2021-04-06 22:26:00   \n",
       "\n",
       "                                                       댓글    출처  \\\n",
       "0                         철수야! 뜸 들이지 말고 애국하는 마음으로 물러서라~~~  조선일보   \n",
       "1       박영선은 정동영이 얻은 36프로선에 머무를것. 4.7.이후 OOO정권은 몰락의 길 ...  조선일보   \n",
       "2                           빵선이가서울시장되면서울은공산국가수도제2의평양이될것이다  조선일보   \n",
       "3       서울시장후보더듬당박빵선이는절대로서울시장을할수없다이유는가족은미국.영국에 영주권자이므로...  조선일보   \n",
       "4       부산은오거돈선거이고 오거돈치부선거아닌가 오거돈에 성추해으로 생긴선거가 가독도신공항은...  조선일보   \n",
       "...                                                   ...   ...   \n",
       "144134  국민의힘 찍지 말라고 이 뉴스가 나온거임\\r\\n내냔에 국민의힘 찍을라 했드만 망했다...  경향신문   \n",
       "144135  굳이 일본과 해저터널 해야되는 이유가 없은이유\\r\\n-일본은고속도로비가 비싸다\\r\\...  경향신문   \n",
       "144136         도랏구나. 열도는 걍 갈라파고스로 남겨 둬라. 재난 난민 넘어 오면 귀찮다.  경향신문   \n",
       "144137                          이걸 왜 하지? 우리한테 아무런 의미가 없는데  경향신문   \n",
       "144138  우리에겐 아무런 도움이 되지 않는 것을 일본에게는 엄청난 기회가 되는 것을 왜 굳이...  경향신문   \n",
       "\n",
       "        지역(서울:1, 부산:2)  정당(1:더불어민주당,2:국민의힘)  정당평가(부정;0, 긍정:1)  후보(기호 순)  \\\n",
       "0                  NaN                  NaN               NaN       NaN   \n",
       "1                  1.0                  NaN               NaN       1.0   \n",
       "2                  1.0                  NaN               NaN       1.0   \n",
       "3                  1.0                  1.0               0.0       1.0   \n",
       "4                  2.0                  1.0               0.0       NaN   \n",
       "...                ...                  ...               ...       ...   \n",
       "144134             NaN                  NaN               NaN       NaN   \n",
       "144135             NaN                  NaN               NaN       NaN   \n",
       "144136             NaN                  NaN               NaN       NaN   \n",
       "144137             NaN                  NaN               NaN       NaN   \n",
       "144138             NaN                  NaN               NaN       NaN   \n",
       "\n",
       "        후보평가(부정;0, 긍정:1)                                               제목댓글  \n",
       "0                    NaN  [재보궐 D-31] 부산 김영춘 vs 박형준, 서울도 양자 대결? 철수야! 뜸 들이...  \n",
       "1                    0.0  [재보궐 D-31] 부산 김영춘 vs 박형준, 서울도 양자 대결? 박영선은 정동영이...  \n",
       "2                    0.0  [재보궐 D-31] 부산 김영춘 vs 박형준, 서울도 양자 대결? 빵선이가서울시장되...  \n",
       "3                    0.0  [재보궐 D-31] 부산 김영춘 vs 박형준, 서울도 양자 대결? 서울시장후보더듬당...  \n",
       "4                    NaN  [재보궐 D-31] 부산 김영춘 vs 박형준, 서울도 양자 대결? 부산은오거돈선거이...  \n",
       "...                  ...                                                ...  \n",
       "144134               NaN  [논설위원의 단도직입]“한·일해저터널 경제성 없지만…동북아 경제권 차원서 장기 검토...  \n",
       "144135               NaN  [논설위원의 단도직입]“한·일해저터널 경제성 없지만…동북아 경제권 차원서 장기 검토...  \n",
       "144136               NaN  [논설위원의 단도직입]“한·일해저터널 경제성 없지만…동북아 경제권 차원서 장기 검토...  \n",
       "144137               NaN  [논설위원의 단도직입]“한·일해저터널 경제성 없지만…동북아 경제권 차원서 장기 검토...  \n",
       "144138               NaN  [논설위원의 단도직입]“한·일해저터널 경제성 없지만…동북아 경제권 차원서 장기 검토...  \n",
       "\n",
       "[144139 rows x 11 columns]"
      ]
     },
     "execution_count": 14,
     "metadata": {},
     "output_type": "execute_result"
    }
   ],
   "source": [
    "df = pd.read_csv('./data/재보궐선거댓글데이터_최종_유튜브수정_0429.csv')\n",
    "df"
   ]
  },
  {
   "cell_type": "code",
   "execution_count": 15,
   "metadata": {
    "ExecuteTime": {
     "end_time": "2021-05-22T15:33:34.053858Z",
     "start_time": "2021-05-22T15:33:34.036903Z"
    },
    "hidden": true
   },
   "outputs": [
    {
     "data": {
      "text/html": [
       "<div>\n",
       "<style scoped>\n",
       "    .dataframe tbody tr th:only-of-type {\n",
       "        vertical-align: middle;\n",
       "    }\n",
       "\n",
       "    .dataframe tbody tr th {\n",
       "        vertical-align: top;\n",
       "    }\n",
       "\n",
       "    .dataframe thead th {\n",
       "        text-align: right;\n",
       "    }\n",
       "</style>\n",
       "<table border=\"1\" class=\"dataframe\">\n",
       "  <thead>\n",
       "    <tr style=\"text-align: right;\">\n",
       "      <th></th>\n",
       "      <th>작성일</th>\n",
       "      <th>출처</th>\n",
       "      <th>지역(서울:1, 부산:2)</th>\n",
       "      <th>정당(1:더불어민주당,2:국민의힘)</th>\n",
       "      <th>정당평가(부정;0, 긍정:1)</th>\n",
       "      <th>후보(기호 순)</th>\n",
       "      <th>후보평가(부정;0, 긍정:1)</th>\n",
       "      <th>제목댓글</th>\n",
       "    </tr>\n",
       "  </thead>\n",
       "  <tbody>\n",
       "    <tr>\n",
       "      <th>0</th>\n",
       "      <td>2021-03-12 19:13:00</td>\n",
       "      <td>조선일보</td>\n",
       "      <td>NaN</td>\n",
       "      <td>NaN</td>\n",
       "      <td>NaN</td>\n",
       "      <td>NaN</td>\n",
       "      <td>NaN</td>\n",
       "      <td>[재보궐 D-31] 부산 김영춘 vs 박형준, 서울도 양자 대결? 철수야! 뜸 들이...</td>\n",
       "    </tr>\n",
       "    <tr>\n",
       "      <th>1</th>\n",
       "      <td>2021-03-09 13:49:00</td>\n",
       "      <td>조선일보</td>\n",
       "      <td>1.0</td>\n",
       "      <td>NaN</td>\n",
       "      <td>NaN</td>\n",
       "      <td>1.0</td>\n",
       "      <td>0.0</td>\n",
       "      <td>[재보궐 D-31] 부산 김영춘 vs 박형준, 서울도 양자 대결? 박영선은 정동영이...</td>\n",
       "    </tr>\n",
       "  </tbody>\n",
       "</table>\n",
       "</div>"
      ],
      "text/plain": [
       "                   작성일    출처  지역(서울:1, 부산:2)  정당(1:더불어민주당,2:국민의힘)  \\\n",
       "0  2021-03-12 19:13:00  조선일보             NaN                  NaN   \n",
       "1  2021-03-09 13:49:00  조선일보             1.0                  NaN   \n",
       "\n",
       "   정당평가(부정;0, 긍정:1)  후보(기호 순)  후보평가(부정;0, 긍정:1)  \\\n",
       "0               NaN       NaN               NaN   \n",
       "1               NaN       1.0               0.0   \n",
       "\n",
       "                                                제목댓글  \n",
       "0  [재보궐 D-31] 부산 김영춘 vs 박형준, 서울도 양자 대결? 철수야! 뜸 들이...  \n",
       "1  [재보궐 D-31] 부산 김영춘 vs 박형준, 서울도 양자 대결? 박영선은 정동영이...  "
      ]
     },
     "execution_count": 15,
     "metadata": {},
     "output_type": "execute_result"
    }
   ],
   "source": [
    "# 제목과 댓글은 '제목 댓글 컬럼' 존재로 삭제\n",
    "# 기사가 작성된 날짜는 삭제\n",
    "df = df.drop( columns=['제목','날짜','댓글'])\n",
    "df.head(2)"
   ]
  },
  {
   "cell_type": "code",
   "execution_count": 16,
   "metadata": {
    "ExecuteTime": {
     "end_time": "2021-05-22T15:33:34.076798Z",
     "start_time": "2021-05-22T15:33:34.054855Z"
    },
    "hidden": true
   },
   "outputs": [
    {
     "data": {
      "text/html": [
       "<div>\n",
       "<style scoped>\n",
       "    .dataframe tbody tr th:only-of-type {\n",
       "        vertical-align: middle;\n",
       "    }\n",
       "\n",
       "    .dataframe tbody tr th {\n",
       "        vertical-align: top;\n",
       "    }\n",
       "\n",
       "    .dataframe thead th {\n",
       "        text-align: right;\n",
       "    }\n",
       "</style>\n",
       "<table border=\"1\" class=\"dataframe\">\n",
       "  <thead>\n",
       "    <tr style=\"text-align: right;\">\n",
       "      <th></th>\n",
       "      <th>date</th>\n",
       "      <th>press</th>\n",
       "      <th>area</th>\n",
       "      <th>party</th>\n",
       "      <th>party_eval</th>\n",
       "      <th>candidate</th>\n",
       "      <th>candidate_eval</th>\n",
       "      <th>title_comment</th>\n",
       "    </tr>\n",
       "  </thead>\n",
       "  <tbody>\n",
       "    <tr>\n",
       "      <th>0</th>\n",
       "      <td>2021-03-12 19:13:00</td>\n",
       "      <td>조선일보</td>\n",
       "      <td>NaN</td>\n",
       "      <td>NaN</td>\n",
       "      <td>NaN</td>\n",
       "      <td>NaN</td>\n",
       "      <td>NaN</td>\n",
       "      <td>[재보궐 D-31] 부산 김영춘 vs 박형준, 서울도 양자 대결? 철수야! 뜸 들이...</td>\n",
       "    </tr>\n",
       "    <tr>\n",
       "      <th>1</th>\n",
       "      <td>2021-03-09 13:49:00</td>\n",
       "      <td>조선일보</td>\n",
       "      <td>1.0</td>\n",
       "      <td>NaN</td>\n",
       "      <td>NaN</td>\n",
       "      <td>1.0</td>\n",
       "      <td>0.0</td>\n",
       "      <td>[재보궐 D-31] 부산 김영춘 vs 박형준, 서울도 양자 대결? 박영선은 정동영이...</td>\n",
       "    </tr>\n",
       "    <tr>\n",
       "      <th>2</th>\n",
       "      <td>2021-03-07 14:42:00</td>\n",
       "      <td>조선일보</td>\n",
       "      <td>1.0</td>\n",
       "      <td>NaN</td>\n",
       "      <td>NaN</td>\n",
       "      <td>1.0</td>\n",
       "      <td>0.0</td>\n",
       "      <td>[재보궐 D-31] 부산 김영춘 vs 박형준, 서울도 양자 대결? 빵선이가서울시장되...</td>\n",
       "    </tr>\n",
       "    <tr>\n",
       "      <th>3</th>\n",
       "      <td>2021-03-07 14:38:00</td>\n",
       "      <td>조선일보</td>\n",
       "      <td>1.0</td>\n",
       "      <td>1.0</td>\n",
       "      <td>0.0</td>\n",
       "      <td>1.0</td>\n",
       "      <td>0.0</td>\n",
       "      <td>[재보궐 D-31] 부산 김영춘 vs 박형준, 서울도 양자 대결? 서울시장후보더듬당...</td>\n",
       "    </tr>\n",
       "    <tr>\n",
       "      <th>4</th>\n",
       "      <td>2021-03-07 14:02:00</td>\n",
       "      <td>조선일보</td>\n",
       "      <td>2.0</td>\n",
       "      <td>1.0</td>\n",
       "      <td>0.0</td>\n",
       "      <td>NaN</td>\n",
       "      <td>NaN</td>\n",
       "      <td>[재보궐 D-31] 부산 김영춘 vs 박형준, 서울도 양자 대결? 부산은오거돈선거이...</td>\n",
       "    </tr>\n",
       "  </tbody>\n",
       "</table>\n",
       "</div>"
      ],
      "text/plain": [
       "                  date press  area  party  party_eval  candidate  \\\n",
       "0  2021-03-12 19:13:00  조선일보   NaN    NaN         NaN        NaN   \n",
       "1  2021-03-09 13:49:00  조선일보   1.0    NaN         NaN        1.0   \n",
       "2  2021-03-07 14:42:00  조선일보   1.0    NaN         NaN        1.0   \n",
       "3  2021-03-07 14:38:00  조선일보   1.0    1.0         0.0        1.0   \n",
       "4  2021-03-07 14:02:00  조선일보   2.0    1.0         0.0        NaN   \n",
       "\n",
       "   candidate_eval                                      title_comment  \n",
       "0             NaN  [재보궐 D-31] 부산 김영춘 vs 박형준, 서울도 양자 대결? 철수야! 뜸 들이...  \n",
       "1             0.0  [재보궐 D-31] 부산 김영춘 vs 박형준, 서울도 양자 대결? 박영선은 정동영이...  \n",
       "2             0.0  [재보궐 D-31] 부산 김영춘 vs 박형준, 서울도 양자 대결? 빵선이가서울시장되...  \n",
       "3             0.0  [재보궐 D-31] 부산 김영춘 vs 박형준, 서울도 양자 대결? 서울시장후보더듬당...  \n",
       "4             NaN  [재보궐 D-31] 부산 김영춘 vs 박형준, 서울도 양자 대결? 부산은오거돈선거이...  "
      ]
     },
     "execution_count": 16,
     "metadata": {},
     "output_type": "execute_result"
    }
   ],
   "source": [
    "# 컬럼 이름 영어로 변경\n",
    "cols = ['date','press','area', 'party','party_eval', \n",
    "        'candidate','candidate_eval','title_comment']\n",
    "df.columns = cols\n",
    "df.head()"
   ]
  },
  {
   "cell_type": "code",
   "execution_count": 17,
   "metadata": {
    "ExecuteTime": {
     "end_time": "2021-05-22T15:33:34.193485Z",
     "start_time": "2021-05-22T15:33:34.077796Z"
    },
    "hidden": true
   },
   "outputs": [
    {
     "name": "stdout",
     "output_type": "stream",
     "text": [
      "1780 2330 263\n",
      "4373\n"
     ]
    }
   ],
   "source": [
    "# 둘 중 하나라도 값이 있으면 인덱스 추출\n",
    "\n",
    "# 값을 담을 리스트\n",
    "A = []\n",
    "B =[]\n",
    "A_B = []\n",
    "\n",
    "for p, c in zip( df['party_eval'].items(), df['candidate_eval'].items()):\n",
    "    # 정당평가 有, 후보평가 無\n",
    "    if (p[1] in [1.0,0.0]) & (c[1] not in [1.0,0.0]):\n",
    "#         print(p[0], p[1])\n",
    "        A.append(p[0])\n",
    "    \n",
    "    # 정당평가 無, 후보평가 有\n",
    "    elif (p[1] not in [1.0,0.0]) & ( c[1] in [1.0,0.0]):\n",
    "#         print(p[1], c[1])\n",
    "#         print(p[0], c[0])\n",
    "        B.append(c[0])\n",
    "    \n",
    "    # 정당평가 有, 후보평가 有\n",
    "    elif (p[1] in [1.0,0.0]) & (c[1] in [1.0,0.0]):\n",
    "#         print(p[1], c[1])\n",
    "        A_B.append(p[0])\n",
    "        \n",
    "print(len(A), len(B), len(A_B))\n",
    "print( len(A)+len(B)+len(A_B)) # 가용한 총 데이터수"
   ]
  },
  {
   "cell_type": "code",
   "execution_count": 18,
   "metadata": {
    "ExecuteTime": {
     "end_time": "2021-05-22T15:33:34.199471Z",
     "start_time": "2021-05-22T15:33:34.194484Z"
    },
    "hidden": true
   },
   "outputs": [
    {
     "data": {
      "text/plain": [
       "4373"
      ]
     },
     "execution_count": 18,
     "metadata": {},
     "output_type": "execute_result"
    }
   ],
   "source": [
    "# 리스트를 하나로 묶기\n",
    "index = A+ B + A_B\n",
    "len(index)"
   ]
  },
  {
   "cell_type": "code",
   "execution_count": 19,
   "metadata": {
    "ExecuteTime": {
     "end_time": "2021-05-22T15:33:34.210440Z",
     "start_time": "2021-05-22T15:33:34.200467Z"
    },
    "hidden": true
   },
   "outputs": [
    {
     "name": "stdout",
     "output_type": "stream",
     "text": [
      "(4373, 8)\n"
     ]
    }
   ],
   "source": [
    "# 둘 중 하나라도 있는 값만을 데이터 프레임으로 형성, 혹시 모를 NaN값 삭제\n",
    "index2 = df.iloc[index][['party_eval','candidate_eval']].dropna(how='all').index\n",
    "df2 = df.iloc[index2]\n",
    "print(df2.shape)\n",
    "\n",
    "# 인덱스 재배열\n",
    "df2.reset_index(inplace=True) "
   ]
  },
  {
   "cell_type": "code",
   "execution_count": 20,
   "metadata": {
    "ExecuteTime": {
     "end_time": "2021-05-22T15:33:34.215426Z",
     "start_time": "2021-05-22T15:33:34.211437Z"
    },
    "hidden": true
   },
   "outputs": [],
   "source": [
    "# X-y값으로 나누기\n",
    "X = df2['title_comment']\n",
    "\n",
    "# 후보자 평가 nan값을 정당 평가로 채우기\n",
    "y = df2['candidate_eval'].fillna( df2['party_eval'] )"
   ]
  },
  {
   "cell_type": "code",
   "execution_count": 21,
   "metadata": {
    "ExecuteTime": {
     "end_time": "2021-05-22T15:33:34.223406Z",
     "start_time": "2021-05-22T15:33:34.216424Z"
    },
    "hidden": true
   },
   "outputs": [
    {
     "data": {
      "text/plain": [
       "(4373, 2)"
      ]
     },
     "execution_count": 21,
     "metadata": {},
     "output_type": "execute_result"
    }
   ],
   "source": [
    "# 위에서 분류했던 X,y 합치기\n",
    "df3 = pd.concat([X,y], axis=1)\n",
    "\n",
    "# 컬럼 이름 변경\n",
    "df3 = df3.rename( columns={'candidate_eval': 'y'} )\n",
    "\n",
    "df3.shape"
   ]
  },
  {
   "cell_type": "code",
   "execution_count": 22,
   "metadata": {
    "ExecuteTime": {
     "end_time": "2021-05-22T15:33:34.240359Z",
     "start_time": "2021-05-22T15:33:34.227394Z"
    },
    "hidden": true
   },
   "outputs": [],
   "source": [
    "# 정규식\n",
    "def text_cleaning(text) :\n",
    "    hangul = re.compile('[^ ㄱ-ㅣ가-힣]+')\n",
    "    result = hangul.sub('', text)\n",
    "    return result"
   ]
  },
  {
   "cell_type": "code",
   "execution_count": 23,
   "metadata": {
    "ExecuteTime": {
     "end_time": "2021-05-22T15:33:34.267288Z",
     "start_time": "2021-05-22T15:33:34.242355Z"
    },
    "hidden": true
   },
   "outputs": [],
   "source": [
    "# 한글 외 문자는 제거\n",
    "df3['title_comment'] = df3['title_comment'].apply( lambda x: text_cleaning(x) )"
   ]
  },
  {
   "cell_type": "code",
   "execution_count": 24,
   "metadata": {
    "ExecuteTime": {
     "end_time": "2021-05-22T15:33:34.300200Z",
     "start_time": "2021-05-22T15:33:34.268286Z"
    },
    "hidden": true,
    "scrolled": true
   },
   "outputs": [
    {
     "name": "stderr",
     "output_type": "stream",
     "text": [
      "C:\\Users\\master4\\anaconda3\\lib\\site-packages\\ipykernel_launcher.py:5: FutureWarning: The default value of regex will change from True to False in a future version.\n",
      "  \"\"\"\n",
      "C:\\Users\\master4\\anaconda3\\lib\\site-packages\\ipykernel_launcher.py:6: FutureWarning: The default value of regex will change from True to False in a future version.\n",
      "  \n"
     ]
    },
    {
     "data": {
      "text/html": [
       "<div>\n",
       "<style scoped>\n",
       "    .dataframe tbody tr th:only-of-type {\n",
       "        vertical-align: middle;\n",
       "    }\n",
       "\n",
       "    .dataframe tbody tr th {\n",
       "        vertical-align: top;\n",
       "    }\n",
       "\n",
       "    .dataframe thead th {\n",
       "        text-align: right;\n",
       "    }\n",
       "</style>\n",
       "<table border=\"1\" class=\"dataframe\">\n",
       "  <thead>\n",
       "    <tr style=\"text-align: right;\">\n",
       "      <th></th>\n",
       "      <th>title_comment</th>\n",
       "      <th>y</th>\n",
       "    </tr>\n",
       "  </thead>\n",
       "  <tbody>\n",
       "    <tr>\n",
       "      <th>0</th>\n",
       "      <td>재보궐  부산 후보  후보 서울도 양자 대결 부산은오거돈선거이고 오거돈치부선거아닌가...</td>\n",
       "      <td>0.0</td>\n",
       "    </tr>\n",
       "    <tr>\n",
       "      <th>1</th>\n",
       "      <td>재보궐  부산 후보  후보 서울도 양자 대결 일단 일자리와 경제를 말아드신 여당 빼...</td>\n",
       "      <td>0.0</td>\n",
       "    </tr>\n",
       "    <tr>\n",
       "      <th>2</th>\n",
       "      <td>재보궐  부산 후보  후보 서울도 양자 대결 수십조 세금을 평가순위 위인 가덕도에 ...</td>\n",
       "      <td>0.0</td>\n",
       "    </tr>\n",
       "    <tr>\n",
       "      <th>3</th>\n",
       "      <td>재보궐  부산 후보  후보 서울도 양자 대결 박원순의 성폭력 자살을 공수처에 수사의...</td>\n",
       "      <td>0.0</td>\n",
       "    </tr>\n",
       "    <tr>\n",
       "      <th>4</th>\n",
       "      <td>재보궐  부산 후보  후보 서울도 양자 대결 이번 보궐선거는 임기가 년남짓이다 내년...</td>\n",
       "      <td>1.0</td>\n",
       "    </tr>\n",
       "    <tr>\n",
       "      <th>...</th>\n",
       "      <td>...</td>\n",
       "      <td>...</td>\n",
       "    </tr>\n",
       "    <tr>\n",
       "      <th>4368</th>\n",
       "      <td>나경원 대세론 꺾은 후보임기 못마친 죄 갚겠다 울먹 쟤 쥐새끼 똘마니야벌써 잊는거냐...</td>\n",
       "      <td>0.0</td>\n",
       "    </tr>\n",
       "    <tr>\n",
       "      <th>4369</th>\n",
       "      <td>나경원 대세론 꺾은 후보임기 못마친 죄 갚겠다 울먹 이런자가 시장 후보라니 국민의짐...</td>\n",
       "      <td>0.0</td>\n",
       "    </tr>\n",
       "    <tr>\n",
       "      <th>4370</th>\n",
       "      <td>나경원 대세론 꺾은 후보임기 못마친 죄 갚겠다 울먹 그럼 저 치가 아이들 점심을 어...</td>\n",
       "      <td>0.0</td>\n",
       "    </tr>\n",
       "    <tr>\n",
       "      <th>4371</th>\n",
       "      <td>나경원 대세론 꺾은 후보임기 못마친 죄 갚겠다 울먹 정권심판이라이명박 박근혜정권때는...</td>\n",
       "      <td>0.0</td>\n",
       "    </tr>\n",
       "    <tr>\n",
       "      <th>4372</th>\n",
       "      <td>민주 후보 년 전 식목 행사에 만원짜리 의전용 계단 정말나쁜정당이다후보도능력없다박원...</td>\n",
       "      <td>0.0</td>\n",
       "    </tr>\n",
       "  </tbody>\n",
       "</table>\n",
       "<p>4373 rows × 2 columns</p>\n",
       "</div>"
      ],
      "text/plain": [
       "                                          title_comment    y\n",
       "0     재보궐  부산 후보  후보 서울도 양자 대결 부산은오거돈선거이고 오거돈치부선거아닌가...  0.0\n",
       "1     재보궐  부산 후보  후보 서울도 양자 대결 일단 일자리와 경제를 말아드신 여당 빼...  0.0\n",
       "2     재보궐  부산 후보  후보 서울도 양자 대결 수십조 세금을 평가순위 위인 가덕도에 ...  0.0\n",
       "3     재보궐  부산 후보  후보 서울도 양자 대결 박원순의 성폭력 자살을 공수처에 수사의...  0.0\n",
       "4     재보궐  부산 후보  후보 서울도 양자 대결 이번 보궐선거는 임기가 년남짓이다 내년...  1.0\n",
       "...                                                 ...  ...\n",
       "4368  나경원 대세론 꺾은 후보임기 못마친 죄 갚겠다 울먹 쟤 쥐새끼 똘마니야벌써 잊는거냐...  0.0\n",
       "4369  나경원 대세론 꺾은 후보임기 못마친 죄 갚겠다 울먹 이런자가 시장 후보라니 국민의짐...  0.0\n",
       "4370  나경원 대세론 꺾은 후보임기 못마친 죄 갚겠다 울먹 그럼 저 치가 아이들 점심을 어...  0.0\n",
       "4371  나경원 대세론 꺾은 후보임기 못마친 죄 갚겠다 울먹 정권심판이라이명박 박근혜정권때는...  0.0\n",
       "4372  민주 후보 년 전 식목 행사에 만원짜리 의전용 계단 정말나쁜정당이다후보도능력없다박원...  0.0\n",
       "\n",
       "[4373 rows x 2 columns]"
      ]
     },
     "execution_count": 24,
     "metadata": {},
     "output_type": "execute_result"
    }
   ],
   "source": [
    "# copy\n",
    "df4 = df3.copy()\n",
    "\n",
    "# 후보이름, 당명을 대체\n",
    "df4['title_comment'] = df4['title_comment'].str.replace('박영선|오세훈|김영춘|박형준|영선|세훈|형준|영춘|5세훈', '후보')\n",
    "df4['title_comment'] = df4['title_comment'].str.replace('더불어민주당|국민의힘|더불어 민주당|국민의 힘|국힘|더불어|민주당', '정당')\n",
    "df4"
   ]
  },
  {
   "cell_type": "code",
   "execution_count": 25,
   "metadata": {
    "ExecuteTime": {
     "end_time": "2021-05-22T15:33:34.305187Z",
     "start_time": "2021-05-22T15:33:34.301197Z"
    },
    "hidden": true
   },
   "outputs": [],
   "source": [
    "def get_pos(x) :\n",
    "    tagger = Okt() # Okt로 형태소 분리하기\n",
    "    pos = tagger.pos(x) \n",
    "    results = [] # 형태소를 담을 리스트\n",
    "    for i in pos:\n",
    "        if i[1] != 'Josa': # 조사는 빼버리기\n",
    "            results.append(f'{i[0]}/{i[1]}') #'단어/품사'의 형태로 리스트에 추가\n",
    "        else:\n",
    "            pass\n",
    "    return results"
   ]
  },
  {
   "cell_type": "code",
   "execution_count": 26,
   "metadata": {
    "ExecuteTime": {
     "end_time": "2021-05-22T15:34:00.758151Z",
     "start_time": "2021-05-22T15:33:34.306185Z"
    },
    "hidden": true
   },
   "outputs": [],
   "source": [
    "# 단어당 몇개씩 들어 있는지에 대한 벡터를 생성\n",
    "from sklearn.feature_extraction.text import CountVectorizer\n",
    "\n",
    "index_vectorizer2 = CountVectorizer(tokenizer= lambda x : get_pos(x))\n",
    "X = index_vectorizer2.fit_transform(df4['title_comment'].tolist())"
   ]
  },
  {
   "cell_type": "markdown",
   "metadata": {
    "heading_collapsed": true
   },
   "source": [
    "## 기존 모델과 Tf-Idf Vecotrizer 불러오기"
   ]
  },
  {
   "cell_type": "code",
   "execution_count": 27,
   "metadata": {
    "ExecuteTime": {
     "end_time": "2021-05-22T15:34:00.808947Z",
     "start_time": "2021-05-22T15:34:00.759145Z"
    },
    "code_folding": [],
    "hidden": true
   },
   "outputs": [
    {
     "name": "stdout",
     "output_type": "stream",
     "text": [
      "출력 완료\n"
     ]
    },
    {
     "name": "stderr",
     "output_type": "stream",
     "text": [
      "C:\\Users\\master4\\anaconda3\\lib\\site-packages\\sklearn\\base.py:318: UserWarning: Trying to unpickle estimator LogisticRegression from version 0.24.1 when using version 0.22.1. This might lead to breaking code or invalid results. Use at your own risk.\n",
      "  UserWarning)\n"
     ]
    }
   ],
   "source": [
    "# 감성분석 모델 불러오기\n",
    "with open('model/pos_neg_logi_model2_0409.dat', 'rb') as fp:\n",
    "    new_model = pickle.load(fp)\n",
    "print('출력 완료')"
   ]
  },
  {
   "cell_type": "code",
   "execution_count": 28,
   "metadata": {
    "ExecuteTime": {
     "end_time": "2021-05-22T15:34:00.814932Z",
     "start_time": "2021-05-22T15:34:00.809944Z"
    },
    "hidden": true
   },
   "outputs": [
    {
     "name": "stdout",
     "output_type": "stream",
     "text": [
      "출력 완료\n"
     ]
    },
    {
     "name": "stderr",
     "output_type": "stream",
     "text": [
      "C:\\Users\\master4\\anaconda3\\lib\\site-packages\\sklearn\\base.py:318: UserWarning: Trying to unpickle estimator TfidfTransformer from version 0.24.1 when using version 0.22.1. This might lead to breaking code or invalid results. Use at your own risk.\n",
      "  UserWarning)\n"
     ]
    }
   ],
   "source": [
    "# Tf-Idf Vectorizer 불러오기\n",
    "with open('model/tfidf_vectorizer2_0409.dat', 'rb') as fp:\n",
    "    new_tfidf_vectorizer = pickle.load(fp)\n",
    "print('출력 완료')"
   ]
  },
  {
   "cell_type": "markdown",
   "metadata": {},
   "source": [
    "## 예측하기\n",
    "-  3월 1일 ~ 5월 14일"
   ]
  },
  {
   "cell_type": "code",
   "execution_count": 29,
   "metadata": {
    "ExecuteTime": {
     "end_time": "2021-05-22T15:34:00.819917Z",
     "start_time": "2021-05-22T15:34:00.816926Z"
    }
   },
   "outputs": [],
   "source": [
    "total_X2 = df1['Comment']"
   ]
  },
  {
   "cell_type": "code",
   "execution_count": 30,
   "metadata": {
    "ExecuteTime": {
     "end_time": "2021-05-22T15:40:24.971904Z",
     "start_time": "2021-05-22T15:34:00.820915Z"
    }
   },
   "outputs": [],
   "source": [
    "# CounterVectorrizer는 다시 fit시키는 것이 아니라 transform만 시키는 것\n",
    "X2 = index_vectorizer2.transform(total_X2.to_list())"
   ]
  },
  {
   "cell_type": "code",
   "execution_count": 31,
   "metadata": {
    "ExecuteTime": {
     "end_time": "2021-05-22T15:40:25.043724Z",
     "start_time": "2021-05-22T15:40:24.973896Z"
    }
   },
   "outputs": [],
   "source": [
    "# tf-idf는 새로 생성하는 것이 아니라 학습시킨 td-idf를 저장하여 사용하는 것\n",
    "X2 = new_tfidf_vectorizer.transform(X2)"
   ]
  },
  {
   "cell_type": "code",
   "execution_count": 32,
   "metadata": {
    "ExecuteTime": {
     "end_time": "2021-05-22T15:40:25.061676Z",
     "start_time": "2021-05-22T15:40:25.048710Z"
    }
   },
   "outputs": [
    {
     "data": {
      "text/plain": [
       "array([0., 0., 0., ..., 0., 1., 1.])"
      ]
     },
     "execution_count": 32,
     "metadata": {},
     "output_type": "execute_result"
    }
   ],
   "source": [
    "# 예측하기\n",
    "y_pred2 = new_model.predict(X2)\n",
    "y_pred2"
   ]
  },
  {
   "cell_type": "code",
   "execution_count": 36,
   "metadata": {
    "ExecuteTime": {
     "end_time": "2021-05-22T15:42:16.600019Z",
     "start_time": "2021-05-22T15:42:16.591043Z"
    }
   },
   "outputs": [
    {
     "name": "stderr",
     "output_type": "stream",
     "text": [
      "C:\\Users\\master4\\anaconda3\\lib\\site-packages\\ipykernel_launcher.py:2: SettingWithCopyWarning: \n",
      "A value is trying to be set on a copy of a slice from a DataFrame.\n",
      "Try using .loc[row_indexer,col_indexer] = value instead\n",
      "\n",
      "See the caveats in the documentation: https://pandas.pydata.org/pandas-docs/stable/user_guide/indexing.html#returning-a-view-versus-a-copy\n",
      "  \n"
     ]
    }
   ],
   "source": [
    "target_df2 = df1[['Comment','Candidate']]\n",
    "target_df2['pred_sentiment'] = y_pred2"
   ]
  },
  {
   "cell_type": "code",
   "execution_count": 37,
   "metadata": {
    "ExecuteTime": {
     "end_time": "2021-05-22T15:42:18.341462Z",
     "start_time": "2021-05-22T15:42:18.332489Z"
    },
    "scrolled": true
   },
   "outputs": [
    {
     "data": {
      "text/html": [
       "<div>\n",
       "<style scoped>\n",
       "    .dataframe tbody tr th:only-of-type {\n",
       "        vertical-align: middle;\n",
       "    }\n",
       "\n",
       "    .dataframe tbody tr th {\n",
       "        vertical-align: top;\n",
       "    }\n",
       "\n",
       "    .dataframe thead th {\n",
       "        text-align: right;\n",
       "    }\n",
       "</style>\n",
       "<table border=\"1\" class=\"dataframe\">\n",
       "  <thead>\n",
       "    <tr style=\"text-align: right;\">\n",
       "      <th></th>\n",
       "      <th>Comment</th>\n",
       "      <th>Candidate</th>\n",
       "      <th>pred_sentiment</th>\n",
       "    </tr>\n",
       "  </thead>\n",
       "  <tbody>\n",
       "    <tr>\n",
       "      <th>0</th>\n",
       "      <td>대선 출마설 어떤 외눈박이의 헛소리 이겠지</td>\n",
       "      <td>김부겸</td>\n",
       "      <td>0.0</td>\n",
       "    </tr>\n",
       "    <tr>\n",
       "      <th>1</th>\n",
       "      <td>악취가 진동하는 엉망진창인 자신의 모습은 안보이나 후보사퇴 하고 있는듯 없는듯이 조...</td>\n",
       "      <td>김부겸</td>\n",
       "      <td>0.0</td>\n",
       "    </tr>\n",
       "    <tr>\n",
       "      <th>2</th>\n",
       "      <td>김부겸 번의 차량 압류    이렇게 법을 위반한 사람이 대한민국 총리가 된다고   ...</td>\n",
       "      <td>김부겸</td>\n",
       "      <td>0.0</td>\n",
       "    </tr>\n",
       "    <tr>\n",
       "      <th>3</th>\n",
       "      <td>부겸이 니는 부결이 정답이다</td>\n",
       "      <td>김부겸</td>\n",
       "      <td>0.0</td>\n",
       "    </tr>\n",
       "    <tr>\n",
       "      <th>4</th>\n",
       "      <td>김부겸의 평소 고상한 품위 있는 언행 하던 사람이 상식이 파괴된 비도덕적이고 비윤리...</td>\n",
       "      <td>김부겸</td>\n",
       "      <td>0.0</td>\n",
       "    </tr>\n",
       "    <tr>\n",
       "      <th>...</th>\n",
       "      <td>...</td>\n",
       "      <td>...</td>\n",
       "      <td>...</td>\n",
       "    </tr>\n",
       "    <tr>\n",
       "      <th>158517</th>\n",
       "      <td>저것들은 공산주의자들인가</td>\n",
       "      <td>황교안</td>\n",
       "      <td>0.0</td>\n",
       "    </tr>\n",
       "    <tr>\n",
       "      <th>158525</th>\n",
       "      <td>온국민은 중범죄집단 문정권에 결사 반대하고국민일꾼 윤석열을 전심으로 성원한다</td>\n",
       "      <td>황교안</td>\n",
       "      <td>0.0</td>\n",
       "    </tr>\n",
       "    <tr>\n",
       "      <th>158527</th>\n",
       "      <td>민주당 사기꾼니들이나잘해</td>\n",
       "      <td>황교안</td>\n",
       "      <td>0.0</td>\n",
       "    </tr>\n",
       "    <tr>\n",
       "      <th>158530</th>\n",
       "      <td>윤석열 힘내시고화이팅입니다</td>\n",
       "      <td>황교안</td>\n",
       "      <td>1.0</td>\n",
       "    </tr>\n",
       "    <tr>\n",
       "      <th>158531</th>\n",
       "      <td>황교안 대표 가 보수다</td>\n",
       "      <td>황교안</td>\n",
       "      <td>1.0</td>\n",
       "    </tr>\n",
       "  </tbody>\n",
       "</table>\n",
       "<p>95663 rows × 3 columns</p>\n",
       "</div>"
      ],
      "text/plain": [
       "                                                  Comment Candidate  \\\n",
       "0                                 대선 출마설 어떤 외눈박이의 헛소리 이겠지       김부겸   \n",
       "1       악취가 진동하는 엉망진창인 자신의 모습은 안보이나 후보사퇴 하고 있는듯 없는듯이 조...       김부겸   \n",
       "2       김부겸 번의 차량 압류    이렇게 법을 위반한 사람이 대한민국 총리가 된다고   ...       김부겸   \n",
       "3                                         부겸이 니는 부결이 정답이다       김부겸   \n",
       "4       김부겸의 평소 고상한 품위 있는 언행 하던 사람이 상식이 파괴된 비도덕적이고 비윤리...       김부겸   \n",
       "...                                                   ...       ...   \n",
       "158517                                      저것들은 공산주의자들인가       황교안   \n",
       "158525         온국민은 중범죄집단 문정권에 결사 반대하고국민일꾼 윤석열을 전심으로 성원한다       황교안   \n",
       "158527                                      민주당 사기꾼니들이나잘해       황교안   \n",
       "158530                                     윤석열 힘내시고화이팅입니다       황교안   \n",
       "158531                                       황교안 대표 가 보수다       황교안   \n",
       "\n",
       "        pred_sentiment  \n",
       "0                  0.0  \n",
       "1                  0.0  \n",
       "2                  0.0  \n",
       "3                  0.0  \n",
       "4                  0.0  \n",
       "...                ...  \n",
       "158517             0.0  \n",
       "158525             0.0  \n",
       "158527             0.0  \n",
       "158530             1.0  \n",
       "158531             1.0  \n",
       "\n",
       "[95663 rows x 3 columns]"
      ]
     },
     "execution_count": 37,
     "metadata": {},
     "output_type": "execute_result"
    }
   ],
   "source": [
    "target_df2"
   ]
  },
  {
   "cell_type": "code",
   "execution_count": 38,
   "metadata": {
    "ExecuteTime": {
     "end_time": "2021-05-22T15:42:22.724392Z",
     "start_time": "2021-05-22T15:42:22.706441Z"
    }
   },
   "outputs": [
    {
     "data": {
      "text/plain": [
       "Candidate\n",
       "윤석열    0.091251\n",
       "이재명    0.073972\n",
       "이낙연    0.048103\n",
       "홍준표    0.134055\n",
       "안철수    0.083936\n",
       "정세균    0.055642\n",
       "유승민    0.078120\n",
       "심상정    0.041184\n",
       "추미애    0.068350\n",
       "황교안    0.055490\n",
       "김부겸    0.063415\n",
       "Name: pred_sentiment, dtype: float64"
      ]
     },
     "execution_count": 38,
     "metadata": {},
     "output_type": "execute_result"
    }
   ],
   "source": [
    "a = target_df2.groupby('Candidate').mean().loc[['윤석열', '이재명', '이낙연', '홍준표', '안철수', '정세균',\n",
    "                                                '유승민', '심상정', '추미애', '황교안', '김부겸']]\n",
    "a['pred_sentiment']"
   ]
  },
  {
   "cell_type": "code",
   "execution_count": 39,
   "metadata": {
    "ExecuteTime": {
     "end_time": "2021-05-22T15:42:23.670203Z",
     "start_time": "2021-05-22T15:42:23.501573Z"
    },
    "scrolled": true
   },
   "outputs": [
    {
     "data": {
      "image/png": "[encoded data removed]",
      "text/plain": [
       "<Figure size 1152x720 with 1 Axes>"
      ]
     },
     "metadata": {},
     "output_type": "display_data"
    }
   ],
   "source": [
    "plt.figure( figsize=(16,10))\n",
    "a['pred_sentiment'].plot(kind='bar',  alpha=0.7)\n",
    "plt.title('[Figure] 후보별 예측 평균 긍정률')\n",
    "plt.show()"
   ]
  },
  {
   "cell_type": "code",
   "execution_count": null,
   "metadata": {},
   "outputs": [],
   "source": []
  },
  {
   "cell_type": "code",
   "execution_count": null,
   "metadata": {},
   "outputs": [],
   "source": []
  }
 ],
 "metadata": {
  "hide_input": false,
  "kernelspec": {
   "display_name": "Python 3",
   "language": "python",
   "name": "python3"
  },
  "language_info": {
   "codemirror_mode": {
    "name": "ipython",
    "version": 3
   },
   "file_extension": ".py",
   "mimetype": "text/x-python",
   "name": "python",
   "nbconvert_exporter": "python",
   "pygments_lexer": "ipython3",
   "version": "3.7.6"
  },
  "toc": {
   "base_numbering": 1,
   "nav_menu": {},
   "number_sections": false,
   "sideBar": true,
   "skip_h1_title": false,
   "title_cell": "Table of Contents",
   "title_sidebar": "Contents",
   "toc_cell": false,
   "toc_position": {
    "height": "calc(100% - 180px)",
    "left": "10px",
    "top": "150px",
    "width": "169.755px"
   },
   "toc_section_display": true,
   "toc_window_display": true
  },
  "varInspector": {
   "cols": {
    "lenName": 16,
    "lenType": 16,
    "lenVar": 40
   },
   "kernels_config": {
    "python": {
     "delete_cmd_postfix": "",
     "delete_cmd_prefix": "del ",
     "library": "var_list.py",
     "varRefreshCmd": "print(var_dic_list())"
    },
    "r": {
     "delete_cmd_postfix": ") ",
     "delete_cmd_prefix": "rm(",
     "library": "var_list.r",
     "varRefreshCmd": "cat(var_dic_list()) "
    }
   },
   "types_to_exclude": [
    "module",
    "function",
    "builtin_function_or_method",
    "instance",
    "_Feature"
   ],
   "window_display": false
  }
 },
 "nbformat": 4,
 "nbformat_minor": 4
}
