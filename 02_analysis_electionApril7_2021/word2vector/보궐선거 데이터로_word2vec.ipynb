{
 "cells": [
  {
   "cell_type": "markdown",
   "metadata": {},
   "source": [
    "# Word2Vec\r\n",
    "- 어떤 단어가 목표 단어 근처에 출현할 가능성이 높을까?\r\n",
    "    - => 적당한 차원의 벡터로 단어의 의미를 부호화하는 방법 고안\r\n",
    "    - 비지도 학습(unsupervised learning)\r\n",
    "    - 문장 안에서 대상 단어의 근처 단어들을 예측하게 만드는 것\r\n",
    "\r\n",
    "\r\n",
    "- 중요한 점\r\n",
    "    - 예측을 위해 word2vec이 점진적으로 형성해 나가는 벡터들\r\n",
    "\r\n",
    "\r\n",
    "- word2vec은 단어에 연관된 성질들도 학습\r\n",
    "- 단어 벡터들을 형성(학습)함에 따라 한 단어의 의미가 이웃 단어들로 **번진다**\r\n",
    "- 보통 **\"같은 문장 안에서 다섯 단어 이내로\"**\r\n",
    "- 단어 벡터 **연산이 의미가 있다** -> 단어 벡터를 빼고 더하면 원래의 벡터들과는 다른 의미의 단어 벡터가 나옴\r\n",
    "- 단어 벡터를 가중치들 또는 점수들이라고 생각하면 이해하기 쉽다. "
   ]
  },
  {
   "cell_type": "markdown",
   "metadata": {},
   "source": [
    "# Word2Vec의 단어 표현 계산 "
   ]
  },
  {
   "cell_type": "markdown",
   "metadata": {},
   "source": [
    "## Skip-gram(스킵그램)\r\n",
    "- 다층 신경망\r\n",
    "- 주어진 한 단어가 입력이고 그 주변 단어가 출력\r\n",
    "- 주어진 입력 단어에 기초해 일정 범위 이내의 주변단어들 예측\r\n",
    "- (참고) 스캡그램은 중간에 빈자리가 있는 n-그램. skip은 중간 토큰을 건너뛴다는 의미\r\n",
    "- window : 크기. 만약 window가 2라면, 주어진 목표 단어 앞, 뒤로 두 단어씩을 주변단어로 사용\r\n",
    "- **입력단어와 주변단어들 각각은 원핫 벡터의 형태로 신경망에 입력해야함**\r\n",
    "    - softmax함수( 임의의 범위의 입력을 0-1사이의 출력값으로 압착(squash), 한 출력층의 모든 softmax 출력합은 항상 1, 출력층의 한 softmax의 출력은 확률로 취급할 수 있다.)를 활용\r\n",
    "\r\n",
    "- 말뭉치가 작을 때, 자주 쓰이지 않는 단어들이 주어졌을 때 스킵그램이 잘 작동한다. "
   ]
  },
  {
   "cell_type": "markdown",
   "metadata": {},
   "source": [
    "## CBOW(continuous bag-of-words) : 연속 단어 모음\r\n",
    "- 주어진 단어들(입력)로부터 목표 단어(출력)를 예측\r\n",
    "- 하나의 훈련 견본은 **다수의 주변단어(멀티핫 벡터: 해당 주변 단어들의 원핫 벡터들을 모두 합한 것)**들과 하나의 중심단어로 구성자주 \r\n",
    "\r\n",
    "\r\n",
    "- 자주 쓰이는 단어들에 대해 정확도가 높음. 훈련이 훨씬 빠르다.  "
   ]
  },
  {
   "cell_type": "markdown",
   "metadata": {},
   "source": [
    "# 나만의 단어 벡터 모형 만들기"
   ]
  },
  {
   "cell_type": "markdown",
   "metadata": {},
   "source": [
    "## 1. 전처리 단계\r\n",
    "- 문서들을 문장들로 분해하고 문장을 토큰으로 분해 "
   ]
  },
  {
   "cell_type": "code",
   "execution_count": 1,
   "metadata": {
    "ExecuteTime": {
     "end_time": "2021-04-27T04:53:49.536080Z",
     "start_time": "2021-04-27T04:53:48.352789Z"
    }
   },
   "outputs": [],
   "source": [
    "import pandas as pd\r\n",
    "import numpy as np\r\n",
    "import matplotlib.pyplot as plt \r\n",
    "import seaborn as sns \r\n",
    "import re\r\n",
    "import Okt\r\n",
    "plt.style.use('seaborn-whitegrid')\r\n",
    "plt.rcParams['font.family'] = 'Malgun Gothic'\r\n",
    "# plt.rcParams['font.family'] = 'AppleGothic'\r\n",
    "plt.rcParams['font.size'] = 10\r\n",
    "plt.rcParams['figure.figsize'] = 10,5\r\n",
    "plt.rcParams['axes.unicode_minus'] = False"
   ]
  },
  {
   "cell_type": "code",
   "execution_count": 4,
   "metadata": {
    "ExecuteTime": {
     "end_time": "2021-04-27T04:54:09.213701Z",
     "start_time": "2021-04-27T04:54:07.963373Z"
    }
   },
   "outputs": [
    {
     "data": {
      "text/html": "<div>\n<style scoped>\n    .dataframe tbody tr th:only-of-type {\n        vertical-align: middle;\n    }\n\n    .dataframe tbody tr th {\n        vertical-align: top;\n    }\n\n    .dataframe thead th {\n        text-align: right;\n    }\n</style>\n<table border=\"1\" class=\"dataframe\">\n  <thead>\n    <tr style=\"text-align: right;\">\n      <th></th>\n      <th>제목</th>\n      <th>날짜</th>\n      <th>작성일</th>\n      <th>댓글</th>\n      <th>출처</th>\n      <th>지역(서울:1, 부산:2)</th>\n      <th>정당(1:더불어민주당,2:국민의힘)</th>\n      <th>정당평가(부정;0, 긍정:1)</th>\n      <th>후보(기호 순)</th>\n      <th>후보평가(부정;0, 긍정:1)</th>\n      <th>제목댓글</th>\n    </tr>\n  </thead>\n  <tbody>\n    <tr>\n      <th>0</th>\n      <td>[재보궐 D-31] 부산 김영춘 vs 박형준, 서울도 양자 대결?</td>\n      <td>2021-03-07 05:57:00</td>\n      <td>2021-03-12 19:13:00</td>\n      <td>철수야! 뜸 들이지 말고 애국하는 마음으로 물러서라~~~</td>\n      <td>조선일보</td>\n      <td>NaN</td>\n      <td>NaN</td>\n      <td>NaN</td>\n      <td>NaN</td>\n      <td>NaN</td>\n      <td>[재보궐 D-31] 부산 김영춘 vs 박형준, 서울도 양자 대결? 철수야! 뜸 들이...</td>\n    </tr>\n    <tr>\n      <th>1</th>\n      <td>[재보궐 D-31] 부산 김영춘 vs 박형준, 서울도 양자 대결?</td>\n      <td>2021-03-07 05:57:00</td>\n      <td>2021-03-09 13:49:00</td>\n      <td>박영선은 정동영이 얻은 36프로선에 머무를것. 4.7.이후 OOO정권은 몰락의 길 ...</td>\n      <td>조선일보</td>\n      <td>1.0</td>\n      <td>NaN</td>\n      <td>NaN</td>\n      <td>1.0</td>\n      <td>0.0</td>\n      <td>[재보궐 D-31] 부산 김영춘 vs 박형준, 서울도 양자 대결? 박영선은 정동영이...</td>\n    </tr>\n    <tr>\n      <th>2</th>\n      <td>[재보궐 D-31] 부산 김영춘 vs 박형준, 서울도 양자 대결?</td>\n      <td>2021-03-07 05:57:00</td>\n      <td>2021-03-07 14:42:00</td>\n      <td>빵선이가서울시장되면서울은공산국가수도제2의평양이될것이다</td>\n      <td>조선일보</td>\n      <td>1.0</td>\n      <td>NaN</td>\n      <td>NaN</td>\n      <td>1.0</td>\n      <td>0.0</td>\n      <td>[재보궐 D-31] 부산 김영춘 vs 박형준, 서울도 양자 대결? 빵선이가서울시장되...</td>\n    </tr>\n    <tr>\n      <th>3</th>\n      <td>[재보궐 D-31] 부산 김영춘 vs 박형준, 서울도 양자 대결?</td>\n      <td>2021-03-07 05:57:00</td>\n      <td>2021-03-07 14:38:00</td>\n      <td>서울시장후보더듬당박빵선이는절대로서울시장을할수없다이유는가족은미국.영국에 영주권자이므로...</td>\n      <td>조선일보</td>\n      <td>1.0</td>\n      <td>1.0</td>\n      <td>0.0</td>\n      <td>1.0</td>\n      <td>0.0</td>\n      <td>[재보궐 D-31] 부산 김영춘 vs 박형준, 서울도 양자 대결? 서울시장후보더듬당...</td>\n    </tr>\n    <tr>\n      <th>4</th>\n      <td>[재보궐 D-31] 부산 김영춘 vs 박형준, 서울도 양자 대결?</td>\n      <td>2021-03-07 05:57:00</td>\n      <td>2021-03-07 14:02:00</td>\n      <td>부산은오거돈선거이고 오거돈치부선거아닌가 오거돈에 성추해으로 생긴선거가 가독도신공항은...</td>\n      <td>조선일보</td>\n      <td>2.0</td>\n      <td>1.0</td>\n      <td>0.0</td>\n      <td>NaN</td>\n      <td>NaN</td>\n      <td>[재보궐 D-31] 부산 김영춘 vs 박형준, 서울도 양자 대결? 부산은오거돈선거이...</td>\n    </tr>\n    <tr>\n      <th>...</th>\n      <td>...</td>\n      <td>...</td>\n      <td>...</td>\n      <td>...</td>\n      <td>...</td>\n      <td>...</td>\n      <td>...</td>\n      <td>...</td>\n      <td>...</td>\n      <td>...</td>\n      <td>...</td>\n    </tr>\n    <tr>\n      <th>144134</th>\n      <td>[논설위원의 단도직입]“한·일해저터널 경제성 없지만…동북아 경제권 차원서 장기 검토해야”</td>\n      <td>2021-04-06 21:56:00</td>\n      <td>2021-04-06 22:47:00</td>\n      <td>국민의힘 찍지 말라고 이 뉴스가 나온거임\\n내냔에 국민의힘 찍을라 했드만 망했다 친...</td>\n      <td>경향신문</td>\n      <td>NaN</td>\n      <td>NaN</td>\n      <td>NaN</td>\n      <td>NaN</td>\n      <td>NaN</td>\n      <td>[논설위원의 단도직입]“한·일해저터널 경제성 없지만…동북아 경제권 차원서 장기 검토...</td>\n    </tr>\n    <tr>\n      <th>144135</th>\n      <td>[논설위원의 단도직입]“한·일해저터널 경제성 없지만…동북아 경제권 차원서 장기 검토해야”</td>\n      <td>2021-04-06 21:56:00</td>\n      <td>2021-04-06 22:41:00</td>\n      <td>굳이 일본과 해저터널 해야되는 이유가 없은이유\\n-일본은고속도로비가 비싸다\\n차라니...</td>\n      <td>경향신문</td>\n      <td>NaN</td>\n      <td>NaN</td>\n      <td>NaN</td>\n      <td>NaN</td>\n      <td>NaN</td>\n      <td>[논설위원의 단도직입]“한·일해저터널 경제성 없지만…동북아 경제권 차원서 장기 검토...</td>\n    </tr>\n    <tr>\n      <th>144136</th>\n      <td>[논설위원의 단도직입]“한·일해저터널 경제성 없지만…동북아 경제권 차원서 장기 검토해야”</td>\n      <td>2021-04-06 21:56:00</td>\n      <td>2021-04-06 22:38:00</td>\n      <td>도랏구나. 열도는 걍 갈라파고스로 남겨 둬라. 재난 난민 넘어 오면 귀찮다.</td>\n      <td>경향신문</td>\n      <td>NaN</td>\n      <td>NaN</td>\n      <td>NaN</td>\n      <td>NaN</td>\n      <td>NaN</td>\n      <td>[논설위원의 단도직입]“한·일해저터널 경제성 없지만…동북아 경제권 차원서 장기 검토...</td>\n    </tr>\n    <tr>\n      <th>144137</th>\n      <td>[논설위원의 단도직입]“한·일해저터널 경제성 없지만…동북아 경제권 차원서 장기 검토해야”</td>\n      <td>2021-04-06 21:56:00</td>\n      <td>2021-04-06 22:32:00</td>\n      <td>이걸 왜 하지? 우리한테 아무런 의미가 없는데</td>\n      <td>경향신문</td>\n      <td>NaN</td>\n      <td>NaN</td>\n      <td>NaN</td>\n      <td>NaN</td>\n      <td>NaN</td>\n      <td>[논설위원의 단도직입]“한·일해저터널 경제성 없지만…동북아 경제권 차원서 장기 검토...</td>\n    </tr>\n    <tr>\n      <th>144138</th>\n      <td>[논설위원의 단도직입]“한·일해저터널 경제성 없지만…동북아 경제권 차원서 장기 검토해야”</td>\n      <td>2021-04-06 21:56:00</td>\n      <td>2021-04-06 22:26:00</td>\n      <td>우리에겐 아무런 도움이 되지 않는 것을 일본에게는 엄청난 기회가 되는 것을 왜 굳이...</td>\n      <td>경향신문</td>\n      <td>NaN</td>\n      <td>NaN</td>\n      <td>NaN</td>\n      <td>NaN</td>\n      <td>NaN</td>\n      <td>[논설위원의 단도직입]“한·일해저터널 경제성 없지만…동북아 경제권 차원서 장기 검토...</td>\n    </tr>\n  </tbody>\n</table>\n<p>144139 rows × 11 columns</p>\n</div>",
      "text/plain": "                                                       제목  \\\n0                    [재보궐 D-31] 부산 김영춘 vs 박형준, 서울도 양자 대결?   \n1                    [재보궐 D-31] 부산 김영춘 vs 박형준, 서울도 양자 대결?   \n2                    [재보궐 D-31] 부산 김영춘 vs 박형준, 서울도 양자 대결?   \n3                    [재보궐 D-31] 부산 김영춘 vs 박형준, 서울도 양자 대결?   \n4                    [재보궐 D-31] 부산 김영춘 vs 박형준, 서울도 양자 대결?   \n...                                                   ...   \n144134  [논설위원의 단도직입]“한·일해저터널 경제성 없지만…동북아 경제권 차원서 장기 검토해야”   \n144135  [논설위원의 단도직입]“한·일해저터널 경제성 없지만…동북아 경제권 차원서 장기 검토해야”   \n144136  [논설위원의 단도직입]“한·일해저터널 경제성 없지만…동북아 경제권 차원서 장기 검토해야”   \n144137  [논설위원의 단도직입]“한·일해저터널 경제성 없지만…동북아 경제권 차원서 장기 검토해야”   \n144138  [논설위원의 단도직입]“한·일해저터널 경제성 없지만…동북아 경제권 차원서 장기 검토해야”   \n\n                         날짜                  작성일  \\\n0       2021-03-07 05:57:00  2021-03-12 19:13:00   \n1       2021-03-07 05:57:00  2021-03-09 13:49:00   \n2       2021-03-07 05:57:00  2021-03-07 14:42:00   \n3       2021-03-07 05:57:00  2021-03-07 14:38:00   \n4       2021-03-07 05:57:00  2021-03-07 14:02:00   \n...                     ...                  ...   \n144134  2021-04-06 21:56:00  2021-04-06 22:47:00   \n144135  2021-04-06 21:56:00  2021-04-06 22:41:00   \n144136  2021-04-06 21:56:00  2021-04-06 22:38:00   \n144137  2021-04-06 21:56:00  2021-04-06 22:32:00   \n144138  2021-04-06 21:56:00  2021-04-06 22:26:00   \n\n                                                       댓글    출처  \\\n0                         철수야! 뜸 들이지 말고 애국하는 마음으로 물러서라~~~  조선일보   \n1       박영선은 정동영이 얻은 36프로선에 머무를것. 4.7.이후 OOO정권은 몰락의 길 ...  조선일보   \n2                           빵선이가서울시장되면서울은공산국가수도제2의평양이될것이다  조선일보   \n3       서울시장후보더듬당박빵선이는절대로서울시장을할수없다이유는가족은미국.영국에 영주권자이므로...  조선일보   \n4       부산은오거돈선거이고 오거돈치부선거아닌가 오거돈에 성추해으로 생긴선거가 가독도신공항은...  조선일보   \n...                                                   ...   ...   \n144134  국민의힘 찍지 말라고 이 뉴스가 나온거임\\n내냔에 국민의힘 찍을라 했드만 망했다 친...  경향신문   \n144135  굳이 일본과 해저터널 해야되는 이유가 없은이유\\n-일본은고속도로비가 비싸다\\n차라니...  경향신문   \n144136         도랏구나. 열도는 걍 갈라파고스로 남겨 둬라. 재난 난민 넘어 오면 귀찮다.  경향신문   \n144137                          이걸 왜 하지? 우리한테 아무런 의미가 없는데  경향신문   \n144138  우리에겐 아무런 도움이 되지 않는 것을 일본에게는 엄청난 기회가 되는 것을 왜 굳이...  경향신문   \n\n        지역(서울:1, 부산:2)  정당(1:더불어민주당,2:국민의힘)  정당평가(부정;0, 긍정:1)  후보(기호 순)  \\\n0                  NaN                  NaN               NaN       NaN   \n1                  1.0                  NaN               NaN       1.0   \n2                  1.0                  NaN               NaN       1.0   \n3                  1.0                  1.0               0.0       1.0   \n4                  2.0                  1.0               0.0       NaN   \n...                ...                  ...               ...       ...   \n144134             NaN                  NaN               NaN       NaN   \n144135             NaN                  NaN               NaN       NaN   \n144136             NaN                  NaN               NaN       NaN   \n144137             NaN                  NaN               NaN       NaN   \n144138             NaN                  NaN               NaN       NaN   \n\n        후보평가(부정;0, 긍정:1)                                               제목댓글  \n0                    NaN  [재보궐 D-31] 부산 김영춘 vs 박형준, 서울도 양자 대결? 철수야! 뜸 들이...  \n1                    0.0  [재보궐 D-31] 부산 김영춘 vs 박형준, 서울도 양자 대결? 박영선은 정동영이...  \n2                    0.0  [재보궐 D-31] 부산 김영춘 vs 박형준, 서울도 양자 대결? 빵선이가서울시장되...  \n3                    0.0  [재보궐 D-31] 부산 김영춘 vs 박형준, 서울도 양자 대결? 서울시장후보더듬당...  \n4                    NaN  [재보궐 D-31] 부산 김영춘 vs 박형준, 서울도 양자 대결? 부산은오거돈선거이...  \n...                  ...                                                ...  \n144134               NaN  [논설위원의 단도직입]“한·일해저터널 경제성 없지만…동북아 경제권 차원서 장기 검토...  \n144135               NaN  [논설위원의 단도직입]“한·일해저터널 경제성 없지만…동북아 경제권 차원서 장기 검토...  \n144136               NaN  [논설위원의 단도직입]“한·일해저터널 경제성 없지만…동북아 경제권 차원서 장기 검토...  \n144137               NaN  [논설위원의 단도직입]“한·일해저터널 경제성 없지만…동북아 경제권 차원서 장기 검토...  \n144138               NaN  [논설위원의 단도직입]“한·일해저터널 경제성 없지만…동북아 경제권 차원서 장기 검토...  \n\n[144139 rows x 11 columns]"
     },
     "execution_count": 4,
     "metadata": {},
     "output_type": "execute_result"
    }
   ],
   "source": [
    "df = pd.read_csv('./data/재보궐선거댓글데이터_최종_유튜브수정_0429.csv')\r\n",
    "df"
   ]
  },
  {
   "cell_type": "code",
   "execution_count": null,
   "metadata": {},
   "outputs": [],
   "source": [
    "df"
   ]
  },
  {
   "cell_type": "code",
   "execution_count": null,
   "metadata": {},
   "outputs": [],
   "source": []
  },
  {
   "cell_type": "code",
   "execution_count": null,
   "metadata": {},
   "outputs": [],
   "source": []
  },
  {
   "cell_type": "code",
   "execution_count": 5,
   "metadata": {
    "ExecuteTime": {
     "end_time": "2021-04-27T04:54:15.081177Z",
     "start_time": "2021-04-27T04:54:15.077189Z"
    }
   },
   "outputs": [
    {
     "data": {
      "text/plain": "(144139, 11)"
     },
     "execution_count": 5,
     "metadata": {},
     "output_type": "execute_result"
    }
   ],
   "source": [
    "# 데이터 구조 파악하기\n",
    "df.shape"
   ]
  },
  {
   "cell_type": "markdown",
   "metadata": {},
   "source": [
    "https://wikidocs.net/book/2155"
   ]
  },
  {
   "cell_type": "markdown",
   "metadata": {},
   "source": [
    "# 1. Word2Vec\n",
    "- 각 단어 벡터가 단어 간 유사도를 반영\n",
    "- '비슷한 위치에서 등장하는 단어들은 비슷한 의미를 가진다'"
   ]
  },
  {
   "cell_type": "code",
   "execution_count": 6,
   "metadata": {
    "ExecuteTime": {
     "end_time": "2021-04-27T04:55:18.388964Z",
     "start_time": "2021-04-27T04:55:18.002991Z"
    }
   },
   "outputs": [],
   "source": [
    "import pandas as pd\n",
    "import matplotlib.pyplot as plt\n",
    "import urllib.request\n",
    "from gensim.models.word2vec import Word2Vec\n",
    "from konlpy.tag import Okt"
   ]
  },
  {
   "cell_type": "code",
   "execution_count": 7,
   "metadata": {
    "ExecuteTime": {
     "end_time": "2021-04-27T04:55:18.404935Z",
     "start_time": "2021-04-27T04:55:18.400929Z"
    }
   },
   "outputs": [
    {
     "data": {
      "text/plain": "(144139,)"
     },
     "execution_count": 7,
     "metadata": {},
     "output_type": "execute_result"
    }
   ],
   "source": [
    "df['제목댓글'].shape"
   ]
  },
  {
   "cell_type": "code",
   "execution_count": 8,
   "metadata": {
    "ExecuteTime": {
     "end_time": "2021-04-27T04:55:18.432842Z",
     "start_time": "2021-04-27T04:55:18.416884Z"
    }
   },
   "outputs": [
    {
     "data": {
      "text/plain": "0"
     },
     "execution_count": 8,
     "metadata": {},
     "output_type": "execute_result"
    }
   ],
   "source": [
    "df['제목댓글'].isnull().sum()"
   ]
  },
  {
   "cell_type": "markdown",
   "metadata": {},
   "source": [
    "### 1.1 한글 정규 표현식으로 한글 외 문자 제거"
   ]
  },
  {
   "cell_type": "code",
   "execution_count": 9,
   "metadata": {
    "ExecuteTime": {
     "end_time": "2021-04-27T04:55:29.445855Z",
     "start_time": "2021-04-27T04:55:29.441865Z"
    }
   },
   "outputs": [],
   "source": [
    "def text_clearing(text):\n",
    "    # 한글 정규식\n",
    "    hangul = re.compile('[^ ㄱ-ㅣ가-힣]+')\n",
    "    \n",
    "    # 한글 외의 모든 문자를 길이가 0인 문자열로 변형\n",
    "    result = hangul.sub('', text)\n",
    "    \n",
    "    return result"
   ]
  },
  {
   "cell_type": "code",
   "execution_count": 10,
   "metadata": {
    "ExecuteTime": {
     "end_time": "2021-04-27T04:55:30.245072Z",
     "start_time": "2021-04-27T04:55:29.604280Z"
    }
   },
   "outputs": [],
   "source": [
    "df['제목댓글'] = df['제목댓글'].apply( lambda x: text_clearing(x))"
   ]
  },
  {
   "cell_type": "code",
   "execution_count": 11,
   "metadata": {
    "ExecuteTime": {
     "end_time": "2021-04-27T04:55:34.493836Z",
     "start_time": "2021-04-27T04:55:34.489846Z"
    }
   },
   "outputs": [],
   "source": [
    "# 불용어 정의\r\n",
    "with open ('../2030표심 및 정치성향 분석/data/불용어/politics_stopwords_nouns.txt', 'rt',encoding='utf-8') as fp:\r\n",
    "    stopwords = fp.readlines()\r\n",
    "stopwords = [i.replace('\\n','') for i in stopwords]\r\n"
   ]
  },
  {
   "cell_type": "code",
   "execution_count": 13,
   "metadata": {},
   "outputs": [
    {
     "data": {
      "text/plain": "0         재보궐  부산 김영춘  박형준 서울도 양자 대결 철수야 뜸 들이지 말고 애국하는 마...\n1         재보궐  부산 김영춘  박형준 서울도 양자 대결 박영선은 정동영이 얻은 프로선에 머...\n2         재보궐  부산 김영춘  박형준 서울도 양자 대결 빵선이가서울시장되면서울은공산국가수도...\n3         재보궐  부산 김영춘  박형준 서울도 양자 대결 서울시장후보더듬당박빵선이는절대로서울...\n4         재보궐  부산 김영춘  박형준 서울도 양자 대결 부산은오거돈선거이고 오거돈치부선거아...\n                                ...                        \n144134    논설위원의 단도직입한일해저터널 경제성 없지만동북아 경제권 차원서 장기 검토해야 국민...\n144135    논설위원의 단도직입한일해저터널 경제성 없지만동북아 경제권 차원서 장기 검토해야 굳이...\n144136    논설위원의 단도직입한일해저터널 경제성 없지만동북아 경제권 차원서 장기 검토해야 도랏...\n144137    논설위원의 단도직입한일해저터널 경제성 없지만동북아 경제권 차원서 장기 검토해야 이걸...\n144138    논설위원의 단도직입한일해저터널 경제성 없지만동북아 경제권 차원서 장기 검토해야 우리...\nName: 제목댓글, Length: 144139, dtype: object"
     },
     "execution_count": 13,
     "metadata": {},
     "output_type": "execute_result"
    }
   ],
   "source": [
    "df['제목댓글']"
   ]
  },
  {
   "cell_type": "code",
   "execution_count": 12,
   "metadata": {
    "ExecuteTime": {
     "end_time": "2021-04-27T05:04:52.867793Z",
     "start_time": "2021-04-27T04:55:39.562319Z"
    }
   },
   "outputs": [],
   "source": [
    "# 형태소 정의\n",
    "okt = Okt()\n",
    "tokenized_data = []\n",
    "for sentence in df['제목댓글']:\n",
    "    temp_X = okt.morphs(sentence, stem=True) # 토큰화\n",
    "    temp_X = [word for word in temp_X if not word in stopwords] # 불용어 제거\n",
    "    tokenized_data.append(temp_X)"
   ]
  },
  {
   "cell_type": "code",
   "execution_count": 19,
   "metadata": {
    "ExecuteTime": {
     "end_time": "2021-04-27T05:04:53.623563Z",
     "start_time": "2021-04-27T05:04:53.406637Z"
    }
   },
   "outputs": [
    {
     "name": "stdout",
     "output_type": "stream",
     "text": [
      "제목+댓글내용의 최대 길이 : 1266\n",
      "제목+댓글내용의 평균 길이 : 35.0215000797841\n"
     ]
    },
    {
     "data": {
      "image/png": "[encoded data removed]",
      "text/plain": [
       "<Figure size 720x360 with 1 Axes>"
      ]
     },
     "metadata": {},
     "output_type": "display_data"
    }
   ],
   "source": [
    "# 제목+댓글내용 길이 분포 확인\n",
    "print('제목+댓글내용의 최대 길이 :',max(len(l) for l in tokenized_data))\n",
    "print('제목+댓글내용의 평균 길이 :',sum(map(len, tokenized_data))/len(tokenized_data))\n",
    "plt.hist([len(s) for s in tokenized_data], bins=50)\n",
    "plt.xlabel('length of samples')\n",
    "plt.ylabel('number of samples')\n",
    "plt.show()"
   ]
  },
  {
   "cell_type": "markdown",
   "metadata": {},
   "source": [
    "### 1.2  Word2Vec 훈련시키기\n",
    "- (없음)size = 워드 벡터의 특징 값. 즉, 임베딩 된 벡터의 차원.\n",
    "- window = 컨텍스트 윈도우 크기\n",
    "- min_count = 단어 최소 빈도 수 제한 (빈도가 적은 단어들은 학습하지 않는다.)\n",
    "- workers = 학습을 위한 프로세스 수\n",
    "- sg = 0은 CBOW, 1은 Skip-gram."
   ]
  },
  {
   "cell_type": "code",
   "execution_count": 15,
   "metadata": {
    "ExecuteTime": {
     "end_time": "2021-04-27T05:11:31.475827Z",
     "start_time": "2021-04-27T05:11:21.127878Z"
    }
   },
   "outputs": [],
   "source": [
    "from gensim.models import Word2Vec\n",
    "model = Word2Vec(sentences = tokenized_data, window = 5, min_count = 5, workers = 4, sg = 0)"
   ]
  },
  {
   "cell_type": "code",
   "execution_count": 16,
   "metadata": {
    "ExecuteTime": {
     "end_time": "2021-04-27T05:11:32.005408Z",
     "start_time": "2021-04-27T05:11:32.000430Z"
    }
   },
   "outputs": [
    {
     "data": {
      "text/plain": "(21637, 100)"
     },
     "execution_count": 16,
     "metadata": {},
     "output_type": "execute_result"
    }
   ],
   "source": [
    "# 완성된 임베딩 매트릭스의 크기 확인\n",
    "model.wv.vectors.shape"
   ]
  },
  {
   "cell_type": "code",
   "execution_count": 18,
   "metadata": {
    "ExecuteTime": {
     "end_time": "2021-04-27T05:11:32.556363Z",
     "start_time": "2021-04-27T05:11:32.542415Z"
    }
   },
   "outputs": [
    {
     "data": {
      "image/png": "[encoded data removed]",
      "text/plain": "<Figure size 720x360 with 1 Axes>"
     },
     "metadata": {},
     "output_type": "display_data"
    }
   ],
   "source": [
    "keywords = ['박영선']\r\n",
    "negative_words = ['오세훈']\r\n",
    "result = np.array(model.wv.most_similar( positive=keywords, negative=negative_words , topn=20))\r\n",
    "tmp = [float(i) for i in result[:,1] ]\r\n",
    "plt.bar( result[:,0], tmp )\r\n",
    "plt.xticks(rotation=90)\r\n",
    "plt.title(f'{keywords}-{negative_words} 키워드의 Word2Vec 결과: 키워드의 근처 단어들 예상')\r\n",
    "plt.show()"
   ]
  },
  {
   "cell_type": "code",
   "execution_count": 23,
   "metadata": {
    "ExecuteTime": {
     "end_time": "2021-04-27T05:11:33.101968Z",
     "start_time": "2021-04-27T05:11:33.097970Z"
    }
   },
   "outputs": [
    {
     "name": "stdout",
     "output_type": "stream",
     "text": [
      "[('세훈', 0.5848418474197388), ('박영선', 0.5764411687850952), ('초조하다', 0.4346209764480591), ('김영춘', 0.43386954069137573), ('금태섭', 0.4278375506401062), ('유선', 0.4111238718032837), ('내곡동', 0.40984031558036804), ('불꽃', 0.4010070264339447), ('오', 0.3994719684123993), ('유력하다', 0.399166077375412)]\n"
     ]
    }
   ],
   "source": [
    "print(model.wv.most_similar(\"오세훈\"))"
   ]
  },
  {
   "cell_type": "code",
   "execution_count": 19,
   "metadata": {
    "ExecuteTime": {
     "end_time": "2021-04-27T05:11:33.646541Z",
     "start_time": "2021-04-27T05:11:33.641555Z"
    }
   },
   "outputs": [
    {
     "data": {
      "image/png": "[encoded data removed]",
      "text/plain": "<Figure size 720x360 with 1 Axes>"
     },
     "metadata": {},
     "output_type": "display_data"
    }
   ],
   "source": [
    "keywords = ['오세훈']\r\n",
    "negative_words = ['박영선']\r\n",
    "result = np.array(model.wv.most_similar( positive=keywords, negative=negative_words , topn=20))\r\n",
    "tmp = [float(i) for i in result[:,1] ]\r\n",
    "plt.bar( result[:,0], tmp )\r\n",
    "plt.xticks(rotation=90)\r\n",
    "plt.title(f'{keywords}-{negative_words} 키워드의 Word2Vec 결과: 키워드의 근처 단어들 예상')\r\n",
    "plt.show()"
   ]
  },
  {
   "cell_type": "code",
   "execution_count": 20,
   "metadata": {},
   "outputs": [
    {
     "data": {
      "image/png": "[encoded data removed]",
      "text/plain": "<Figure size 720x360 with 1 Axes>"
     },
     "metadata": {},
     "output_type": "display_data"
    }
   ],
   "source": [
    "keywords = ['여자','여성']\r\n",
    "result = np.array(model.wv.most_similar( positive=keywords , topn=20))\r\n",
    "tmp = [float(i) for i in result[:,1] ]\r\n",
    "plt.bar( result[:,0], tmp )\r\n",
    "plt.xticks(rotation=90)\r\n",
    "plt.title(f'{keywords} 키워드의 Word2Vec 결과: 키워드의 근처 단어들 예상')\r\n",
    "plt.show()"
   ]
  },
  {
   "cell_type": "code",
   "execution_count": 21,
   "metadata": {},
   "outputs": [
    {
     "data": {
      "image/png": "[encoded data removed]",
      "text/plain": "<Figure size 720x360 with 1 Axes>"
     },
     "metadata": {},
     "output_type": "display_data"
    }
   ],
   "source": [
    "keywords = ['남자','남성']\r\n",
    "result = np.array(model.wv.most_similar( positive=keywords , topn=20))\r\n",
    "tmp = [float(i) for i in result[:,1] ]\r\n",
    "plt.bar( result[:,0], tmp )\r\n",
    "plt.xticks(rotation=90)\r\n",
    "plt.title(f'{keywords} 키워드의 Word2Vec 결과: 키워드의 근처 단어들 예상')\r\n",
    "plt.show()"
   ]
  },
  {
   "cell_type": "code",
   "execution_count": null,
   "metadata": {},
   "outputs": [],
   "source": []
  },
  {
   "cell_type": "code",
   "execution_count": null,
   "metadata": {},
   "outputs": [],
   "source": []
  },
  {
   "cell_type": "code",
   "execution_count": null,
   "metadata": {},
   "outputs": [],
   "source": []
  },
  {
   "cell_type": "code",
   "execution_count": null,
   "metadata": {},
   "outputs": [],
   "source": []
  },
  {
   "cell_type": "code",
   "execution_count": null,
   "metadata": {},
   "outputs": [],
   "source": []
  },
  {
   "cell_type": "code",
   "execution_count": null,
   "metadata": {},
   "outputs": [],
   "source": []
  },
  {
   "cell_type": "code",
   "execution_count": 25,
   "metadata": {
    "ExecuteTime": {
     "end_time": "2021-04-27T05:11:34.165688Z",
     "start_time": "2021-04-27T05:11:34.160688Z"
    },
    "scrolled": true
   },
   "outputs": [
    {
     "name": "stdout",
     "output_type": "stream",
     "text": [
      "[('김영춘', 0.5590013265609741), ('자갈치', 0.4380435645580292), ('박영선', 0.4149247407913208), ('환조', 0.3987842798233032), ('엠비', 0.39268428087234497), ('무선전화', 0.3913780450820923), ('엘', 0.38856780529022217), ('은희', 0.38589486479759216), ('정규재', 0.38456737995147705), ('부인', 0.38181737065315247)]\n"
     ]
    }
   ],
   "source": [
    "print(model.wv.most_similar(\"박형준\"))"
   ]
  },
  {
   "cell_type": "markdown",
   "metadata": {},
   "source": [
    "### 1.3 모델 저장"
   ]
  },
  {
   "cell_type": "code",
   "execution_count": 26,
   "metadata": {
    "ExecuteTime": {
     "end_time": "2021-04-27T05:14:54.774910Z",
     "start_time": "2021-04-27T05:14:53.498715Z"
    }
   },
   "outputs": [],
   "source": [
    "from gensim.models import KeyedVectors\n",
    "# 모델 저장\n",
    "model.wv.save_word2vec_format('model/word2vec/w2v_TitleComments_0427')"
   ]
  },
  {
   "cell_type": "code",
   "execution_count": 2,
   "metadata": {
    "ExecuteTime": {
     "end_time": "2021-04-27T05:19:55.066151Z",
     "start_time": "2021-04-27T05:19:52.808325Z"
    }
   },
   "outputs": [],
   "source": [
    " # 모델 로드\n",
    "from gensim.models import KeyedVectors\n",
    "loaded_model = KeyedVectors.load_word2vec_format(\"./w2v_TitleComments_0427\")"
   ]
  },
  {
   "cell_type": "code",
   "execution_count": 3,
   "metadata": {
    "ExecuteTime": {
     "end_time": "2021-04-27T05:38:10.449564Z",
     "start_time": "2021-04-27T05:38:10.444578Z"
    },
    "scrolled": true
   },
   "outputs": [
    {
     "name": "stdout",
     "output_type": "stream",
     "text": [
      "[('여당', 0.5833343267440796), ('지당', 0.505938708782196), ('정의당', 0.4959515929222107), ('만지다', 0.4899117350578308), ('민주', 0.47781601548194885), ('당', 0.42012691497802734), ('야당', 0.415071040391922), ('여권', 0.4129944443702698), ('보궐', 0.4082983136177063), ('더듬다', 0.40013939142227173)]\n"
     ]
    }
   ],
   "source": [
    "model_result = loaded_model.most_similar(\"민주당\",topn=10)\n",
    "print(model_result)"
   ]
  },
  {
   "cell_type": "code",
   "execution_count": 4,
   "metadata": {
    "ExecuteTime": {
     "end_time": "2021-04-27T05:38:31.753584Z",
     "start_time": "2021-04-27T05:38:31.747600Z"
    }
   },
   "outputs": [
    {
     "name": "stdout",
     "output_type": "stream",
     "text": [
      "[('국짐', 0.8264971971511841), ('더민', 0.7123269438743591), ('구김', 0.6722763180732727), ('불민', 0.6586393713951111), ('국집', 0.6302757859230042), ('당대', 0.6089860200881958), ('더추', 0.5967254638671875), ('힘', 0.5951818823814392), ('더듬이', 0.5773580074310303), ('더블', 0.5682083964347839), ('정청', 0.5678206086158752), ('보수당', 0.5645935535430908), ('짐', 0.5555760860443115), ('덜민', 0.543167769908905), ('국똥', 0.5397177934646606), ('지지자', 0.5289016962051392), ('다수', 0.5119171738624573), ('창', 0.5115551948547363), ('홍준표', 0.49535682797431946), ('신돈', 0.4913056492805481)]\n"
     ]
    }
   ],
   "source": [
    "model_result = loaded_model.most_similar(\"국힘\",topn=20)\n",
    "print(model_result)"
   ]
  },
  {
   "cell_type": "code",
   "execution_count": 5,
   "metadata": {
    "ExecuteTime": {
     "end_time": "2021-04-27T05:39:06.473197Z",
     "start_time": "2021-04-27T05:39:06.468199Z"
    }
   },
   "outputs": [
    {
     "data": {
      "text/plain": "[('세훈', 0.5848418474197388),\n ('박영선', 0.5764411687850952),\n ('초조하다', 0.4346209764480591),\n ('김영춘', 0.43386954069137573),\n ('금태섭', 0.4278375506401062),\n ('유선', 0.4111238718032837),\n ('내곡동', 0.40984031558036804),\n ('불꽃', 0.4010070264339447),\n ('오', 0.3994719684123993),\n ('유력하다', 0.399166077375412),\n ('우위', 0.39101722836494446),\n ('적합', 0.3858765661716461),\n ('상대', 0.38381409645080566),\n ('김진애', 0.3830387592315674),\n ('토론', 0.3821444511413574),\n ('나경원', 0.36653217673301697),\n ('세후니', 0.36534902453422546),\n ('도사', 0.3632289171218872),\n ('영선', 0.3608013689517975),\n ('대결', 0.35436075925827026)]"
     },
     "execution_count": 5,
     "metadata": {},
     "output_type": "execute_result"
    }
   ],
   "source": [
    "loaded_model.most_similar(\"오세훈\",topn=20)"
   ]
  },
  {
   "cell_type": "markdown",
   "metadata": {},
   "source": [
    "### 1.4 단어간 거리 확인\n",
    "- 코사인 유사도를 이용한 단어간 거리 확인"
   ]
  },
  {
   "cell_type": "code",
   "execution_count": 6,
   "metadata": {
    "ExecuteTime": {
     "end_time": "2021-04-27T05:35:06.309579Z",
     "start_time": "2021-04-27T05:35:06.305590Z"
    }
   },
   "outputs": [
    {
     "data": {
      "text/plain": "0.8531581610441208"
     },
     "execution_count": 6,
     "metadata": {},
     "output_type": "execute_result"
    }
   ],
   "source": [
    "loaded_model.distance('오세훈', '화이팅')"
   ]
  },
  {
   "cell_type": "code",
   "execution_count": 7,
   "metadata": {
    "ExecuteTime": {
     "end_time": "2021-04-27T05:35:06.590860Z",
     "start_time": "2021-04-27T05:35:06.585873Z"
    }
   },
   "outputs": [
    {
     "data": {
      "text/plain": "0.7453278601169586"
     },
     "execution_count": 7,
     "metadata": {},
     "output_type": "execute_result"
    }
   ],
   "source": [
    "loaded_model.distance('박영선', '화이팅')"
   ]
  },
  {
   "cell_type": "code",
   "execution_count": 8,
   "metadata": {
    "ExecuteTime": {
     "end_time": "2021-04-27T05:36:20.974423Z",
     "start_time": "2021-04-27T05:36:20.969437Z"
    }
   },
   "outputs": [
    {
     "data": {
      "text/plain": "1.074504368007183"
     },
     "execution_count": 8,
     "metadata": {},
     "output_type": "execute_result"
    }
   ],
   "source": [
    "loaded_model.distance('오세훈', '망하다')"
   ]
  },
  {
   "cell_type": "code",
   "execution_count": 9,
   "metadata": {
    "ExecuteTime": {
     "end_time": "2021-04-27T05:36:29.027597Z",
     "start_time": "2021-04-27T05:36:29.022602Z"
    }
   },
   "outputs": [
    {
     "data": {
      "text/plain": "1.0924549922347069"
     },
     "execution_count": 9,
     "metadata": {},
     "output_type": "execute_result"
    }
   ],
   "source": [
    "loaded_model.distance('박영선', '망하다')"
   ]
  },
  {
   "cell_type": "markdown",
   "metadata": {},
   "source": [
    "# Permission denied:\n",
    "파일 경로가 이상하거나 파일이 아닌 폴더 경로 등을 지정할 경우 오류가 발생한다. \n",
    "\n",
    "출처: https://yjs-program.tistory.com/115 [Y초보프로그래머]"
   ]
  },
  {
   "cell_type": "code",
   "execution_count": null,
   "metadata": {},
   "outputs": [],
   "source": []
  },
  {
   "cell_type": "code",
   "execution_count": null,
   "metadata": {},
   "outputs": [],
   "source": []
  },
  {
   "cell_type": "code",
   "execution_count": null,
   "metadata": {},
   "outputs": [],
   "source": []
  }
 ],
 "metadata": {
  "interpreter": {
   "hash": "6bd18ff4b8d78789dc0c4fe3ce3d1752f57bd4a78312d15f34612069d81af063"
  },
  "kernelspec": {
   "display_name": "Python 3.7.6 64-bit ('base': conda)",
   "name": "python3"
  },
  "language_info": {
   "codemirror_mode": {
    "name": "ipython",
    "version": 3
   },
   "file_extension": ".py",
   "mimetype": "text/x-python",
   "name": "python",
   "nbconvert_exporter": "python",
   "pygments_lexer": "ipython3",
   "version": "3.7.6"
  },
  "orig_nbformat": 3
 },
 "nbformat": 4,
 "nbformat_minor": 4
}
