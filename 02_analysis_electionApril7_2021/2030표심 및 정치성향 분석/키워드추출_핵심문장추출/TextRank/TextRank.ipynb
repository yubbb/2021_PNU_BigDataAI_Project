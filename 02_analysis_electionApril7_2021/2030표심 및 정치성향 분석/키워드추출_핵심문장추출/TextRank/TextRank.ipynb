{
 "cells": [
  {
   "cell_type": "markdown",
   "metadata": {},
   "source": [
    "# TextRank\n",
    "- 키워드 추출\n",
    "    - 단어(마디, node) 그래프를 만들어야 함\n",
    "- 핵심 문장 추출"
   ]
  },
  {
   "cell_type": "markdown",
   "metadata": {},
   "source": [
    "## 0. 데이터 불러오기"
   ]
  },
  {
   "cell_type": "code",
   "execution_count": 2,
   "metadata": {
    "ExecuteTime": {
     "end_time": "2021-05-06T05:03:24.956540Z",
     "start_time": "2021-05-06T05:03:23.988121Z"
    },
    "code_folding": []
   },
   "outputs": [],
   "source": [
    "# 데이터 불러오기\r\n",
    "import pandas as pd\r\n",
    "data = pd.read_csv('../../data/재보궐선거댓글데이터_최종_유튜브수정_0429.csv')\r\n",
    "# 댓글만 가져오기\r\n",
    "text = data['댓글']\r\n",
    "\r\n",
    "# 데이터 타입 str으로 바꿔주기\r\n",
    "sentences = text.apply(lambda x: str(x)).to_list()[:100]"
   ]
  },
  {
   "cell_type": "markdown",
   "metadata": {
    "ExecuteTime": {
     "end_time": "2021-04-26T00:52:19.472279Z",
     "start_time": "2021-04-26T00:52:19.468285Z"
    }
   },
   "source": [
    "## 1. 키워드 추출"
   ]
  },
  {
   "cell_type": "markdown",
   "metadata": {},
   "source": [
    "### 1.1 키워드 추출을 위해 단어 그래프 만드는 함수\n",
    "- scan_vocabulary 함수 인자\n",
    "    - `min_count` : 주어진 문서 집합에서 최소 빈도수 이상 등장하는 단어\n",
    "    - `sents` : list of str 형식의 문장\n",
    "    - `tokenize` : str형식의 문장을 list of str형식의 단어열로 나누는 토크나이저"
   ]
  },
  {
   "cell_type": "code",
   "execution_count": 2,
   "metadata": {
    "ExecuteTime": {
     "end_time": "2021-05-06T05:03:24.963513Z",
     "start_time": "2021-05-06T05:03:24.958527Z"
    }
   },
   "outputs": [],
   "source": [
    "from collections import Counter\n",
    "\n",
    "def scan_vocabulary(sents, tokenize, min_count=2):\n",
    "    counter = Counter(w for sent in sents for w in tokenize(sent))\n",
    "    counter = {w: c for w, c in counter.items() if c >= min_count}\n",
    "    idx_to_vocab = [w for w, _ in sorted(counter.items(), key=lambda x:-x[1])]\n",
    "    vocab_to_idx = {vocab: idx for idx, vocab in enumerate(idx_to_vocab)}\n",
    "    return idx_to_vocab, vocab_to_idx"
   ]
  },
  {
   "cell_type": "markdown",
   "metadata": {},
   "source": [
    "- idx_to_vocab : 토큰화 한 후 단어의 수를 내림차순으로 정렬한 리스트 \n",
    "- vocab_to_idx : 토큰화 한 후 단어의 수를 내림차순으로 정렬한 후의 인덱스 값을 부여한 set"
   ]
  },
  {
   "cell_type": "markdown",
   "metadata": {},
   "source": [
    "### 1.2 단어간 유사도 측정 함수\n",
    "- Co-occurrence는 문장 내에서 두 단어의 간격이 `window` 인 횟수"
   ]
  },
  {
   "cell_type": "code",
   "execution_count": 3,
   "metadata": {
    "ExecuteTime": {
     "end_time": "2021-05-06T05:03:24.971492Z",
     "start_time": "2021-05-06T05:03:24.964520Z"
    }
   },
   "outputs": [],
   "source": [
    "from collections import defaultdict\n",
    "\n",
    "def cooccurrence(tokens, vocab_to_idx, window=2, min_cooccurrence=2):\n",
    "    counter = defaultdict(int)\n",
    "    for s, tokens_i in enumerate(tokens):\n",
    "        vocabs = [vocab_to_idx[w] for w in tokens_i if w in vocab_to_idx]\n",
    "        n = len(vocabs)\n",
    "        for i, v in enumerate(vocabs):\n",
    "            if window <= 0:\n",
    "                b, e = 0, n\n",
    "            else:\n",
    "                b = max(0, i - window)\n",
    "                e = min(i + window, n)\n",
    "            for j in range(b, e):\n",
    "                if i == j:\n",
    "                    continue\n",
    "                counter[(v, vocabs[j])] += 1\n",
    "                counter[(vocabs[j], v)] += 1\n",
    "    counter = {k: v for k, v in counter.items() if v >= min_cooccurrence}\n",
    "    n_vocabs = len(vocab_to_idx)\n",
    "    return dict_to_mat(counter, n_vocabs, n_vocabs)"
   ]
  },
  {
   "cell_type": "markdown",
   "metadata": {
    "ExecuteTime": {
     "end_time": "2021-04-26T00:44:10.475136Z",
     "start_time": "2021-04-26T00:44:10.472144Z"
    }
   },
   "source": [
    "### 1.3 dictionary를 sparse matrix로 변환하는 함수"
   ]
  },
  {
   "cell_type": "code",
   "execution_count": 4,
   "metadata": {
    "ExecuteTime": {
     "end_time": "2021-05-06T05:03:25.025350Z",
     "start_time": "2021-05-06T05:03:24.972490Z"
    },
    "code_folding": []
   },
   "outputs": [],
   "source": [
    "from scipy.sparse import csr_matrix\n",
    "\n",
    "def dict_to_mat(d, n_rows, n_cols):\n",
    "    rows, cols, data = [], [], []\n",
    "    for (i, j), v in d.items():\n",
    "        rows.append(i)\n",
    "        cols.append(j)\n",
    "        data.append(v)\n",
    "    return csr_matrix((data, (rows, cols)), shape=(n_rows, n_cols))"
   ]
  },
  {
   "cell_type": "markdown",
   "metadata": {},
   "source": [
    "### 1.4 단어 그래프 만드는 함수"
   ]
  },
  {
   "cell_type": "code",
   "execution_count": 5,
   "metadata": {
    "ExecuteTime": {
     "end_time": "2021-05-06T05:03:25.030335Z",
     "start_time": "2021-05-06T05:03:25.026345Z"
    }
   },
   "outputs": [],
   "source": [
    "def word_graph(sents, tokenize=None, min_count=2, window=2, min_cooccurrence=2):\n",
    "    idx_to_vocab, vocab_to_idx = scan_vocabulary(sents, tokenize, min_count)\n",
    "    tokens = [tokenize(sent) for sent in sents]\n",
    "    g = cooccurrence(tokens, vocab_to_idx, window, min_cooccurrence)\n",
    "    return g, idx_to_vocab"
   ]
  },
  {
   "cell_type": "markdown",
   "metadata": {},
   "source": [
    "### 1.5 PageRank를 학습하는 함수 만들기"
   ]
  },
  {
   "cell_type": "code",
   "execution_count": 6,
   "metadata": {
    "ExecuteTime": {
     "end_time": "2021-05-06T05:03:25.284654Z",
     "start_time": "2021-05-06T05:03:25.031332Z"
    }
   },
   "outputs": [],
   "source": [
    "import numpy as np\n",
    "from sklearn.preprocessing import normalize\n",
    "\n",
    "\n",
    "def pagerank(x, df=0.85, max_iter=30):\n",
    "    assert 0 < df < 1\n",
    "\n",
    "    # initialize\n",
    "    # column sum이 1이 되도록 L1 normalization 사용 = A\n",
    "    A = normalize(x, axis=0, norm='l1')\n",
    "    R = np.ones(A.shape[0]).reshape(-1, 1)\n",
    "    bias = (1 - df) * np.ones(A.shape[0]).reshape(-1, 1)\n",
    "\n",
    "    # iteration\n",
    "    for _ in range(max_iter):\n",
    "        # A*B = column j에서 row j로의 랭킹 Rj의 전달되는 값\n",
    "        R = df * (A * R) + bias\n",
    "\n",
    "    return R"
   ]
  },
  {
   "cell_type": "markdown",
   "metadata": {},
   "source": [
    "### 1.6 키워드 추출 함수"
   ]
  },
  {
   "cell_type": "code",
   "execution_count": 7,
   "metadata": {
    "ExecuteTime": {
     "end_time": "2021-05-06T05:03:25.290639Z",
     "start_time": "2021-05-06T05:03:25.286649Z"
    }
   },
   "outputs": [],
   "source": [
    "def textrank_keyword(sents, tokenize, min_count, window, min_cooccurrence, df=0.85, max_iter=30, topk=30):\n",
    "    g, idx_to_vocab = word_graph(\n",
    "        sents, tokenize, min_count, window, min_cooccurrence)\n",
    "    R = pagerank(g, df, max_iter).reshape(-1)\n",
    "    idxs = R.argsort()[-topk:]\n",
    "    keywords = [(idx_to_vocab[idx], R[idx]) for idx in reversed(idxs)]\n",
    "    return keywords"
   ]
  },
  {
   "cell_type": "markdown",
   "metadata": {},
   "source": []
  },
  {
   "cell_type": "markdown",
   "metadata": {},
   "source": [
    "## 2. 문장 그래프 만들기\n",
    "- TextRank를 이용해 핵심 문장을 추출하기 위해선 문장 그래프를 만들어야 함. \n",
    "- **이때 마디(node)는 각 문장이 마디가 된다.**"
   ]
  },
  {
   "cell_type": "markdown",
   "metadata": {},
   "source": [
    "### 2.1 문장간 유사도 측정 함수 \n",
    "- Q. 문장간 유사도 측정은 어떻게? \n",
    "- A. 두 문장에 공통으로 등장한 단어의 개수를 각 문장의 단어 개수의 log 값의 합으로 나눈 값을 유사도로 설정   \n",
    "    - 문장 길이에 log를 부여하기 때문에 **길이가 길어질수록 분모 값의 증가분은 줄어든다.** 대신 길이가 길기 때문에 **다른 문장과 중복된 단어가 등장할 가능성은 높아짐**\n",
    "\n",
    "\n",
    "- (1) 문장 그래프 형성 함수\n",
    "    - `min_sim` : 문장 간 그래프의 sparsity가 클수록 PageRank의 계산이 빠름. 문장 간 유사도가 0.3보다 작을 경우 edge를 연결하지 않음\n",
    "- (2) TextRank 문장 간 유사도 측정 함수\n",
    "- (3) Cosine 유사도 측정 함수\n"
   ]
  },
  {
   "cell_type": "code",
   "execution_count": 8,
   "metadata": {
    "ExecuteTime": {
     "end_time": "2021-05-06T05:03:25.302607Z",
     "start_time": "2021-05-06T05:03:25.291636Z"
    },
    "code_folding": [
     34
    ]
   },
   "outputs": [],
   "source": [
    "from collections import Counter\n",
    "from scipy.sparse import csr_matrix\n",
    "import math\n",
    "\n",
    "def sent_graph(sents, tokenize, similarity, min_count=2, min_sim=0.3):\n",
    "    _, vocab_to_idx = scan_vocabulary(sents, tokenize, min_count)\n",
    "\n",
    "    tokens = [[w for w in tokenize(sent) if w in vocab_to_idx] for sent in sents]\n",
    "    rows, cols, data = [], [], []\n",
    "    n_sents = len(tokens)\n",
    "    for i, tokens_i in enumerate(tokens):\n",
    "        for j, tokens_j in enumerate(tokens):\n",
    "            if i >= j:\n",
    "                continue\n",
    "            sim = similarity(tokens_i, tokens_j)\n",
    "            if sim < min_sim:\n",
    "                continue\n",
    "            rows.append(i)\n",
    "            cols.append(j)\n",
    "            data.append(sim)\n",
    "    return csr_matrix((data, (rows, cols)), shape=(n_sents, n_sents))\n",
    "\n",
    "def textrank_sent_sim(s1, s2):\n",
    "    n1 = len(s1)\n",
    "    n2 = len(s2)\n",
    "    if (n1 <= 1) or (n2 <= 1):\n",
    "        return 0\n",
    "    common = len(set(s1).intersection(set(s2)))\n",
    "    base = math.log(n1) + math.log(n2)\n",
    "    return common / base\n",
    "\n",
    "def cosine_sent_sim(s1, s2):\n",
    "    if (not s1) or (not s2):\n",
    "        return 0\n",
    "\n",
    "    s1 = Counter(s1)\n",
    "    s2 = Counter(s2)\n",
    "    norm1 = math.sqrt(sum(v ** 2 for v in s1.values()))\n",
    "    norm2 = math.sqrt(sum(v ** 2 for v in s2.values()))\n",
    "    prod = 0\n",
    "    for k, v in s1.items():\n",
    "        prod += v * s2.get(k, 0)\n",
    "    return prod / (norm1 * norm2)"
   ]
  },
  {
   "cell_type": "code",
   "execution_count": 9,
   "metadata": {
    "ExecuteTime": {
     "end_time": "2021-05-06T05:03:25.312580Z",
     "start_time": "2021-05-06T05:03:25.303621Z"
    }
   },
   "outputs": [
    {
     "data": {
      "text/plain": [
       "0.804112726507858"
      ]
     },
     "execution_count": 9,
     "metadata": {},
     "output_type": "execute_result"
    }
   ],
   "source": [
    "textrank_sent_sim( sentences[1], sentences[2])"
   ]
  },
  {
   "cell_type": "markdown",
   "metadata": {},
   "source": [
    "### 2.2 핵심 문장 추출 함수"
   ]
  },
  {
   "cell_type": "code",
   "execution_count": 11,
   "metadata": {
    "ExecuteTime": {
     "end_time": "2021-05-06T05:04:09.826743Z",
     "start_time": "2021-05-06T05:04:09.821756Z"
    },
    "code_folding": []
   },
   "outputs": [],
   "source": [
    "def textrank_keysentence(sents, tokenize, min_count, similarity, df=0.85, max_iter=30, topk=5):\n",
    "    g = sent_graph(sents, tokenize, min_count, similarity)\n",
    "    R = pagerank(g, df, max_iter).reshape(-1)\n",
    "    idxs = R.argsort()[-topk:]\n",
    "    keysents = [(idx, R[idx], sents[idx]) for idx in reversed(idxs)]\n",
    "    return keysents"
   ]
  },
  {
   "cell_type": "markdown",
   "metadata": {},
   "source": [
    "# textrank 라이브러리 사용"
   ]
  },
  {
   "cell_type": "code",
   "execution_count": 3,
   "metadata": {
    "ExecuteTime": {
     "end_time": "2021-05-06T05:04:15.888359Z",
     "start_time": "2021-05-06T05:04:15.174231Z"
    }
   },
   "outputs": [],
   "source": [
    "import pandas as pd\n",
    "from konlpy.tag import Komoran\n",
    "from konlpy.tag import Kkma\n",
    "from textrank import extractSentences, extractKeyphrases, buildGraph"
   ]
  },
  {
   "cell_type": "markdown",
   "metadata": {
    "ExecuteTime": {
     "end_time": "2021-04-26T01:53:41.900591Z",
     "start_time": "2021-04-26T01:53:41.898348Z"
    },
    "heading_collapsed": true
   },
   "source": [
    "### Error 처리\n",
    "- textrank를 실행할 때 nltk 라이브러리의 tagger를 다운받으라는 오류\n",
    "    - `>>> import nltk`\n",
    "    - `>>> nltk.download('averaged_perceptron_tagger')`"
   ]
  },
  {
   "cell_type": "markdown",
   "metadata": {
    "heading_collapsed": true
   },
   "source": [
    "### Error처리 (2)\n",
    "`java.lang.VirtualMachineErrorPyRaisable: java.lang.OutOfMemoryError: GC overhead limit exceeded`\n",
    "\n",
    "- `>>> konlpy.jvm.init_jvm(jvmpath=None, max_heap_size=1024)`\n",
    "- 2번째 인자인 max_heap_size를 증가시키면 out of memory 현상이 좀 완화되는 것"
   ]
  },
  {
   "cell_type": "markdown",
   "metadata": {
    "ExecuteTime": {
     "end_time": "2021-04-26T01:53:41.900591Z",
     "start_time": "2021-04-26T01:53:41.898348Z"
    }
   },
   "source": [
    "### tokenizer\n",
    "- Komoran 사용\n",
    "    - 명사, 동사, 형용사, 어간의 품사만 이용하는 토크나이저"
   ]
  },
  {
   "cell_type": "code",
   "execution_count": 4,
   "metadata": {
    "ExecuteTime": {
     "end_time": "2021-05-06T05:04:16.845437Z",
     "start_time": "2021-05-06T05:04:16.713783Z"
    }
   },
   "outputs": [],
   "source": [
    "import konlpy\n",
    "from konlpy.tag import Kkma\n",
    "\n",
    "konlpy.jvm.init_jvm(jvmpath=None, max_heap_size=1024)"
   ]
  },
  {
   "cell_type": "code",
   "execution_count": 5,
   "metadata": {
    "ExecuteTime": {
     "end_time": "2021-05-06T05:04:19.338774Z",
     "start_time": "2021-05-06T05:04:17.161587Z"
    },
    "code_folding": []
   },
   "outputs": [],
   "source": [
    "komoran = Komoran()\n",
    "# tagger = Kkma()\n",
    "\n",
    "def komoran_tokenize(sent):\n",
    "    words = komoran.pos(sent, join=True)\n",
    "    words = [w for w in words if (\n",
    "        '/NN' in w or '/XR' in w or '/VA' in w or '/VV' in w)]\n",
    "    return words\n",
    "\n",
    "\n",
    "# 토크나이저를 댓글에 적용\n",
    "words = komoran_tokenize(' '.join(sentences))\n",
    "# words\n",
    "\n",
    "# 리스트 내의 문자열을 하나의 문자열로 통합\n",
    "texts = ' '.join(sentences)"
   ]
  },
  {
   "cell_type": "code",
   "execution_count": 6,
   "metadata": {
    "ExecuteTime": {
     "end_time": "2021-05-06T05:04:19.433521Z",
     "start_time": "2021-05-06T05:04:19.429529Z"
    }
   },
   "outputs": [],
   "source": [
    "new_sentences = []\n",
    "for i in sentences:\n",
    "    new_sentences.append(' '.join(i.split('.')))"
   ]
  },
  {
   "cell_type": "markdown",
   "metadata": {},
   "source": [
    "### textrank 사용"
   ]
  },
  {
   "cell_type": "code",
   "execution_count": 7,
   "metadata": {
    "ExecuteTime": {
     "end_time": "2021-05-06T05:05:06.461977Z",
     "start_time": "2021-05-06T05:05:05.476612Z"
    },
    "collapsed": true
   },
   "outputs": [
    {
     "data": {
      "text/plain": "[('하/VV', 12.26218519084091),\n ('것/NNB', 11.829102687851451),\n ('되/VV', 6.283138400653213),\n ('국민/NNG', 5.891762769295998),\n ('없/VA', 5.0661024232458995),\n ('수/NNB', 4.618087666331497),\n ('있/VV', 4.371187083216668),\n ('선거/NNG', 4.108651372311032),\n ('문재인/NNP', 3.737666963904774),\n ('정치/NNG', 3.5861844560049607),\n ('안철수/NNP', 3.44862196562734),\n ('시장/NNG', 3.3976128486458106),\n ('서울/NNP', 3.3137823080666378),\n ('시장/NNP', 3.237090571839366),\n ('정권/NNG', 3.172585809705201),\n ('총장/NNP', 3.1705407343498013),\n ('대통령/NNG', 3.0001351158327982),\n ('윤석열/NNP', 2.9638625707083537),\n ('보/VV', 2.8828240913216487),\n ('시민/NNG', 2.7825171005872957),\n ('때/NNG', 2.71804333779357),\n ('이번/NNG', 2.7027652211148725),\n ('만들/VV', 2.6971380541041867),\n ('윤/NNP', 2.643281813253993),\n ('검찰/NNG', 2.6121447665127193),\n ('정책/NNG', 2.585480911825317),\n ('정권/NNP', 2.415209713311856),\n ('민주당/NNP', 2.3672265578805307),\n ('후보/NNG', 2.310579294148303),\n ('가덕도/NNP', 2.269916625887083)]"
     },
     "execution_count": 7,
     "metadata": {},
     "output_type": "execute_result"
    }
   ],
   "source": [
    "# (1) git으로 받은 모델\n",
    "from textrank_files import KeywordSummarizer, KeysentenceSummarizer\n",
    "\n",
    "keyword_extractor = KeywordSummarizer(\n",
    "    tokenize = komoran_tokenize,\n",
    "    window = -1,\n",
    "    verbose = False\n",
    ")\n",
    "\n",
    "keywords = keyword_extractor.summarize(sentences, topk=30)\n",
    "keywords"
   ]
  },
  {
   "cell_type": "code",
   "execution_count": 8,
   "metadata": {
    "ExecuteTime": {
     "end_time": "2021-05-06T05:05:55.921668Z",
     "start_time": "2021-05-06T05:05:08.657417Z"
    },
    "code_folding": []
   },
   "outputs": [
    {
     "data": {
      "text/plain": "{\"'부패완판\",\n 'OOO들',\n 'OOO정권은',\n 'WAY로',\n '가능성이',\n '가덕도에 퍼붓겠다는',\n '가덕도의 겨울바닷물이',\n '가독도신공항은 오거돈재산',\n '가졌었는데',\n '간잽이인',\n '갈것이요',\n '감옥으로',\n '강도높게',\n '강아지가',\n '같습니다',\n '개소리다',\n '개표에서',\n '개헌론자인',\n '개헌운운이냐',\n '개헌하겠다고',\n '개헌하려면 임기초에',\n '개헌하지말고 국민투표로',\n '거둘것이다',\n '거릴때부터',\n '건설교통',\n '걸림돌이 없어지므로서',\n '검찰개혁의',\n '검찰총장',\n '검찰총장으로서의',\n '검찰총장을 정치적으로',\n '검찰총장직을 벗어던지고',\n '것입니다',\n '겨울바닷물이 펄펄끓는꿈을',\n '겪어본사람들의',\n '결정된다는',\n '결탁하여',\n '경고한다',\n '경선으로',\n '계류중인 울산시장',\n '고스란히 시민들에게',\n '고추가루를 뿌리고있다',\n '공산국가처럼',\n '공수처에 수사의뢰하고',\n '과감하게',\n '과학기술',\n '관철시키고 현정부여당의',\n '교수처럼',\n '교체하는게 바람직하다고',\n '구세주가 나타날때도',\n '구세주가 되어주시길',\n '국가발전을',\n '국가원수급 환영인파에',\n '국가전복',\n '국무총리',\n '국민들도',\n '국민들에게',\n '국민들의',\n '국민들한테',\n '국민앞에 타락한권력으로',\n '국민에게',\n '국민을위해',\n '국민의당에서',\n '국민의힘은',\n '국민통합 좋아하네',\n '국민투표로 국민동의를',\n '국민혈세 쳐부어서라도',\n '국정농단 범죄행위에',\n '국정농단행위를 철저하게',\n '국호의장',\n '국회의원 만들어서는',\n '국회의원3명뿐이다',\n '국회의원선거도 다시해야한다',\n '굳히기에 나설건가',\n '권력있다 부각시켜',\n '권력층의',\n '그누구도 이번보선에',\n '그동안의 행적으로',\n '그렇다고 성추행사건으로',\n '그만둬도 그만둬야할',\n '그자리까지 올라갔으면',\n '급선무다',\n '기본권을 침해하는',\n '기본적인 행복권을',\n '기분좋게 양보한다면',\n '기생하며',\n '기억하십시요',\n '기획재정부',\n '길입니다',\n '김종인은 배제해야',\n '김종인이',\n '김형오가',\n '깊이생각하기바란다',\n '깨우쳐야',\n '꼬라지를',\n '꿈꿀수있다',\n '끊어버려야한다 미꾸라지들이',\n '날까지는 의미없다',\n '남은일은 투표애서',\n '내각제로 틀어버릴',\n '내년6월 본선거에서',\n '내려오는',\n '내려와야지',\n '내리꽂힐까',\n '너거들이',\n '넉넉하다고 수작부리네',\n '놈이라도',\n '놓으라고 고추가루를',\n '누리겠다는 소시민만',\n '늦어도너무늦은사과정말로너무늦었네요ㆍ 선거시기라이해는하지만좀스럽고민망하네요ㆍ여태까지몰라서사과를하지않았나요ㆍ피해호소인이란말로피해자에게2차가해를한사람들과서울시장을하겠다고뜻을같이하고있으면서사과를한다니이게사과를한다는사람의태도는아니라고생각합니다ㆍ',\n '단일화는',\n '단일화는 무조권이다',\n '단일화해야',\n '단일화후보를 성사시키지',\n '단일후보를',\n '당대당으로 합당하여',\n '당선가능성은',\n '당선되는 시장들은',\n '당선되어 갑작스레',\n '당선된다면',\n '당선후에 입당하면서',\n '당신역시 위정자임에',\n '당위성과',\n '대구고검 국가원수급',\n '대립들이 설자리가',\n '대부분이 자살하거나',\n '대선출마다',\n '대의정치',\n '대통령과 문재인을',\n '대통령깜이네요',\n '대통령에 님짜가지',\n '대통령으로',\n '대통령은~윤석열/서울시장',\n '대통령을 탄핵하고',\n '대통령이라도',\n '대통령제',\n '대표해서',\n '대한민국',\n '대한민국 국민들이다',\n '대한민국 법치주의',\n '대한민국에',\n '대한민국을 이끌만한',\n '대한민국이',\n '대한민국인재다',\n '던져버리고',\n '도진개진 문재인이네',\n '돌리려는 수작이군',\n '돌아감은 말할필요도',\n '동부구치소로',\n '돼지가웃겠네 온가족이',\n '되리라고',\n '된다라는',\n '될것임을 명심하라',\n '뒤집어서',\n '뒷수습도 본인들이',\n '드러냈다',\n '디딤돌을',\n '따질필요도',\n '땅투기한곳에 국민혈세',\n '때문인데 문정권은',\n '땡깡부리다 뛰쳐나간',\n '떨어지더니 그렇다고',\n '떨지말고',\n '똘만이이기',\n '뛰어든다면 대깨문들의',\n '라이벌이 윤총장이다',\n '마련하기 위헤서도',\n '마무리하는게 바람직하다고',\n '마음대로',\n '마음대로의',\n '마음으로 물러서라~~~',\n '막론하고 윤석열만한',\n '만들기에',\n '만들어가고',\n '만들어서 최강욱같은놈을',\n '만들어야',\n '많이하네',\n '말아드신',\n '말입니까',\n '말해줄께요 윤총장님',\n '망국으로 빠져들고',\n '맡기겠는가',\n '매몰되어 자업자득이',\n '매표행위',\n '머리위로 활시위를',\n '머무를것',\n '머므르면서 계속해서',\n '멀지말고 성추행으로',\n '멍청이와',\n '명심하길',\n '모양이네',\n '무리들의',\n '무리라해도',\n '무리배들에게',\n '무소불위 권력남용을',\n '무죄판결을',\n '문란죄로',\n '문재인과 민주당들이',\n '문재인과 민주당을',\n '문재인에',\n '문재인의 도우미로',\n '문재인정권은 법치파괴로',\n '문재인정권의 부도덕한',\n '문재인정권의 심판해보자는',\n '문재인정권의 헌법파괴',\n '문재인정부',\n '문저정권은 걸림돌이',\n '문정권은 한술더떠서',\n '문제인것처럼',\n '물러서라~~~ 박영선은',\n '물밑세력의 윈동력을',\n '미꾸라지들이 차후정국에',\n '민주당들이 발악아닌가다',\n '민주당을 따라올자가',\n '민주주의',\n '민주주의의',\n '바꾸기만',\n '바꾸느냐',\n '바람직하다고 생각한다',\n '바람직하다고 할수있다',\n '바람직한지는',\n '바랍니다',\n '바보들의 세상인가',\n '박병석아',\n '박병석이라는 애송이로',\n '박병석이를',\n '박영선에',\n '박영선은 정동영이',\n '박영선이 바람직하다고',\n '박원순이는',\n '반면교사삼아',\n '반성해야하고',\n '받았지만',\n '받은때가 온다는것도',\n '받을수있는 오세훈이나',\n '발악아닌가다 부산사람이',\n '밟을것이다',\n '밥그릇만 공공히될뿐이다',\n '방지하면 문재인정권의',\n '방향으로',\n '배신한놈',\n '배신한다',\n '법치주의 시장경제',\n '법치파괴 정권의후보다',\n '법치파괴로 이미정의된',\n '벗어던지고 차기대통령으로',\n '변을밝히고 목숨을걸어라',\n '보권선거는 여권후보가',\n '보궐선거는',\n '보수라는',\n '보여주기 바랍니다',\n '보입니다',\n '보지말고',\n '보호하는',\n '본격적으로',\n '본선거에서 교체하는게',\n '부각시키려는',\n '부도덕한 시궁창이',\n '부리는건',\n '부리는건지 수상하구만',\n '부리는게 현정국과',\n '부산민주당것들이 쐐빠지게',\n '부산시장',\n '부산은오거돈선거이고 오거돈치부선거아닌가',\n '부역자들은',\n '분골쇄신해야 문주사빨사기집단에서',\n '분명하고 안철수는',\n '불공정팽창과 기회균등을',\n '불려줄려고 문재인과',\n '불복하여 독자적으로',\n '불출마를 시원하게',\n '비리들을 수사하여',\n '비정상적정책',\n '빠져준것이나',\n '빨강색에',\n '뽑았으니 문재인과',\n '사느냐의',\n '사람들끼리 재편하여',\n '사람인지',\n '사람입니다',\n '사법농단 국정농단행위를',\n '사법농단의 지름길을',\n '사임하게',\n '사임하지',\n '사임한다면 자충수를',\n '사임해도',\n '사퇴시켜라',\n '사퇴하기전에 재앙이한태',\n '사후거취가 정해지기전',\n '살기힘들었던 국민들의',\n '삼자대결을',\n '삼자대결을 선택하여',\n '새끼마냥 찍찍거리는',\n '새끼하고',\n '생각하는 바보들의',\n '생각하니',\n '생각할때',\n '생긴선거가 가독도신공항은',\n '생산하는 정치아류들의',\n '서울시는',\n '서울시민들의 선택지는',\n '서울시장 후보들의',\n '서울시장까지',\n '선거시기라이해는하지만좀스럽고민망하네요ㆍ여태까지몰라서사과를하지않았나요ㆍ피해호소인이란말로피해자에게2차가해를한사람들과서울시장을하겠다고뜻을같이하고있으면서사과를한다니이게사과를한다는사람의태도는아니라고생각합니다ㆍ 충청지지도',\n '선거에서 안철수가',\n '선거전에',\n '선출되어 문재인정권의',\n '성공리에 건설되느냐',\n '성범죄로 선거하는데',\n '성범죄와의',\n '성추해으로 생긴선거가',\n '성추행사건으로 구속기로에서선',\n '성추행으로 삐뚤어진',\n '성추행으로 치루어지는',\n '성취되었다고 생각하는',\n '세균만한',\n '소속정당의',\n '수구좌익',\n '수사의뢰하고 더불더듬당의',\n '수사하고 처벌하는',\n '수사하여 불공정팽창과',\n '수작같아',\n '수장으로',\n '수하되어',\n '승리해야합니다',\n '승부수는',\n '시궁창에',\n '시기상조',\n '시기적으로',\n '시나리오로',\n '시민권자',\n '시민들에게 돌아감은',\n '시민에게',\n '시원하게 말하더니',\n '시장경제를 활성화하여',\n '시장들은 업무파악만하다',\n '시장에게',\n '시정만을 생각한다면',\n '시키려는 내각제라는',\n '식물인간',\n '실날같은',\n '싫어줘라',\n '심판해야',\n '싶은게냐',\n '쎄빠지게 오거돈위한선가아이가다',\n '쐐빠지게 발광하고쑈한단다',\n '쓰여졌으면',\n '아니겠지',\n '안봤는데',\n '안지키면서',\n '안철수가',\n '안철수는',\n '안철수는 이번에도',\n '안철수는 제1야당',\n '안철수라도 단일화를',\n '안철수보다는',\n '안철수의',\n '안철수의 그동안의',\n '않되려면',\n '않을까요',\n '압력을넣어 선수칠것같다',\n '야권단일',\n '야권후보가 당선될경우에는',\n '야권후보의',\n '야당에게는 어부지리로',\n '약삭빠르고',\n '양보받고 당선후에',\n '어떠한가를 말해주는',\n '어떻게든',\n '어용정당들은 없어져야된다',\n '얻었으면',\n '얼마든지 받은때가',\n '없어지므로서 사법농단의',\n '여권후보가 당선되어',\n '여당시장의',\n '여당에서 진행중인',\n '여려사람과 함께하는',\n '여론몰이를',\n '여차하면',\n '열린민주당이나 정의당같은',\n '열일하는 정치인들의',\n '염원입니다',\n '영양가도없는',\n '영주권자이므로박빵선이는대한민국사람이아니다빵선아사퇴해라부탁한다 부산은오거돈선거이고',\n '오거돈에 성추해으로',\n '오거돈재산 불려줄려고',\n '오거돈치부선거아닌가 오거돈에',\n '오거든성추행 때문인데',\n '오고던치부만들려로고 부산민주당것들이',\n '오세훈밖에',\n '오세훈이 바람직하지만',\n '오세훈이나 박영선이',\n '오후보에게',\n '올라갔으면 뒷수습도',\n '올인해야',\n '완전박탈은',\n '요구합니다',\n '우대립에 열일하는',\n '우리것입니다',\n '우리들의 구세주가',\n '울산시장 부정선거',\n '울산시장선거개입',\n '원자로폐쇄',\n '원칙대로',\n '위정자의',\n '위정자임에 드러났다',\n '윈동력을 끊어버려야한다',\n '윤석열과',\n '윤석열등의',\n '윤석열만한 강단있고',\n '윤석열보다',\n '윤석열을',\n '윤석열을 임기내에',\n '윤석열의 말입니까',\n '윤총장은',\n '윤총장은 국민앞에',\n '윤총장을 정치하려는',\n '윤총장을 정치화한것은',\n '윤총장의',\n '윤총장이',\n '의문때문이다',\n '의미한다',\n '의석수가 넉넉하다고',\n '의석수를',\n '의식으로 직선제인',\n '의회독재의',\n '이겨야지요',\n \"이라면서 '중대범죄수사청\",\n '이런식으로',\n '이미지라는거',\n '이미지를 만들어야',\n '이번선거는 쎄빠지게',\n '이번선거는야권의대승으로가야대한민국이산다 국민혈세로치러지는두대도시민주당은자숙해라',\n '이번에도 단일화에',\n '이번에도 아*름*다*운',\n '이어지리',\n '이재명이나 윤석열이',\n '이재명이한테',\n '인민민주주의로 개헌하사는',\n '인사권자의',\n '인식하고',\n '인적자원을 작더라도',\n '일념으로',\n '일자리와',\n '있겠지만',\n '있습니다',\n '있었는데 안타깝제',\n '있을것이다',\n '있음이며',\n '자로구만',\n '자살하거나 망명해야',\n '자신들의',\n '자유민주주의와 시장경제를',\n '자유민주주의와 헌법정신',\n '자충수를 뚜는것이며',\n '자화상인',\n '작더라도 구성해야',\n '잘하드만',\n '잘하시길 기원하겠습니다',\n '잡색으로',\n '잡으시어',\n '장관까지',\n '장난감으로',\n '장외에서',\n '재앙이한태 압력을넣어',\n '재정하여 자유민주주의와',\n '재편하여 대권에서',\n '저지르면서 국민통합',\n '적극수사 기소하여',\n '적폐수사 피의댓가로',\n '적합도는 오세훈이',\n '전도시킴으로서',\n '전시장의',\n '전임시장의 정책들을',\n '정권에게는',\n '정권의후보다 이번선거는야권의대승으로가야대한민국이산다',\n '정권인데',\n '정세균과',\n '정의당같은 어용정당들은',\n '정의롭게 수사하고',\n '정정당당하게 선출되어',\n '정착시켜야',\n '정책들을 마무리하는게',\n '정치권과는',\n '정치권에서',\n '정치꾼이 없어져야한다',\n '정치아류들의 설자리을',\n '정치인갱은',\n '정치인사들도 마찬가지였다',\n '정치인이라는 프레임을',\n '정치입문초기만해도',\n '정치적으로 공격하는',\n '정치적인',\n '정치판에 뛰어든다면',\n '정치하려는 정치인이라는',\n '정치화한것은 정부여당이다',\n '제1야당에',\n '제거되는 날까지는',\n '제일야당이',\n '조건없이',\n '조건없이 기분좋게',\n '조국가족비리',\n '조심하라',\n '존재인가',\n '종북이들도',\n '종북좌파에게',\n '주변인물의',\n '중소기업부',\n '중요변수로',\n '중요하구요',\n '즐거움이요',\n '지구상에는',\n '지금사임해서',\n '지름길을 달리것이다',\n '지방선거를',\n '지방선거를 준비해야한다',\n '지지국민들을 결집시킬',\n '지지합니다',\n '지켜보는',\n '지혜로운',\n '직감하였겠지',\n '직설적으로 말해줄께요',\n '진로에도',\n '진보라는',\n '집권당이',\n '집권하지',\n '집단에게',\n '쪼차내고 분골쇄신해야',\n '차기대통령으로 정정당당하게',\n '차단되어 불가하니',\n '철저하게 파해치고',\n '쳐부어서라도 대통령되고',\n '총장이나 지검장깜이',\n '최강욱같은놈을 국회의원',\n '최광욱등',\n '추미애법무부사유화와농락',\n '추악년이 하는짓을보면',\n '추악하고',\n '추접하게',\n '추진하는',\n '충청권의',\n '충청권의 지지세에',\n '치루어지는 선거라서',\n '치뤄야한다',\n '치워주시오 윤석열을',\n '치유되리라',\n '칭*찬*받*을',\n '타락한권력으로 표팔이를',\n '타락한정부의 그누구도',\n '탄핵시킨',\n '토안하는',\n '투신해서',\n '특별시가',\n '파괴하는',\n '파쇼독재정권의 비리들을',\n '판단하면',\n '패거리당',\n '패거리들',\n '패하며는',\n '편향성을',\n '폐기정책에',\n '표팔이를 해선안된다',\n '피눈물을',\n '피의댓가로 그자리까지',\n '필요하다면 내년6월',\n '하겠다고',\n '하고싶다면',\n '하느냐는',\n '하더니만 이제는서울시장까지',\n '하려는가 어떤것이',\n '하지말고',\n '하지않는',\n '한결같이 부정적이라는',\n '한국국적가지고서 국회의원',\n '한국국적자가 국회의원',\n '한꺼풀이라도 벗기는데에',\n '한다며는',\n '한되느냐',\n '한사람이',\n '한술더떠서 오거던을',\n '한푼두푼',\n '함께했던 정치인사들도',\n '해먹겠다고 수십조원의',\n '해먹어연서',\n '해야한다',\n '해야할지',\n '행동으로',\n '행위들을 총장으로서는',\n '허송세월하게 될수밖에',\n '헌법상의',\n '헌법수호를',\n '헌법에도전한 물밑세력의',\n '헌법파괴 사법농단',\n '헤아릴수 없는자들의',\n '헤아릴수없는 파쇼독재정권의',\n '현행법위반을',\n '현행법은',\n '현혹하는 포퓰리즘으로',\n '호남지지를 받기위해서',\n '호락호락 하지않다',\n '혼란스러워진다',\n '혼란함이 고스란히',\n '홍준표가 OOO라고',\n '환영인파에 좌불안석',\n '활성화하여 후손들을',\n '후OOO원하기에 나서는건가',\n '휘둘리지'}"
     },
     "execution_count": 8,
     "metadata": {},
     "output_type": "execute_result"
    }
   ],
   "source": [
    "# (2) textrank 모듈의 extractKeyphrases 모델\n",
    "extractKeyphrases( texts )"
   ]
  },
  {
   "cell_type": "code",
   "execution_count": 9,
   "metadata": {
    "ExecuteTime": {
     "end_time": "2021-05-06T05:05:57.016800Z",
     "start_time": "2021-05-06T05:05:56.046335Z"
    }
   },
   "outputs": [
    {
     "data": {
      "text/plain": "[(74,\n  2.517619670251482,\n  '현 윤총장을 정치화한것은 정부여당이다. 무리한 현행법위반을 밥먹듯 독재,편협,지독한 편향적 논리에 매몰되어 자업자득이 된것이다. 지리멸렬한 야당에게는 어부지리로 호재가 되었다. 지각한자들은 검찰개혁의 오래된 숙원의 본질을 관철시키고 현정부여당의 무리한 불법,편법,비정상적정책 ex)가덕도,원자로폐쇄,라임,울산시장선거개입,조국가족비리,추미애법무부사유화와농락 ....etc 헤아릴수없는 파쇼독재정권의 비리들을 수사하여 불공정팽창과 기회균등을 파괴한 현정부,여당의 심판을 준비 해야 한다는 것이다. 반면교사삼아 좌,우대립에 열일하는 정치인들의 경종이 되어야 한다. 국가 발전과 국민들의 기초적 의,식,주,와 기본적인 행복권을 위한 일에 좌,우 극단적 대립들이 설자리가 아니다 그들의 밥그릇만 공공히될뿐이다. 선의의 대의정치,행정에 이념의 철지난 장난감으로 혼한을 생산하는 정치아류들의 설자리을 없애야 한다. 우리는 일류 대한민국 국민들이다. 삼류정치이단의 무리배들에게 엄중히 경고한다.')]"
     },
     "execution_count": 9,
     "metadata": {},
     "output_type": "execute_result"
    }
   ],
   "source": [
    "# (1) git으로 받은 모델\n",
    "summarizer = KeysentenceSummarizer(tokenize = komoran_tokenize, min_sim = 0.3)\n",
    "keysents = summarizer.summarize(sentences, topk=1)\n",
    "keysents"
   ]
  },
  {
   "cell_type": "code",
   "execution_count": 10,
   "metadata": {
    "ExecuteTime": {
     "end_time": "2021-05-06T05:05:58.028096Z",
     "start_time": "2021-05-06T05:05:57.112545Z"
    }
   },
   "outputs": [
    {
     "data": {
      "text/plain": "[(74,\n  2.4144801273723524,\n  '현 윤총장을 정치화한것은 정부여당이다  무리한 현행법위반을 밥먹듯 독재,편협,지독한 편향적 논리에 매몰되어 자업자득이 된것이다  지리멸렬한 야당에게는 어부지리로 호재가 되었다  지각한자들은 검찰개혁의 오래된 숙원의 본질을 관철시키고 현정부여당의 무리한 불법,편법,비정상적정책 ex)가덕도,원자로폐쇄,라임,울산시장선거개입,조국가족비리,추미애법무부사유화와농락     etc 헤아릴수없는 파쇼독재정권의 비리들을 수사하여 불공정팽창과 기회균등을 파괴한 현정부,여당의 심판을 준비 해야 한다는 것이다  반면교사삼아 좌,우대립에 열일하는 정치인들의 경종이 되어야 한다  국가 발전과 국민들의 기초적 의,식,주,와 기본적인 행복권을 위한 일에 좌,우 극단적 대립들이 설자리가 아니다 그들의 밥그릇만 공공히될뿐이다  선의의 대의정치,행정에 이념의 철지난 장난감으로 혼한을 생산하는 정치아류들의 설자리을 없애야 한다  우리는 일류 대한민국 국민들이다  삼류정치이단의 무리배들에게 엄중히 경고한다 ')]"
     },
     "execution_count": 10,
     "metadata": {},
     "output_type": "execute_result"
    }
   ],
   "source": [
    "## (1) 문장을 끊고 다시 해본 textrank\r\n",
    "sentences\r\n",
    "\r\n",
    "\r\n",
    "summarizer = KeysentenceSummarizer(tokenize = komoran_tokenize, min_sim = 0.3)\r\n",
    "keysents = summarizer.summarize(new_sentences, topk=1)\r\n",
    "keysents"
   ]
  },
  {
   "cell_type": "code",
   "execution_count": 17,
   "metadata": {
    "ExecuteTime": {
     "end_time": "2021-05-06T05:06:18.131037Z",
     "start_time": "2021-05-06T05:05:58.139797Z"
    },
    "scrolled": true
   },
   "outputs": [
    {
     "data": {
      "text/plain": "'OOO들 언젠가 다 동부구치소로 갈날이 올거다 영양가도없는 헛수고 많이하네 차라리 가덕도의 겨울바닷물이 펄펄끓는꿈을 꾸는게 낫겠다 김형오가 좌파인 문재인 정부의 무소불위 권력남용을 마지막 대통령에 님짜가지 붙인 조선의 어느 왕보다 더 권력있다 부각시켜 비아냥 거릴때부터 좌파로 인한 국가 위기를 자신들의 권력 강화인 이기적 내각제로 틀어버릴 재료로 삼는 이땅의 보수라는 정당에 기생하며 순색 아닌 잡색으로 내내 내려오는 부산의 김무성, 김형오, 유승민, 박형준 등이 광주의 민주화 파는 5.18 국가전복 혁명 세력과 결탁하여 마치 대통령제 자체가 문제인것처럼 저들이 탄핵시킨 박근혜 전 대통령과 문재인을 한대 묶어 권력 남용의 대통령으로 몰아 합리화 시키려는 내각제라는 완성된 시나리오로 종결 전도시킴으로서 또 다시 국민을 현혹하는 포퓰리즘으로 국회를 입법자 마음대로의 법률과 국민의'"
     },
     "execution_count": 17,
     "metadata": {},
     "output_type": "execute_result"
    }
   ],
   "source": [
    "# (2) 핵심 문장 추출하기\r\n",
    "key_sentences = extractSentences( texts ) # expected string or bytes-like object => 문자열 넣기\r\n",
    "key_sentences"
   ]
  },
  {
   "cell_type": "code",
   "execution_count": 25,
   "metadata": {
    "ExecuteTime": {
     "end_time": "2021-05-06T05:06:37.612958Z",
     "start_time": "2021-05-06T05:06:18.243733Z"
    }
   },
   "outputs": [
    {
     "data": {
      "text/plain": [
       "'반성해야하고 국민을 대표해서 인물을 키워야 한다 문재인과 비교해 봐라 머저리 멍청이와 용감한 남자 서울대 법대를 나온 훌륭한 대한민국인재다 나라의 복이다 젱세균!글자 그대로 세균만한 인간이 x 새끼마냥 찍찍거리는 꼴이 참 가관 윤 총장이 너같은 x 새끼하고 놀 존재인가?너 꼬라지를 알아라 검찰총장직으로는 문재인정권의 부도덕한 조직적 꼼수 국정농단 범죄행위에 대해서 정의롭게 수사하고 처벌하는 수단이 이미 문재인에 의해서 차단되어 불가하니 ~ 이제는 검찰총장직을 벗어던지고 차기대통령으로 정정당당하게 선출되어 문재인정권의 헌법파괴 사법농단 국정농단행위를 철저하게 파해치고 모두 감옥으로 보내어 피눈물을 흘리는 회한의 기회를 주세요 ~ 그래야 문재인정권의 상실된 공정,정의,도덕,양심에 의해 살기힘들었던 국민들의 분노와 고통이 치유되리라 봅니다 ~ 총장의 사후거취가 정해지기전 이른바 헌법에도전한 물밑세력의 윈동력을 끊어버려야한다 미꾸라지들이 차후정국에 더는'"
      ]
     },
     "execution_count": 25,
     "metadata": {},
     "output_type": "execute_result"
    }
   ],
   "source": [
    "## (2) 문장을 끊고 다시 해본 extractSentences( texts )\n",
    "new_texts = ' '.join(new_sentences)\n",
    "extractSentences( new_texts )"
   ]
  },
  {
   "cell_type": "markdown",
   "metadata": {},
   "source": [
    "# 만든 함수를 이용해 textrank"
   ]
  },
  {
   "cell_type": "code",
   "execution_count": 26,
   "metadata": {
    "ExecuteTime": {
     "end_time": "2021-05-06T05:07:11.528841Z",
     "start_time": "2021-05-06T05:07:11.079043Z"
    }
   },
   "outputs": [],
   "source": [
    "# 키워드 추출\n",
    "idx_to_vocab, vocab_to_idx = scan_vocabulary( sentences, tokenize= lambda x : komoran_tokenize(x) )\n",
    "# 결과값: idx_to_vocab, vocab_to_idx\n",
    "# vocab_to_idx\n",
    "\n",
    "tokenizer = lambda x : komoran_tokenize(x)"
   ]
  },
  {
   "cell_type": "code",
   "execution_count": 27,
   "metadata": {
    "ExecuteTime": {
     "end_time": "2021-05-06T05:07:11.631566Z",
     "start_time": "2021-05-06T05:07:11.626582Z"
    }
   },
   "outputs": [
    {
     "data": {
      "text/plain": [
       "<401x401 sparse matrix of type '<class 'numpy.float64'>'\n",
       "\twith 0 stored elements in Compressed Sparse Row format>"
      ]
     },
     "execution_count": 27,
     "metadata": {},
     "output_type": "execute_result"
    }
   ],
   "source": [
    "# 단어간 유사도 측정\n",
    "cooccurrence(tokens=idx_to_vocab, vocab_to_idx= vocab_to_idx)"
   ]
  },
  {
   "cell_type": "code",
   "execution_count": 28,
   "metadata": {
    "ExecuteTime": {
     "end_time": "2021-05-06T05:07:13.080154Z",
     "start_time": "2021-05-06T05:07:12.185535Z"
    },
    "collapsed": true
   },
   "outputs": [
    {
     "data": {
      "text/plain": [
       "(<401x401 sparse matrix of type '<class 'numpy.intc'>'\n",
       " \twith 2954 stored elements in Compressed Sparse Row format>,\n",
       " ['하/VV',\n",
       "  '것/NNB',\n",
       "  '국민/NNG',\n",
       "  '되/VV',\n",
       "  '없/VA',\n",
       "  '문재인/NNP',\n",
       "  '수/NNB',\n",
       "  '있/VV',\n",
       "  '총장/NNP',\n",
       "  '선거/NNG',\n",
       "  '안철수/NNP',\n",
       "  '윤석열/NNP',\n",
       "  '서울/NNP',\n",
       "  '만들/VV',\n",
       "  '대통령/NNG',\n",
       "  '윤/NNP',\n",
       "  '정권/NNG',\n",
       "  '정치/NNG',\n",
       "  '시장/NNP',\n",
       "  '보/VV',\n",
       "  '이번/NNG',\n",
       "  '시장/NNG',\n",
       "  '받/VV',\n",
       "  '때/NNG',\n",
       "  '정권/NNP',\n",
       "  '위하/VV',\n",
       "  '말/NNG',\n",
       "  '부산/NNP',\n",
       "  '민주당/NNP',\n",
       "  '시민/NNG',\n",
       "  '생각/NNG',\n",
       "  '당선/NNG',\n",
       "  '단일/NNG',\n",
       "  '같/VA',\n",
       "  '후보/NNG',\n",
       "  '야권/NNG',\n",
       "  '총장/NNG',\n",
       "  '검찰/NNG',\n",
       "  '대한민국/NNP',\n",
       "  '양보/NNG',\n",
       "  '년/NNB',\n",
       "  '개헌/NNP',\n",
       "  '선/NNG',\n",
       "  '자/NNB',\n",
       "  '가/VV',\n",
       "  '안/NNG',\n",
       "  '알/VV',\n",
       "  '이/NNP',\n",
       "  '좌파/NNP',\n",
       "  '오세훈/NNP',\n",
       "  '그렇/VA',\n",
       "  '가덕도/NNP',\n",
       "  '국가/NNG',\n",
       "  '대하/VV',\n",
       "  '정부/NNG',\n",
       "  '사퇴/NNG',\n",
       "  '오거돈/NNP',\n",
       "  '사람/NNG',\n",
       "  '크/VA',\n",
       "  '지지/NNG',\n",
       "  '일/NNG',\n",
       "  '이다/NNP',\n",
       "  '정책/NNG',\n",
       "  '오/VV',\n",
       "  '힘/NNG',\n",
       "  '거/NNB',\n",
       "  '마음/NNG',\n",
       "  '길/NNG',\n",
       "  '빵/NNG',\n",
       "  '후보/NNP',\n",
       "  '을/NNG',\n",
       "  '사람/NNP',\n",
       "  '서/VV',\n",
       "  '개/NNB',\n",
       "  '바람직/XR',\n",
       "  '가능/XR',\n",
       "  '좋/VA',\n",
       "  '북/NNP',\n",
       "  '때문/NNB',\n",
       "  '모르/VV',\n",
       "  '정/NNP',\n",
       "  '치/VV',\n",
       "  '나라/NNG',\n",
       "  '승리/NNG',\n",
       "  '개헌/NNG',\n",
       "  '법/NNG',\n",
       "  '지키/VV',\n",
       "  '수작/NNG',\n",
       "  '헌법/NNP',\n",
       "  '인물/NNG',\n",
       "  '비리/NNG',\n",
       "  '바라/VV',\n",
       "  '사임/NNG',\n",
       "  '얻/VV',\n",
       "  '은/NNP',\n",
       "  '공항/NNP',\n",
       "  '여당/NNG',\n",
       "  '정당/NNG',\n",
       "  '곳/NNG',\n",
       "  '잡/VV',\n",
       "  '중요/XR',\n",
       "  '심판/NNG',\n",
       "  '쓰/VV',\n",
       "  '필요/NNG',\n",
       "  '국회의원/NNP',\n",
       "  '이제/NNG',\n",
       "  '싫/VA',\n",
       "  '나서/VV',\n",
       "  '종/NNG',\n",
       "  '놈/NNB',\n",
       "  '날/NNG',\n",
       "  '임기/NNG',\n",
       "  '성추행/NNG',\n",
       "  '법치/NNG',\n",
       "  '앞/NNG',\n",
       "  '표/NNG',\n",
       "  '그동안/NNG',\n",
       "  '권력/NNG',\n",
       "  '석/NNB',\n",
       "  '독재/NNP',\n",
       "  '직/NNG',\n",
       "  '만/NNB',\n",
       "  '무리/NNG',\n",
       "  '농/NNG',\n",
       "  '박영선/NNP',\n",
       "  '대로/NNP',\n",
       "  '가족/NNP',\n",
       "  '미국/NNP',\n",
       "  '영국/NNP',\n",
       "  '해/NNG',\n",
       "  '선거/NNP',\n",
       "  '한/NNP',\n",
       "  '들/VV',\n",
       "  '빼/VV',\n",
       "  '화이팅/NNP',\n",
       "  '출마/NNG',\n",
       "  '결과/NNG',\n",
       "  '본인/NNG',\n",
       "  '민주주의/NNP',\n",
       "  '이기/VV',\n",
       "  '가지/NNB',\n",
       "  '까/VV',\n",
       "  '야당/NNP',\n",
       "  '좌익/NNP',\n",
       "  '지금/NNG',\n",
       "  '뿐/NNB',\n",
       "  '부정/NNG',\n",
       "  '점/NNB',\n",
       "  '적합/XR',\n",
       "  '확실/XR',\n",
       "  '밥/NNG',\n",
       "  '부리/VV',\n",
       "  '볼/NNG',\n",
       "  '인간/NNG',\n",
       "  '투표/NNP',\n",
       "  '대결/NNG',\n",
       "  '바꾸/VV',\n",
       "  '다음/NNG',\n",
       "  '박원순/NNP',\n",
       "  '수사/NNG',\n",
       "  '시/NNG',\n",
       "  '내년/NNG',\n",
       "  '라고/NNP',\n",
       "  '혼란/NNG',\n",
       "  '야당/NNG',\n",
       "  '살/VV',\n",
       "  '조건/NNG',\n",
       "  '높/VA',\n",
       "  '무능/NNG',\n",
       "  '정부/NNP',\n",
       "  '절대/NNG',\n",
       "  '파괴/NNG',\n",
       "  '나오/VV',\n",
       "  '파괴/NNP',\n",
       "  '정의/NNG',\n",
       "  '권력/NNP',\n",
       "  '혈세/NNG',\n",
       "  '번/NNB',\n",
       "  '정치인/NNG',\n",
       "  '선택/NNG',\n",
       "  '집권/NNG',\n",
       "  '위/NNG',\n",
       "  '세력/NNG',\n",
       "  '정도/NNG',\n",
       "  '어쩌/VV',\n",
       "  '이재명/NNP',\n",
       "  '사건/NNG',\n",
       "  '대통령제/NNP',\n",
       "  '탄핵/NNG',\n",
       "  '박병석/NNP',\n",
       "  '소리/NNG',\n",
       "  '일/NNB',\n",
       "  '!!/NNP',\n",
       "  '자유/NNG',\n",
       "  '늦/VA',\n",
       "  '사과/NNG',\n",
       "  '충청/NNP',\n",
       "  '지지/NNP',\n",
       "  '보이/VV',\n",
       "  '흘리/VV',\n",
       "  '공정/NNG',\n",
       "  '판/NNG',\n",
       "  '단/NNG',\n",
       "  '철수/NNP',\n",
       "  '들이/VV',\n",
       "  '공산/NNP',\n",
       "  '국가/NNP',\n",
       "  '의/NNG',\n",
       "  '더듬/NNG',\n",
       "  '당/NNP',\n",
       "  '박/NNP',\n",
       "  '절/NNG',\n",
       "  '치부/NNG',\n",
       "  '성/NNG',\n",
       "  '추/NNP',\n",
       "  '신/NNP',\n",
       "  '위/NNB',\n",
       "  '경제/NNG',\n",
       "  '양심/NNP',\n",
       "  '쪼/VV',\n",
       "  '가족/NNG',\n",
       "  '시민권/NNP',\n",
       "  '놀/VV',\n",
       "  '여러분/NNP',\n",
       "  '졸개/NNG',\n",
       "  '박살/NNG',\n",
       "  '도우미/NNP',\n",
       "  '이번/NNP',\n",
       "  '경우/NNP',\n",
       "  '명심/NNG',\n",
       "  '세금/NNG',\n",
       "  '평가/NNG',\n",
       "  '퍼붓/VV',\n",
       "  '당신/NNP',\n",
       "  '돈/NNG',\n",
       "  '식/NNB',\n",
       "  '겨울/NNP',\n",
       "  '발전/NNG',\n",
       "  '한국/NNP',\n",
       "  '국적/NNP',\n",
       "  '장관/NNG',\n",
       "  '돼지/NNG',\n",
       "  '웃/VV',\n",
       "  '국회의원/NNG',\n",
       "  '밖/NNG',\n",
       "  '시원/XR',\n",
       "  '뒤집/VV',\n",
       "  '입당/NNG',\n",
       "  '뿌리/VV',\n",
       "  '입/VV',\n",
       "  '수구/NNP',\n",
       "  '후/NNG',\n",
       "  '원/NNB',\n",
       "  '등/NNB',\n",
       "  '지원/NNG',\n",
       "  '의문/NNG',\n",
       "  '능력/NNG',\n",
       "  '넘/VV',\n",
       "  '비교/NNG',\n",
       "  '어떠/XR',\n",
       "  '자리/NNP',\n",
       "  '답/NNG',\n",
       "  '행동/NNG',\n",
       "  '물/NNG',\n",
       "  '건너/NNG',\n",
       "  '기대/NNG',\n",
       "  '자살/NNG',\n",
       "  '집단/NNG',\n",
       "  '궁/NNG',\n",
       "  '창/NNG',\n",
       "  '넣/VV',\n",
       "  '대가리/NNP',\n",
       "  '의미/NNG',\n",
       "  '보궐/NNG',\n",
       "  '1년/NNP',\n",
       "  '남짓/NNB',\n",
       "  '6월/NNP',\n",
       "  '지방/NNG',\n",
       "  '치르/VV',\n",
       "  '업무/NNG',\n",
       "  '파악/NNG',\n",
       "  '준비/NNG',\n",
       "  '상황/NNG',\n",
       "  '여당/NNP',\n",
       "  '필요/NNP',\n",
       "  '마무리/NNG',\n",
       "  '패거리/NNG',\n",
       "  '자/VV',\n",
       "  '건/NNB',\n",
       "  '나이/NNG',\n",
       "  '따지/VV',\n",
       "  '꿈/NNG',\n",
       "  '망/NNG',\n",
       "  '역할/NNG',\n",
       "  '타락/NNG',\n",
       "  '보선/NNG',\n",
       "  '애/NNG',\n",
       "  '치루/VV',\n",
       "  '명분/NNG',\n",
       "  '상실/NNG',\n",
       "  '숙/NNG',\n",
       "  '따르/VV',\n",
       "  '행복/NNG',\n",
       "  '끝/NNG',\n",
       "  '최악/NNG',\n",
       "  '삼자/NNG',\n",
       "  '어렵/VA',\n",
       "  '전시장/NNG',\n",
       "  '시나리오/NNP',\n",
       "  '돕/VV',\n",
       "  '책임/NNG',\n",
       "  '거두/VV',\n",
       "  '행위/NNP',\n",
       "  '위정자/NNG',\n",
       "  '땅/NNG',\n",
       "  '모양/NNG',\n",
       "  '김형오/NNP',\n",
       "  '남용/NNP',\n",
       "  '부각/NNG',\n",
       "  '자신/NNG',\n",
       "  '내각/NNP',\n",
       "  '삼/VV',\n",
       "  '내려오/VV',\n",
       "  '박형준/NNP',\n",
       "  '문제/NNG',\n",
       "  '법률/NNG',\n",
       "  '본질/NNG',\n",
       "  '뽑/VV',\n",
       "  '국호/NNP',\n",
       "  '죄인/NNG',\n",
       "  '통합/NNP',\n",
       "  '의장/NNP',\n",
       "  '불법/NNG',\n",
       "  '의석수/NNG',\n",
       "  '현행법/NNG',\n",
       "  '부리/NNP',\n",
       "  '기초/NNG',\n",
       "  '재앙/NNG',\n",
       "  '게/NNG',\n",
       "  '냐/NNG',\n",
       "  '헌법/NNG',\n",
       "  '넘/NNG',\n",
       "  '없애/VV',\n",
       "  '호남/NNP',\n",
       "  '고민/NNG',\n",
       "  '보선/NNP',\n",
       "  '두/VV',\n",
       "  '김종인/NNP',\n",
       "  '대권/NNG',\n",
       "  '자유민주주의/NNP',\n",
       "  '국민의 힘/NNP',\n",
       "  '당장/NNG',\n",
       "  '시기/NNG',\n",
       "  '국무총리/NNG',\n",
       "  '배/NNP',\n",
       "  '소신/NNG',\n",
       "  '세상/NNG',\n",
       "  '피/NNG',\n",
       "  '편향/NNG',\n",
       "  '울산/NNP',\n",
       "  '조국/NNP',\n",
       "  '추미애/NNP',\n",
       "  '법무부/NNP',\n",
       "  '헤아리/VV',\n",
       "  '좌/NNG',\n",
       "  '우/NNP',\n",
       "  '주/NNP',\n",
       "  '설자리/NNG',\n",
       "  '공/NNG',\n",
       "  '편/NNB',\n",
       "  '정치판/NNG',\n",
       "  '청/NNP',\n",
       "  '이렇/VA',\n",
       "  '내놓/VV',\n",
       "  '전략/NNG',\n",
       "  '이미지/NNG',\n",
       "  '이상/NNG',\n",
       "  '키우/VV',\n",
       "  '새끼/NNG',\n",
       "  '부도덕/NNG',\n",
       "  '국정/NNG',\n",
       "  '범죄/NNP',\n",
       "  '처벌/NNG',\n",
       "  '의하/VV',\n",
       "  '차기/NNG',\n",
       "  '선출/NNG',\n",
       "  '사법/NNG',\n",
       "  '기회/NNG',\n",
       "  '기전/NNP',\n",
       "  '정국/NNP',\n",
       "  '중인/NNP',\n",
       "  '부패/NNG',\n",
       "  '수사/NNP',\n",
       "  '행위/NNG',\n",
       "  '자르/VV',\n",
       "  '정세균/NNP',\n",
       "  '추악/XR',\n",
       "  '빠지/VV',\n",
       "  '태/NNP',\n",
       "  '구세주/NNP',\n",
       "  '한동훈/NNP'])"
      ]
     },
     "execution_count": 28,
     "metadata": {},
     "output_type": "execute_result"
    }
   ],
   "source": [
    "word_graph( sentences, tokenize=tokenizer )"
   ]
  },
  {
   "cell_type": "code",
   "execution_count": 29,
   "metadata": {
    "ExecuteTime": {
     "end_time": "2021-05-06T05:07:13.656025Z",
     "start_time": "2021-05-06T05:07:13.651040Z"
    }
   },
   "outputs": [],
   "source": [
    "def textrank_keyword(sents, tokenize, min_count, window, min_cooccurrence, df=0.85, max_iter=30, topk=30):\n",
    "    g, idx_to_vocab = word_graph(sents, tokenize, min_count, window, min_cooccurrence)\n",
    "    R = pagerank(g, df, max_iter).reshape(-1)\n",
    "    idxs = R.argsort()[-topk:]\n",
    "    keywords = [(idx_to_vocab[idx], R[idx]) for idx in reversed(idxs)]\n",
    "    return keywords"
   ]
  },
  {
   "cell_type": "code",
   "execution_count": 30,
   "metadata": {
    "ExecuteTime": {
     "end_time": "2021-05-06T05:07:15.491895Z",
     "start_time": "2021-05-06T05:07:14.379830Z"
    }
   },
   "outputs": [],
   "source": [
    "import seaborn as sns\n",
    "import numpy as np\n",
    "import matplotlib.pyplot as plt\n",
    "\n",
    "keywords = textrank_keyword( sentences,tokenize=tokenizer,min_count=2, window=2, min_cooccurrence=2)"
   ]
  },
  {
   "cell_type": "code",
   "execution_count": 31,
   "metadata": {
    "ExecuteTime": {
     "end_time": "2021-05-06T05:07:16.075642Z",
     "start_time": "2021-05-06T05:07:16.070654Z"
    }
   },
   "outputs": [
    {
     "data": {
      "text/plain": [
       "array([['하/VV', '15.89265960499569'],\n",
       "       ['것/NNB', '10.801954726790099'],\n",
       "       ['국민/NNG', '7.436208980732152'],\n",
       "       ['되/VV', '5.995189643280383'],\n",
       "       ['있/VV', '4.491232599276133'],\n",
       "       ['없/VA', '4.428881914233009'],\n",
       "       ['문재인/NNP', '4.301855637077842'],\n",
       "       ['수/NNB', '4.170894114794577'],\n",
       "       ['선거/NNG', '3.9512312491374013'],\n",
       "       ['총장/NNP', '3.80254607655521'],\n",
       "       ['만들/VV', '3.528286447573875'],\n",
       "       ['안철수/NNP', '3.370679421571066'],\n",
       "       ['윤석열/NNP', '3.3388124505527'],\n",
       "       ['정권/NNG', '3.3229838732274093'],\n",
       "       ['서울/NNP', '3.3029874989051753'],\n",
       "       ['대통령/NNG', '3.253999017199872'],\n",
       "       ['정치/NNG', '3.2182493596820216'],\n",
       "       ['시장/NNP', '2.9989245261935418'],\n",
       "       ['윤/NNP', '2.7659537516265007'],\n",
       "       ['보/VV', '2.741577517064143'],\n",
       "       ['받/VV', '2.6091289078074476'],\n",
       "       ['시장/NNG', '2.6005023770478792'],\n",
       "       ['이번/NNG', '2.426098575621456'],\n",
       "       ['정권/NNP', '2.4159301069414996'],\n",
       "       ['때/NNG', '2.32985511818239'],\n",
       "       ['단일/NNG', '2.2792349257532623'],\n",
       "       ['위하/VV', '2.2403323039466243'],\n",
       "       ['말/NNG', '2.234244410112529'],\n",
       "       ['시민/NNG', '2.142699389670971'],\n",
       "       ['부산/NNP', '2.119533171762461']], dtype='<U18')"
      ]
     },
     "execution_count": 31,
     "metadata": {},
     "output_type": "execute_result"
    }
   ],
   "source": [
    "np.array(keywords)"
   ]
  },
  {
   "cell_type": "markdown",
   "metadata": {},
   "source": [
    "### python에서 textRank만들기"
   ]
  },
  {
   "cell_type": "code",
   "execution_count": 32,
   "metadata": {
    "ExecuteTime": {
     "end_time": "2021-05-06T05:07:22.094091Z",
     "start_time": "2021-05-06T05:07:22.089105Z"
    },
    "code_folding": []
   },
   "outputs": [],
   "source": [
    "from collections import Counter\n",
    "\n",
    "def scan_vocabulary(sents, tokenize, min_count=2):\n",
    "    counter = Counter(w for sent in sents for w in tokenize(sent))\n",
    "    counter = {w: c for w, c in counter.items() if c >= min_count}\n",
    "    idx_to_vocab = [w for w, _ in sorted(counter.items(), key=lambda x:-x[1])]\n",
    "    vocab_to_idx = {vocab: idx for idx, vocab in enumerate(idx_to_vocab)}\n",
    "    return idx_to_vocab, vocab_to_idx"
   ]
  },
  {
   "cell_type": "code",
   "execution_count": 33,
   "metadata": {
    "ExecuteTime": {
     "end_time": "2021-05-06T05:07:22.874050Z",
     "start_time": "2021-05-06T05:07:22.423217Z"
    }
   },
   "outputs": [],
   "source": [
    "idx_to_vocab, vocab_to_idx = scan_vocabulary( sentences, tokenize=tokenizer )\n",
    "# vocab_to_idx # { '단어/품사' : 단어 인덱스 번호 }"
   ]
  },
  {
   "cell_type": "code",
   "execution_count": 34,
   "metadata": {
    "ExecuteTime": {
     "end_time": "2021-05-06T05:07:22.976736Z",
     "start_time": "2021-05-06T05:07:22.968758Z"
    },
    "code_folding": [
     24
    ]
   },
   "outputs": [],
   "source": [
    "from collections import defaultdict\n",
    "\n",
    "def cooccurrence(tokens, vocab_to_idx, window=2, min_cooccurrence=2):\n",
    "    counter = defaultdict(int)\n",
    "    for s, tokens_i in enumerate(tokens):\n",
    "        vocabs = [vocab_to_idx[w] for w in tokens_i if w in vocab_to_idx]\n",
    "        n = len(vocabs)\n",
    "        for i, v in enumerate(vocabs):\n",
    "            if window <= 0:\n",
    "                b, e = 0, n\n",
    "            else:\n",
    "                b = max(0, i - window)\n",
    "                e = min(i + window, n)\n",
    "            for j in range(b, e):\n",
    "                if i == j:\n",
    "                    continue\n",
    "                counter[(v, vocabs[j])] += 1\n",
    "                counter[(vocabs[j], v)] += 1\n",
    "    counter = {k:v for k,v in counter.items() if v >= min_cooccurrence}\n",
    "    n_vocabs = len(vocab_to_idx)\n",
    "    return dict_to_mat(counter, n_vocabs, n_vocabs)\n",
    "\n",
    "from scipy.sparse import csr_matrix\n",
    "\n",
    "def dict_to_mat(d, n_rows, n_cols):\n",
    "    rows, cols, data = [], [], []\n",
    "    for (i, j), v in d.items():\n",
    "        rows.append(i)\n",
    "        cols.append(j)\n",
    "        data.append(v)\n",
    "    return csr_matrix((data, (rows, cols)), shape=(n_rows, n_cols))"
   ]
  },
  {
   "cell_type": "code",
   "execution_count": 35,
   "metadata": {
    "ExecuteTime": {
     "end_time": "2021-05-06T05:07:23.169243Z",
     "start_time": "2021-05-06T05:07:23.164257Z"
    }
   },
   "outputs": [
    {
     "data": {
      "text/plain": [
       "<401x401 sparse matrix of type '<class 'numpy.float64'>'\n",
       "\twith 0 stored elements in Compressed Sparse Row format>"
      ]
     },
     "execution_count": 35,
     "metadata": {},
     "output_type": "execute_result"
    }
   ],
   "source": [
    "cooccurrence( sentences, vocab_to_idx=vocab_to_idx )"
   ]
  },
  {
   "cell_type": "code",
   "execution_count": 36,
   "metadata": {
    "ExecuteTime": {
     "end_time": "2021-05-06T05:07:23.552540Z",
     "start_time": "2021-05-06T05:07:23.550225Z"
    }
   },
   "outputs": [],
   "source": [
    "def word_graph(sents, tokenize=None, min_count=2, window=2, min_cooccurrence=2):\n",
    "    idx_to_vocab, vocab_to_idx = scan_vocabulary(sents, tokenize, min_count)\n",
    "    tokens = [tokenize(sent) for sent in sents]\n",
    "    g = cooccurrence(tokens, vocab_to_idx, window, min_cooccurrence)\n",
    "    return g, idx_to_vocab"
   ]
  },
  {
   "cell_type": "code",
   "execution_count": 37,
   "metadata": {
    "ExecuteTime": {
     "end_time": "2021-05-06T05:07:24.805079Z",
     "start_time": "2021-05-06T05:07:23.912257Z"
    }
   },
   "outputs": [],
   "source": [
    "g, idx_to_vocab = word_graph( sentences, tokenize=tokenizer )"
   ]
  },
  {
   "cell_type": "code",
   "execution_count": 38,
   "metadata": {
    "ExecuteTime": {
     "end_time": "2021-05-06T05:07:25.010320Z",
     "start_time": "2021-05-06T05:07:24.910587Z"
    },
    "collapsed": true
   },
   "outputs": [
    {
     "data": {
      "text/plain": [
       "[<networkx.classes.graph.Graph at 0x1b9306d6388>,\n",
       " <networkx.classes.graph.Graph at 0x1b9306d6308>,\n",
       " <networkx.classes.graph.Graph at 0x1b9306d6248>,\n",
       " <networkx.classes.graph.Graph at 0x1b9306d6e88>,\n",
       " <networkx.classes.graph.Graph at 0x1b9306d6ec8>,\n",
       " <networkx.classes.graph.Graph at 0x1b930769948>,\n",
       " <networkx.classes.graph.Graph at 0x1b930769048>,\n",
       " <networkx.classes.graph.Graph at 0x1b930769588>,\n",
       " <networkx.classes.graph.Graph at 0x1b930769808>,\n",
       " <networkx.classes.graph.Graph at 0x1b930769748>,\n",
       " <networkx.classes.graph.Graph at 0x1b9307691c8>,\n",
       " <networkx.classes.graph.Graph at 0x1b930769988>,\n",
       " <networkx.classes.graph.Graph at 0x1b9306d8848>,\n",
       " <networkx.classes.graph.Graph at 0x1b9306d8648>,\n",
       " <networkx.classes.graph.Graph at 0x1b9306d8708>,\n",
       " <networkx.classes.graph.Graph at 0x1b9306d8388>,\n",
       " <networkx.classes.graph.Graph at 0x1b9306d8148>,\n",
       " <networkx.classes.graph.Graph at 0x1b9306d8a88>,\n",
       " <networkx.classes.graph.Graph at 0x1b9306d8a48>,\n",
       " <networkx.classes.graph.Graph at 0x1b9306d8f08>,\n",
       " <networkx.classes.graph.Graph at 0x1b9306d8c88>,\n",
       " <networkx.classes.graph.Graph at 0x1b9306d8bc8>,\n",
       " <networkx.classes.graph.Graph at 0x1b9306d86c8>,\n",
       " <networkx.classes.graph.Graph at 0x1b9306d8208>,\n",
       " <networkx.classes.graph.Graph at 0x1b9306d8e48>,\n",
       " <networkx.classes.graph.Graph at 0x1b9306d8488>,\n",
       " <networkx.classes.graph.Graph at 0x1b9306d85c8>,\n",
       " <networkx.classes.graph.Graph at 0x1b9306d8308>,\n",
       " <networkx.classes.graph.Graph at 0x1b9306d8d88>,\n",
       " <networkx.classes.graph.Graph at 0x1b9306d80c8>,\n",
       " <networkx.classes.graph.Graph at 0x1b9306d8b88>,\n",
       " <networkx.classes.graph.Graph at 0x1b9305f6408>,\n",
       " <networkx.classes.graph.Graph at 0x1b93061fcc8>,\n",
       " <networkx.classes.graph.Graph at 0x1b92fe2e388>,\n",
       " <networkx.classes.graph.Graph at 0x1b9306d6d88>,\n",
       " <networkx.classes.graph.Graph at 0x1b93062cb88>,\n",
       " <networkx.classes.graph.Graph at 0x1b93062ca08>,\n",
       " <networkx.classes.graph.Graph at 0x1b93062c6c8>,\n",
       " <networkx.classes.graph.Graph at 0x1b930625748>,\n",
       " <networkx.classes.graph.Graph at 0x1b930625d08>,\n",
       " <networkx.classes.graph.Graph at 0x1b930625708>,\n",
       " <networkx.classes.graph.Graph at 0x1b93062d488>,\n",
       " <networkx.classes.graph.Graph at 0x1b93062d588>,\n",
       " <networkx.classes.graph.Graph at 0x1b93062d408>,\n",
       " <networkx.classes.graph.Graph at 0x1b93062d248>,\n",
       " <networkx.classes.graph.Graph at 0x1b93062d908>,\n",
       " <networkx.classes.graph.Graph at 0x1b93062d848>,\n",
       " <networkx.classes.graph.Graph at 0x1b925a144c8>,\n",
       " <networkx.classes.graph.Graph at 0x1b93062ab08>,\n",
       " <networkx.classes.graph.Graph at 0x1b93062ab48>,\n",
       " <networkx.classes.graph.Graph at 0x1b93062a788>,\n",
       " <networkx.classes.graph.Graph at 0x1b92fe2ee08>,\n",
       " <networkx.classes.graph.Graph at 0x1b93062a408>,\n",
       " <networkx.classes.graph.Graph at 0x1b93062af08>,\n",
       " <networkx.classes.graph.Graph at 0x1b93062ac48>,\n",
       " <networkx.classes.graph.Graph at 0x1b93062a548>,\n",
       " <networkx.classes.graph.Graph at 0x1b930548348>,\n",
       " <networkx.classes.graph.Graph at 0x1b930769388>,\n",
       " <networkx.classes.graph.Graph at 0x1b92d4d3c48>,\n",
       " <networkx.classes.graph.Graph at 0x1b92f211588>,\n",
       " <networkx.classes.graph.Graph at 0x1b92f2112c8>,\n",
       " <networkx.classes.graph.Graph at 0x1b93061d6c8>,\n",
       " <networkx.classes.graph.Graph at 0x1b93061da08>,\n",
       " <networkx.classes.graph.Graph at 0x1b930622e88>,\n",
       " <networkx.classes.graph.Graph at 0x1b9305fc548>,\n",
       " <networkx.classes.graph.Graph at 0x1b93035c408>,\n",
       " <networkx.classes.graph.Graph at 0x1b93035ca08>,\n",
       " <networkx.classes.graph.Graph at 0x1b93004fb48>,\n",
       " <networkx.classes.graph.Graph at 0x1b930627e08>,\n",
       " <networkx.classes.graph.Graph at 0x1b930627808>,\n",
       " <networkx.classes.graph.Graph at 0x1b930627f88>,\n",
       " <networkx.classes.graph.Graph at 0x1b930627b48>,\n",
       " <networkx.classes.graph.Graph at 0x1b930627688>,\n",
       " <networkx.classes.graph.Graph at 0x1b9201b4948>,\n",
       " <networkx.classes.graph.Graph at 0x1b92fe3a588>,\n",
       " <networkx.classes.graph.Graph at 0x1b920185f08>,\n",
       " <networkx.classes.graph.Graph at 0x1b92fe3a088>,\n",
       " <networkx.classes.graph.Graph at 0x1b9304f9b88>,\n",
       " <networkx.classes.graph.Graph at 0x1b930621088>,\n",
       " <networkx.classes.graph.Graph at 0x1b92d56c808>,\n",
       " <networkx.classes.graph.Graph at 0x1b92291cd08>,\n",
       " <networkx.classes.graph.Graph at 0x1b93035a0c8>,\n",
       " <networkx.classes.graph.Graph at 0x1b930624988>,\n",
       " <networkx.classes.graph.Graph at 0x1b92fe2af08>,\n",
       " <networkx.classes.graph.Graph at 0x1b92176de08>,\n",
       " <networkx.classes.graph.Graph at 0x1b92d47e808>,\n",
       " <networkx.classes.graph.Graph at 0x1b92ffadc88>,\n",
       " <networkx.classes.graph.Graph at 0x1b925a0f308>,\n",
       " <networkx.classes.graph.Graph at 0x1b925a1e208>,\n",
       " <networkx.classes.graph.Graph at 0x1b9306dfd48>,\n",
       " <networkx.classes.graph.Graph at 0x1b9306df708>,\n",
       " <networkx.classes.graph.Graph at 0x1b9306df108>,\n",
       " <networkx.classes.graph.Graph at 0x1b9306df588>,\n",
       " <networkx.classes.graph.Graph at 0x1b9306df288>,\n",
       " <networkx.classes.graph.Graph at 0x1b9306dfc88>,\n",
       " <networkx.classes.graph.Graph at 0x1b9306df088>,\n",
       " <networkx.classes.graph.Graph at 0x1b9306df388>,\n",
       " <networkx.classes.graph.Graph at 0x1b9306dfcc8>,\n",
       " <networkx.classes.graph.Graph at 0x1b9306dfdc8>,\n",
       " <networkx.classes.graph.Graph at 0x1b9306df888>,\n",
       " <networkx.classes.graph.Graph at 0x1b9306dfe88>,\n",
       " <networkx.classes.graph.Graph at 0x1b9306df548>,\n",
       " <networkx.classes.graph.Graph at 0x1b9306dfb08>,\n",
       " <networkx.classes.graph.Graph at 0x1b9306dff48>,\n",
       " <networkx.classes.graph.Graph at 0x1b9306eaa48>,\n",
       " <networkx.classes.graph.Graph at 0x1b9306eab48>,\n",
       " <networkx.classes.graph.Graph at 0x1b9306ea048>,\n",
       " <networkx.classes.graph.Graph at 0x1b9306ea548>,\n",
       " <networkx.classes.graph.Graph at 0x1b9306eac88>,\n",
       " <networkx.classes.graph.Graph at 0x1b9306ea608>,\n",
       " <networkx.classes.graph.Graph at 0x1b9306ea708>,\n",
       " <networkx.classes.graph.Graph at 0x1b9306eafc8>,\n",
       " <networkx.classes.graph.Graph at 0x1b9306eab88>,\n",
       " <networkx.classes.graph.Graph at 0x1b9306ea588>,\n",
       " <networkx.classes.graph.Graph at 0x1b9306ea288>,\n",
       " <networkx.classes.graph.Graph at 0x1b9306ea408>,\n",
       " <networkx.classes.graph.Graph at 0x1b9306ea308>,\n",
       " <networkx.classes.graph.Graph at 0x1b9306ea5c8>,\n",
       " <networkx.classes.graph.Graph at 0x1b9306ea088>,\n",
       " <networkx.classes.graph.Graph at 0x1b9306ea8c8>,\n",
       " <networkx.classes.graph.Graph at 0x1b9306ea148>,\n",
       " <networkx.classes.graph.Graph at 0x1b9307601c8>,\n",
       " <networkx.classes.graph.Graph at 0x1b930760f88>,\n",
       " <networkx.classes.graph.Graph at 0x1b930760608>,\n",
       " <networkx.classes.graph.Graph at 0x1b930760e08>,\n",
       " <networkx.classes.graph.Graph at 0x1b930760508>,\n",
       " <networkx.classes.graph.Graph at 0x1b930760108>,\n",
       " <networkx.classes.graph.Graph at 0x1b930760f48>,\n",
       " <networkx.classes.graph.Graph at 0x1b930760448>,\n",
       " <networkx.classes.graph.Graph at 0x1b930760d88>,\n",
       " <networkx.classes.graph.Graph at 0x1b930760948>,\n",
       " <networkx.classes.graph.Graph at 0x1b930760a48>,\n",
       " <networkx.classes.graph.Graph at 0x1b930760b48>,\n",
       " <networkx.classes.graph.Graph at 0x1b930760d48>,\n",
       " <networkx.classes.graph.Graph at 0x1b930760908>,\n",
       " <networkx.classes.graph.Graph at 0x1b930760208>,\n",
       " <networkx.classes.graph.Graph at 0x1b930760388>,\n",
       " <networkx.classes.graph.Graph at 0x1b930760248>,\n",
       " <networkx.classes.graph.Graph at 0x1b9306c9788>,\n",
       " <networkx.classes.graph.Graph at 0x1b9306c9988>,\n",
       " <networkx.classes.graph.Graph at 0x1b9306c9cc8>,\n",
       " <networkx.classes.graph.Graph at 0x1b9306c9d48>,\n",
       " <networkx.classes.graph.Graph at 0x1b9306c9c88>,\n",
       " <networkx.classes.graph.Graph at 0x1b9306c9888>,\n",
       " <networkx.classes.graph.Graph at 0x1b9306c9f48>,\n",
       " <networkx.classes.graph.Graph at 0x1b9306c9648>,\n",
       " <networkx.classes.graph.Graph at 0x1b9306c9848>,\n",
       " <networkx.classes.graph.Graph at 0x1b9306c9b48>,\n",
       " <networkx.classes.graph.Graph at 0x1b9306c9d88>,\n",
       " <networkx.classes.graph.Graph at 0x1b9306c9a48>,\n",
       " <networkx.classes.graph.Graph at 0x1b9306eb388>,\n",
       " <networkx.classes.graph.Graph at 0x1b9306eb8c8>,\n",
       " <networkx.classes.graph.Graph at 0x1b9306eb488>,\n",
       " <networkx.classes.graph.Graph at 0x1b9306eb588>,\n",
       " <networkx.classes.graph.Graph at 0x1b9306eb7c8>,\n",
       " <networkx.classes.graph.Graph at 0x1b930627588>,\n",
       " <networkx.classes.graph.Graph at 0x1b9306eb688>,\n",
       " <networkx.classes.graph.Graph at 0x1b9306eb888>,\n",
       " <networkx.classes.graph.Graph at 0x1b9306eba88>,\n",
       " <networkx.classes.graph.Graph at 0x1b9306ebc88>,\n",
       " <networkx.classes.graph.Graph at 0x1b9306ebd08>,\n",
       " <networkx.classes.graph.Graph at 0x1b9306ebe08>,\n",
       " <networkx.classes.graph.Graph at 0x1b9306ebf08>,\n",
       " <networkx.classes.graph.Graph at 0x1b9306eb088>,\n",
       " <networkx.classes.graph.Graph at 0x1b9306ebbc8>,\n",
       " <networkx.classes.graph.Graph at 0x1b9306eb188>,\n",
       " <networkx.classes.graph.Graph at 0x1b9306eb408>,\n",
       " <networkx.classes.graph.Graph at 0x1b9306ebfc8>,\n",
       " <networkx.classes.graph.Graph at 0x1b9306eb988>,\n",
       " <networkx.classes.graph.Graph at 0x1b930720248>,\n",
       " <networkx.classes.graph.Graph at 0x1b930720348>,\n",
       " <networkx.classes.graph.Graph at 0x1b930720548>,\n",
       " <networkx.classes.graph.Graph at 0x1b930720748>,\n",
       " <networkx.classes.graph.Graph at 0x1b930720948>,\n",
       " <networkx.classes.graph.Graph at 0x1b930720ac8>,\n",
       " <networkx.classes.graph.Graph at 0x1b930720c48>,\n",
       " <networkx.classes.graph.Graph at 0x1b930720e48>,\n",
       " <networkx.classes.graph.Graph at 0x1b9307203c8>,\n",
       " <networkx.classes.graph.Graph at 0x1b9307205c8>,\n",
       " <networkx.classes.graph.Graph at 0x1b9307206c8>,\n",
       " <networkx.classes.graph.Graph at 0x1b9307207c8>,\n",
       " <networkx.classes.graph.Graph at 0x1b9307209c8>,\n",
       " <networkx.classes.graph.Graph at 0x1b930720dc8>,\n",
       " <networkx.classes.graph.Graph at 0x1b930720ec8>,\n",
       " <networkx.classes.graph.Graph at 0x1b930720e88>,\n",
       " <networkx.classes.graph.Graph at 0x1b930720fc8>,\n",
       " <networkx.classes.graph.Graph at 0x1b930719388>,\n",
       " <networkx.classes.graph.Graph at 0x1b930719588>,\n",
       " <networkx.classes.graph.Graph at 0x1b930719788>,\n",
       " <networkx.classes.graph.Graph at 0x1b930719908>,\n",
       " <networkx.classes.graph.Graph at 0x1b930719a88>,\n",
       " <networkx.classes.graph.Graph at 0x1b930719b08>,\n",
       " <networkx.classes.graph.Graph at 0x1b930719f48>,\n",
       " <networkx.classes.graph.Graph at 0x1b9307190c8>,\n",
       " <networkx.classes.graph.Graph at 0x1b930769508>,\n",
       " <networkx.classes.graph.Graph at 0x1b930719308>,\n",
       " <networkx.classes.graph.Graph at 0x1b930719408>,\n",
       " <networkx.classes.graph.Graph at 0x1b930719508>,\n",
       " <networkx.classes.graph.Graph at 0x1b930719708>,\n",
       " <networkx.classes.graph.Graph at 0x1b930719a08>,\n",
       " <networkx.classes.graph.Graph at 0x1b930719b88>,\n",
       " <networkx.classes.graph.Graph at 0x1b930719148>,\n",
       " <networkx.classes.graph.Graph at 0x1b930719c48>,\n",
       " <networkx.classes.graph.Graph at 0x1b930719f08>,\n",
       " <networkx.classes.graph.Graph at 0x1b930719d48>,\n",
       " <networkx.classes.graph.Graph at 0x1b93070b248>,\n",
       " <networkx.classes.graph.Graph at 0x1b93070b848>,\n",
       " <networkx.classes.graph.Graph at 0x1b93070ba48>,\n",
       " <networkx.classes.graph.Graph at 0x1b93070bd88>,\n",
       " <networkx.classes.graph.Graph at 0x1b93070bb88>,\n",
       " <networkx.classes.graph.Graph at 0x1b93070bf08>,\n",
       " <networkx.classes.graph.Graph at 0x1b93070b188>,\n",
       " <networkx.classes.graph.Graph at 0x1b93070b448>,\n",
       " <networkx.classes.graph.Graph at 0x1b93070b5c8>,\n",
       " <networkx.classes.graph.Graph at 0x1b93070b2c8>,\n",
       " <networkx.classes.graph.Graph at 0x1b93070b688>,\n",
       " <networkx.classes.graph.Graph at 0x1b93070b888>,\n",
       " <networkx.classes.graph.Graph at 0x1b93070ba88>,\n",
       " <networkx.classes.graph.Graph at 0x1b93070be48>,\n",
       " <networkx.classes.graph.Graph at 0x1b93070bf48>,\n",
       " <networkx.classes.graph.Graph at 0x1b93071c2c8>,\n",
       " <networkx.classes.graph.Graph at 0x1b93071c5c8>,\n",
       " <networkx.classes.graph.Graph at 0x1b93071c748>,\n",
       " <networkx.classes.graph.Graph at 0x1b93071c948>,\n",
       " <networkx.classes.graph.Graph at 0x1b93071cb48>,\n",
       " <networkx.classes.graph.Graph at 0x1b93071cd48>,\n",
       " <networkx.classes.graph.Graph at 0x1b93071cf48>,\n",
       " <networkx.classes.graph.Graph at 0x1b93071c088>,\n",
       " <networkx.classes.graph.Graph at 0x1b93071c048>,\n",
       " <networkx.classes.graph.Graph at 0x1b93071c6c8>,\n",
       " <networkx.classes.graph.Graph at 0x1b93071c8c8>,\n",
       " <networkx.classes.graph.Graph at 0x1b93071c9c8>,\n",
       " <networkx.classes.graph.Graph at 0x1b93071cbc8>,\n",
       " <networkx.classes.graph.Graph at 0x1b93071cec8>,\n",
       " <networkx.classes.graph.Graph at 0x1b93071c248>,\n",
       " <networkx.classes.graph.Graph at 0x1b93071cf88>,\n",
       " <networkx.classes.graph.Graph at 0x1b93071d2c8>,\n",
       " <networkx.classes.graph.Graph at 0x1b93071d448>,\n",
       " <networkx.classes.graph.Graph at 0x1b93071d6c8>,\n",
       " <networkx.classes.graph.Graph at 0x1b93071d948>,\n",
       " <networkx.classes.graph.Graph at 0x1b93071dbc8>,\n",
       " <networkx.classes.graph.Graph at 0x1b93071ddc8>,\n",
       " <networkx.classes.graph.Graph at 0x1b93071dfc8>,\n",
       " <networkx.classes.graph.Graph at 0x1b93071d1c8>,\n",
       " <networkx.classes.graph.Graph at 0x1b93071d3c8>,\n",
       " <networkx.classes.graph.Graph at 0x1b93071d4c8>,\n",
       " <networkx.classes.graph.Graph at 0x1b93071d648>,\n",
       " <networkx.classes.graph.Graph at 0x1b93071d7c8>,\n",
       " <networkx.classes.graph.Graph at 0x1b93071d8c8>,\n",
       " <networkx.classes.graph.Graph at 0x1b93071db48>,\n",
       " <networkx.classes.graph.Graph at 0x1b93071d048>,\n",
       " <networkx.classes.graph.Graph at 0x1b93071dc88>,\n",
       " <networkx.classes.graph.Graph at 0x1b93071df48>,\n",
       " <networkx.classes.graph.Graph at 0x1b93071de88>,\n",
       " <networkx.classes.graph.Graph at 0x1b93071e208>,\n",
       " <networkx.classes.graph.Graph at 0x1b93071e288>,\n",
       " <networkx.classes.graph.Graph at 0x1b93071e388>,\n",
       " <networkx.classes.graph.Graph at 0x1b93071e508>,\n",
       " <networkx.classes.graph.Graph at 0x1b93071e608>,\n",
       " <networkx.classes.graph.Graph at 0x1b93071e808>,\n",
       " <networkx.classes.graph.Graph at 0x1b93071e888>,\n",
       " <networkx.classes.graph.Graph at 0x1b93071e908>,\n",
       " <networkx.classes.graph.Graph at 0x1b93071eb08>,\n",
       " <networkx.classes.graph.Graph at 0x1b93071ed08>,\n",
       " <networkx.classes.graph.Graph at 0x1b93071ef08>,\n",
       " <networkx.classes.graph.Graph at 0x1b93071e0c8>,\n",
       " <networkx.classes.graph.Graph at 0x1b93071e348>,\n",
       " <networkx.classes.graph.Graph at 0x1b921a26a88>,\n",
       " <networkx.classes.graph.Graph at 0x1b9303934c8>,\n",
       " <networkx.classes.graph.Graph at 0x1b921a1e608>,\n",
       " <networkx.classes.graph.Graph at 0x1b93004ffc8>,\n",
       " <networkx.classes.graph.Graph at 0x1b93035a388>,\n",
       " <networkx.classes.graph.Graph at 0x1b93071de48>,\n",
       " <networkx.classes.graph.Graph at 0x1b93071d5c8>,\n",
       " <networkx.classes.graph.Graph at 0x1b93071da88>,\n",
       " <networkx.classes.graph.Graph at 0x1b93071d308>,\n",
       " <networkx.classes.graph.Graph at 0x1b93071ccc8>,\n",
       " <networkx.classes.graph.Graph at 0x1b93071c488>,\n",
       " <networkx.classes.graph.Graph at 0x1b93071ca48>,\n",
       " <networkx.classes.graph.Graph at 0x1b93071c3c8>,\n",
       " <networkx.classes.graph.Graph at 0x1b93070b6c8>,\n",
       " <networkx.classes.graph.Graph at 0x1b93070b048>,\n",
       " <networkx.classes.graph.Graph at 0x1b93070bb08>,\n",
       " <networkx.classes.graph.Graph at 0x1b93070b308>,\n",
       " <networkx.classes.graph.Graph at 0x1b930719808>,\n",
       " <networkx.classes.graph.Graph at 0x1b930719bc8>,\n",
       " <networkx.classes.graph.Graph at 0x1b930719448>,\n",
       " <networkx.classes.graph.Graph at 0x1b930720bc8>,\n",
       " <networkx.classes.graph.Graph at 0x1b9307200c8>,\n",
       " <networkx.classes.graph.Graph at 0x1b930720a08>,\n",
       " <networkx.classes.graph.Graph at 0x1b930720108>,\n",
       " <networkx.classes.graph.Graph at 0x1b9306ebc48>,\n",
       " <networkx.classes.graph.Graph at 0x1b9306ebb88>,\n",
       " <networkx.classes.graph.Graph at 0x1b9306eb5c8>,\n",
       " <networkx.classes.graph.Graph at 0x1b9306dfb88>,\n",
       " <networkx.classes.graph.Graph at 0x1b9306dfe48>,\n",
       " <networkx.classes.graph.Graph at 0x1b9306df9c8>,\n",
       " <networkx.classes.graph.Graph at 0x1b930624a88>,\n",
       " <networkx.classes.graph.Graph at 0x1b9306d8688>,\n",
       " <networkx.classes.graph.Graph at 0x1b9306d8ac8>,\n",
       " <networkx.classes.graph.Graph at 0x1b9306d8dc8>,\n",
       " <networkx.classes.graph.Graph at 0x1b930627fc8>,\n",
       " <networkx.classes.graph.Graph at 0x1b9306274c8>,\n",
       " <networkx.classes.graph.Graph at 0x1b9306ea4c8>,\n",
       " <networkx.classes.graph.Graph at 0x1b9306eac08>,\n",
       " <networkx.classes.graph.Graph at 0x1b9306ea488>,\n",
       " <networkx.classes.graph.Graph at 0x1b9306ea0c8>,\n",
       " <networkx.classes.graph.Graph at 0x1b930625588>,\n",
       " <networkx.classes.graph.Graph at 0x1b93062cd08>,\n",
       " <networkx.classes.graph.Graph at 0x1b93062cd48>,\n",
       " <networkx.classes.graph.Graph at 0x1b93062c8c8>,\n",
       " <networkx.classes.graph.Graph at 0x1b93062dac8>,\n",
       " <networkx.classes.graph.Graph at 0x1b9306d69c8>,\n",
       " <networkx.classes.graph.Graph at 0x1b9306d66c8>,\n",
       " <networkx.classes.graph.Graph at 0x1b9306d6a88>,\n",
       " <networkx.classes.graph.Graph at 0x1b930760c08>,\n",
       " <networkx.classes.graph.Graph at 0x1b9307608c8>,\n",
       " <networkx.classes.graph.Graph at 0x1b93062a4c8>,\n",
       " <networkx.classes.graph.Graph at 0x1b93062ae08>,\n",
       " <networkx.classes.graph.Graph at 0x1b93062a448>,\n",
       " <networkx.classes.graph.Graph at 0x1b9306d1f08>,\n",
       " <networkx.classes.graph.Graph at 0x1b9306d1148>,\n",
       " <networkx.classes.graph.Graph at 0x1b9306d11c8>,\n",
       " <networkx.classes.graph.Graph at 0x1b9306d1648>,\n",
       " <networkx.classes.graph.Graph at 0x1b930769288>,\n",
       " <networkx.classes.graph.Graph at 0x1b930769888>,\n",
       " <networkx.classes.graph.Graph at 0x1b930769148>,\n",
       " <networkx.classes.graph.Graph at 0x1b9201b48c8>,\n",
       " <networkx.classes.graph.Graph at 0x1b930769348>,\n",
       " <networkx.classes.graph.Graph at 0x1b93bc66d48>,\n",
       " <networkx.classes.graph.Graph at 0x1b9305fea48>,\n",
       " <networkx.classes.graph.Graph at 0x1b9305fc4c8>,\n",
       " <networkx.classes.graph.Graph at 0x1b9305f6e08>,\n",
       " <networkx.classes.graph.Graph at 0x1b9306c9fc8>,\n",
       " <networkx.classes.graph.Graph at 0x1b930341d88>,\n",
       " <networkx.classes.graph.Graph at 0x1b9306c9488>,\n",
       " <networkx.classes.graph.Graph at 0x1b925a1efc8>,\n",
       " <networkx.classes.graph.Graph at 0x1b925a15e48>,\n",
       " <networkx.classes.graph.Graph at 0x1b92d4888c8>,\n",
       " <networkx.classes.graph.Graph at 0x1b92d56c448>,\n",
       " <networkx.classes.graph.Graph at 0x1b92d4c0e08>,\n",
       " <networkx.classes.graph.Graph at 0x1b93071ee88>,\n",
       " <networkx.classes.graph.Graph at 0x1b93071eb48>,\n",
       " <networkx.classes.graph.Graph at 0x1b93071e588>,\n",
       " <networkx.classes.graph.Graph at 0x1b93071e9c8>,\n",
       " <networkx.classes.graph.Graph at 0x1b93074af88>,\n",
       " <networkx.classes.graph.Graph at 0x1b93074ab48>,\n",
       " <networkx.classes.graph.Graph at 0x1b93074ac48>,\n",
       " <networkx.classes.graph.Graph at 0x1b93074a288>,\n",
       " <networkx.classes.graph.Graph at 0x1b93074a6c8>,\n",
       " <networkx.classes.graph.Graph at 0x1b93074a048>,\n",
       " <networkx.classes.graph.Graph at 0x1b93074a448>,\n",
       " <networkx.classes.graph.Graph at 0x1b93074dd08>,\n",
       " <networkx.classes.graph.Graph at 0x1b93074d348>,\n",
       " <networkx.classes.graph.Graph at 0x1b93074d4c8>,\n",
       " <networkx.classes.graph.Graph at 0x1b93074da08>,\n",
       " <networkx.classes.graph.Graph at 0x1b93074df48>,\n",
       " <networkx.classes.graph.Graph at 0x1b93074d3c8>,\n",
       " <networkx.classes.graph.Graph at 0x1b93074dec8>,\n",
       " <networkx.classes.graph.Graph at 0x1b930750288>,\n",
       " <networkx.classes.graph.Graph at 0x1b930750a48>,\n",
       " <networkx.classes.graph.Graph at 0x1b930750448>,\n",
       " <networkx.classes.graph.Graph at 0x1b930750888>,\n",
       " <networkx.classes.graph.Graph at 0x1b9307506c8>,\n",
       " <networkx.classes.graph.Graph at 0x1b930750fc8>,\n",
       " <networkx.classes.graph.Graph at 0x1b93074e2c8>,\n",
       " <networkx.classes.graph.Graph at 0x1b93074e508>,\n",
       " <networkx.classes.graph.Graph at 0x1b93074ef88>,\n",
       " <networkx.classes.graph.Graph at 0x1b93074e5c8>,\n",
       " <networkx.classes.graph.Graph at 0x1b93074eb48>,\n",
       " <networkx.classes.graph.Graph at 0x1b93074ebc8>,\n",
       " <networkx.classes.graph.Graph at 0x1b930752808>,\n",
       " <networkx.classes.graph.Graph at 0x1b9307528c8>,\n",
       " <networkx.classes.graph.Graph at 0x1b930752748>,\n",
       " <networkx.classes.graph.Graph at 0x1b930752e88>,\n",
       " <networkx.classes.graph.Graph at 0x1b9307520c8>,\n",
       " <networkx.classes.graph.Graph at 0x1b930752fc8>,\n",
       " <networkx.classes.graph.Graph at 0x1b930756648>,\n",
       " <networkx.classes.graph.Graph at 0x1b930756688>,\n",
       " <networkx.classes.graph.Graph at 0x1b930756e88>,\n",
       " <networkx.classes.graph.Graph at 0x1b9307568c8>,\n",
       " <networkx.classes.graph.Graph at 0x1b930756308>,\n",
       " <networkx.classes.graph.Graph at 0x1b930756cc8>,\n",
       " <networkx.classes.graph.Graph at 0x1b930756b88>,\n",
       " <networkx.classes.graph.Graph at 0x1b930754cc8>,\n",
       " <networkx.classes.graph.Graph at 0x1b9307547c8>,\n",
       " <networkx.classes.graph.Graph at 0x1b930754b88>,\n",
       " <networkx.classes.graph.Graph at 0x1b9307549c8>,\n",
       " <networkx.classes.graph.Graph at 0x1b9307543c8>,\n",
       " <networkx.classes.graph.Graph at 0x1b930754dc8>,\n",
       " <networkx.classes.graph.Graph at 0x1b930753808>,\n",
       " <networkx.classes.graph.Graph at 0x1b930753d08>,\n",
       " <networkx.classes.graph.Graph at 0x1b930753e48>,\n",
       " <networkx.classes.graph.Graph at 0x1b930753a88>,\n",
       " <networkx.classes.graph.Graph at 0x1b930753908>,\n",
       " <networkx.classes.graph.Graph at 0x1b930753f08>,\n",
       " <networkx.classes.graph.Graph at 0x1b930757e08>,\n",
       " <networkx.classes.graph.Graph at 0x1b9307570c8>,\n",
       " <networkx.classes.graph.Graph at 0x1b9307575c8>,\n",
       " <networkx.classes.graph.Graph at 0x1b9307573c8>,\n",
       " <networkx.classes.graph.Graph at 0x1b930757c88>,\n",
       " <networkx.classes.graph.Graph at 0x1b930757988>,\n",
       " <networkx.classes.graph.Graph at 0x1b93075a608>,\n",
       " <networkx.classes.graph.Graph at 0x1b93075a0c8>,\n",
       " <networkx.classes.graph.Graph at 0x1b93075a708>,\n",
       " <networkx.classes.graph.Graph at 0x1b93075a108>,\n",
       " <networkx.classes.graph.Graph at 0x1b93075a3c8>,\n",
       " <networkx.classes.graph.Graph at 0x1b93075af88>,\n",
       " <networkx.classes.graph.Graph at 0x1b93074c908>,\n",
       " <networkx.classes.graph.Graph at 0x1b93074c788>,\n",
       " <networkx.classes.graph.Graph at 0x1b93074c708>,\n",
       " <networkx.classes.graph.Graph at 0x1b93074ce48>,\n",
       " <networkx.classes.graph.Graph at 0x1b93074c488>,\n",
       " <networkx.classes.graph.Graph at 0x1b93074cd88>,\n",
       " <networkx.classes.graph.Graph at 0x1b930759988>,\n",
       " <networkx.classes.graph.Graph at 0x1b930759f08>,\n",
       " <networkx.classes.graph.Graph at 0x1b9307594c8>,\n",
       " <networkx.classes.graph.Graph at 0x1b9307595c8>,\n",
       " <networkx.classes.graph.Graph at 0x1b930759488>,\n",
       " <networkx.classes.graph.Graph at 0x1b930759548>,\n",
       " <networkx.classes.graph.Graph at 0x1b93075b088>,\n",
       " <networkx.classes.graph.Graph at 0x1b93075b988>,\n",
       " <networkx.classes.graph.Graph at 0x1b93075be48>,\n",
       " <networkx.classes.graph.Graph at 0x1b93075b608>,\n",
       " <networkx.classes.graph.Graph at 0x1b93075b7c8>,\n",
       " <networkx.classes.graph.Graph at 0x1b93075b888>,\n",
       " <networkx.classes.graph.Graph at 0x1b930755a08>,\n",
       " <networkx.classes.graph.Graph at 0x1b930755c88>,\n",
       " <networkx.classes.graph.Graph at 0x1b930755908>,\n",
       " <networkx.classes.graph.Graph at 0x1b930755148>,\n",
       " <networkx.classes.graph.Graph at 0x1b930755588>,\n",
       " <networkx.classes.graph.Graph at 0x1b930755448>,\n",
       " <networkx.classes.graph.Graph at 0x1b930749688>,\n",
       " <networkx.classes.graph.Graph at 0x1b930749948>,\n",
       " <networkx.classes.graph.Graph at 0x1b930749588>,\n",
       " <networkx.classes.graph.Graph at 0x1b930749988>,\n",
       " <networkx.classes.graph.Graph at 0x1b9307490c8>,\n",
       " <networkx.classes.graph.Graph at 0x1b930749e88>,\n",
       " <networkx.classes.graph.Graph at 0x1b93075ca48>,\n",
       " <networkx.classes.graph.Graph at 0x1b93075c508>,\n",
       " <networkx.classes.graph.Graph at 0x1b93075ca08>,\n",
       " <networkx.classes.graph.Graph at 0x1b93075c188>,\n",
       " <networkx.classes.graph.Graph at 0x1b93075c4c8>,\n",
       " <networkx.classes.graph.Graph at 0x1b93075cc88>,\n",
       " <networkx.classes.graph.Graph at 0x1b9307583c8>,\n",
       " <networkx.classes.graph.Graph at 0x1b930758748>,\n",
       " <networkx.classes.graph.Graph at 0x1b930758248>,\n",
       " <networkx.classes.graph.Graph at 0x1b930758a08>,\n",
       " <networkx.classes.graph.Graph at 0x1b930758b08>,\n",
       " <networkx.classes.graph.Graph at 0x1b930758b48>,\n",
       " <networkx.classes.graph.Graph at 0x1b93075dc48>,\n",
       " <networkx.classes.graph.Graph at 0x1b93075d248>,\n",
       " <networkx.classes.graph.Graph at 0x1b92fe28b08>,\n",
       " <networkx.classes.graph.Graph at 0x1b93075d8c8>,\n",
       " <networkx.classes.graph.Graph at 0x1b93075d088>,\n",
       " <networkx.classes.graph.Graph at 0x1b93075da08>,\n",
       " <networkx.classes.graph.Graph at 0x1b930795f08>,\n",
       " <networkx.classes.graph.Graph at 0x1b9307959c8>,\n",
       " <networkx.classes.graph.Graph at 0x1b930795488>,\n",
       " <networkx.classes.graph.Graph at 0x1b930795ac8>,\n",
       " <networkx.classes.graph.Graph at 0x1b930795588>,\n",
       " <networkx.classes.graph.Graph at 0x1b93075f108>,\n",
       " <networkx.classes.graph.Graph at 0x1b93075f688>,\n",
       " <networkx.classes.graph.Graph at 0x1b93075fe88>,\n",
       " <networkx.classes.graph.Graph at 0x1b93075f388>,\n",
       " <networkx.classes.graph.Graph at 0x1b930a3a208>,\n",
       " <networkx.classes.graph.Graph at 0x1b930a3a4c8>,\n",
       " <networkx.classes.graph.Graph at 0x1b930a3a788>,\n",
       " <networkx.classes.graph.Graph at 0x1b930a3aa48>,\n",
       " <networkx.classes.graph.Graph at 0x1b930a3ad08>,\n",
       " <networkx.classes.graph.Graph at 0x1b930a45048>,\n",
       " <networkx.classes.graph.Graph at 0x1b930a452c8>,\n",
       " <networkx.classes.graph.Graph at 0x1b930a45588>,\n",
       " <networkx.classes.graph.Graph at 0x1b930a45848>,\n",
       " <networkx.classes.graph.Graph at 0x1b930a45b08>,\n",
       " <networkx.classes.graph.Graph at 0x1b930a45dc8>,\n",
       " <networkx.classes.graph.Graph at 0x1b930a4f0c8>,\n",
       " <networkx.classes.graph.Graph at 0x1b930a4f388>,\n",
       " <networkx.classes.graph.Graph at 0x1b930a4f648>,\n",
       " <networkx.classes.graph.Graph at 0x1b930a4f908>,\n",
       " <networkx.classes.graph.Graph at 0x1b930a4fbc8>,\n",
       " <networkx.classes.graph.Graph at 0x1b930a4fe88>,\n",
       " <networkx.classes.graph.Graph at 0x1b930a5b188>,\n",
       " <networkx.classes.graph.Graph at 0x1b930a5b448>,\n",
       " <networkx.classes.graph.Graph at 0x1b930a5b708>,\n",
       " <networkx.classes.graph.Graph at 0x1b930a5b9c8>,\n",
       " <networkx.classes.graph.Graph at 0x1b930a5bc88>,\n",
       " <networkx.classes.graph.Graph at 0x1b930a5bf48>,\n",
       " <networkx.classes.graph.Graph at 0x1b930a67248>,\n",
       " <networkx.classes.graph.Graph at 0x1b930a67508>,\n",
       " <networkx.classes.graph.Graph at 0x1b930a677c8>,\n",
       " <networkx.classes.graph.Graph at 0x1b930a67a88>,\n",
       " <networkx.classes.graph.Graph at 0x1b930a67d48>,\n",
       " <networkx.classes.graph.Graph at 0x1b930a72048>,\n",
       " <networkx.classes.graph.Graph at 0x1b930a72308>,\n",
       " <networkx.classes.graph.Graph at 0x1b930a725c8>,\n",
       " <networkx.classes.graph.Graph at 0x1b930a72888>,\n",
       " <networkx.classes.graph.Graph at 0x1b930a72b48>,\n",
       " <networkx.classes.graph.Graph at 0x1b930a72e08>,\n",
       " <networkx.classes.graph.Graph at 0x1b930a7c108>,\n",
       " <networkx.classes.graph.Graph at 0x1b930a7c3c8>,\n",
       " <networkx.classes.graph.Graph at 0x1b930a7c688>,\n",
       " <networkx.classes.graph.Graph at 0x1b930a7c948>,\n",
       " <networkx.classes.graph.Graph at 0x1b930a7cc08>,\n",
       " <networkx.classes.graph.Graph at 0x1b930a7cec8>,\n",
       " <networkx.classes.graph.Graph at 0x1b930a871c8>,\n",
       " <networkx.classes.graph.Graph at 0x1b930a87488>,\n",
       " <networkx.classes.graph.Graph at 0x1b930a87748>,\n",
       " <networkx.classes.graph.Graph at 0x1b930a87a08>,\n",
       " <networkx.classes.graph.Graph at 0x1b930a87cc8>,\n",
       " <networkx.classes.graph.Graph at 0x1b930a87f88>,\n",
       " <networkx.classes.graph.Graph at 0x1b930a93288>,\n",
       " <networkx.classes.graph.Graph at 0x1b930a93548>,\n",
       " <networkx.classes.graph.Graph at 0x1b930a93808>,\n",
       " <networkx.classes.graph.Graph at 0x1b930a93ac8>,\n",
       " <networkx.classes.graph.Graph at 0x1b930a93d88>,\n",
       " <networkx.classes.graph.Graph at 0x1b930a9c088>,\n",
       " <networkx.classes.graph.Graph at 0x1b930a9c348>,\n",
       " <networkx.classes.graph.Graph at 0x1b930a9c608>,\n",
       " <networkx.classes.graph.Graph at 0x1b930a9c8c8>,\n",
       " <networkx.classes.graph.Graph at 0x1b930a9cb88>,\n",
       " <networkx.classes.graph.Graph at 0x1b930a9ce48>,\n",
       " <networkx.classes.graph.Graph at 0x1b930aa8408>,\n",
       " <networkx.classes.graph.Graph at 0x1b930aa8548>,\n",
       " <networkx.classes.graph.Graph at 0x1b930aa85c8>,\n",
       " <networkx.classes.graph.Graph at 0x1b930aa8648>,\n",
       " <networkx.classes.graph.Graph at 0x1b930aa86c8>,\n",
       " <networkx.classes.graph.Graph at 0x1b930aa8748>,\n",
       " <networkx.classes.graph.Graph at 0x1b930aa87c8>,\n",
       " <networkx.classes.graph.Graph at 0x1b930aa8848>,\n",
       " <networkx.classes.graph.Graph at 0x1b930aa88c8>,\n",
       " <networkx.classes.graph.Graph at 0x1b930aa8948>,\n",
       " <networkx.classes.graph.Graph at 0x1b930aa89c8>,\n",
       " <networkx.classes.graph.Graph at 0x1b930aa8a48>,\n",
       " <networkx.classes.graph.Graph at 0x1b930aa8ac8>,\n",
       " <networkx.classes.graph.Graph at 0x1b930aa8b48>,\n",
       " <networkx.classes.graph.Graph at 0x1b930aa8bc8>,\n",
       " <networkx.classes.graph.Graph at 0x1b930aa8c48>,\n",
       " <networkx.classes.graph.Graph at 0x1b930aa8cc8>,\n",
       " <networkx.classes.graph.Graph at 0x1b930aa8d48>,\n",
       " <networkx.classes.graph.Graph at 0x1b930aa8dc8>,\n",
       " <networkx.classes.graph.Graph at 0x1b930aa8e48>,\n",
       " <networkx.classes.graph.Graph at 0x1b930aa8ec8>,\n",
       " <networkx.classes.graph.Graph at 0x1b930aa8f48>,\n",
       " <networkx.classes.graph.Graph at 0x1b930aa8448>,\n",
       " <networkx.classes.graph.Graph at 0x1b930ad50c8>,\n",
       " <networkx.classes.graph.Graph at 0x1b930ad5108>,\n",
       " <networkx.classes.graph.Graph at 0x1b930ad5188>,\n",
       " <networkx.classes.graph.Graph at 0x1b930ad5208>,\n",
       " <networkx.classes.graph.Graph at 0x1b930ad5288>,\n",
       " <networkx.classes.graph.Graph at 0x1b930ad5308>,\n",
       " <networkx.classes.graph.Graph at 0x1b930ad5388>,\n",
       " <networkx.classes.graph.Graph at 0x1b930ad5408>,\n",
       " <networkx.classes.graph.Graph at 0x1b930ad5488>,\n",
       " <networkx.classes.graph.Graph at 0x1b930ad5508>,\n",
       " <networkx.classes.graph.Graph at 0x1b930ad5588>,\n",
       " <networkx.classes.graph.Graph at 0x1b930ad5608>,\n",
       " <networkx.classes.graph.Graph at 0x1b930ad5688>,\n",
       " <networkx.classes.graph.Graph at 0x1b930ad5708>,\n",
       " <networkx.classes.graph.Graph at 0x1b930ad5788>,\n",
       " <networkx.classes.graph.Graph at 0x1b930ad5808>,\n",
       " <networkx.classes.graph.Graph at 0x1b930ad5888>,\n",
       " <networkx.classes.graph.Graph at 0x1b930ad5908>,\n",
       " <networkx.classes.graph.Graph at 0x1b930ad5988>,\n",
       " <networkx.classes.graph.Graph at 0x1b930ad5a08>,\n",
       " <networkx.classes.graph.Graph at 0x1b930ad5a88>,\n",
       " <networkx.classes.graph.Graph at 0x1b930ad5b08>,\n",
       " <networkx.classes.graph.Graph at 0x1b930ad5b88>,\n",
       " <networkx.classes.graph.Graph at 0x1b930ad5c08>,\n",
       " <networkx.classes.graph.Graph at 0x1b930ad5c88>,\n",
       " <networkx.classes.graph.Graph at 0x1b930ad5d08>,\n",
       " <networkx.classes.graph.Graph at 0x1b930ad5d88>,\n",
       " <networkx.classes.graph.Graph at 0x1b930ad5e08>,\n",
       " <networkx.classes.graph.Graph at 0x1b930ad5e88>,\n",
       " <networkx.classes.graph.Graph at 0x1b930ad5f08>,\n",
       " <networkx.classes.graph.Graph at 0x1b930ad5fc8>,\n",
       " <networkx.classes.graph.Graph at 0x1b930ad5088>,\n",
       " <networkx.classes.graph.Graph at 0x1b930b0a0c8>,\n",
       " <networkx.classes.graph.Graph at 0x1b930b0a148>,\n",
       " <networkx.classes.graph.Graph at 0x1b930b0a1c8>,\n",
       " <networkx.classes.graph.Graph at 0x1b930b0a248>,\n",
       " <networkx.classes.graph.Graph at 0x1b930b0a2c8>,\n",
       " <networkx.classes.graph.Graph at 0x1b930b0a348>,\n",
       " <networkx.classes.graph.Graph at 0x1b930b0a3c8>,\n",
       " <networkx.classes.graph.Graph at 0x1b930b0a4c8>,\n",
       " <networkx.classes.graph.Graph at 0x1b930b0a548>,\n",
       " <networkx.classes.graph.Graph at 0x1b930b0a5c8>,\n",
       " <networkx.classes.graph.Graph at 0x1b930b0a648>,\n",
       " <networkx.classes.graph.Graph at 0x1b930b0a6c8>,\n",
       " <networkx.classes.graph.Graph at 0x1b930b0a748>,\n",
       " <networkx.classes.graph.Graph at 0x1b930b0a7c8>,\n",
       " <networkx.classes.graph.Graph at 0x1b930b0a848>,\n",
       " <networkx.classes.graph.Graph at 0x1b930b0a8c8>,\n",
       " <networkx.classes.graph.Graph at 0x1b930b0a948>,\n",
       " <networkx.classes.graph.Graph at 0x1b930b0a9c8>,\n",
       " <networkx.classes.graph.Graph at 0x1b930b0aa48>,\n",
       " <networkx.classes.graph.Graph at 0x1b930b0aac8>,\n",
       " <networkx.classes.graph.Graph at 0x1b930b0ab48>,\n",
       " <networkx.classes.graph.Graph at 0x1b930b0abc8>,\n",
       " <networkx.classes.graph.Graph at 0x1b930b0ac48>,\n",
       " <networkx.classes.graph.Graph at 0x1b930b0acc8>,\n",
       " <networkx.classes.graph.Graph at 0x1b930b0ad48>,\n",
       " <networkx.classes.graph.Graph at 0x1b930b0adc8>,\n",
       " <networkx.classes.graph.Graph at 0x1b930b0ae48>,\n",
       " <networkx.classes.graph.Graph at 0x1b930b0aec8>,\n",
       " <networkx.classes.graph.Graph at 0x1b930b0af48>,\n",
       " <networkx.classes.graph.Graph at 0x1b930b0af08>,\n",
       " <networkx.classes.graph.Graph at 0x1b930b0afc8>,\n",
       " <networkx.classes.graph.Graph at 0x1b930b47108>,\n",
       " <networkx.classes.graph.Graph at 0x1b930b47188>,\n",
       " <networkx.classes.graph.Graph at 0x1b930b47208>,\n",
       " <networkx.classes.graph.Graph at 0x1b930b47288>,\n",
       " <networkx.classes.graph.Graph at 0x1b930b47308>,\n",
       " <networkx.classes.graph.Graph at 0x1b930b47388>,\n",
       " <networkx.classes.graph.Graph at 0x1b930b47408>,\n",
       " <networkx.classes.graph.Graph at 0x1b930b47488>,\n",
       " <networkx.classes.graph.Graph at 0x1b930b47508>,\n",
       " <networkx.classes.graph.Graph at 0x1b930b47588>,\n",
       " <networkx.classes.graph.Graph at 0x1b930b47608>,\n",
       " <networkx.classes.graph.Graph at 0x1b930b47688>,\n",
       " <networkx.classes.graph.Graph at 0x1b930b47708>,\n",
       " <networkx.classes.graph.Graph at 0x1b930b47788>,\n",
       " <networkx.classes.graph.Graph at 0x1b930b47808>,\n",
       " <networkx.classes.graph.Graph at 0x1b930b47888>,\n",
       " <networkx.classes.graph.Graph at 0x1b930b47908>,\n",
       " <networkx.classes.graph.Graph at 0x1b930b47988>,\n",
       " <networkx.classes.graph.Graph at 0x1b930b47a08>,\n",
       " <networkx.classes.graph.Graph at 0x1b930b47a88>,\n",
       " <networkx.classes.graph.Graph at 0x1b930b47b08>,\n",
       " <networkx.classes.graph.Graph at 0x1b930b47b88>,\n",
       " <networkx.classes.graph.Graph at 0x1b930b47c08>,\n",
       " <networkx.classes.graph.Graph at 0x1b930b47c88>,\n",
       " <networkx.classes.graph.Graph at 0x1b930b47d08>,\n",
       " <networkx.classes.graph.Graph at 0x1b930b47d88>,\n",
       " <networkx.classes.graph.Graph at 0x1b930b47e08>,\n",
       " <networkx.classes.graph.Graph at 0x1b930b47e88>,\n",
       " <networkx.classes.graph.Graph at 0x1b930b47f08>,\n",
       " <networkx.classes.graph.Graph at 0x1b930b47f88>,\n",
       " <networkx.classes.graph.Graph at 0x1b930b47f48>,\n",
       " <networkx.classes.graph.Graph at 0x1b930b47fc8>,\n",
       " <networkx.classes.graph.Graph at 0x1b930b7f148>,\n",
       " <networkx.classes.graph.Graph at 0x1b930b7f1c8>,\n",
       " <networkx.classes.graph.Graph at 0x1b930b7f248>,\n",
       " <networkx.classes.graph.Graph at 0x1b930b7f2c8>,\n",
       " <networkx.classes.graph.Graph at 0x1b930b7f348>,\n",
       " <networkx.classes.graph.Graph at 0x1b930b7f3c8>,\n",
       " <networkx.classes.graph.Graph at 0x1b930b7f448>,\n",
       " <networkx.classes.graph.Graph at 0x1b930b7f4c8>,\n",
       " <networkx.classes.graph.Graph at 0x1b930b7f548>,\n",
       " <networkx.classes.graph.Graph at 0x1b930b7f5c8>,\n",
       " <networkx.classes.graph.Graph at 0x1b930b7f648>,\n",
       " <networkx.classes.graph.Graph at 0x1b930b7f6c8>,\n",
       " <networkx.classes.graph.Graph at 0x1b930b7f748>,\n",
       " <networkx.classes.graph.Graph at 0x1b930b7f7c8>,\n",
       " <networkx.classes.graph.Graph at 0x1b930b7f848>,\n",
       " <networkx.classes.graph.Graph at 0x1b930b7f8c8>,\n",
       " <networkx.classes.graph.Graph at 0x1b930b7f948>,\n",
       " <networkx.classes.graph.Graph at 0x1b930b7f9c8>,\n",
       " <networkx.classes.graph.Graph at 0x1b930b7fa48>,\n",
       " <networkx.classes.graph.Graph at 0x1b930b7fac8>,\n",
       " <networkx.classes.graph.Graph at 0x1b930b7fb48>,\n",
       " <networkx.classes.graph.Graph at 0x1b930b7fbc8>,\n",
       " <networkx.classes.graph.Graph at 0x1b930b7fc48>,\n",
       " <networkx.classes.graph.Graph at 0x1b930b7fcc8>,\n",
       " <networkx.classes.graph.Graph at 0x1b930b7fd48>,\n",
       " <networkx.classes.graph.Graph at 0x1b930b7fdc8>,\n",
       " <networkx.classes.graph.Graph at 0x1b930b7fe48>,\n",
       " <networkx.classes.graph.Graph at 0x1b930b7fec8>,\n",
       " <networkx.classes.graph.Graph at 0x1b930b7ff48>,\n",
       " <networkx.classes.graph.Graph at 0x1b930b7ff08>,\n",
       " <networkx.classes.graph.Graph at 0x1b930b7ffc8>,\n",
       " <networkx.classes.graph.Graph at 0x1b930bbc108>,\n",
       " <networkx.classes.graph.Graph at 0x1b930bbc188>,\n",
       " <networkx.classes.graph.Graph at 0x1b930bbc208>,\n",
       " <networkx.classes.graph.Graph at 0x1b930bbc288>,\n",
       " <networkx.classes.graph.Graph at 0x1b930bbc308>,\n",
       " <networkx.classes.graph.Graph at 0x1b930bbc388>,\n",
       " <networkx.classes.graph.Graph at 0x1b930bbc408>,\n",
       " <networkx.classes.graph.Graph at 0x1b930bbc488>,\n",
       " <networkx.classes.graph.Graph at 0x1b930bbc508>,\n",
       " <networkx.classes.graph.Graph at 0x1b930bbc588>,\n",
       " <networkx.classes.graph.Graph at 0x1b930bbc608>,\n",
       " <networkx.classes.graph.Graph at 0x1b930bbc688>,\n",
       " <networkx.classes.graph.Graph at 0x1b930bbc708>,\n",
       " <networkx.classes.graph.Graph at 0x1b930bbc788>,\n",
       " <networkx.classes.graph.Graph at 0x1b930bbc808>,\n",
       " <networkx.classes.graph.Graph at 0x1b930bbc888>,\n",
       " <networkx.classes.graph.Graph at 0x1b930bbc908>,\n",
       " <networkx.classes.graph.Graph at 0x1b930bbc988>,\n",
       " <networkx.classes.graph.Graph at 0x1b930bbca08>,\n",
       " <networkx.classes.graph.Graph at 0x1b930bbca88>,\n",
       " <networkx.classes.graph.Graph at 0x1b930bbcb08>,\n",
       " <networkx.classes.graph.Graph at 0x1b930bbcb88>,\n",
       " <networkx.classes.graph.Graph at 0x1b930bbcc08>,\n",
       " <networkx.classes.graph.Graph at 0x1b930bbcc88>,\n",
       " <networkx.classes.graph.Graph at 0x1b930bbcd08>,\n",
       " <networkx.classes.graph.Graph at 0x1b930bbcd88>,\n",
       " <networkx.classes.graph.Graph at 0x1b930bbce08>,\n",
       " <networkx.classes.graph.Graph at 0x1b930bbce88>,\n",
       " <networkx.classes.graph.Graph at 0x1b930bbcf08>,\n",
       " <networkx.classes.graph.Graph at 0x1b930bbcf88>,\n",
       " <networkx.classes.graph.Graph at 0x1b930bbcf48>,\n",
       " <networkx.classes.graph.Graph at 0x1b930bbcfc8>,\n",
       " <networkx.classes.graph.Graph at 0x1b930bf6148>,\n",
       " <networkx.classes.graph.Graph at 0x1b930bf61c8>,\n",
       " <networkx.classes.graph.Graph at 0x1b930bf6248>,\n",
       " <networkx.classes.graph.Graph at 0x1b930bf62c8>,\n",
       " <networkx.classes.graph.Graph at 0x1b930bf6348>,\n",
       " <networkx.classes.graph.Graph at 0x1b930bf63c8>,\n",
       " <networkx.classes.graph.Graph at 0x1b930bf6448>,\n",
       " <networkx.classes.graph.Graph at 0x1b930bf64c8>,\n",
       " <networkx.classes.graph.Graph at 0x1b930bf6548>,\n",
       " <networkx.classes.graph.Graph at 0x1b930bf65c8>,\n",
       " <networkx.classes.graph.Graph at 0x1b930bf6648>,\n",
       " <networkx.classes.graph.Graph at 0x1b930bf66c8>,\n",
       " <networkx.classes.graph.Graph at 0x1b930bf6748>,\n",
       " <networkx.classes.graph.Graph at 0x1b930bf67c8>,\n",
       " <networkx.classes.graph.Graph at 0x1b930bf6848>,\n",
       " <networkx.classes.graph.Graph at 0x1b930bf68c8>,\n",
       " <networkx.classes.graph.Graph at 0x1b930bf6948>,\n",
       " <networkx.classes.graph.Graph at 0x1b930bf69c8>,\n",
       " <networkx.classes.graph.Graph at 0x1b930bf6a48>,\n",
       " <networkx.classes.graph.Graph at 0x1b930bf6ac8>,\n",
       " <networkx.classes.graph.Graph at 0x1b930bf6b48>,\n",
       " <networkx.classes.graph.Graph at 0x1b930bf6bc8>,\n",
       " <networkx.classes.graph.Graph at 0x1b930bf6c48>,\n",
       " <networkx.classes.graph.Graph at 0x1b930bf6cc8>,\n",
       " <networkx.classes.graph.Graph at 0x1b930bf6d48>,\n",
       " <networkx.classes.graph.Graph at 0x1b930bf6dc8>,\n",
       " <networkx.classes.graph.Graph at 0x1b930bf6e48>,\n",
       " <networkx.classes.graph.Graph at 0x1b930bf6ec8>,\n",
       " <networkx.classes.graph.Graph at 0x1b930bf6f48>,\n",
       " <networkx.classes.graph.Graph at 0x1b930bf6048>,\n",
       " <networkx.classes.graph.Graph at 0x1b930bf6fc8>,\n",
       " <networkx.classes.graph.Graph at 0x1b930c31148>,\n",
       " <networkx.classes.graph.Graph at 0x1b930c311c8>,\n",
       " <networkx.classes.graph.Graph at 0x1b930c31248>,\n",
       " <networkx.classes.graph.Graph at 0x1b930c312c8>,\n",
       " <networkx.classes.graph.Graph at 0x1b930c31348>,\n",
       " <networkx.classes.graph.Graph at 0x1b930c313c8>,\n",
       " <networkx.classes.graph.Graph at 0x1b930c31448>,\n",
       " <networkx.classes.graph.Graph at 0x1b930c314c8>,\n",
       " <networkx.classes.graph.Graph at 0x1b930c31548>,\n",
       " <networkx.classes.graph.Graph at 0x1b930c315c8>,\n",
       " <networkx.classes.graph.Graph at 0x1b930c31648>,\n",
       " <networkx.classes.graph.Graph at 0x1b930c316c8>,\n",
       " <networkx.classes.graph.Graph at 0x1b930c31748>,\n",
       " <networkx.classes.graph.Graph at 0x1b930c317c8>,\n",
       " <networkx.classes.graph.Graph at 0x1b930c31848>,\n",
       " <networkx.classes.graph.Graph at 0x1b930c318c8>,\n",
       " <networkx.classes.graph.Graph at 0x1b930c31948>,\n",
       " <networkx.classes.graph.Graph at 0x1b930c319c8>,\n",
       " <networkx.classes.graph.Graph at 0x1b930c31a48>,\n",
       " <networkx.classes.graph.Graph at 0x1b930c31ac8>,\n",
       " <networkx.classes.graph.Graph at 0x1b930c31b48>,\n",
       " <networkx.classes.graph.Graph at 0x1b930c31bc8>,\n",
       " <networkx.classes.graph.Graph at 0x1b930c31c48>,\n",
       " <networkx.classes.graph.Graph at 0x1b930c31cc8>,\n",
       " <networkx.classes.graph.Graph at 0x1b930c31d48>,\n",
       " <networkx.classes.graph.Graph at 0x1b930c31dc8>,\n",
       " <networkx.classes.graph.Graph at 0x1b930c31e48>,\n",
       " <networkx.classes.graph.Graph at 0x1b930c31ec8>,\n",
       " <networkx.classes.graph.Graph at 0x1b930c31f48>,\n",
       " <networkx.classes.graph.Graph at 0x1b930c31fc8>,\n",
       " <networkx.classes.graph.Graph at 0x1b930c31f88>,\n",
       " <networkx.classes.graph.Graph at 0x1b930c31088>,\n",
       " <networkx.classes.graph.Graph at 0x1b930c6b188>,\n",
       " <networkx.classes.graph.Graph at 0x1b930c6b208>,\n",
       " <networkx.classes.graph.Graph at 0x1b930c6b288>,\n",
       " <networkx.classes.graph.Graph at 0x1b930c6b308>,\n",
       " <networkx.classes.graph.Graph at 0x1b930c6b388>,\n",
       " <networkx.classes.graph.Graph at 0x1b930c6b408>,\n",
       " <networkx.classes.graph.Graph at 0x1b930c6b488>,\n",
       " <networkx.classes.graph.Graph at 0x1b930c6b508>,\n",
       " <networkx.classes.graph.Graph at 0x1b930c6b588>,\n",
       " <networkx.classes.graph.Graph at 0x1b930c6b608>,\n",
       " <networkx.classes.graph.Graph at 0x1b930c6b688>,\n",
       " <networkx.classes.graph.Graph at 0x1b930c6b708>,\n",
       " <networkx.classes.graph.Graph at 0x1b930c6b788>,\n",
       " <networkx.classes.graph.Graph at 0x1b930c6b808>,\n",
       " <networkx.classes.graph.Graph at 0x1b930c6b888>,\n",
       " <networkx.classes.graph.Graph at 0x1b930c6b908>,\n",
       " <networkx.classes.graph.Graph at 0x1b930c6b988>,\n",
       " <networkx.classes.graph.Graph at 0x1b930c6ba08>,\n",
       " <networkx.classes.graph.Graph at 0x1b930c6ba88>,\n",
       " <networkx.classes.graph.Graph at 0x1b930c6bb08>,\n",
       " <networkx.classes.graph.Graph at 0x1b930c6bb88>,\n",
       " <networkx.classes.graph.Graph at 0x1b930c6bc08>,\n",
       " <networkx.classes.graph.Graph at 0x1b930c6bc88>,\n",
       " <networkx.classes.graph.Graph at 0x1b930c6bd08>,\n",
       " <networkx.classes.graph.Graph at 0x1b930c6bd88>,\n",
       " <networkx.classes.graph.Graph at 0x1b930c6be08>,\n",
       " <networkx.classes.graph.Graph at 0x1b930c6be88>,\n",
       " <networkx.classes.graph.Graph at 0x1b930c6bf08>,\n",
       " <networkx.classes.graph.Graph at 0x1b930c6bf88>,\n",
       " <networkx.classes.graph.Graph at 0x1b930c6b048>,\n",
       " <networkx.classes.graph.Graph at 0x1b930c6bfc8>,\n",
       " <networkx.classes.graph.Graph at 0x1b930ca8148>,\n",
       " <networkx.classes.graph.Graph at 0x1b930ca81c8>,\n",
       " <networkx.classes.graph.Graph at 0x1b930ca8248>,\n",
       " <networkx.classes.graph.Graph at 0x1b930ca82c8>,\n",
       " <networkx.classes.graph.Graph at 0x1b930ca8348>,\n",
       " <networkx.classes.graph.Graph at 0x1b930ca83c8>,\n",
       " <networkx.classes.graph.Graph at 0x1b930ca8448>,\n",
       " <networkx.classes.graph.Graph at 0x1b930ca84c8>,\n",
       " <networkx.classes.graph.Graph at 0x1b930ca8548>,\n",
       " <networkx.classes.graph.Graph at 0x1b930ca85c8>,\n",
       " <networkx.classes.graph.Graph at 0x1b930ca8648>,\n",
       " <networkx.classes.graph.Graph at 0x1b930ca86c8>,\n",
       " <networkx.classes.graph.Graph at 0x1b930ca8748>,\n",
       " <networkx.classes.graph.Graph at 0x1b930ca87c8>,\n",
       " <networkx.classes.graph.Graph at 0x1b930ca8848>,\n",
       " <networkx.classes.graph.Graph at 0x1b930ca88c8>,\n",
       " <networkx.classes.graph.Graph at 0x1b930ca8948>,\n",
       " <networkx.classes.graph.Graph at 0x1b930ca89c8>,\n",
       " <networkx.classes.graph.Graph at 0x1b930ca8a48>,\n",
       " <networkx.classes.graph.Graph at 0x1b930ca8ac8>,\n",
       " <networkx.classes.graph.Graph at 0x1b930ca8b48>,\n",
       " <networkx.classes.graph.Graph at 0x1b930ca8bc8>,\n",
       " <networkx.classes.graph.Graph at 0x1b930ca8c48>,\n",
       " <networkx.classes.graph.Graph at 0x1b930ca8cc8>,\n",
       " <networkx.classes.graph.Graph at 0x1b930ca8d48>,\n",
       " <networkx.classes.graph.Graph at 0x1b930ca8dc8>,\n",
       " <networkx.classes.graph.Graph at 0x1b930ca8e48>,\n",
       " <networkx.classes.graph.Graph at 0x1b930ca8ec8>,\n",
       " <networkx.classes.graph.Graph at 0x1b930ca8f48>,\n",
       " <networkx.classes.graph.Graph at 0x1b930ca8fc8>,\n",
       " <networkx.classes.graph.Graph at 0x1b930ca8f88>,\n",
       " <networkx.classes.graph.Graph at 0x1b930ca8088>,\n",
       " <networkx.classes.graph.Graph at 0x1b930ce6188>,\n",
       " <networkx.classes.graph.Graph at 0x1b930ce6208>,\n",
       " <networkx.classes.graph.Graph at 0x1b930ce6288>,\n",
       " <networkx.classes.graph.Graph at 0x1b930ce6308>,\n",
       " <networkx.classes.graph.Graph at 0x1b930ce6388>,\n",
       " <networkx.classes.graph.Graph at 0x1b930ce6408>,\n",
       " <networkx.classes.graph.Graph at 0x1b930ce6488>,\n",
       " <networkx.classes.graph.Graph at 0x1b930ce6508>,\n",
       " <networkx.classes.graph.Graph at 0x1b930ce6588>,\n",
       " <networkx.classes.graph.Graph at 0x1b930ce6608>,\n",
       " <networkx.classes.graph.Graph at 0x1b930ce6688>,\n",
       " <networkx.classes.graph.Graph at 0x1b930ce6708>,\n",
       " <networkx.classes.graph.Graph at 0x1b930ce6788>,\n",
       " <networkx.classes.graph.Graph at 0x1b930ce6808>,\n",
       " <networkx.classes.graph.Graph at 0x1b930ce6888>,\n",
       " <networkx.classes.graph.Graph at 0x1b930ce6908>,\n",
       " <networkx.classes.graph.Graph at 0x1b930ce6988>,\n",
       " <networkx.classes.graph.Graph at 0x1b930ce6a08>,\n",
       " <networkx.classes.graph.Graph at 0x1b930ce6a88>,\n",
       " <networkx.classes.graph.Graph at 0x1b930ce6b08>,\n",
       " <networkx.classes.graph.Graph at 0x1b930ce6b88>,\n",
       " <networkx.classes.graph.Graph at 0x1b930ce6c08>,\n",
       " <networkx.classes.graph.Graph at 0x1b930ce6c88>,\n",
       " <networkx.classes.graph.Graph at 0x1b930ce6d08>,\n",
       " <networkx.classes.graph.Graph at 0x1b930ce6d88>,\n",
       " <networkx.classes.graph.Graph at 0x1b930ce6e08>,\n",
       " <networkx.classes.graph.Graph at 0x1b930ce6e88>,\n",
       " <networkx.classes.graph.Graph at 0x1b930ce6f08>,\n",
       " <networkx.classes.graph.Graph at 0x1b930ce6f88>,\n",
       " <networkx.classes.graph.Graph at 0x1b930ce6048>,\n",
       " <networkx.classes.graph.Graph at 0x1b930ce6fc8>,\n",
       " <networkx.classes.graph.Graph at 0x1b930d22148>,\n",
       " <networkx.classes.graph.Graph at 0x1b930d221c8>,\n",
       " <networkx.classes.graph.Graph at 0x1b930d22248>,\n",
       " <networkx.classes.graph.Graph at 0x1b930d222c8>,\n",
       " <networkx.classes.graph.Graph at 0x1b930d22348>,\n",
       " <networkx.classes.graph.Graph at 0x1b930d223c8>,\n",
       " <networkx.classes.graph.Graph at 0x1b930d22448>,\n",
       " <networkx.classes.graph.Graph at 0x1b930d224c8>,\n",
       " <networkx.classes.graph.Graph at 0x1b930d22548>,\n",
       " <networkx.classes.graph.Graph at 0x1b930d225c8>,\n",
       " <networkx.classes.graph.Graph at 0x1b930d22648>,\n",
       " <networkx.classes.graph.Graph at 0x1b930d226c8>,\n",
       " <networkx.classes.graph.Graph at 0x1b930d22748>,\n",
       " <networkx.classes.graph.Graph at 0x1b930d227c8>,\n",
       " <networkx.classes.graph.Graph at 0x1b930d22848>,\n",
       " <networkx.classes.graph.Graph at 0x1b930d228c8>,\n",
       " <networkx.classes.graph.Graph at 0x1b930d22948>,\n",
       " <networkx.classes.graph.Graph at 0x1b930d229c8>,\n",
       " <networkx.classes.graph.Graph at 0x1b930d22a48>,\n",
       " <networkx.classes.graph.Graph at 0x1b930d22ac8>,\n",
       " <networkx.classes.graph.Graph at 0x1b930d22048>,\n",
       " <networkx.classes.graph.Graph at 0x1b930d22b08>,\n",
       " <networkx.classes.graph.Graph at 0x1b930d22b88>,\n",
       " <networkx.classes.graph.Graph at 0x1b930d22c08>,\n",
       " <networkx.classes.graph.Graph at 0x1b930d22c88>,\n",
       " <networkx.classes.graph.Graph at 0x1b930d22d08>,\n",
       " <networkx.classes.graph.Graph at 0x1b930d22d88>,\n",
       " <networkx.classes.graph.Graph at 0x1b930d22e08>,\n",
       " <networkx.classes.graph.Graph at 0x1b930d22e88>,\n",
       " <networkx.classes.graph.Graph at 0x1b930d22f08>,\n",
       " <networkx.classes.graph.Graph at 0x1b930d22fc8>,\n",
       " <networkx.classes.graph.Graph at 0x1b930d22f88>,\n",
       " <networkx.classes.graph.Graph at 0x1b930d600c8>,\n",
       " <networkx.classes.graph.Graph at 0x1b930d60148>,\n",
       " <networkx.classes.graph.Graph at 0x1b930d601c8>,\n",
       " <networkx.classes.graph.Graph at 0x1b930d60248>,\n",
       " <networkx.classes.graph.Graph at 0x1b930d602c8>,\n",
       " <networkx.classes.graph.Graph at 0x1b930d60348>,\n",
       " <networkx.classes.graph.Graph at 0x1b930d603c8>,\n",
       " <networkx.classes.graph.Graph at 0x1b930d60448>,\n",
       " <networkx.classes.graph.Graph at 0x1b930d604c8>,\n",
       " <networkx.classes.graph.Graph at 0x1b930d60548>,\n",
       " <networkx.classes.graph.Graph at 0x1b930d605c8>,\n",
       " <networkx.classes.graph.Graph at 0x1b930d60648>,\n",
       " <networkx.classes.graph.Graph at 0x1b930d606c8>,\n",
       " <networkx.classes.graph.Graph at 0x1b930d60748>,\n",
       " <networkx.classes.graph.Graph at 0x1b930d607c8>,\n",
       " <networkx.classes.graph.Graph at 0x1b930d60848>,\n",
       " <networkx.classes.graph.Graph at 0x1b930d608c8>,\n",
       " <networkx.classes.graph.Graph at 0x1b930d60948>,\n",
       " <networkx.classes.graph.Graph at 0x1b930d609c8>,\n",
       " <networkx.classes.graph.Graph at 0x1b930d60a48>,\n",
       " <networkx.classes.graph.Graph at 0x1b930d60ac8>,\n",
       " <networkx.classes.graph.Graph at 0x1b930d60b48>,\n",
       " <networkx.classes.graph.Graph at 0x1b930d60bc8>,\n",
       " <networkx.classes.graph.Graph at 0x1b930d60c48>,\n",
       " <networkx.classes.graph.Graph at 0x1b930d60cc8>,\n",
       " <networkx.classes.graph.Graph at 0x1b930d60d48>,\n",
       " <networkx.classes.graph.Graph at 0x1b930d60dc8>,\n",
       " <networkx.classes.graph.Graph at 0x1b930d60e48>,\n",
       " <networkx.classes.graph.Graph at 0x1b930d60ec8>,\n",
       " <networkx.classes.graph.Graph at 0x1b930d60f88>,\n",
       " <networkx.classes.graph.Graph at 0x1b930d60f48>,\n",
       " <networkx.classes.graph.Graph at 0x1b930d9f0c8>,\n",
       " <networkx.classes.graph.Graph at 0x1b930d9f108>,\n",
       " <networkx.classes.graph.Graph at 0x1b930d9f188>,\n",
       " <networkx.classes.graph.Graph at 0x1b930d9f208>,\n",
       " <networkx.classes.graph.Graph at 0x1b930d9f288>,\n",
       " <networkx.classes.graph.Graph at 0x1b930d9f308>,\n",
       " <networkx.classes.graph.Graph at 0x1b930d9f388>,\n",
       " <networkx.classes.graph.Graph at 0x1b930d9f408>,\n",
       " <networkx.classes.graph.Graph at 0x1b930d9f488>,\n",
       " <networkx.classes.graph.Graph at 0x1b930d9f508>,\n",
       " <networkx.classes.graph.Graph at 0x1b930d9f588>,\n",
       " <networkx.classes.graph.Graph at 0x1b930d9f608>,\n",
       " <networkx.classes.graph.Graph at 0x1b930d9f688>,\n",
       " <networkx.classes.graph.Graph at 0x1b930d9f708>,\n",
       " <networkx.classes.graph.Graph at 0x1b930d9f788>,\n",
       " <networkx.classes.graph.Graph at 0x1b930d9f808>,\n",
       " <networkx.classes.graph.Graph at 0x1b930d9f888>,\n",
       " <networkx.classes.graph.Graph at 0x1b930d9f908>,\n",
       " <networkx.classes.graph.Graph at 0x1b930d9f988>,\n",
       " <networkx.classes.graph.Graph at 0x1b930d9fa08>,\n",
       " <networkx.classes.graph.Graph at 0x1b930d9fa88>,\n",
       " <networkx.classes.graph.Graph at 0x1b930d9fb08>,\n",
       " <networkx.classes.graph.Graph at 0x1b930d9fb88>,\n",
       " <networkx.classes.graph.Graph at 0x1b930d9fc08>,\n",
       " <networkx.classes.graph.Graph at 0x1b930d9fc88>,\n",
       " <networkx.classes.graph.Graph at 0x1b930d9fd08>,\n",
       " <networkx.classes.graph.Graph at 0x1b930d9fd88>,\n",
       " <networkx.classes.graph.Graph at 0x1b930d9fe08>,\n",
       " <networkx.classes.graph.Graph at 0x1b930d9fe88>,\n",
       " <networkx.classes.graph.Graph at 0x1b930d9ff08>,\n",
       " <networkx.classes.graph.Graph at 0x1b930d9ffc8>,\n",
       " <networkx.classes.graph.Graph at 0x1b930d9ff88>,\n",
       " <networkx.classes.graph.Graph at 0x1b930ddd0c8>,\n",
       " <networkx.classes.graph.Graph at 0x1b930ddd148>,\n",
       " <networkx.classes.graph.Graph at 0x1b930ddd1c8>,\n",
       " <networkx.classes.graph.Graph at 0x1b930ddd248>,\n",
       " <networkx.classes.graph.Graph at 0x1b930ddd2c8>,\n",
       " <networkx.classes.graph.Graph at 0x1b930ddd348>,\n",
       " <networkx.classes.graph.Graph at 0x1b930ddd3c8>,\n",
       " <networkx.classes.graph.Graph at 0x1b930ddd448>,\n",
       " <networkx.classes.graph.Graph at 0x1b930ddd4c8>,\n",
       " <networkx.classes.graph.Graph at 0x1b930ddd548>,\n",
       " <networkx.classes.graph.Graph at 0x1b930ddd5c8>,\n",
       " <networkx.classes.graph.Graph at 0x1b930ddd648>,\n",
       " <networkx.classes.graph.Graph at 0x1b930ddd6c8>,\n",
       " <networkx.classes.graph.Graph at 0x1b930ddd748>,\n",
       " <networkx.classes.graph.Graph at 0x1b930ddd7c8>,\n",
       " <networkx.classes.graph.Graph at 0x1b930ddd848>,\n",
       " <networkx.classes.graph.Graph at 0x1b930ddd8c8>,\n",
       " <networkx.classes.graph.Graph at 0x1b930ddd948>,\n",
       " <networkx.classes.graph.Graph at 0x1b930ddd9c8>,\n",
       " <networkx.classes.graph.Graph at 0x1b930ddda48>,\n",
       " <networkx.classes.graph.Graph at 0x1b930dddac8>,\n",
       " <networkx.classes.graph.Graph at 0x1b930dddb48>,\n",
       " <networkx.classes.graph.Graph at 0x1b930dddbc8>,\n",
       " <networkx.classes.graph.Graph at 0x1b930dddc48>,\n",
       " <networkx.classes.graph.Graph at 0x1b930dddcc8>,\n",
       " <networkx.classes.graph.Graph at 0x1b930dddd48>,\n",
       " <networkx.classes.graph.Graph at 0x1b930ddddc8>,\n",
       " <networkx.classes.graph.Graph at 0x1b930ddde48>,\n",
       " <networkx.classes.graph.Graph at 0x1b930dddec8>,\n",
       " <networkx.classes.graph.Graph at 0x1b930dddf88>,\n",
       " <networkx.classes.graph.Graph at 0x1b930dddf48>,\n",
       " <networkx.classes.graph.Graph at 0x1b930e1c0c8>,\n",
       " <networkx.classes.graph.Graph at 0x1b930e1c108>,\n",
       " <networkx.classes.graph.Graph at 0x1b930e1c188>,\n",
       " <networkx.classes.graph.Graph at 0x1b930e1c208>,\n",
       " <networkx.classes.graph.Graph at 0x1b930e1c288>,\n",
       " <networkx.classes.graph.Graph at 0x1b930e1c308>,\n",
       " <networkx.classes.graph.Graph at 0x1b930e1c388>,\n",
       " <networkx.classes.graph.Graph at 0x1b930e1c408>,\n",
       " <networkx.classes.graph.Graph at 0x1b930e1c488>,\n",
       " <networkx.classes.graph.Graph at 0x1b930e1c508>,\n",
       " <networkx.classes.graph.Graph at 0x1b930e1c588>,\n",
       " <networkx.classes.graph.Graph at 0x1b930e1c608>,\n",
       " <networkx.classes.graph.Graph at 0x1b930e1c688>,\n",
       " <networkx.classes.graph.Graph at 0x1b930e1c708>,\n",
       " ...]"
      ]
     },
     "execution_count": 38,
     "metadata": {},
     "output_type": "execute_result"
    }
   ],
   "source": [
    "import networkx as nx \n",
    "nx.graph_atlas_g( ) \n",
    "# nx.pagerank(g, weight='coor_count')"
   ]
  },
  {
   "cell_type": "markdown",
   "metadata": {},
   "source": [
    "###  pytho에서 textRank 2"
   ]
  },
  {
   "cell_type": "code",
   "execution_count": 39,
   "metadata": {
    "ExecuteTime": {
     "end_time": "2021-05-06T05:07:32.611787Z",
     "start_time": "2021-05-06T05:07:32.605821Z"
    },
    "code_folding": []
   },
   "outputs": [],
   "source": [
    "def scan_vocabulary(sentences, min_count=1, stop_words=set()):\n",
    "    \"\"\"\n",
    "    sentence로부터 vocab를 min_count를 고려하여 vocab를 생성\n",
    "    * pos를 고려하여, noun, verb, 형용사 만 남기고 다 날려버리는 것이 필요함.\n",
    "    \"\"\"\n",
    "    word_lst = (s.split(\" \") for s in sentences) # o\n",
    "    # 결과: word_lst # [], [], [], [], [], ...\n",
    "    \n",
    "    word_lst = ([w for w in w_l if w not in stop_words] for w_l in word_lst) # o\n",
    "    # 결과: ( [''], [''], [''], ... )\n",
    "    \n",
    "    word_counter = Counter(chain.from_iterable(word_lst))\n",
    "    word_counter = {w: c for w, c in word_counter.items() if c >= min_count}\n",
    "    # idx_to_vocab: count가 높을 수록 앞에 등장\n",
    "    idx_to_vocab = [w for w, c in sorted(\n",
    "        word_counter.items(), key=lambda x: -x[1])]\n",
    "    vocab_to_idx = {w: idx for idx, w in enumerate(idx_to_vocab)}\n",
    "    return idx_to_vocab, vocab_to_idx"
   ]
  },
  {
   "cell_type": "code",
   "execution_count": 40,
   "metadata": {
    "ExecuteTime": {
     "end_time": "2021-05-06T05:07:33.436602Z",
     "start_time": "2021-05-06T05:07:33.056618Z"
    }
   },
   "outputs": [],
   "source": [
    "# 한국어 불용어 사전 불러오기\n",
    "stop_words = pd.read_excel('data/한국어 불용어 사전.xlsx', header=None)\n",
    "stop_words = stop_words[0].to_list()"
   ]
  },
  {
   "cell_type": "code",
   "execution_count": 41,
   "metadata": {
    "ExecuteTime": {
     "end_time": "2021-05-06T05:07:33.542319Z",
     "start_time": "2021-05-06T05:07:33.537333Z"
    }
   },
   "outputs": [
    {
     "data": {
      "text/plain": [
       "<generator object <genexpr> at 0x000001B9318D02C8>"
      ]
     },
     "execution_count": 41,
     "metadata": {},
     "output_type": "execute_result"
    }
   ],
   "source": [
    "word_lst = (s.split(\" \") for s in sentences) # o\n",
    "# 결과: word_lst # [], [], [], [], [], ...\n",
    "\n",
    "word_lst = ([w for w in w_l if w not in stop_words] for w_l in word_lst) # o\n",
    "word_lst"
   ]
  },
  {
   "cell_type": "code",
   "execution_count": null,
   "metadata": {},
   "outputs": [],
   "source": []
  }
 ],
 "metadata": {
  "interpreter": {
   "hash": "6bd18ff4b8d78789dc0c4fe3ce3d1752f57bd4a78312d15f34612069d81af063"
  },
  "kernelspec": {
   "display_name": "Python 3.7.6 64-bit (conda)",
   "name": "python3"
  },
  "language_info": {
   "codemirror_mode": {
    "name": "ipython",
    "version": 3
   },
   "file_extension": ".py",
   "mimetype": "text/x-python",
   "name": "python",
   "nbconvert_exporter": "python",
   "pygments_lexer": "ipython3",
   "version": "3.7.6"
  },
  "toc": {
   "base_numbering": 1,
   "nav_menu": {},
   "number_sections": false,
   "sideBar": true,
   "skip_h1_title": false,
   "title_cell": "Table of Contents",
   "title_sidebar": "Task",
   "toc_cell": false,
   "toc_position": {
    "height": "calc(100% - 180px)",
    "left": "10px",
    "top": "150px",
    "width": "235.02px"
   },
   "toc_section_display": true,
   "toc_window_display": true
  },
  "varInspector": {
   "cols": {
    "lenName": 16,
    "lenType": 16,
    "lenVar": 40
   },
   "kernels_config": {
    "python": {
     "delete_cmd_postfix": "",
     "delete_cmd_prefix": "del ",
     "library": "var_list.py",
     "varRefreshCmd": "print(var_dic_list())"
    },
    "r": {
     "delete_cmd_postfix": ") ",
     "delete_cmd_prefix": "rm(",
     "library": "var_list.r",
     "varRefreshCmd": "cat(var_dic_list()) "
    }
   },
   "position": {
    "height": "301.779px",
    "left": "181.378px",
    "right": "20px",
    "top": "69.9984px",
    "width": "438.998px"
   },
   "types_to_exclude": [
    "module",
    "function",
    "builtin_function_or_method",
    "instance",
    "_Feature"
   ],
   "window_display": false
  }
 },
 "nbformat": 4,
 "nbformat_minor": 4
}